{
  "cells": [
    {
      "cell_type": "markdown",
      "metadata": {
        "id": "view-in-github",
        "colab_type": "text"
      },
      "source": [
        "<a href=\"https://colab.research.google.com/github/NigelGoh16/Sentiment_Analytics/blob/master/Sentiment_Analysis_Modelling.ipynb\" target=\"_parent\"><img src=\"https://colab.research.google.com/assets/colab-badge.svg\" alt=\"Open In Colab\"/></a>"
      ]
    },
    {
      "cell_type": "markdown",
      "metadata": {
        "id": "88c1a869-2fc9-42f2-889f-6c8e535a7063"
      },
      "source": [
        "# Data Procurement"
      ],
      "id": "88c1a869-2fc9-42f2-889f-6c8e535a7063"
    },
    {
      "cell_type": "code",
      "execution_count": null,
      "metadata": {
        "colab": {
          "base_uri": "https://localhost:8080/"
        },
        "id": "xAd7_aNiTEvA",
        "outputId": "0ed3de77-690f-44e5-d60b-0a13ffade967"
      },
      "outputs": [
        {
          "output_type": "stream",
          "name": "stdout",
          "text": [
            "Mounted at /content/gdrive\n"
          ]
        }
      ],
      "source": [
        "from google.colab import drive\n",
        "drive.mount('/content/gdrive')\n",
        "\n",
        "!cp -r '/content/gdrive/MyDrive/ML/' kaggle.json\n",
        "! cp -r /content/kaggle.json ~/.kaggle/\n",
        "! chmod 600 ~/.kaggle/kaggle.json"
      ],
      "id": "xAd7_aNiTEvA"
    },
    {
      "cell_type": "code",
      "execution_count": null,
      "metadata": {
        "id": "ctnMVwlGeMmw"
      },
      "outputs": [],
      "source": [
        "!cp -r '/content/gdrive/MyDrive/FYP/preprocessed_df2.csv' df.csv\n",
        "!cp -r '/content/gdrive/MyDrive/ML/p_df_2.csv' df3.csv\n",
        "!cp -r '/content/gdrive/MyDrive/ML/p_df_3.csv' df4.csv"
      ],
      "id": "ctnMVwlGeMmw"
    },
    {
      "cell_type": "code",
      "source": [
        "!cp -r '/content/gdrive/MyDrive/ML/Models' /content/Models"
      ],
      "metadata": {
        "id": "coFgyONbcqaP"
      },
      "id": "coFgyONbcqaP",
      "execution_count": null,
      "outputs": []
    },
    {
      "cell_type": "code",
      "execution_count": null,
      "metadata": {
        "colab": {
          "base_uri": "https://localhost:8080/"
        },
        "id": "-uP_SKNAOMIk",
        "outputId": "2d83c0ea-ae20-46e3-dc5d-f16021918451"
      },
      "outputs": [
        {
          "output_type": "stream",
          "name": "stdout",
          "text": [
            "Downloading sentiment140.zip to /content\n",
            " 93% 75.0M/80.9M [00:00<00:00, 146MB/s]\n",
            "100% 80.9M/80.9M [00:00<00:00, 145MB/s]\n"
          ]
        }
      ],
      "source": [
        "! kaggle datasets download -d kazanova/sentiment140"
      ],
      "id": "-uP_SKNAOMIk"
    },
    {
      "cell_type": "code",
      "source": [
        "# ! kaggle datasets download -d tariqsays/sentiment-dataset-with-1-million-tweets"
      ],
      "metadata": {
        "colab": {
          "base_uri": "https://localhost:8080/"
        },
        "id": "glckeZMiZhLj",
        "outputId": "3b7888d9-70e3-4b9b-da32-f1a258ad6e6c"
      },
      "id": "glckeZMiZhLj",
      "execution_count": null,
      "outputs": [
        {
          "output_type": "stream",
          "name": "stdout",
          "text": [
            "Downloading sentiment-dataset-with-1-million-tweets.zip to /content\n",
            " 95% 72.0M/75.4M [00:02<00:00, 34.6MB/s]\n",
            "100% 75.4M/75.4M [00:02<00:00, 27.9MB/s]\n"
          ]
        }
      ]
    },
    {
      "cell_type": "code",
      "source": [
        "# ! kaggle datasets download -d saurabhshahane/twitter-sentiment-dataset"
      ],
      "metadata": {
        "colab": {
          "base_uri": "https://localhost:8080/"
        },
        "id": "SFcEffyaZiNT",
        "outputId": "05d9dd2a-ad19-438d-cd76-d7d38011d720"
      },
      "id": "SFcEffyaZiNT",
      "execution_count": null,
      "outputs": [
        {
          "output_type": "stream",
          "name": "stdout",
          "text": [
            "Downloading twitter-sentiment-dataset.zip to /content\n",
            " 92% 7.00M/7.60M [00:00<00:00, 13.7MB/s]\n",
            "100% 7.60M/7.60M [00:00<00:00, 10.4MB/s]\n"
          ]
        }
      ]
    },
    {
      "cell_type": "code",
      "execution_count": null,
      "metadata": {
        "colab": {
          "base_uri": "https://localhost:8080/"
        },
        "id": "SqNiLlnl9HWR",
        "outputId": "50a389cc-e030-4c7f-9e93-f867f9e6ee19"
      },
      "outputs": [
        {
          "output_type": "stream",
          "name": "stdout",
          "text": [
            "--2024-01-02 15:34:31--  https://nlp.stanford.edu/data/glove.6B.zip\n",
            "Resolving nlp.stanford.edu (nlp.stanford.edu)... 171.64.67.140\n",
            "Connecting to nlp.stanford.edu (nlp.stanford.edu)|171.64.67.140|:443... connected.\n",
            "HTTP request sent, awaiting response... 301 Moved Permanently\n",
            "Location: https://downloads.cs.stanford.edu/nlp/data/glove.6B.zip [following]\n",
            "--2024-01-02 15:34:32--  https://downloads.cs.stanford.edu/nlp/data/glove.6B.zip\n",
            "Resolving downloads.cs.stanford.edu (downloads.cs.stanford.edu)... 171.64.64.22\n",
            "Connecting to downloads.cs.stanford.edu (downloads.cs.stanford.edu)|171.64.64.22|:443... connected.\n",
            "HTTP request sent, awaiting response... 200 OK\n",
            "Length: 862182613 (822M) [application/zip]\n",
            "Saving to: ‘glove.6B.zip’\n",
            "\n",
            "glove.6B.zip        100%[===================>] 822.24M  5.02MB/s    in 2m 39s  \n",
            "\n",
            "2024-01-02 15:37:11 (5.17 MB/s) - ‘glove.6B.zip’ saved [862182613/862182613]\n",
            "\n"
          ]
        }
      ],
      "source": [
        "! wget https://nlp.stanford.edu/data/glove.6B.zip"
      ],
      "id": "SqNiLlnl9HWR"
    },
    {
      "cell_type": "code",
      "source": [
        "import zipfile"
      ],
      "metadata": {
        "id": "ZYxi67bLdP0N"
      },
      "id": "ZYxi67bLdP0N",
      "execution_count": null,
      "outputs": []
    },
    {
      "cell_type": "code",
      "source": [
        "# Unzip the downloaded file\n",
        "zip_ref = zipfile.ZipFile(\"/content/sentiment-dataset-with-1-million-tweets.zip\", \"r\")\n",
        "zip_ref.extractall()\n",
        "zip_ref = zipfile.ZipFile(\"/content/twitter-sentiment-dataset.zip\", \"r\")\n",
        "zip_ref.extractall()\n",
        "zip_ref.close()"
      ],
      "metadata": {
        "id": "pO_nvA1_dTpz"
      },
      "id": "pO_nvA1_dTpz",
      "execution_count": null,
      "outputs": []
    },
    {
      "cell_type": "code",
      "execution_count": null,
      "metadata": {
        "id": "voUclCgVTVVB"
      },
      "outputs": [],
      "source": [
        "import zipfile\n",
        "\n",
        "# Unzip the downloaded file\n",
        "zip_ref = zipfile.ZipFile(\"/content/sentiment140.zip\", \"r\")\n",
        "zip_ref.extractall()\n",
        "zip_ref.close()"
      ],
      "id": "voUclCgVTVVB"
    },
    {
      "cell_type": "code",
      "execution_count": null,
      "metadata": {
        "id": "nrSQBC16k3Tb"
      },
      "outputs": [],
      "source": [
        "# Unzip the downloaded file\n",
        "zip_ref = zipfile.ZipFile(\"/content/glove.6B.zip\", \"r\")\n",
        "zip_ref.extractall()\n",
        "zip_ref.close()"
      ],
      "id": "nrSQBC16k3Tb"
    },
    {
      "cell_type": "code",
      "execution_count": null,
      "metadata": {
        "id": "06652b1c-44ce-48da-982b-5c3576bde435",
        "colab": {
          "base_uri": "https://localhost:8080/"
        },
        "outputId": "be36e79a-9b3b-461d-801c-db0d4693b013"
      },
      "outputs": [
        {
          "output_type": "stream",
          "name": "stdout",
          "text": [
            "\u001b[?25l     \u001b[90m━━━━━━━━━━━━━━━━━━━━━━━━━━━━━━━━━━━━━━━━\u001b[0m \u001b[32m0.0/128.9 kB\u001b[0m \u001b[31m?\u001b[0m eta \u001b[36m-:--:--\u001b[0m\r\u001b[2K     \u001b[91m━━━━━━━━━━━━\u001b[0m\u001b[91m╸\u001b[0m\u001b[90m━━━━━━━━━━━━━━━━━━━━━━━━━━━\u001b[0m \u001b[32m41.0/128.9 kB\u001b[0m \u001b[31m1.0 MB/s\u001b[0m eta \u001b[36m0:00:01\u001b[0m\r\u001b[2K     \u001b[91m━━━━━━━━━━━━━━━━━━━━━━━━━━━━━━━━━━━━━━\u001b[0m\u001b[90m╺\u001b[0m\u001b[90m━\u001b[0m \u001b[32m122.9/128.9 kB\u001b[0m \u001b[31m1.8 MB/s\u001b[0m eta \u001b[36m0:00:01\u001b[0m\r\u001b[2K     \u001b[90m━━━━━━━━━━━━━━━━━━━━━━━━━━━━━━━━━━━━━━━━\u001b[0m \u001b[32m128.9/128.9 kB\u001b[0m \u001b[31m1.7 MB/s\u001b[0m eta \u001b[36m0:00:00\u001b[0m\n",
            "\u001b[?25h"
          ]
        }
      ],
      "source": [
        "! pip install -q -U keras-tuner\n",
        "import pandas as pd\n",
        "import numpy as np\n",
        "import re\n",
        "import nltk\n",
        "from nltk.corpus import stopwords\n",
        "from nltk.stem import WordNetLemmatizer\n",
        "from nltk import pos_tag, word_tokenize\n",
        "from numpy import array\n",
        "\n",
        "import tensorflow as tf\n",
        "from tensorflow.keras import layers\n",
        "from tensorflow.keras.preprocessing.text import one_hot, Tokenizer\n",
        "from tensorflow.keras.preprocessing.sequence import pad_sequences\n",
        "from tensorflow.keras.models import Sequential\n",
        "from tensorflow.keras.layers import Flatten, GlobalMaxPooling1D, Embedding, LSTM, Activation, Dropout, Dense, Conv1D\n",
        "from sklearn.model_selection import train_test_split"
      ],
      "id": "06652b1c-44ce-48da-982b-5c3576bde435"
    },
    {
      "cell_type": "code",
      "execution_count": null,
      "metadata": {
        "id": "f4b8b8d2-681c-4dfc-85c3-d97f1e5a33c4"
      },
      "outputs": [],
      "source": [
        "# Dataset\n",
        "# movie_reviews = pd.read_csv(\"a1_IMDB_Dataset.csv\")\n",
        "\n",
        "columns = [\"sentiment\",\"1\",\"2\",\"3\",\"4\",\"review\"]\n",
        "movie_reviews = pd.read_csv(\"/content/training.1600000.processed.noemoticon.csv\", encoding = \"ISO-8859-1\", names=columns)\n",
        "mv = pd.read_csv(\"/content/df.csv\")\n",
        "mv2 = pd.read_csv(\"/content/df3.csv\")\n",
        "mv3 = pd.read_csv(\"/content/df4.csv\")"
      ],
      "id": "f4b8b8d2-681c-4dfc-85c3-d97f1e5a33c4"
    },
    {
      "cell_type": "code",
      "source": [
        "# mv1 = pd.read_csv(\"/content/Twitter_Data.csv\", encoding = \"ISO-8859-1\")\n",
        "# mv2 = pd.read_csv(\"/content/dataset.csv\", encoding = \"ISO-8859-1\")"
      ],
      "metadata": {
        "id": "5dRrho8ldoTu"
      },
      "id": "5dRrho8ldoTu",
      "execution_count": null,
      "outputs": []
    },
    {
      "cell_type": "code",
      "execution_count": null,
      "metadata": {
        "colab": {
          "base_uri": "https://localhost:8080/"
        },
        "id": "c7649f6f-f6aa-42cd-b436-df757e8d6cb4",
        "outputId": "b3a3c80e-0db9-4c40-ecfa-63df086bd5bd"
      },
      "outputs": [
        {
          "data": {
            "text/plain": [
              "(1600000, 6)"
            ]
          },
          "execution_count": 9,
          "metadata": {},
          "output_type": "execute_result"
        }
      ],
      "source": [
        "#Dataset exploration\n",
        "\n",
        "movie_reviews.shape"
      ],
      "id": "c7649f6f-f6aa-42cd-b436-df757e8d6cb4"
    },
    {
      "cell_type": "code",
      "execution_count": null,
      "metadata": {
        "colab": {
          "base_uri": "https://localhost:8080/",
          "height": 206
        },
        "id": "a5649b03-2ae5-4f8e-b3e2-fbc9b2be44f3",
        "outputId": "2bb78568-611c-47df-c0d6-4c0641c4389c"
      },
      "outputs": [
        {
          "data": {
            "text/html": [
              "\n",
              "  <div id=\"df-376acf73-5db5-4041-a288-8ef3de190241\" class=\"colab-df-container\">\n",
              "    <div>\n",
              "<style scoped>\n",
              "    .dataframe tbody tr th:only-of-type {\n",
              "        vertical-align: middle;\n",
              "    }\n",
              "\n",
              "    .dataframe tbody tr th {\n",
              "        vertical-align: top;\n",
              "    }\n",
              "\n",
              "    .dataframe thead th {\n",
              "        text-align: right;\n",
              "    }\n",
              "</style>\n",
              "<table border=\"1\" class=\"dataframe\">\n",
              "  <thead>\n",
              "    <tr style=\"text-align: right;\">\n",
              "      <th></th>\n",
              "      <th>sentiment</th>\n",
              "      <th>1</th>\n",
              "      <th>2</th>\n",
              "      <th>3</th>\n",
              "      <th>4</th>\n",
              "      <th>review</th>\n",
              "    </tr>\n",
              "  </thead>\n",
              "  <tbody>\n",
              "    <tr>\n",
              "      <th>0</th>\n",
              "      <td>0</td>\n",
              "      <td>1467810369</td>\n",
              "      <td>Mon Apr 06 22:19:45 PDT 2009</td>\n",
              "      <td>NO_QUERY</td>\n",
              "      <td>_TheSpecialOne_</td>\n",
              "      <td>@switchfoot http://twitpic.com/2y1zl - Awww, t...</td>\n",
              "    </tr>\n",
              "    <tr>\n",
              "      <th>1</th>\n",
              "      <td>0</td>\n",
              "      <td>1467810672</td>\n",
              "      <td>Mon Apr 06 22:19:49 PDT 2009</td>\n",
              "      <td>NO_QUERY</td>\n",
              "      <td>scotthamilton</td>\n",
              "      <td>is upset that he can't update his Facebook by ...</td>\n",
              "    </tr>\n",
              "    <tr>\n",
              "      <th>2</th>\n",
              "      <td>0</td>\n",
              "      <td>1467810917</td>\n",
              "      <td>Mon Apr 06 22:19:53 PDT 2009</td>\n",
              "      <td>NO_QUERY</td>\n",
              "      <td>mattycus</td>\n",
              "      <td>@Kenichan I dived many times for the ball. Man...</td>\n",
              "    </tr>\n",
              "    <tr>\n",
              "      <th>3</th>\n",
              "      <td>0</td>\n",
              "      <td>1467811184</td>\n",
              "      <td>Mon Apr 06 22:19:57 PDT 2009</td>\n",
              "      <td>NO_QUERY</td>\n",
              "      <td>ElleCTF</td>\n",
              "      <td>my whole body feels itchy and like its on fire</td>\n",
              "    </tr>\n",
              "    <tr>\n",
              "      <th>4</th>\n",
              "      <td>0</td>\n",
              "      <td>1467811193</td>\n",
              "      <td>Mon Apr 06 22:19:57 PDT 2009</td>\n",
              "      <td>NO_QUERY</td>\n",
              "      <td>Karoli</td>\n",
              "      <td>@nationwideclass no, it's not behaving at all....</td>\n",
              "    </tr>\n",
              "  </tbody>\n",
              "</table>\n",
              "</div>\n",
              "    <div class=\"colab-df-buttons\">\n",
              "\n",
              "  <div class=\"colab-df-container\">\n",
              "    <button class=\"colab-df-convert\" onclick=\"convertToInteractive('df-376acf73-5db5-4041-a288-8ef3de190241')\"\n",
              "            title=\"Convert this dataframe to an interactive table.\"\n",
              "            style=\"display:none;\">\n",
              "\n",
              "  <svg xmlns=\"http://www.w3.org/2000/svg\" height=\"24px\" viewBox=\"0 -960 960 960\">\n",
              "    <path d=\"M120-120v-720h720v720H120Zm60-500h600v-160H180v160Zm220 220h160v-160H400v160Zm0 220h160v-160H400v160ZM180-400h160v-160H180v160Zm440 0h160v-160H620v160ZM180-180h160v-160H180v160Zm440 0h160v-160H620v160Z\"/>\n",
              "  </svg>\n",
              "    </button>\n",
              "\n",
              "  <style>\n",
              "    .colab-df-container {\n",
              "      display:flex;\n",
              "      gap: 12px;\n",
              "    }\n",
              "\n",
              "    .colab-df-convert {\n",
              "      background-color: #E8F0FE;\n",
              "      border: none;\n",
              "      border-radius: 50%;\n",
              "      cursor: pointer;\n",
              "      display: none;\n",
              "      fill: #1967D2;\n",
              "      height: 32px;\n",
              "      padding: 0 0 0 0;\n",
              "      width: 32px;\n",
              "    }\n",
              "\n",
              "    .colab-df-convert:hover {\n",
              "      background-color: #E2EBFA;\n",
              "      box-shadow: 0px 1px 2px rgba(60, 64, 67, 0.3), 0px 1px 3px 1px rgba(60, 64, 67, 0.15);\n",
              "      fill: #174EA6;\n",
              "    }\n",
              "\n",
              "    .colab-df-buttons div {\n",
              "      margin-bottom: 4px;\n",
              "    }\n",
              "\n",
              "    [theme=dark] .colab-df-convert {\n",
              "      background-color: #3B4455;\n",
              "      fill: #D2E3FC;\n",
              "    }\n",
              "\n",
              "    [theme=dark] .colab-df-convert:hover {\n",
              "      background-color: #434B5C;\n",
              "      box-shadow: 0px 1px 3px 1px rgba(0, 0, 0, 0.15);\n",
              "      filter: drop-shadow(0px 1px 2px rgba(0, 0, 0, 0.3));\n",
              "      fill: #FFFFFF;\n",
              "    }\n",
              "  </style>\n",
              "\n",
              "    <script>\n",
              "      const buttonEl =\n",
              "        document.querySelector('#df-376acf73-5db5-4041-a288-8ef3de190241 button.colab-df-convert');\n",
              "      buttonEl.style.display =\n",
              "        google.colab.kernel.accessAllowed ? 'block' : 'none';\n",
              "\n",
              "      async function convertToInteractive(key) {\n",
              "        const element = document.querySelector('#df-376acf73-5db5-4041-a288-8ef3de190241');\n",
              "        const dataTable =\n",
              "          await google.colab.kernel.invokeFunction('convertToInteractive',\n",
              "                                                    [key], {});\n",
              "        if (!dataTable) return;\n",
              "\n",
              "        const docLinkHtml = 'Like what you see? Visit the ' +\n",
              "          '<a target=\"_blank\" href=https://colab.research.google.com/notebooks/data_table.ipynb>data table notebook</a>'\n",
              "          + ' to learn more about interactive tables.';\n",
              "        element.innerHTML = '';\n",
              "        dataTable['output_type'] = 'display_data';\n",
              "        await google.colab.output.renderOutput(dataTable, element);\n",
              "        const docLink = document.createElement('div');\n",
              "        docLink.innerHTML = docLinkHtml;\n",
              "        element.appendChild(docLink);\n",
              "      }\n",
              "    </script>\n",
              "  </div>\n",
              "\n",
              "\n",
              "<div id=\"df-92a632b6-f63c-4f5d-b93d-07b5772aeaea\">\n",
              "  <button class=\"colab-df-quickchart\" onclick=\"quickchart('df-92a632b6-f63c-4f5d-b93d-07b5772aeaea')\"\n",
              "            title=\"Suggest charts\"\n",
              "            style=\"display:none;\">\n",
              "\n",
              "<svg xmlns=\"http://www.w3.org/2000/svg\" height=\"24px\"viewBox=\"0 0 24 24\"\n",
              "     width=\"24px\">\n",
              "    <g>\n",
              "        <path d=\"M19 3H5c-1.1 0-2 .9-2 2v14c0 1.1.9 2 2 2h14c1.1 0 2-.9 2-2V5c0-1.1-.9-2-2-2zM9 17H7v-7h2v7zm4 0h-2V7h2v10zm4 0h-2v-4h2v4z\"/>\n",
              "    </g>\n",
              "</svg>\n",
              "  </button>\n",
              "\n",
              "<style>\n",
              "  .colab-df-quickchart {\n",
              "      --bg-color: #E8F0FE;\n",
              "      --fill-color: #1967D2;\n",
              "      --hover-bg-color: #E2EBFA;\n",
              "      --hover-fill-color: #174EA6;\n",
              "      --disabled-fill-color: #AAA;\n",
              "      --disabled-bg-color: #DDD;\n",
              "  }\n",
              "\n",
              "  [theme=dark] .colab-df-quickchart {\n",
              "      --bg-color: #3B4455;\n",
              "      --fill-color: #D2E3FC;\n",
              "      --hover-bg-color: #434B5C;\n",
              "      --hover-fill-color: #FFFFFF;\n",
              "      --disabled-bg-color: #3B4455;\n",
              "      --disabled-fill-color: #666;\n",
              "  }\n",
              "\n",
              "  .colab-df-quickchart {\n",
              "    background-color: var(--bg-color);\n",
              "    border: none;\n",
              "    border-radius: 50%;\n",
              "    cursor: pointer;\n",
              "    display: none;\n",
              "    fill: var(--fill-color);\n",
              "    height: 32px;\n",
              "    padding: 0;\n",
              "    width: 32px;\n",
              "  }\n",
              "\n",
              "  .colab-df-quickchart:hover {\n",
              "    background-color: var(--hover-bg-color);\n",
              "    box-shadow: 0 1px 2px rgba(60, 64, 67, 0.3), 0 1px 3px 1px rgba(60, 64, 67, 0.15);\n",
              "    fill: var(--button-hover-fill-color);\n",
              "  }\n",
              "\n",
              "  .colab-df-quickchart-complete:disabled,\n",
              "  .colab-df-quickchart-complete:disabled:hover {\n",
              "    background-color: var(--disabled-bg-color);\n",
              "    fill: var(--disabled-fill-color);\n",
              "    box-shadow: none;\n",
              "  }\n",
              "\n",
              "  .colab-df-spinner {\n",
              "    border: 2px solid var(--fill-color);\n",
              "    border-color: transparent;\n",
              "    border-bottom-color: var(--fill-color);\n",
              "    animation:\n",
              "      spin 1s steps(1) infinite;\n",
              "  }\n",
              "\n",
              "  @keyframes spin {\n",
              "    0% {\n",
              "      border-color: transparent;\n",
              "      border-bottom-color: var(--fill-color);\n",
              "      border-left-color: var(--fill-color);\n",
              "    }\n",
              "    20% {\n",
              "      border-color: transparent;\n",
              "      border-left-color: var(--fill-color);\n",
              "      border-top-color: var(--fill-color);\n",
              "    }\n",
              "    30% {\n",
              "      border-color: transparent;\n",
              "      border-left-color: var(--fill-color);\n",
              "      border-top-color: var(--fill-color);\n",
              "      border-right-color: var(--fill-color);\n",
              "    }\n",
              "    40% {\n",
              "      border-color: transparent;\n",
              "      border-right-color: var(--fill-color);\n",
              "      border-top-color: var(--fill-color);\n",
              "    }\n",
              "    60% {\n",
              "      border-color: transparent;\n",
              "      border-right-color: var(--fill-color);\n",
              "    }\n",
              "    80% {\n",
              "      border-color: transparent;\n",
              "      border-right-color: var(--fill-color);\n",
              "      border-bottom-color: var(--fill-color);\n",
              "    }\n",
              "    90% {\n",
              "      border-color: transparent;\n",
              "      border-bottom-color: var(--fill-color);\n",
              "    }\n",
              "  }\n",
              "</style>\n",
              "\n",
              "  <script>\n",
              "    async function quickchart(key) {\n",
              "      const quickchartButtonEl =\n",
              "        document.querySelector('#' + key + ' button');\n",
              "      quickchartButtonEl.disabled = true;  // To prevent multiple clicks.\n",
              "      quickchartButtonEl.classList.add('colab-df-spinner');\n",
              "      try {\n",
              "        const charts = await google.colab.kernel.invokeFunction(\n",
              "            'suggestCharts', [key], {});\n",
              "      } catch (error) {\n",
              "        console.error('Error during call to suggestCharts:', error);\n",
              "      }\n",
              "      quickchartButtonEl.classList.remove('colab-df-spinner');\n",
              "      quickchartButtonEl.classList.add('colab-df-quickchart-complete');\n",
              "    }\n",
              "    (() => {\n",
              "      let quickchartButtonEl =\n",
              "        document.querySelector('#df-92a632b6-f63c-4f5d-b93d-07b5772aeaea button');\n",
              "      quickchartButtonEl.style.display =\n",
              "        google.colab.kernel.accessAllowed ? 'block' : 'none';\n",
              "    })();\n",
              "  </script>\n",
              "</div>\n",
              "    </div>\n",
              "  </div>\n"
            ],
            "text/plain": [
              "   sentiment           1                             2         3  \\\n",
              "0          0  1467810369  Mon Apr 06 22:19:45 PDT 2009  NO_QUERY   \n",
              "1          0  1467810672  Mon Apr 06 22:19:49 PDT 2009  NO_QUERY   \n",
              "2          0  1467810917  Mon Apr 06 22:19:53 PDT 2009  NO_QUERY   \n",
              "3          0  1467811184  Mon Apr 06 22:19:57 PDT 2009  NO_QUERY   \n",
              "4          0  1467811193  Mon Apr 06 22:19:57 PDT 2009  NO_QUERY   \n",
              "\n",
              "                 4                                             review  \n",
              "0  _TheSpecialOne_  @switchfoot http://twitpic.com/2y1zl - Awww, t...  \n",
              "1    scotthamilton  is upset that he can't update his Facebook by ...  \n",
              "2         mattycus  @Kenichan I dived many times for the ball. Man...  \n",
              "3          ElleCTF    my whole body feels itchy and like its on fire   \n",
              "4           Karoli  @nationwideclass no, it's not behaving at all....  "
            ]
          },
          "execution_count": 10,
          "metadata": {},
          "output_type": "execute_result"
        }
      ],
      "source": [
        "#Dataset exploration\n",
        "\n",
        "movie_reviews.head(5)"
      ],
      "id": "a5649b03-2ae5-4f8e-b3e2-fbc9b2be44f3"
    },
    {
      "cell_type": "code",
      "execution_count": null,
      "metadata": {
        "colab": {
          "base_uri": "https://localhost:8080/"
        },
        "id": "b8919ff7-83a2-4f2f-8747-5a5b00251713",
        "outputId": "dec13653-7d36-4fde-fe8a-a043497f709f"
      },
      "outputs": [
        {
          "data": {
            "text/plain": [
              "False"
            ]
          },
          "execution_count": 11,
          "metadata": {},
          "output_type": "execute_result"
        }
      ],
      "source": [
        "#Missing value check\n",
        "\n",
        "movie_reviews.isnull().values.any()"
      ],
      "id": "b8919ff7-83a2-4f2f-8747-5a5b00251713"
    },
    {
      "cell_type": "code",
      "source": [
        "mv1.dropna(inplace=True)\n",
        "mv2.dropna(inplace=True)\n",
        "print(mv1.isnull().values.any())\n",
        "print(mv2.isnull().values.any())"
      ],
      "metadata": {
        "colab": {
          "base_uri": "https://localhost:8080/"
        },
        "id": "3aeV2WddeqNl",
        "outputId": "e75b23b6-d2e0-48a0-bed5-ea458fe44324"
      },
      "id": "3aeV2WddeqNl",
      "execution_count": null,
      "outputs": [
        {
          "output_type": "stream",
          "name": "stdout",
          "text": [
            "False\n",
            "False\n"
          ]
        }
      ]
    },
    {
      "cell_type": "code",
      "source": [
        "mv1.head(), mv2.head()"
      ],
      "metadata": {
        "colab": {
          "base_uri": "https://localhost:8080/"
        },
        "id": "93R-VqjTfGSa",
        "outputId": "8db4bd94-a998-4433-e752-4ddc6790eefc"
      },
      "id": "93R-VqjTfGSa",
      "execution_count": null,
      "outputs": [
        {
          "output_type": "execute_result",
          "data": {
            "text/plain": [
              "(                                          clean_text  category\n",
              " 0  when modi promised âminimum government maxim...      -1.0\n",
              " 1  talk all the nonsense and continue all the dra...       0.0\n",
              " 2  what did just say vote for modi  welcome bjp t...       1.0\n",
              " 3  asking his supporters prefix chowkidar their n...       1.0\n",
              " 4  answer who among these the most powerful world...       1.0,\n",
              "                                                 Text Language      Label\n",
              " 0  @Charlie_Corley @Kristine1G @amyklobuchar @Sty...       en  litigious\n",
              " 1  #BadBunny: Como dos gotas de agua: Joven se di...       es   negative\n",
              " 2  https://t.co/YJNiO0p1JV Flagstar Bank disclose...       en  litigious\n",
              " 3  Rwanda is set to host the headquarters of Unit...       en   positive\n",
              " 4  OOPS. I typed her name incorrectly (todayâs ...       en  litigious)"
            ]
          },
          "metadata": {},
          "execution_count": 17
        }
      ]
    },
    {
      "cell_type": "code",
      "source": [
        "mv3 = mv1[(mv1['category'] == -1) | (mv1['category'] == 1)]\n",
        "mv4 = mv2[(mv2['Language'] == 'en') & (mv2['Label'] == 'negative') | (mv2['Label'] == 'positive')]\n",
        "mv4 = mv4[['Text', 'Label']]\n",
        "mv3['category'] = mv3['category'].replace(-1, 0)\n",
        "mv4['Label'] = mv4['Label'].replace('negative', 0)\n",
        "mv4['Label'] = mv4['Label'].replace('positive', 1)\n",
        "mv3.head(), mv4.head()"
      ],
      "metadata": {
        "colab": {
          "base_uri": "https://localhost:8080/"
        },
        "id": "FAtOAxcKfVk5",
        "outputId": "faa3c394-95a5-421c-fb42-85c3744858af"
      },
      "id": "FAtOAxcKfVk5",
      "execution_count": null,
      "outputs": [
        {
          "output_type": "stream",
          "name": "stderr",
          "text": [
            "<ipython-input-35-3dedd9051fc0>:4: SettingWithCopyWarning: \n",
            "A value is trying to be set on a copy of a slice from a DataFrame.\n",
            "Try using .loc[row_indexer,col_indexer] = value instead\n",
            "\n",
            "See the caveats in the documentation: https://pandas.pydata.org/pandas-docs/stable/user_guide/indexing.html#returning-a-view-versus-a-copy\n",
            "  mv3['category'] = mv3['category'].replace(-1, 0)\n"
          ]
        },
        {
          "output_type": "execute_result",
          "data": {
            "text/plain": [
              "(                                          clean_text  category\n",
              " 0  when modi promised âminimum government maxim...       0.0\n",
              " 2  what did just say vote for modi  welcome bjp t...       1.0\n",
              " 3  asking his supporters prefix chowkidar their n...       1.0\n",
              " 4  answer who among these the most powerful world...       1.0\n",
              " 8  with upcoming election india saga going import...       1.0,\n",
              "                                                  Text  Label\n",
              " 3   Rwanda is set to host the headquarters of Unit...      1\n",
              " 5   It sucks for me since I'm focused on the natur...      0\n",
              " 8   Social Security. Constant political crises dis...      0\n",
              " 9   @FilmThePoliceLA A broken rib can puncture a l...      0\n",
              " 10  @jacobringenwald @aKeithWatts @CountDankulaTV ...      0)"
            ]
          },
          "metadata": {},
          "execution_count": 35
        }
      ]
    },
    {
      "cell_type": "code",
      "execution_count": null,
      "metadata": {
        "id": "z93sndY-UKYY"
      },
      "outputs": [],
      "source": [
        "movie_reviews['sentiment'] = movie_reviews['sentiment'].replace(4, 1)"
      ],
      "id": "z93sndY-UKYY"
    },
    {
      "cell_type": "code",
      "execution_count": null,
      "metadata": {
        "colab": {
          "base_uri": "https://localhost:8080/"
        },
        "id": "wlEfsPiE-A1R",
        "outputId": "17d4f4e6-b8fc-40be-e8e6-12cd43d2110a"
      },
      "outputs": [
        {
          "name": "stdout",
          "output_type": "stream",
          "text": [
            "0    800000\n",
            "1    800000\n",
            "Name: sentiment, dtype: int64\n",
            "800000\n",
            "800000\n"
          ]
        }
      ],
      "source": [
        "import plotly.express as px\n",
        "\n",
        "vc = movie_reviews['sentiment'].value_counts()\n",
        "print(vc)\n",
        "for i in vc:\n",
        "  print(i)"
      ],
      "id": "wlEfsPiE-A1R"
    },
    {
      "cell_type": "code",
      "execution_count": null,
      "metadata": {
        "colab": {
          "base_uri": "https://localhost:8080/",
          "height": 542
        },
        "id": "F-EyMMPS_ZGS",
        "outputId": "b6066333-8637-4cbc-c0e8-8f8254ed5fbc"
      },
      "outputs": [
        {
          "data": {
            "text/html": [
              "<html>\n",
              "<head><meta charset=\"utf-8\" /></head>\n",
              "<body>\n",
              "    <div>            <script src=\"https://cdnjs.cloudflare.com/ajax/libs/mathjax/2.7.5/MathJax.js?config=TeX-AMS-MML_SVG\"></script><script type=\"text/javascript\">if (window.MathJax && window.MathJax.Hub && window.MathJax.Hub.Config) {window.MathJax.Hub.Config({SVG: {font: \"STIX-Web\"}});}</script>                <script type=\"text/javascript\">window.PlotlyConfig = {MathJaxConfig: 'local'};</script>\n",
              "        <script charset=\"utf-8\" src=\"https://cdn.plot.ly/plotly-2.24.1.min.js\"></script>                <div id=\"b9ed5180-fea0-4da9-b255-fd6227e1556e\" class=\"plotly-graph-div\" style=\"height:525px; width:100%;\"></div>            <script type=\"text/javascript\">                                    window.PLOTLYENV=window.PLOTLYENV || {};                                    if (document.getElementById(\"b9ed5180-fea0-4da9-b255-fd6227e1556e\")) {                    Plotly.newPlot(                        \"b9ed5180-fea0-4da9-b255-fd6227e1556e\",                        [{\"alignmentgroup\":\"True\",\"hovertemplate\":\"x=%{x}\\u003cbr\\u003ey=%{y}\\u003cextra\\u003e\\u003c\\u002fextra\\u003e\",\"legendgroup\":\"\",\"marker\":{\"color\":\"#636efa\",\"pattern\":{\"shape\":\"\"}},\"name\":\"\",\"offsetgroup\":\"\",\"orientation\":\"v\",\"showlegend\":false,\"textposition\":\"auto\",\"x\":[0,1],\"xaxis\":\"x\",\"y\":[800000,800000],\"yaxis\":\"y\",\"type\":\"bar\"}],                        {\"template\":{\"data\":{\"histogram2dcontour\":[{\"type\":\"histogram2dcontour\",\"colorbar\":{\"outlinewidth\":0,\"ticks\":\"\"},\"colorscale\":[[0.0,\"#0d0887\"],[0.1111111111111111,\"#46039f\"],[0.2222222222222222,\"#7201a8\"],[0.3333333333333333,\"#9c179e\"],[0.4444444444444444,\"#bd3786\"],[0.5555555555555556,\"#d8576b\"],[0.6666666666666666,\"#ed7953\"],[0.7777777777777778,\"#fb9f3a\"],[0.8888888888888888,\"#fdca26\"],[1.0,\"#f0f921\"]]}],\"choropleth\":[{\"type\":\"choropleth\",\"colorbar\":{\"outlinewidth\":0,\"ticks\":\"\"}}],\"histogram2d\":[{\"type\":\"histogram2d\",\"colorbar\":{\"outlinewidth\":0,\"ticks\":\"\"},\"colorscale\":[[0.0,\"#0d0887\"],[0.1111111111111111,\"#46039f\"],[0.2222222222222222,\"#7201a8\"],[0.3333333333333333,\"#9c179e\"],[0.4444444444444444,\"#bd3786\"],[0.5555555555555556,\"#d8576b\"],[0.6666666666666666,\"#ed7953\"],[0.7777777777777778,\"#fb9f3a\"],[0.8888888888888888,\"#fdca26\"],[1.0,\"#f0f921\"]]}],\"heatmap\":[{\"type\":\"heatmap\",\"colorbar\":{\"outlinewidth\":0,\"ticks\":\"\"},\"colorscale\":[[0.0,\"#0d0887\"],[0.1111111111111111,\"#46039f\"],[0.2222222222222222,\"#7201a8\"],[0.3333333333333333,\"#9c179e\"],[0.4444444444444444,\"#bd3786\"],[0.5555555555555556,\"#d8576b\"],[0.6666666666666666,\"#ed7953\"],[0.7777777777777778,\"#fb9f3a\"],[0.8888888888888888,\"#fdca26\"],[1.0,\"#f0f921\"]]}],\"heatmapgl\":[{\"type\":\"heatmapgl\",\"colorbar\":{\"outlinewidth\":0,\"ticks\":\"\"},\"colorscale\":[[0.0,\"#0d0887\"],[0.1111111111111111,\"#46039f\"],[0.2222222222222222,\"#7201a8\"],[0.3333333333333333,\"#9c179e\"],[0.4444444444444444,\"#bd3786\"],[0.5555555555555556,\"#d8576b\"],[0.6666666666666666,\"#ed7953\"],[0.7777777777777778,\"#fb9f3a\"],[0.8888888888888888,\"#fdca26\"],[1.0,\"#f0f921\"]]}],\"contourcarpet\":[{\"type\":\"contourcarpet\",\"colorbar\":{\"outlinewidth\":0,\"ticks\":\"\"}}],\"contour\":[{\"type\":\"contour\",\"colorbar\":{\"outlinewidth\":0,\"ticks\":\"\"},\"colorscale\":[[0.0,\"#0d0887\"],[0.1111111111111111,\"#46039f\"],[0.2222222222222222,\"#7201a8\"],[0.3333333333333333,\"#9c179e\"],[0.4444444444444444,\"#bd3786\"],[0.5555555555555556,\"#d8576b\"],[0.6666666666666666,\"#ed7953\"],[0.7777777777777778,\"#fb9f3a\"],[0.8888888888888888,\"#fdca26\"],[1.0,\"#f0f921\"]]}],\"surface\":[{\"type\":\"surface\",\"colorbar\":{\"outlinewidth\":0,\"ticks\":\"\"},\"colorscale\":[[0.0,\"#0d0887\"],[0.1111111111111111,\"#46039f\"],[0.2222222222222222,\"#7201a8\"],[0.3333333333333333,\"#9c179e\"],[0.4444444444444444,\"#bd3786\"],[0.5555555555555556,\"#d8576b\"],[0.6666666666666666,\"#ed7953\"],[0.7777777777777778,\"#fb9f3a\"],[0.8888888888888888,\"#fdca26\"],[1.0,\"#f0f921\"]]}],\"mesh3d\":[{\"type\":\"mesh3d\",\"colorbar\":{\"outlinewidth\":0,\"ticks\":\"\"}}],\"scatter\":[{\"fillpattern\":{\"fillmode\":\"overlay\",\"size\":10,\"solidity\":0.2},\"type\":\"scatter\"}],\"parcoords\":[{\"type\":\"parcoords\",\"line\":{\"colorbar\":{\"outlinewidth\":0,\"ticks\":\"\"}}}],\"scatterpolargl\":[{\"type\":\"scatterpolargl\",\"marker\":{\"colorbar\":{\"outlinewidth\":0,\"ticks\":\"\"}}}],\"bar\":[{\"error_x\":{\"color\":\"#2a3f5f\"},\"error_y\":{\"color\":\"#2a3f5f\"},\"marker\":{\"line\":{\"color\":\"#E5ECF6\",\"width\":0.5},\"pattern\":{\"fillmode\":\"overlay\",\"size\":10,\"solidity\":0.2}},\"type\":\"bar\"}],\"scattergeo\":[{\"type\":\"scattergeo\",\"marker\":{\"colorbar\":{\"outlinewidth\":0,\"ticks\":\"\"}}}],\"scatterpolar\":[{\"type\":\"scatterpolar\",\"marker\":{\"colorbar\":{\"outlinewidth\":0,\"ticks\":\"\"}}}],\"histogram\":[{\"marker\":{\"pattern\":{\"fillmode\":\"overlay\",\"size\":10,\"solidity\":0.2}},\"type\":\"histogram\"}],\"scattergl\":[{\"type\":\"scattergl\",\"marker\":{\"colorbar\":{\"outlinewidth\":0,\"ticks\":\"\"}}}],\"scatter3d\":[{\"type\":\"scatter3d\",\"line\":{\"colorbar\":{\"outlinewidth\":0,\"ticks\":\"\"}},\"marker\":{\"colorbar\":{\"outlinewidth\":0,\"ticks\":\"\"}}}],\"scattermapbox\":[{\"type\":\"scattermapbox\",\"marker\":{\"colorbar\":{\"outlinewidth\":0,\"ticks\":\"\"}}}],\"scatterternary\":[{\"type\":\"scatterternary\",\"marker\":{\"colorbar\":{\"outlinewidth\":0,\"ticks\":\"\"}}}],\"scattercarpet\":[{\"type\":\"scattercarpet\",\"marker\":{\"colorbar\":{\"outlinewidth\":0,\"ticks\":\"\"}}}],\"carpet\":[{\"aaxis\":{\"endlinecolor\":\"#2a3f5f\",\"gridcolor\":\"white\",\"linecolor\":\"white\",\"minorgridcolor\":\"white\",\"startlinecolor\":\"#2a3f5f\"},\"baxis\":{\"endlinecolor\":\"#2a3f5f\",\"gridcolor\":\"white\",\"linecolor\":\"white\",\"minorgridcolor\":\"white\",\"startlinecolor\":\"#2a3f5f\"},\"type\":\"carpet\"}],\"table\":[{\"cells\":{\"fill\":{\"color\":\"#EBF0F8\"},\"line\":{\"color\":\"white\"}},\"header\":{\"fill\":{\"color\":\"#C8D4E3\"},\"line\":{\"color\":\"white\"}},\"type\":\"table\"}],\"barpolar\":[{\"marker\":{\"line\":{\"color\":\"#E5ECF6\",\"width\":0.5},\"pattern\":{\"fillmode\":\"overlay\",\"size\":10,\"solidity\":0.2}},\"type\":\"barpolar\"}],\"pie\":[{\"automargin\":true,\"type\":\"pie\"}]},\"layout\":{\"autotypenumbers\":\"strict\",\"colorway\":[\"#636efa\",\"#EF553B\",\"#00cc96\",\"#ab63fa\",\"#FFA15A\",\"#19d3f3\",\"#FF6692\",\"#B6E880\",\"#FF97FF\",\"#FECB52\"],\"font\":{\"color\":\"#2a3f5f\"},\"hovermode\":\"closest\",\"hoverlabel\":{\"align\":\"left\"},\"paper_bgcolor\":\"white\",\"plot_bgcolor\":\"#E5ECF6\",\"polar\":{\"bgcolor\":\"#E5ECF6\",\"angularaxis\":{\"gridcolor\":\"white\",\"linecolor\":\"white\",\"ticks\":\"\"},\"radialaxis\":{\"gridcolor\":\"white\",\"linecolor\":\"white\",\"ticks\":\"\"}},\"ternary\":{\"bgcolor\":\"#E5ECF6\",\"aaxis\":{\"gridcolor\":\"white\",\"linecolor\":\"white\",\"ticks\":\"\"},\"baxis\":{\"gridcolor\":\"white\",\"linecolor\":\"white\",\"ticks\":\"\"},\"caxis\":{\"gridcolor\":\"white\",\"linecolor\":\"white\",\"ticks\":\"\"}},\"coloraxis\":{\"colorbar\":{\"outlinewidth\":0,\"ticks\":\"\"}},\"colorscale\":{\"sequential\":[[0.0,\"#0d0887\"],[0.1111111111111111,\"#46039f\"],[0.2222222222222222,\"#7201a8\"],[0.3333333333333333,\"#9c179e\"],[0.4444444444444444,\"#bd3786\"],[0.5555555555555556,\"#d8576b\"],[0.6666666666666666,\"#ed7953\"],[0.7777777777777778,\"#fb9f3a\"],[0.8888888888888888,\"#fdca26\"],[1.0,\"#f0f921\"]],\"sequentialminus\":[[0.0,\"#0d0887\"],[0.1111111111111111,\"#46039f\"],[0.2222222222222222,\"#7201a8\"],[0.3333333333333333,\"#9c179e\"],[0.4444444444444444,\"#bd3786\"],[0.5555555555555556,\"#d8576b\"],[0.6666666666666666,\"#ed7953\"],[0.7777777777777778,\"#fb9f3a\"],[0.8888888888888888,\"#fdca26\"],[1.0,\"#f0f921\"]],\"diverging\":[[0,\"#8e0152\"],[0.1,\"#c51b7d\"],[0.2,\"#de77ae\"],[0.3,\"#f1b6da\"],[0.4,\"#fde0ef\"],[0.5,\"#f7f7f7\"],[0.6,\"#e6f5d0\"],[0.7,\"#b8e186\"],[0.8,\"#7fbc41\"],[0.9,\"#4d9221\"],[1,\"#276419\"]]},\"xaxis\":{\"gridcolor\":\"white\",\"linecolor\":\"white\",\"ticks\":\"\",\"title\":{\"standoff\":15},\"zerolinecolor\":\"white\",\"automargin\":true,\"zerolinewidth\":2},\"yaxis\":{\"gridcolor\":\"white\",\"linecolor\":\"white\",\"ticks\":\"\",\"title\":{\"standoff\":15},\"zerolinecolor\":\"white\",\"automargin\":true,\"zerolinewidth\":2},\"scene\":{\"xaxis\":{\"backgroundcolor\":\"#E5ECF6\",\"gridcolor\":\"white\",\"linecolor\":\"white\",\"showbackground\":true,\"ticks\":\"\",\"zerolinecolor\":\"white\",\"gridwidth\":2},\"yaxis\":{\"backgroundcolor\":\"#E5ECF6\",\"gridcolor\":\"white\",\"linecolor\":\"white\",\"showbackground\":true,\"ticks\":\"\",\"zerolinecolor\":\"white\",\"gridwidth\":2},\"zaxis\":{\"backgroundcolor\":\"#E5ECF6\",\"gridcolor\":\"white\",\"linecolor\":\"white\",\"showbackground\":true,\"ticks\":\"\",\"zerolinecolor\":\"white\",\"gridwidth\":2}},\"shapedefaults\":{\"line\":{\"color\":\"#2a3f5f\"}},\"annotationdefaults\":{\"arrowcolor\":\"#2a3f5f\",\"arrowhead\":0,\"arrowwidth\":1},\"geo\":{\"bgcolor\":\"white\",\"landcolor\":\"#E5ECF6\",\"subunitcolor\":\"white\",\"showland\":true,\"showlakes\":true,\"lakecolor\":\"white\"},\"title\":{\"x\":0.05},\"mapbox\":{\"style\":\"light\"}}},\"xaxis\":{\"anchor\":\"y\",\"domain\":[0.0,1.0],\"title\":{\"text\":\"x\"}},\"yaxis\":{\"anchor\":\"x\",\"domain\":[0.0,1.0],\"title\":{\"text\":\"y\"}},\"legend\":{\"tracegroupgap\":0},\"margin\":{\"t\":60},\"barmode\":\"relative\"},                        {\"responsive\": true}                    ).then(function(){\n",
              "                            \n",
              "var gd = document.getElementById('b9ed5180-fea0-4da9-b255-fd6227e1556e');\n",
              "var x = new MutationObserver(function (mutations, observer) {{\n",
              "        var display = window.getComputedStyle(gd).display;\n",
              "        if (!display || display === 'none') {{\n",
              "            console.log([gd, 'removed!']);\n",
              "            Plotly.purge(gd);\n",
              "            observer.disconnect();\n",
              "        }}\n",
              "}});\n",
              "\n",
              "// Listen for the removal of the full notebook cells\n",
              "var notebookContainer = gd.closest('#notebook-container');\n",
              "if (notebookContainer) {{\n",
              "    x.observe(notebookContainer, {childList: true});\n",
              "}}\n",
              "\n",
              "// Listen for the clearing of the current output cell\n",
              "var outputEl = gd.closest('.output');\n",
              "if (outputEl) {{\n",
              "    x.observe(outputEl, {childList: true});\n",
              "}}\n",
              "\n",
              "                        })                };                            </script>        </div>\n",
              "</body>\n",
              "</html>"
            ]
          },
          "metadata": {},
          "output_type": "display_data"
        }
      ],
      "source": [
        "fig_bar = px.bar (movie_reviews, x=movie_reviews['sentiment'].unique().tolist(), y=vc.tolist())\n",
        "fig_bar"
      ],
      "id": "F-EyMMPS_ZGS"
    },
    {
      "cell_type": "code",
      "execution_count": null,
      "metadata": {
        "colab": {
          "base_uri": "https://localhost:8080/",
          "height": 466
        },
        "id": "5345cc45-da4b-4a2b-b2a5-510496caafc2",
        "outputId": "c5cfc0bb-e521-4bbd-b88a-cd90b6a26083"
      },
      "outputs": [
        {
          "data": {
            "text/plain": [
              "<Axes: xlabel='sentiment', ylabel='count'>"
            ]
          },
          "execution_count": 15,
          "metadata": {},
          "output_type": "execute_result"
        },
        {
          "data": {
            "image/png": "[encoded data removed]",
            "text/plain": [
              "<Figure size 640x480 with 1 Axes>"
            ]
          },
          "metadata": {},
          "output_type": "display_data"
        }
      ],
      "source": [
        "#Positive/Negative distribution plot\n",
        "\n",
        "import seaborn as sns\n",
        "sns.countplot(x='sentiment', data=movie_reviews)"
      ],
      "id": "5345cc45-da4b-4a2b-b2a5-510496caafc2"
    },
    {
      "cell_type": "code",
      "source": [
        "mv2['clean_text'] = mv2['clean_text'].astype(str)\n",
        "mv3['Text'] = mv3['Text'].astype(str)"
      ],
      "metadata": {
        "id": "yFw3HHtQ1kIK"
      },
      "id": "yFw3HHtQ1kIK",
      "execution_count": null,
      "outputs": []
    },
    {
      "cell_type": "code",
      "source": [
        "# How long is each sentence on average?\n",
        "total_sentences = mv2['clean_text'].to_list()\n",
        "sent_lens = [len(sentence.split()) for sentence in total_sentences]\n",
        "avg_sent_len = np.mean(sent_lens)\n",
        "output_seq_len = int(np.percentile(sent_lens, 95))\n",
        "print(f\"Average length of sentence: {avg_sent_len} \\nSentence length that encompasses 95%: {output_seq_len}\" )\n",
        "max_len = output_seq_len\n",
        "\n",
        "# What's the distribution look like?\n",
        "import matplotlib.pyplot as plt\n",
        "plt.hist(sent_lens, bins=7);"
      ],
      "metadata": {
        "colab": {
          "base_uri": "https://localhost:8080/",
          "height": 465
        },
        "id": "owqwsEVLwfbw",
        "outputId": "3ea0e264-7f47-4348-d91b-522d86f6b0be"
      },
      "id": "owqwsEVLwfbw",
      "execution_count": null,
      "outputs": [
        {
          "output_type": "stream",
          "name": "stdout",
          "text": [
            "Average length of sentence: 16.124835279051208 \n",
            "Sentence length that encompasses 95%: 28\n"
          ]
        },
        {
          "output_type": "display_data",
          "data": {
            "text/plain": [
              "<Figure size 640x480 with 1 Axes>"
            ],
            "image/png": "[encoded data removed]"
          },
          "metadata": {}
        }
      ]
    },
    {
      "cell_type": "code",
      "source": [
        "# How long is each sentence on average?\n",
        "total_sentences = mv3['Text'].to_list()\n",
        "sent_lens = [len(sentence.split()) for sentence in total_sentences]\n",
        "avg_sent_len = np.mean(sent_lens)\n",
        "output_seq_len = int(np.percentile(sent_lens, 95))\n",
        "print(f\"Average length of sentence: {avg_sent_len} \\nSentence length that encompasses 95%: {output_seq_len}\" )\n",
        "max_len = output_seq_len\n",
        "\n",
        "# What's the distribution look like?\n",
        "import matplotlib.pyplot as plt\n",
        "plt.hist(sent_lens, bins=7);"
      ],
      "metadata": {
        "colab": {
          "base_uri": "https://localhost:8080/",
          "height": 467
        },
        "id": "ThDBMsQKzDPU",
        "outputId": "4958ab28-b4e9-4ecd-dae6-1792d7cac965"
      },
      "id": "ThDBMsQKzDPU",
      "execution_count": null,
      "outputs": [
        {
          "output_type": "stream",
          "name": "stdout",
          "text": [
            "Average length of sentence: 15.122883513372717 \n",
            "Sentence length that encompasses 95%: 30\n"
          ]
        },
        {
          "output_type": "display_data",
          "data": {
            "text/plain": [
              "<Figure size 640x480 with 1 Axes>"
            ],
            "image/png": "[encoded data removed]"
          },
          "metadata": {}
        }
      ]
    },
    {
      "cell_type": "code",
      "execution_count": null,
      "metadata": {
        "colab": {
          "base_uri": "https://localhost:8080/",
          "height": 465
        },
        "id": "5wz2h0xkY6Ck",
        "outputId": "2485be50-69b1-4aa4-ec66-faea4344050d"
      },
      "outputs": [
        {
          "output_type": "stream",
          "name": "stdout",
          "text": [
            "Average length of sentence: 13.176150625 \n",
            "Sentence length that encompasses 95%: 25\n"
          ]
        },
        {
          "output_type": "display_data",
          "data": {
            "text/plain": [
              "<Figure size 640x480 with 1 Axes>"
            ],
            "image/png": "[encoded data removed]"
          },
          "metadata": {}
        }
      ],
      "source": [
        "# How long is each sentence on average?\n",
        "total_sentences = movie_reviews['review'].to_list()\n",
        "sent_lens = [len(sentence.split()) for sentence in total_sentences]\n",
        "avg_sent_len = np.mean(sent_lens)\n",
        "output_seq_len = int(np.percentile(sent_lens, 95))\n",
        "print(f\"Average length of sentence: {avg_sent_len} \\nSentence length that encompasses 95%: {output_seq_len}\" )\n",
        "max_len = output_seq_len\n",
        "\n",
        "# What's the distribution look like?\n",
        "import matplotlib.pyplot as plt\n",
        "plt.hist(sent_lens, bins=7);"
      ],
      "id": "5wz2h0xkY6Ck"
    },
    {
      "cell_type": "markdown",
      "metadata": {
        "id": "MqXCuXDN-s-f"
      },
      "source": [
        "# Callbacks"
      ],
      "id": "MqXCuXDN-s-f"
    },
    {
      "cell_type": "code",
      "source": [
        "# Plot the validation and training data separately\n",
        "def plot_loss_curves(history):\n",
        "  \"\"\"\n",
        "  Returns separate loss curves for training and validation metrics.\n",
        "  \"\"\"\n",
        "  loss = history.history['loss']\n",
        "  val_loss = history.history['val_loss']\n",
        "\n",
        "  accuracy = history.history['acc']\n",
        "  val_accuracy = history.history['val_acc']\n",
        "\n",
        "  epochs = range(len(history.history['loss']))\n",
        "\n",
        "  # Plot loss\n",
        "  plt.plot(epochs, loss, label='training_loss')\n",
        "  plt.plot(epochs, val_loss, label='val_loss')\n",
        "  plt.title('Loss')\n",
        "  plt.xlabel('Epochs')\n",
        "  plt.legend()\n",
        "\n",
        "  # Plot accuracy\n",
        "  plt.figure()\n",
        "  plt.plot(epochs, accuracy, label='training_accuracy')\n",
        "  plt.plot(epochs, val_accuracy, label='val_accuracy')\n",
        "  plt.title('Accuracy')\n",
        "  plt.xlabel('Epochs')\n",
        "  plt.legend();\n",
        "\n",
        "def compare_historys(original_history, new_history, initial_epochs=5):\n",
        "  \"\"\"\n",
        "  Compares two model history objects.\n",
        "  \"\"\"\n",
        "  # Get original history measurements\n",
        "  acc = original_history.history[\"accuracy\"]\n",
        "  loss = original_history.history[\"loss\"]\n",
        "\n",
        "  print(len(acc))\n",
        "\n",
        "  val_acc = original_history.history[\"val_accuracy\"]\n",
        "  val_loss = original_history.history[\"val_loss\"]\n",
        "\n",
        "  # Combine original history with new history\n",
        "  total_acc = acc + new_history.history[\"accuracy\"]\n",
        "  total_loss = loss + new_history.history[\"loss\"]\n",
        "\n",
        "  total_val_acc = val_acc + new_history.history[\"val_accuracy\"]\n",
        "  total_val_loss = val_loss + new_history.history[\"val_loss\"]\n",
        "\n",
        "  print(len(total_acc))\n",
        "  print(total_acc)\n",
        "\n",
        "  # Make plots\n",
        "  plt.figure(figsize=(8, 8))\n",
        "  plt.subplot(2, 1, 1)\n",
        "  plt.plot(total_acc, label='Training Accuracy')\n",
        "  plt.plot(total_val_acc, label='Validation Accuracy')\n",
        "  plt.plot([initial_epochs-1, initial_epochs-1],\n",
        "            plt.ylim(), label='Start Fine Tuning') # reshift plot around epochs\n",
        "  plt.legend(loc='lower right')\n",
        "  plt.title('Training and Validation Accuracy')\n",
        "\n",
        "  plt.subplot(2, 1, 2)\n",
        "  plt.plot(total_loss, label='Training Loss')\n",
        "  plt.plot(total_val_loss, label='Validation Loss')\n",
        "  plt.plot([initial_epochs-1, initial_epochs-1],\n",
        "            plt.ylim(), label='Start Fine Tuning') # reshift plot around epochs\n",
        "  plt.legend(loc='upper right')\n",
        "  plt.title('Training and Validation Loss')\n",
        "  plt.xlabel('epoch')\n",
        "  plt.show()\n",
        "\n",
        "from sklearn.metrics import accuracy_score, precision_recall_fscore_support\n",
        "\n",
        "def calculate_results(y_true, y_pred):\n",
        "  \"\"\"\n",
        "  Calculates model accuracy, precision, recall and f1 score of a binary classification model.\n",
        "\n",
        "  Args:\n",
        "  -----\n",
        "  y_true = true labels in the form of a 1D array\n",
        "  y_pred = predicted labels in the form of a 1D array\n",
        "\n",
        "  Returns a dictionary of accuracy, precision, recall, f1-score.\n",
        "  \"\"\"\n",
        "  # Calculate model accuracy\n",
        "  model_accuracy = accuracy_score(y_true, y_pred) * 100\n",
        "  # Calculate model precision, recall and f1 score using \"weighted\" average\n",
        "  model_precision, model_recall, model_f1, _ = precision_recall_fscore_support(y_true, y_pred, average=\"weighted\")\n",
        "  model_results = {\"accuracy\": model_accuracy,\n",
        "                  \"precision\": model_precision,\n",
        "                  \"recall\": model_recall,\n",
        "                  \"f1\": model_f1}\n",
        "  return model_results\n",
        "\n"
      ],
      "metadata": {
        "id": "ItjACqsYSUeY"
      },
      "id": "ItjACqsYSUeY",
      "execution_count": null,
      "outputs": []
    },
    {
      "cell_type": "code",
      "execution_count": null,
      "metadata": {
        "id": "_fNyuw_n-uaF"
      },
      "outputs": [],
      "source": [
        "import os\n",
        "\n",
        "# Setup EarlyStopping callback to stop training if model's val_loss doesn't improve for 3 epochs\n",
        "early_stopping = tf.keras.callbacks.EarlyStopping(monitor=\"val_loss\", # watch the val loss metric\n",
        "                                                  patience=3) # if val loss decreases for 3 epochs in a row, stop training\n",
        "\n",
        "# Create a function to implement a ModelCheckpoint callback with a specific filename\n",
        "def create_model_checkpoint(model_name, save_path=\"model_experiments\"):\n",
        "  return tf.keras.callbacks.ModelCheckpoint(filepath=os.path.join(save_path, model_name), # create filepath to save model\n",
        "                                            verbose=0, # only output a limited amount of text\n",
        "                                            save_best_only=True) # save only the best model to file\n",
        "\n",
        "# Create tensorboard callback (functionized because need to create a new one for each model)\n",
        "import datetime\n",
        "def create_tensorboard_callback(dir_name, experiment_name):\n",
        "  log_dir = dir_name + \"/\" + experiment_name + \"/\" + datetime.datetime.now().strftime(\"%Y%m%d-%H%M%S\")\n",
        "  tensorboard_callback = tf.keras.callbacks.TensorBoard(\n",
        "      log_dir=log_dir\n",
        "  )\n",
        "  print(f\"Saving TensorBoard log files to: {log_dir}\")\n",
        "  return tensorboard_callback\n",
        "\n",
        "# Creating learning rate reduction callback\n",
        "reduce_lr = tf.keras.callbacks.ReduceLROnPlateau(monitor=\"val_loss\",\n",
        "                                                 factor=0.2, # multiply the learning rate by 0.2 (reduce by 5x)\n",
        "                                                 patience=2,\n",
        "                                                 verbose=1, # print out when learning rate goes down\n",
        "                                                 min_lr=1e-7)"
      ],
      "id": "_fNyuw_n-uaF"
    },
    {
      "cell_type": "markdown",
      "metadata": {
        "id": "1fb5cd7e-40ca-462f-ae57-c74c6eeece13"
      },
      "source": [
        "# Data Preprocessing"
      ],
      "id": "1fb5cd7e-40ca-462f-ae57-c74c6eeece13"
    },
    {
      "cell_type": "code",
      "execution_count": null,
      "metadata": {
        "colab": {
          "base_uri": "https://localhost:8080/",
          "height": 36
        },
        "id": "8ced9d58-e58d-46c0-a9e4-73d6e58d54e1",
        "outputId": "617fa069-a9b5-4b0b-cadc-65d96411978f"
      },
      "outputs": [
        {
          "data": {
            "application/vnd.google.colaboratory.intrinsic+json": {
              "type": "string"
            },
            "text/plain": [
              "'@Kenichan I dived many times for the ball. Managed to save 50%  The rest go out of bounds'"
            ]
          },
          "execution_count": 18,
          "metadata": {},
          "output_type": "execute_result"
        }
      ],
      "source": [
        "#Review example\n",
        "\n",
        "movie_reviews[\"review\"][2]"
      ],
      "id": "8ced9d58-e58d-46c0-a9e4-73d6e58d54e1"
    },
    {
      "cell_type": "code",
      "execution_count": null,
      "metadata": {
        "colab": {
          "base_uri": "https://localhost:8080/"
        },
        "id": "piQLhxEkSM2y",
        "outputId": "8aee8473-2f20-4760-c59c-4247167bd859"
      },
      "outputs": [
        {
          "output_type": "stream",
          "name": "stderr",
          "text": [
            "[nltk_data] Downloading package stopwords to /root/nltk_data...\n",
            "[nltk_data]   Unzipping corpora/stopwords.zip.\n",
            "[nltk_data] Downloading package wordnet to /root/nltk_data...\n",
            "[nltk_data] Downloading package punkt to /root/nltk_data...\n",
            "[nltk_data]   Unzipping tokenizers/punkt.zip.\n",
            "[nltk_data] Downloading package averaged_perceptron_tagger to\n",
            "[nltk_data]     /root/nltk_data...\n",
            "[nltk_data]   Unzipping taggers/averaged_perceptron_tagger.zip.\n"
          ]
        }
      ],
      "source": [
        "nltk.download('stopwords')\n",
        "nltk.download('wordnet')\n",
        "nltk.download('punkt')\n",
        "nltk.download('averaged_perceptron_tagger')\n",
        "TAG_RE = re.compile(r'<[^>]+>')\n",
        "\n",
        "wnl = WordNetLemmatizer()\n",
        "\n",
        "def remove_tags(text):\n",
        "    return TAG_RE.sub('', text)\n",
        "\n",
        "stopwords_list = stopwords.words('english')\n",
        "\n",
        "def preprocess_text(sen):\n",
        "    # Instantiate list for tokenized words\n",
        "    l = \"\"\n",
        "    sen = sen.lower()\n",
        "    # Remove html tags\n",
        "    sentence = remove_tags(sen)\n",
        "    # Remove punctuations and numbers\n",
        "    sentence = re.sub('[^a-zA-Z]', ' ', sentence)\n",
        "    # Single character removal\n",
        "    sentence = re.sub(r\"\\s+[a-zA-Z]\\s+\", ' ', sentence)  # When we remove apostrophe from the word \"Mark's\", the apostrophe is replaced by an empty space. Hence, we are left with single character \"s\" that we are removing here.\n",
        "    # Remove multiple spaces\n",
        "    sentence = re.sub(r'\\s+', ' ', sentence)  # Next, we remove all the single characters and replace it by a space which creates multiple spaces in our text. Finally, we remove the multiple spaces from our text as well.\n",
        "    # Remove Stopwords\n",
        "    pattern = re.compile(r'\\b(' + r'|'.join(stopwords_list) + r')\\b\\s*')\n",
        "    sentence = pattern.sub('', sentence)\n",
        "    # Lemmatize sentence\n",
        "    for word, tag in pos_tag(word_tokenize(sentence)):\n",
        "        wntag = tag[0].lower()\n",
        "        wntag = wntag if wntag in ['a', 'r', 'n', 'v'] else None\n",
        "        if not wntag:\n",
        "                lemma = word\n",
        "                l += lemma + \" \"\n",
        "        else:\n",
        "                lemma = wnl.lemmatize(word, wntag)\n",
        "                l += lemma + \" \"\n",
        "    return l"
      ],
      "id": "piQLhxEkSM2y"
    },
    {
      "cell_type": "code",
      "execution_count": null,
      "metadata": {
        "id": "JH1nOgc8D07T"
      },
      "outputs": [],
      "source": [
        "import spacy\n",
        "\n",
        "nlp = spacy.load(\"en_core_web_sm\")\n",
        "def preprocess_text_spacy(text):\n",
        "  text = re.sub(r'\\s+', ' ', text)\n",
        "  doc = nlp(text.lower())  # Load the text into a spaCy document\n",
        "  # tokens = [t.text for t in doc if not t.is_punct and not t.is_stop]  # Extract and filter tokens\n",
        "  lemmas = [t.lemma_ for t in doc if not t.is_punct and not t.is_stop]  # Lemmatize each token\n",
        "  return lemmas  # Join lemmas with space"
      ],
      "id": "JH1nOgc8D07T"
    },
    {
      "cell_type": "code",
      "execution_count": null,
      "metadata": {
        "colab": {
          "base_uri": "https://localhost:8080/"
        },
        "id": "0zVvFYIyFtU_",
        "outputId": "20356c29-2bfc-4a76-9ae2-4a12d94bb442"
      },
      "outputs": [
        {
          "data": {
            "text/plain": [
              "['@kenichan', 'dive', 'time', 'ball', 'manage', 'save', '50', 'rest', 'bound']"
            ]
          },
          "execution_count": 103,
          "metadata": {},
          "output_type": "execute_result"
        }
      ],
      "source": [
        "preprocess_text_spacy(movie_reviews['review'][2])"
      ],
      "id": "0zVvFYIyFtU_"
    },
    {
      "cell_type": "code",
      "execution_count": null,
      "metadata": {
        "id": "vwFUDLhUBEtG"
      },
      "outputs": [],
      "source": [
        "mv = movie_reviews.copy()\n",
        "for i in range(len(mv['review'])):\n",
        "  mv['review'][i] = preprocess_text_spacy(mv['review'][i])\n",
        "  print(i)"
      ],
      "id": "vwFUDLhUBEtG"
    },
    {
      "cell_type": "code",
      "execution_count": null,
      "metadata": {
        "colab": {
          "base_uri": "https://localhost:8080/"
        },
        "id": "s5IzsP47QJHb",
        "outputId": "452afad3-b0fc-4270-b573-302033321776"
      },
      "outputs": [
        {
          "name": "stderr",
          "output_type": "stream",
          "text": [
            "<ipython-input-26-b24906baeb4a>:2: SettingWithCopyWarning:\n",
            "\n",
            "\n",
            "A value is trying to be set on a copy of a slice from a DataFrame.\n",
            "Try using .loc[row_indexer,col_indexer] = value instead\n",
            "\n",
            "See the caveats in the documentation: https://pandas.pydata.org/pandas-docs/stable/user_guide/indexing.html#returning-a-view-versus-a-copy\n",
            "\n"
          ]
        }
      ],
      "source": [
        "mv = movie_reviews[['sentiment', 'review']]\n",
        "mv['review'] = mv['review'].apply(preprocess_text)"
      ],
      "id": "s5IzsP47QJHb"
    },
    {
      "cell_type": "code",
      "source": [
        "mv3['clean_text'] = mv3['clean_text'].apply(preprocess_text)\n",
        "mv4['Text'] = mv4['Text'].apply(preprocess_text)"
      ],
      "metadata": {
        "colab": {
          "base_uri": "https://localhost:8080/"
        },
        "id": "nM5P5BDthzgX",
        "outputId": "187f98ee-5df3-41b0-b580-0e6dd6e8f201"
      },
      "id": "nM5P5BDthzgX",
      "execution_count": null,
      "outputs": [
        {
          "output_type": "stream",
          "name": "stderr",
          "text": [
            "<ipython-input-38-d23036b884c5>:1: SettingWithCopyWarning: \n",
            "A value is trying to be set on a copy of a slice from a DataFrame.\n",
            "Try using .loc[row_indexer,col_indexer] = value instead\n",
            "\n",
            "See the caveats in the documentation: https://pandas.pydata.org/pandas-docs/stable/user_guide/indexing.html#returning-a-view-versus-a-copy\n",
            "  mv3['clean_text'] = mv3['clean_text'].apply(preprocess_text)\n"
          ]
        }
      ]
    },
    {
      "cell_type": "code",
      "source": [
        "mv3.to_csv('preprocessed_df2.csv', encoding='utf-8')\n",
        "mv4.to_csv('preprocessed_df3.csv', encoding='utf-8')"
      ],
      "metadata": {
        "id": "lnALwY2OiIhB"
      },
      "id": "lnALwY2OiIhB",
      "execution_count": null,
      "outputs": []
    },
    {
      "cell_type": "code",
      "source": [
        "!cp -r '/content/preprocessed_df2.csv' '/content/gdrive/MyDrive/ML/p_df_2.csv'\n",
        "!cp -r '/content/preprocessed_df3.csv' '/content/gdrive/MyDrive/ML/p_df_3.csv'"
      ],
      "metadata": {
        "id": "dTlnosq8pnEf"
      },
      "id": "dTlnosq8pnEf",
      "execution_count": null,
      "outputs": []
    },
    {
      "cell_type": "code",
      "execution_count": null,
      "metadata": {
        "colab": {
          "base_uri": "https://localhost:8080/",
          "height": 424
        },
        "id": "1MUzeqE7Z2yY",
        "outputId": "a8c0736a-d685-4479-f49e-cec3f226d642"
      },
      "outputs": [
        {
          "data": {
            "text/html": [
              "\n",
              "  <div id=\"df-6605f790-de27-4877-bf5f-9b625f6119ae\" class=\"colab-df-container\">\n",
              "    <div>\n",
              "<style scoped>\n",
              "    .dataframe tbody tr th:only-of-type {\n",
              "        vertical-align: middle;\n",
              "    }\n",
              "\n",
              "    .dataframe tbody tr th {\n",
              "        vertical-align: top;\n",
              "    }\n",
              "\n",
              "    .dataframe thead th {\n",
              "        text-align: right;\n",
              "    }\n",
              "</style>\n",
              "<table border=\"1\" class=\"dataframe\">\n",
              "  <thead>\n",
              "    <tr style=\"text-align: right;\">\n",
              "      <th></th>\n",
              "      <th>Unnamed: 0</th>\n",
              "      <th>sentiment</th>\n",
              "      <th>review</th>\n",
              "    </tr>\n",
              "  </thead>\n",
              "  <tbody>\n",
              "    <tr>\n",
              "      <th>0</th>\n",
              "      <td>0</td>\n",
              "      <td>0</td>\n",
              "      <td>switchfoot http twitpic com zl awww bummer sho...</td>\n",
              "    </tr>\n",
              "    <tr>\n",
              "      <th>1</th>\n",
              "      <td>1</td>\n",
              "      <td>0</td>\n",
              "      <td>upset update facebook texting might cry result...</td>\n",
              "    </tr>\n",
              "    <tr>\n",
              "      <th>2</th>\n",
              "      <td>2</td>\n",
              "      <td>0</td>\n",
              "      <td>kenichan dive many time ball manage save rest ...</td>\n",
              "    </tr>\n",
              "    <tr>\n",
              "      <th>3</th>\n",
              "      <td>3</td>\n",
              "      <td>0</td>\n",
              "      <td>whole body feel itchy like fire</td>\n",
              "    </tr>\n",
              "    <tr>\n",
              "      <th>4</th>\n",
              "      <td>4</td>\n",
              "      <td>0</td>\n",
              "      <td>nationwideclass behaving mad see</td>\n",
              "    </tr>\n",
              "    <tr>\n",
              "      <th>...</th>\n",
              "      <td>...</td>\n",
              "      <td>...</td>\n",
              "      <td>...</td>\n",
              "    </tr>\n",
              "    <tr>\n",
              "      <th>1599995</th>\n",
              "      <td>1599995</td>\n",
              "      <td>1</td>\n",
              "      <td>woke school best feeling ever</td>\n",
              "    </tr>\n",
              "    <tr>\n",
              "      <th>1599996</th>\n",
              "      <td>1599996</td>\n",
              "      <td>1</td>\n",
              "      <td>thewdb com cool hear old walt interview http b...</td>\n",
              "    </tr>\n",
              "    <tr>\n",
              "      <th>1599997</th>\n",
              "      <td>1599997</td>\n",
              "      <td>1</td>\n",
              "      <td>ready mojo makeover ask detail</td>\n",
              "    </tr>\n",
              "    <tr>\n",
              "      <th>1599998</th>\n",
              "      <td>1599998</td>\n",
              "      <td>1</td>\n",
              "      <td>happy th birthday boo alll time tupac amaru sh...</td>\n",
              "    </tr>\n",
              "    <tr>\n",
              "      <th>1599999</th>\n",
              "      <td>1599999</td>\n",
              "      <td>1</td>\n",
              "      <td>happy charitytuesday thenspcc sparkscharity sp...</td>\n",
              "    </tr>\n",
              "  </tbody>\n",
              "</table>\n",
              "<p>1600000 rows × 3 columns</p>\n",
              "</div>\n",
              "    <div class=\"colab-df-buttons\">\n",
              "\n",
              "  <div class=\"colab-df-container\">\n",
              "    <button class=\"colab-df-convert\" onclick=\"convertToInteractive('df-6605f790-de27-4877-bf5f-9b625f6119ae')\"\n",
              "            title=\"Convert this dataframe to an interactive table.\"\n",
              "            style=\"display:none;\">\n",
              "\n",
              "  <svg xmlns=\"http://www.w3.org/2000/svg\" height=\"24px\" viewBox=\"0 -960 960 960\">\n",
              "    <path d=\"M120-120v-720h720v720H120Zm60-500h600v-160H180v160Zm220 220h160v-160H400v160Zm0 220h160v-160H400v160ZM180-400h160v-160H180v160Zm440 0h160v-160H620v160ZM180-180h160v-160H180v160Zm440 0h160v-160H620v160Z\"/>\n",
              "  </svg>\n",
              "    </button>\n",
              "\n",
              "  <style>\n",
              "    .colab-df-container {\n",
              "      display:flex;\n",
              "      gap: 12px;\n",
              "    }\n",
              "\n",
              "    .colab-df-convert {\n",
              "      background-color: #E8F0FE;\n",
              "      border: none;\n",
              "      border-radius: 50%;\n",
              "      cursor: pointer;\n",
              "      display: none;\n",
              "      fill: #1967D2;\n",
              "      height: 32px;\n",
              "      padding: 0 0 0 0;\n",
              "      width: 32px;\n",
              "    }\n",
              "\n",
              "    .colab-df-convert:hover {\n",
              "      background-color: #E2EBFA;\n",
              "      box-shadow: 0px 1px 2px rgba(60, 64, 67, 0.3), 0px 1px 3px 1px rgba(60, 64, 67, 0.15);\n",
              "      fill: #174EA6;\n",
              "    }\n",
              "\n",
              "    .colab-df-buttons div {\n",
              "      margin-bottom: 4px;\n",
              "    }\n",
              "\n",
              "    [theme=dark] .colab-df-convert {\n",
              "      background-color: #3B4455;\n",
              "      fill: #D2E3FC;\n",
              "    }\n",
              "\n",
              "    [theme=dark] .colab-df-convert:hover {\n",
              "      background-color: #434B5C;\n",
              "      box-shadow: 0px 1px 3px 1px rgba(0, 0, 0, 0.15);\n",
              "      filter: drop-shadow(0px 1px 2px rgba(0, 0, 0, 0.3));\n",
              "      fill: #FFFFFF;\n",
              "    }\n",
              "  </style>\n",
              "\n",
              "    <script>\n",
              "      const buttonEl =\n",
              "        document.querySelector('#df-6605f790-de27-4877-bf5f-9b625f6119ae button.colab-df-convert');\n",
              "      buttonEl.style.display =\n",
              "        google.colab.kernel.accessAllowed ? 'block' : 'none';\n",
              "\n",
              "      async function convertToInteractive(key) {\n",
              "        const element = document.querySelector('#df-6605f790-de27-4877-bf5f-9b625f6119ae');\n",
              "        const dataTable =\n",
              "          await google.colab.kernel.invokeFunction('convertToInteractive',\n",
              "                                                    [key], {});\n",
              "        if (!dataTable) return;\n",
              "\n",
              "        const docLinkHtml = 'Like what you see? Visit the ' +\n",
              "          '<a target=\"_blank\" href=https://colab.research.google.com/notebooks/data_table.ipynb>data table notebook</a>'\n",
              "          + ' to learn more about interactive tables.';\n",
              "        element.innerHTML = '';\n",
              "        dataTable['output_type'] = 'display_data';\n",
              "        await google.colab.output.renderOutput(dataTable, element);\n",
              "        const docLink = document.createElement('div');\n",
              "        docLink.innerHTML = docLinkHtml;\n",
              "        element.appendChild(docLink);\n",
              "      }\n",
              "    </script>\n",
              "  </div>\n",
              "\n",
              "\n",
              "<div id=\"df-af2dbe64-3926-4c09-98bc-850d97ec449b\">\n",
              "  <button class=\"colab-df-quickchart\" onclick=\"quickchart('df-af2dbe64-3926-4c09-98bc-850d97ec449b')\"\n",
              "            title=\"Suggest charts\"\n",
              "            style=\"display:none;\">\n",
              "\n",
              "<svg xmlns=\"http://www.w3.org/2000/svg\" height=\"24px\"viewBox=\"0 0 24 24\"\n",
              "     width=\"24px\">\n",
              "    <g>\n",
              "        <path d=\"M19 3H5c-1.1 0-2 .9-2 2v14c0 1.1.9 2 2 2h14c1.1 0 2-.9 2-2V5c0-1.1-.9-2-2-2zM9 17H7v-7h2v7zm4 0h-2V7h2v10zm4 0h-2v-4h2v4z\"/>\n",
              "    </g>\n",
              "</svg>\n",
              "  </button>\n",
              "\n",
              "<style>\n",
              "  .colab-df-quickchart {\n",
              "      --bg-color: #E8F0FE;\n",
              "      --fill-color: #1967D2;\n",
              "      --hover-bg-color: #E2EBFA;\n",
              "      --hover-fill-color: #174EA6;\n",
              "      --disabled-fill-color: #AAA;\n",
              "      --disabled-bg-color: #DDD;\n",
              "  }\n",
              "\n",
              "  [theme=dark] .colab-df-quickchart {\n",
              "      --bg-color: #3B4455;\n",
              "      --fill-color: #D2E3FC;\n",
              "      --hover-bg-color: #434B5C;\n",
              "      --hover-fill-color: #FFFFFF;\n",
              "      --disabled-bg-color: #3B4455;\n",
              "      --disabled-fill-color: #666;\n",
              "  }\n",
              "\n",
              "  .colab-df-quickchart {\n",
              "    background-color: var(--bg-color);\n",
              "    border: none;\n",
              "    border-radius: 50%;\n",
              "    cursor: pointer;\n",
              "    display: none;\n",
              "    fill: var(--fill-color);\n",
              "    height: 32px;\n",
              "    padding: 0;\n",
              "    width: 32px;\n",
              "  }\n",
              "\n",
              "  .colab-df-quickchart:hover {\n",
              "    background-color: var(--hover-bg-color);\n",
              "    box-shadow: 0 1px 2px rgba(60, 64, 67, 0.3), 0 1px 3px 1px rgba(60, 64, 67, 0.15);\n",
              "    fill: var(--button-hover-fill-color);\n",
              "  }\n",
              "\n",
              "  .colab-df-quickchart-complete:disabled,\n",
              "  .colab-df-quickchart-complete:disabled:hover {\n",
              "    background-color: var(--disabled-bg-color);\n",
              "    fill: var(--disabled-fill-color);\n",
              "    box-shadow: none;\n",
              "  }\n",
              "\n",
              "  .colab-df-spinner {\n",
              "    border: 2px solid var(--fill-color);\n",
              "    border-color: transparent;\n",
              "    border-bottom-color: var(--fill-color);\n",
              "    animation:\n",
              "      spin 1s steps(1) infinite;\n",
              "  }\n",
              "\n",
              "  @keyframes spin {\n",
              "    0% {\n",
              "      border-color: transparent;\n",
              "      border-bottom-color: var(--fill-color);\n",
              "      border-left-color: var(--fill-color);\n",
              "    }\n",
              "    20% {\n",
              "      border-color: transparent;\n",
              "      border-left-color: var(--fill-color);\n",
              "      border-top-color: var(--fill-color);\n",
              "    }\n",
              "    30% {\n",
              "      border-color: transparent;\n",
              "      border-left-color: var(--fill-color);\n",
              "      border-top-color: var(--fill-color);\n",
              "      border-right-color: var(--fill-color);\n",
              "    }\n",
              "    40% {\n",
              "      border-color: transparent;\n",
              "      border-right-color: var(--fill-color);\n",
              "      border-top-color: var(--fill-color);\n",
              "    }\n",
              "    60% {\n",
              "      border-color: transparent;\n",
              "      border-right-color: var(--fill-color);\n",
              "    }\n",
              "    80% {\n",
              "      border-color: transparent;\n",
              "      border-right-color: var(--fill-color);\n",
              "      border-bottom-color: var(--fill-color);\n",
              "    }\n",
              "    90% {\n",
              "      border-color: transparent;\n",
              "      border-bottom-color: var(--fill-color);\n",
              "    }\n",
              "  }\n",
              "</style>\n",
              "\n",
              "  <script>\n",
              "    async function quickchart(key) {\n",
              "      const quickchartButtonEl =\n",
              "        document.querySelector('#' + key + ' button');\n",
              "      quickchartButtonEl.disabled = true;  // To prevent multiple clicks.\n",
              "      quickchartButtonEl.classList.add('colab-df-spinner');\n",
              "      try {\n",
              "        const charts = await google.colab.kernel.invokeFunction(\n",
              "            'suggestCharts', [key], {});\n",
              "      } catch (error) {\n",
              "        console.error('Error during call to suggestCharts:', error);\n",
              "      }\n",
              "      quickchartButtonEl.classList.remove('colab-df-spinner');\n",
              "      quickchartButtonEl.classList.add('colab-df-quickchart-complete');\n",
              "    }\n",
              "    (() => {\n",
              "      let quickchartButtonEl =\n",
              "        document.querySelector('#df-af2dbe64-3926-4c09-98bc-850d97ec449b button');\n",
              "      quickchartButtonEl.style.display =\n",
              "        google.colab.kernel.accessAllowed ? 'block' : 'none';\n",
              "    })();\n",
              "  </script>\n",
              "</div>\n",
              "    </div>\n",
              "  </div>\n"
            ],
            "text/plain": [
              "         Unnamed: 0  sentiment  \\\n",
              "0                 0          0   \n",
              "1                 1          0   \n",
              "2                 2          0   \n",
              "3                 3          0   \n",
              "4                 4          0   \n",
              "...             ...        ...   \n",
              "1599995     1599995          1   \n",
              "1599996     1599996          1   \n",
              "1599997     1599997          1   \n",
              "1599998     1599998          1   \n",
              "1599999     1599999          1   \n",
              "\n",
              "                                                    review  \n",
              "0        switchfoot http twitpic com zl awww bummer sho...  \n",
              "1        upset update facebook texting might cry result...  \n",
              "2        kenichan dive many time ball manage save rest ...  \n",
              "3                         whole body feel itchy like fire   \n",
              "4                        nationwideclass behaving mad see   \n",
              "...                                                    ...  \n",
              "1599995                     woke school best feeling ever   \n",
              "1599996  thewdb com cool hear old walt interview http b...  \n",
              "1599997                    ready mojo makeover ask detail   \n",
              "1599998  happy th birthday boo alll time tupac amaru sh...  \n",
              "1599999  happy charitytuesday thenspcc sparkscharity sp...  \n",
              "\n",
              "[1600000 rows x 3 columns]"
            ]
          },
          "execution_count": 13,
          "metadata": {},
          "output_type": "execute_result"
        }
      ],
      "source": [
        "mv"
      ],
      "id": "1MUzeqE7Z2yY"
    },
    {
      "cell_type": "code",
      "execution_count": null,
      "metadata": {
        "colab": {
          "base_uri": "https://localhost:8080/"
        },
        "id": "YuAk3w84a0U5",
        "outputId": "249d3505-28b4-4717-eb96-96fcc4cc354f"
      },
      "outputs": [
        {
          "data": {
            "text/plain": [
              "True"
            ]
          },
          "execution_count": 12,
          "metadata": {},
          "output_type": "execute_result"
        }
      ],
      "source": [
        "mv.isnull().values.any()"
      ],
      "id": "YuAk3w84a0U5"
    },
    {
      "cell_type": "code",
      "execution_count": null,
      "metadata": {
        "id": "Py2e5bBvbKqj"
      },
      "outputs": [],
      "source": [
        "mv = mv.dropna()"
      ],
      "id": "Py2e5bBvbKqj"
    },
    {
      "cell_type": "code",
      "execution_count": null,
      "metadata": {
        "id": "3nS3tuCx8f8Q"
      },
      "outputs": [],
      "source": [
        "# X = [x for x in mv['review']]"
      ],
      "id": "3nS3tuCx8f8Q"
    },
    {
      "cell_type": "code",
      "source": [
        "X = [x.split() for x in mv['review']]"
      ],
      "metadata": {
        "id": "ZPjf2oaSdCPQ"
      },
      "id": "ZPjf2oaSdCPQ",
      "execution_count": null,
      "outputs": []
    },
    {
      "cell_type": "code",
      "execution_count": null,
      "metadata": {
        "id": "nfotTNqs-wdU"
      },
      "outputs": [],
      "source": [
        "# mv.to_csv('preprocessed_df.csv', encoding='utf-8')"
      ],
      "id": "nfotTNqs-wdU"
    },
    {
      "cell_type": "code",
      "execution_count": null,
      "metadata": {
        "id": "8VN9ZpQJrTZT"
      },
      "outputs": [],
      "source": [
        "# X = list(mv['review'])"
      ],
      "id": "8VN9ZpQJrTZT"
    },
    {
      "cell_type": "code",
      "execution_count": null,
      "metadata": {
        "colab": {
          "base_uri": "https://localhost:8080/"
        },
        "id": "ooADKFTGpnJL",
        "outputId": "b17d9ac2-3fb4-4680-9bf6-80f3c778a2c5"
      },
      "outputs": [
        {
          "output_type": "execute_result",
          "data": {
            "text/plain": [
              "['switchfoot http twitpic com zl awww bummer shoulda get david carr third day ',\n",
              " 'upset update facebook texting might cry result school today also blah ']"
            ]
          },
          "metadata": {},
          "execution_count": 17
        }
      ],
      "source": [
        "X[:2]"
      ],
      "id": "ooADKFTGpnJL"
    },
    {
      "cell_type": "code",
      "execution_count": null,
      "metadata": {
        "colab": {
          "base_uri": "https://localhost:8080/",
          "height": 36
        },
        "id": "zx-BgyFDrwUx",
        "outputId": "fa37a9f3-1b1f-438a-ae80-f22d61ed409e"
      },
      "outputs": [
        {
          "data": {
            "application/vnd.google.colaboratory.intrinsic+json": {
              "type": "string"
            },
            "text/plain": [
              "'upset update facebook texting might cry result school today also blah '"
            ]
          },
          "execution_count": 16,
          "metadata": {},
          "output_type": "execute_result"
        }
      ],
      "source": [
        "x = mv['review'][1]\n",
        "x"
      ],
      "id": "zx-BgyFDrwUx"
    },
    {
      "cell_type": "code",
      "source": [
        "X2 = [x.split() for x in mv2['clean_text']]\n",
        "X3 = [x.split() for x in mv3['Text']]\n",
        "y2 = mv2['category']\n",
        "y2 = np.array(list(y2))\n",
        "y3 = mv3['Label']\n",
        "y3 = np.array(list(y3))"
      ],
      "metadata": {
        "id": "dalmGXXs8If2"
      },
      "id": "dalmGXXs8If2",
      "execution_count": null,
      "outputs": []
    },
    {
      "cell_type": "code",
      "execution_count": null,
      "metadata": {
        "colab": {
          "base_uri": "https://localhost:8080/"
        },
        "id": "3086212a-2a2c-4e61-b1ee-ce01a51ab1f5",
        "outputId": "77aa9e02-b385-4bf4-d084-da2d827dbde8"
      },
      "outputs": [
        {
          "output_type": "execute_result",
          "data": {
            "text/plain": [
              "array([0, 0, 0, ..., 1, 1, 1])"
            ]
          },
          "metadata": {},
          "execution_count": 29
        }
      ],
      "source": [
        "# Converting sentiment labels to 0 & 1\n",
        "\n",
        "y = mv['sentiment']\n",
        "\n",
        "# y = np.array(list(map(lambda x: 1 if x==\"positive\" else 0, y)))\n",
        "y = np.array(list(y))\n",
        "# y = list(y)\n",
        "y"
      ],
      "id": "3086212a-2a2c-4e61-b1ee-ce01a51ab1f5"
    },
    {
      "cell_type": "code",
      "execution_count": null,
      "metadata": {
        "id": "DzRicWj02wEh"
      },
      "outputs": [],
      "source": [
        "# y1 = tf.expand_dims(y, axis=1)"
      ],
      "id": "DzRicWj02wEh"
    },
    {
      "cell_type": "code",
      "execution_count": null,
      "metadata": {
        "id": "4c45b67f-638f-4a37-ad53-808b893eef2b"
      },
      "outputs": [],
      "source": [
        "X_train, X_test, y_train, y_test = train_test_split(X, y, test_size=0.20, random_state=42)"
      ],
      "id": "4c45b67f-638f-4a37-ad53-808b893eef2b"
    },
    {
      "cell_type": "code",
      "source": [
        "X_train2, X_test2, y_train2, y_test2 = train_test_split(X2, y2, test_size=0.20, random_state=42)\n",
        "X_train3, X_test3, y_train3, y_test3 = train_test_split(X3, y3, test_size=0.20, random_state=42)"
      ],
      "metadata": {
        "id": "c_8E_Mei9SUN"
      },
      "id": "c_8E_Mei9SUN",
      "execution_count": null,
      "outputs": []
    },
    {
      "cell_type": "code",
      "execution_count": null,
      "metadata": {
        "id": "m1VTnUHi_Lno"
      },
      "outputs": [],
      "source": [
        "# Our vectorized labels\n",
        "y_train = np.asarray(y_train).astype('float32').reshape((-1,1))\n",
        "y_test = np.asarray(y_test).astype('float32').reshape((-1,1))"
      ],
      "id": "m1VTnUHi_Lno"
    },
    {
      "cell_type": "code",
      "source": [
        "y_train2 = np.asarray(y_train2).astype('float32').reshape((-1,1))\n",
        "y_test2 = np.asarray(y_test2).astype('float32').reshape((-1,1))\n",
        "y_train3 = np.asarray(y_train3).astype('float32').reshape((-1,1))\n",
        "y_test3 = np.asarray(y_test3).astype('float32').reshape((-1,1))"
      ],
      "metadata": {
        "id": "pCIKn0SE9pD4"
      },
      "id": "pCIKn0SE9pD4",
      "execution_count": null,
      "outputs": []
    },
    {
      "cell_type": "markdown",
      "metadata": {
        "id": "8be1cf20-92d7-4d70-99e5-5a5a54580d02"
      },
      "source": [
        "# Tokenizing & Embeddings"
      ],
      "id": "8be1cf20-92d7-4d70-99e5-5a5a54580d02"
    },
    {
      "cell_type": "code",
      "execution_count": null,
      "metadata": {
        "colab": {
          "base_uri": "https://localhost:8080/"
        },
        "id": "04618b93-7740-45e5-a65b-1e2609f8d345",
        "outputId": "320621c9-0d2d-4b37-e90e-e047a278d00f"
      },
      "outputs": [
        {
          "output_type": "execute_result",
          "data": {
            "text/plain": [
              "573593"
            ]
          },
          "metadata": {},
          "execution_count": 32
        }
      ],
      "source": [
        "word_tokenizer = Tokenizer()\n",
        "word_tokenizer.fit_on_texts(X)\n",
        "\n",
        "X_train = word_tokenizer.texts_to_sequences(X_train)\n",
        "X_test = word_tokenizer.texts_to_sequences(X_test)\n",
        "\n",
        "vocab_length = len(word_tokenizer.word_index) + 1\n",
        "\n",
        "vocab_length"
      ],
      "id": "04618b93-7740-45e5-a65b-1e2609f8d345"
    },
    {
      "cell_type": "code",
      "execution_count": null,
      "metadata": {
        "id": "yamOJgdmtb-E"
      },
      "outputs": [],
      "source": [
        "# X_train = word_tokenizer.texts_to_sequences(X_train)\n",
        "# X_test = word_tokenizer.texts_to_sequences(X_test)"
      ],
      "id": "yamOJgdmtb-E"
    },
    {
      "cell_type": "code",
      "execution_count": null,
      "metadata": {
        "id": "uuaIhHuxwoRT"
      },
      "outputs": [],
      "source": [
        "X_train = pad_sequences(X_train, padding='post', truncating='post', maxlen=max_len)\n",
        "X_test = pad_sequences(X_test, padding='post', truncating='post', maxlen=max_len)"
      ],
      "id": "uuaIhHuxwoRT"
    },
    {
      "cell_type": "code",
      "execution_count": null,
      "metadata": {
        "id": "UjXMI3WJvQ8S"
      },
      "outputs": [],
      "source": [
        "from numpy import asarray\n",
        "from numpy import zeros\n",
        "\n",
        "embeddings_dictionary = dict()\n",
        "glove_file = open('glove.6B.50d.txt', encoding=\"utf8\")\n",
        "\n",
        "for line in glove_file:\n",
        "    records = line.split()\n",
        "    word = records[0]\n",
        "    vector_dimensions = asarray(records[1:], dtype='float32')\n",
        "    embeddings_dictionary [word] = vector_dimensions\n",
        "glove_file.close()"
      ],
      "id": "UjXMI3WJvQ8S"
    },
    {
      "cell_type": "code",
      "execution_count": null,
      "metadata": {
        "id": "Tls8r0drwriC"
      },
      "outputs": [],
      "source": [
        "embedding_matrix = zeros((vocab_length, 50))"
      ],
      "id": "Tls8r0drwriC"
    },
    {
      "cell_type": "code",
      "execution_count": null,
      "metadata": {
        "id": "FPoKOE8vycOf"
      },
      "outputs": [],
      "source": [
        "for word, index in word_tokenizer.word_index.items():\n",
        "    embedding_vector = embeddings_dictionary.get(word)\n",
        "    if embedding_vector is not None:\n",
        "        embedding_matrix[index] = embedding_vector"
      ],
      "id": "FPoKOE8vycOf"
    },
    {
      "cell_type": "code",
      "execution_count": null,
      "metadata": {
        "colab": {
          "base_uri": "https://localhost:8080/"
        },
        "id": "j8etz1BalCp4",
        "outputId": "e90e18b6-4f9d-4b31-c4e5-f6b70f55d0a8"
      },
      "outputs": [
        {
          "data": {
            "text/plain": [
              "573593"
            ]
          },
          "execution_count": 24,
          "metadata": {},
          "output_type": "execute_result"
        }
      ],
      "source": [
        "len(embedding_matrix)"
      ],
      "id": "j8etz1BalCp4"
    },
    {
      "cell_type": "code",
      "execution_count": null,
      "metadata": {
        "id": "bqeIO9ENy9FC"
      },
      "outputs": [],
      "source": [
        "# # Visualize the shapes of values in the dictionary\n",
        "# for key, value in embeddings_dictionary.items():\n",
        "#     if isinstance(value, np.ndarray):\n",
        "#         print(f'Key: {key}, Shape: {value.shape}')\n",
        "#     else:\n",
        "#         print(f'Key: {key}, Not a NumPy array')"
      ],
      "id": "bqeIO9ENy9FC"
    },
    {
      "cell_type": "code",
      "execution_count": null,
      "metadata": {
        "colab": {
          "base_uri": "https://localhost:8080/"
        },
        "id": "P8KYOAeFaV7t",
        "outputId": "636ef59b-b59c-4dd7-ca5d-aabae1b27d29"
      },
      "outputs": [
        {
          "name": "stdout",
          "output_type": "stream",
          "text": [
            "Original test: @Kenichan I dived many times for the ball. Managed to save 50%  The rest go out of bounds\n",
            "89       \n",
            "\n",
            "Preprocessed text: ['kenichan', 'dive', 'many', 'time', 'ball', 'manage', 'save', 'rest', 'go', 'bound']\n",
            "10       \n",
            "\n",
            "Tokenized Vectors: [[23928, 3560, 221, 11, 771, 983, 506, 335, 2, 2828]]\n",
            "1       \n",
            "\n",
            "Equal length (95%) Vectors: [[23928  3560   221    11   771   983   506   335     2  2828     0     0\n",
            "      0     0     0     0     0     0     0     0     0     0     0     0\n",
            "      0]]\n",
            "(1, 25)       \n",
            "\n",
            "Embedded Vectors: [[[ 0.        0.        0.       ...  0.        0.        0.      ]\n",
            "  [ 0.23603  -0.18022   0.42956  ... -0.24763   1.2351   -0.24891 ]\n",
            "  [ 0.6979    0.08234   0.041526 ...  0.037265 -0.60443  -0.64699 ]\n",
            "  ...\n",
            "  [ 0.        0.        0.       ...  0.        0.        0.      ]\n",
            "  [ 0.        0.        0.       ...  0.        0.        0.      ]\n",
            "  [ 0.        0.        0.       ...  0.        0.        0.      ]]]\n",
            "(1, 25, 50)\n"
          ]
        }
      ],
      "source": [
        "embedding_layer = Embedding(len(embedding_matrix), 50, weights=[embedding_matrix], input_length=25, trainable=False)\n",
        "\n",
        "test1 = movie_reviews[\"review\"][2]\n",
        "test2 = X[2]\n",
        "test3 = word_tokenizer.texts_to_sequences([test2])\n",
        "test4 = pad_sequences(test3, padding='post', truncating='post', maxlen=max_len)\n",
        "test5 = embedding_layer(test4)\n",
        "print(f\"Original test: {test1}\\n{len(test1)} \\\n",
        "      \\n\\nPreprocessed text: {test2}\\n{len(test2)} \\\n",
        "      \\n\\nTokenized Vectors: {test3}\\n{len(test3)} \\\n",
        "      \\n\\nEqual length (95%) Vectors: {test4}\\n{test4.shape} \\\n",
        "      \\n\\nEmbedded Vectors: {test5}\\n{test5.shape}\")"
      ],
      "id": "P8KYOAeFaV7t"
    },
    {
      "cell_type": "code",
      "execution_count": null,
      "metadata": {
        "id": "E-nGYEpkcSUE"
      },
      "outputs": [],
      "source": [
        "import pickle\n",
        "\n",
        "# saving\n",
        "with open('tokenizer.pkl', 'wb') as handle:\n",
        "    pickle.dump(word_tokenizer, handle, protocol=pickle.HIGHEST_PROTOCOL)"
      ],
      "id": "E-nGYEpkcSUE"
    },
    {
      "cell_type": "code",
      "source": [
        "!cp -r '/content/tokenizer.pkl' '/content/gdrive/MyDrive/ML'"
      ],
      "metadata": {
        "id": "oACILPJo5lxb"
      },
      "id": "oACILPJo5lxb",
      "execution_count": null,
      "outputs": []
    },
    {
      "cell_type": "code",
      "execution_count": null,
      "metadata": {
        "id": "aI3uj8FgayQy"
      },
      "outputs": [],
      "source": [
        "# X2 = word_tokenizer.texts_to_sequences(X)\n",
        "# X2 = pad_sequences(X2, padding='post', truncating='post', maxlen=max_len)\n",
        "# # X2 = embedding_layer(X2)\n",
        "\n",
        "# X2_train, X2_test, y2_train, y2_test = train_test_split(X2, y, test_size=0.20, random_state=42)"
      ],
      "id": "aI3uj8FgayQy"
    },
    {
      "cell_type": "markdown",
      "source": [
        "# Datasets"
      ],
      "metadata": {
        "id": "vkQY3tb6llo3"
      },
      "id": "vkQY3tb6llo3"
    },
    {
      "cell_type": "code",
      "execution_count": null,
      "metadata": {
        "id": "tv_IceOkVlj1"
      },
      "outputs": [],
      "source": [
        "# Turn our data into TensorFlow Datasets\n",
        "train_dataset = tf.data.Dataset.from_tensor_slices((X_train, y_train))\n",
        "valid_dataset = tf.data.Dataset.from_tensor_slices((X_test, y_test))\n",
        "\n",
        "# Take the TensorSliceDataset's and turn them into prefetched batches\n",
        "train_dataset = train_dataset.batch(512).prefetch(tf.data.AUTOTUNE)\n",
        "valid_dataset = valid_dataset.batch(512).prefetch(tf.data.AUTOTUNE)\n",
        "\n",
        "# train_dataset = train_dataset.batch(10).prefetch(tf.data.AUTOTUNE)\n",
        "# valid_dataset = valid_dataset.batch(10).prefetch(tf.data.AUTOTUNE)\n",
        "\n",
        "# 32 64 128 256 512"
      ],
      "id": "tv_IceOkVlj1"
    },
    {
      "cell_type": "markdown",
      "metadata": {
        "id": "ExyO01D4NpcS"
      },
      "source": [
        "# Mixed Precision"
      ],
      "id": "ExyO01D4NpcS"
    },
    {
      "cell_type": "code",
      "execution_count": null,
      "metadata": {
        "id": "VcRPuz7jNr_R"
      },
      "outputs": [],
      "source": [
        "from tensorflow.keras import mixed_precision\n",
        "\n",
        "mixed_precision.set_global_policy(\"mixed_float16\")"
      ],
      "id": "VcRPuz7jNr_R"
    },
    {
      "cell_type": "code",
      "execution_count": null,
      "metadata": {
        "colab": {
          "base_uri": "https://localhost:8080/"
        },
        "id": "kLyZrMxFN-9r",
        "outputId": "8f9609f8-ec6b-4db1-f716-a3878e14d4cc"
      },
      "outputs": [
        {
          "output_type": "execute_result",
          "data": {
            "text/plain": [
              "<Policy \"mixed_float16\">"
            ]
          },
          "metadata": {},
          "execution_count": 27
        }
      ],
      "source": [
        "mixed_precision.global_policy()"
      ],
      "id": "kLyZrMxFN-9r"
    },
    {
      "cell_type": "markdown",
      "metadata": {
        "id": "9d5a1066-5038-4c2d-844e-42c1b56bb015"
      },
      "source": [
        "# Model 1 (SVM)"
      ],
      "id": "9d5a1066-5038-4c2d-844e-42c1b56bb015"
    },
    {
      "cell_type": "markdown",
      "metadata": {
        "id": "feGR29h11poT"
      },
      "source": [
        "## Training"
      ],
      "id": "feGR29h11poT"
    },
    {
      "cell_type": "code",
      "source": [
        "from sklearn.feature_extraction.text import TfidfVectorizer\n",
        "from sklearn.naive_bayes import MultinomialNB\n",
        "from sklearn.pipeline import Pipeline\n",
        "\n",
        "# Create tokenization and modelling pipeline\n",
        "model_1 = Pipeline([\n",
        "                    (\"tfidf\", TfidfVectorizer()), # convert words to numbers using tfidf\n",
        "                    (\"clf\", MultinomialNB()) # model the text\n",
        "])\n",
        "\n",
        "# Fit the pipeline to the training data\n",
        "model_1.fit(X_train, y_train)"
      ],
      "metadata": {
        "colab": {
          "base_uri": "https://localhost:8080/",
          "height": 126
        },
        "id": "Y57vvi88XKrT",
        "outputId": "b5e88091-7c02-4ab0-d915-562fddac41c2"
      },
      "id": "Y57vvi88XKrT",
      "execution_count": null,
      "outputs": [
        {
          "output_type": "execute_result",
          "data": {
            "text/plain": [
              "Pipeline(steps=[('tfidf', TfidfVectorizer()), ('clf', MultinomialNB())])"
            ],
            "text/html": [
              "<style>#sk-container-id-2 {color: black;background-color: white;}#sk-container-id-2 pre{padding: 0;}#sk-container-id-2 div.sk-toggleable {background-color: white;}#sk-container-id-2 label.sk-toggleable__label {cursor: pointer;display: block;width: 100%;margin-bottom: 0;padding: 0.3em;box-sizing: border-box;text-align: center;}#sk-container-id-2 label.sk-toggleable__label-arrow:before {content: \"▸\";float: left;margin-right: 0.25em;color: #696969;}#sk-container-id-2 label.sk-toggleable__label-arrow:hover:before {color: black;}#sk-container-id-2 div.sk-estimator:hover label.sk-toggleable__label-arrow:before {color: black;}#sk-container-id-2 div.sk-toggleable__content {max-height: 0;max-width: 0;overflow: hidden;text-align: left;background-color: #f0f8ff;}#sk-container-id-2 div.sk-toggleable__content pre {margin: 0.2em;color: black;border-radius: 0.25em;background-color: #f0f8ff;}#sk-container-id-2 input.sk-toggleable__control:checked~div.sk-toggleable__content {max-height: 200px;max-width: 100%;overflow: auto;}#sk-container-id-2 input.sk-toggleable__control:checked~label.sk-toggleable__label-arrow:before {content: \"▾\";}#sk-container-id-2 div.sk-estimator input.sk-toggleable__control:checked~label.sk-toggleable__label {background-color: #d4ebff;}#sk-container-id-2 div.sk-label input.sk-toggleable__control:checked~label.sk-toggleable__label {background-color: #d4ebff;}#sk-container-id-2 input.sk-hidden--visually {border: 0;clip: rect(1px 1px 1px 1px);clip: rect(1px, 1px, 1px, 1px);height: 1px;margin: -1px;overflow: hidden;padding: 0;position: absolute;width: 1px;}#sk-container-id-2 div.sk-estimator {font-family: monospace;background-color: #f0f8ff;border: 1px dotted black;border-radius: 0.25em;box-sizing: border-box;margin-bottom: 0.5em;}#sk-container-id-2 div.sk-estimator:hover {background-color: #d4ebff;}#sk-container-id-2 div.sk-parallel-item::after {content: \"\";width: 100%;border-bottom: 1px solid gray;flex-grow: 1;}#sk-container-id-2 div.sk-label:hover label.sk-toggleable__label {background-color: #d4ebff;}#sk-container-id-2 div.sk-serial::before {content: \"\";position: absolute;border-left: 1px solid gray;box-sizing: border-box;top: 0;bottom: 0;left: 50%;z-index: 0;}#sk-container-id-2 div.sk-serial {display: flex;flex-direction: column;align-items: center;background-color: white;padding-right: 0.2em;padding-left: 0.2em;position: relative;}#sk-container-id-2 div.sk-item {position: relative;z-index: 1;}#sk-container-id-2 div.sk-parallel {display: flex;align-items: stretch;justify-content: center;background-color: white;position: relative;}#sk-container-id-2 div.sk-item::before, #sk-container-id-2 div.sk-parallel-item::before {content: \"\";position: absolute;border-left: 1px solid gray;box-sizing: border-box;top: 0;bottom: 0;left: 50%;z-index: -1;}#sk-container-id-2 div.sk-parallel-item {display: flex;flex-direction: column;z-index: 1;position: relative;background-color: white;}#sk-container-id-2 div.sk-parallel-item:first-child::after {align-self: flex-end;width: 50%;}#sk-container-id-2 div.sk-parallel-item:last-child::after {align-self: flex-start;width: 50%;}#sk-container-id-2 div.sk-parallel-item:only-child::after {width: 0;}#sk-container-id-2 div.sk-dashed-wrapped {border: 1px dashed gray;margin: 0 0.4em 0.5em 0.4em;box-sizing: border-box;padding-bottom: 0.4em;background-color: white;}#sk-container-id-2 div.sk-label label {font-family: monospace;font-weight: bold;display: inline-block;line-height: 1.2em;}#sk-container-id-2 div.sk-label-container {text-align: center;}#sk-container-id-2 div.sk-container {/* jupyter's `normalize.less` sets `[hidden] { display: none; }` but bootstrap.min.css set `[hidden] { display: none !important; }` so we also need the `!important` here to be able to override the default hidden behavior on the sphinx rendered scikit-learn.org. See: https://github.com/scikit-learn/scikit-learn/issues/21755 */display: inline-block !important;position: relative;}#sk-container-id-2 div.sk-text-repr-fallback {display: none;}</style><div id=\"sk-container-id-2\" class=\"sk-top-container\"><div class=\"sk-text-repr-fallback\"><pre>Pipeline(steps=[(&#x27;tfidf&#x27;, TfidfVectorizer()), (&#x27;clf&#x27;, MultinomialNB())])</pre><b>In a Jupyter environment, please rerun this cell to show the HTML representation or trust the notebook. <br />On GitHub, the HTML representation is unable to render, please try loading this page with nbviewer.org.</b></div><div class=\"sk-container\" hidden><div class=\"sk-item sk-dashed-wrapped\"><div class=\"sk-label-container\"><div class=\"sk-label sk-toggleable\"><input class=\"sk-toggleable__control sk-hidden--visually\" id=\"sk-estimator-id-4\" type=\"checkbox\" ><label for=\"sk-estimator-id-4\" class=\"sk-toggleable__label sk-toggleable__label-arrow\">Pipeline</label><div class=\"sk-toggleable__content\"><pre>Pipeline(steps=[(&#x27;tfidf&#x27;, TfidfVectorizer()), (&#x27;clf&#x27;, MultinomialNB())])</pre></div></div></div><div class=\"sk-serial\"><div class=\"sk-item\"><div class=\"sk-estimator sk-toggleable\"><input class=\"sk-toggleable__control sk-hidden--visually\" id=\"sk-estimator-id-5\" type=\"checkbox\" ><label for=\"sk-estimator-id-5\" class=\"sk-toggleable__label sk-toggleable__label-arrow\">TfidfVectorizer</label><div class=\"sk-toggleable__content\"><pre>TfidfVectorizer()</pre></div></div></div><div class=\"sk-item\"><div class=\"sk-estimator sk-toggleable\"><input class=\"sk-toggleable__control sk-hidden--visually\" id=\"sk-estimator-id-6\" type=\"checkbox\" ><label for=\"sk-estimator-id-6\" class=\"sk-toggleable__label sk-toggleable__label-arrow\">MultinomialNB</label><div class=\"sk-toggleable__content\"><pre>MultinomialNB()</pre></div></div></div></div></div></div></div>"
            ]
          },
          "metadata": {},
          "execution_count": 33
        }
      ]
    },
    {
      "cell_type": "markdown",
      "metadata": {
        "id": "mF2-likZ-eDr"
      },
      "source": [
        "## Evaluating & Visualizing"
      ],
      "id": "mF2-likZ-eDr"
    },
    {
      "cell_type": "code",
      "execution_count": null,
      "metadata": {
        "id": "wSCFBu9aWtwE",
        "colab": {
          "base_uri": "https://localhost:8080/"
        },
        "outputId": "c2097e6e-17bc-4ab2-fb97-93f02516468c"
      },
      "outputs": [
        {
          "output_type": "stream",
          "name": "stdout",
          "text": [
            "Our baseline model achieves an accuracy of: 75.63%\n"
          ]
        }
      ],
      "source": [
        "score_1 = model_1.score(X_test, y_test)\n",
        "print(f\"Our baseline model achieves an accuracy of: {score_1*100:.2f}%\")"
      ],
      "id": "wSCFBu9aWtwE"
    },
    {
      "cell_type": "markdown",
      "metadata": {
        "id": "R7jB0EMuVWW-"
      },
      "source": [
        "# Model 2 (DNN)"
      ],
      "id": "R7jB0EMuVWW-"
    },
    {
      "cell_type": "markdown",
      "metadata": {
        "id": "AkS1IV3gNFOm"
      },
      "source": [
        "## Hyperparameter Tuning"
      ],
      "id": "AkS1IV3gNFOm"
    },
    {
      "cell_type": "code",
      "execution_count": null,
      "metadata": {
        "id": "rbxvOZUbpR2V"
      },
      "outputs": [],
      "source": [
        "def model_builder(hp):\n",
        "  tf.random.set_seed(42)\n",
        "  embedding_layer = Embedding(vocab_length, 50, weights=[embedding_matrix], input_length=25 , trainable=False)\n",
        "\n",
        "  hp_activation = hp.Choice('activation', values=['relu', 'tanh', 'linear'])\n",
        "  hp_layer_1 = hp.Int(\"units\", min_value=32, max_value=512, step=32)\n",
        "  hp_learning_rate = hp.Choice('learning_rate', values=[1e-2, 1e-3, 1e-4])\n",
        "\n",
        "  inputs = layers.Input(shape=(25), dtype=\"int32\")\n",
        "  x = embedding_layer(inputs)\n",
        "  x = layers.Dense(units=hp_layer_1, activation=hp_activation)(x)\n",
        "  outputs = layers.Dense(1, activation=\"sigmoid\")(x)\n",
        "  model = tf.keras.Model(inputs, outputs, name=\"model_2_DNN\")\n",
        "\n",
        "  model.compile(optimizer=tf.keras.optimizers.Adam(learning_rate=hp_learning_rate), loss='binary_crossentropy', metrics=['acc'])\n",
        "  return model"
      ],
      "id": "rbxvOZUbpR2V"
    },
    {
      "cell_type": "code",
      "execution_count": null,
      "metadata": {
        "colab": {
          "base_uri": "https://localhost:8080/"
        },
        "id": "uTASmeGzpVYz",
        "outputId": "8d59d4ae-25f7-4a0d-8cc9-52b8088e0e0c"
      },
      "outputs": [
        {
          "name": "stdout",
          "output_type": "stream",
          "text": [
            "Reloading Tuner from dir/model_2_DNN/tuner0.json\n"
          ]
        }
      ],
      "source": [
        "import keras_tuner as kt\n",
        "\n",
        "tuner = kt.Hyperband(model_builder,\n",
        "                     objective='val_acc',\n",
        "                     max_epochs=10,\n",
        "                     factor=3,\n",
        "                     directory='dir',\n",
        "                     project_name='model_2_DNN')"
      ],
      "id": "uTASmeGzpVYz"
    },
    {
      "cell_type": "code",
      "execution_count": null,
      "metadata": {
        "colab": {
          "base_uri": "https://localhost:8080/"
        },
        "id": "xSOrTZNTpSTr",
        "outputId": "0055692c-ef0e-4513-e09a-8c2c2a995796"
      },
      "outputs": [
        {
          "name": "stdout",
          "output_type": "stream",
          "text": [
            "Trial 26 Complete [00h 07m 24s]\n",
            "val_acc: 0.5219607949256897\n",
            "\n",
            "Best val_acc So Far: 0.5307832956314087\n",
            "Total elapsed time: 01h 39m 12s\n"
          ]
        }
      ],
      "source": [
        "tuner.search(train_dataset,\n",
        "             steps_per_epoch=int(0.15 * len(train_dataset)),\n",
        "             epochs=20,\n",
        "             validation_data = valid_dataset,\n",
        "             validation_split=int(0.15 * len(valid_dataset)),\n",
        "             callbacks=[early_stopping])"
      ],
      "id": "xSOrTZNTpSTr"
    },
    {
      "cell_type": "code",
      "execution_count": null,
      "metadata": {
        "colab": {
          "base_uri": "https://localhost:8080/"
        },
        "id": "zSlKfBVwGRb3",
        "outputId": "a308645e-db42-4180-e340-dcffba46826e"
      },
      "outputs": [
        {
          "name": "stdout",
          "output_type": "stream",
          "text": [
            "Results summary\n",
            "Results in dir/model_2_DNN\n",
            "Showing 10 best trials\n",
            "Objective(name=\"val_acc\", direction=\"max\")\n",
            "\n",
            "Trial 0023 summary\n",
            "Hyperparameters:\n",
            "activation: relu\n",
            "units: 480\n",
            "learning_rate: 0.0001\n",
            "tuner/epochs: 10\n",
            "tuner/initial_epoch: 0\n",
            "tuner/bracket: 0\n",
            "tuner/round: 0\n",
            "Score: 0.5307832956314087\n",
            "\n",
            "Trial 0012 summary\n",
            "Hyperparameters:\n",
            "activation: relu\n",
            "units: 32\n",
            "learning_rate: 0.001\n",
            "tuner/epochs: 4\n",
            "tuner/initial_epoch: 2\n",
            "tuner/bracket: 2\n",
            "tuner/round: 1\n",
            "tuner/trial_id: 0007\n",
            "Score: 0.52843177318573\n",
            "\n",
            "Trial 0013 summary\n",
            "Hyperparameters:\n",
            "activation: relu\n",
            "units: 160\n",
            "learning_rate: 0.0001\n",
            "tuner/epochs: 4\n",
            "tuner/initial_epoch: 2\n",
            "tuner/bracket: 2\n",
            "tuner/round: 1\n",
            "tuner/trial_id: 0008\n",
            "Score: 0.5282968878746033\n",
            "\n",
            "Trial 0007 summary\n",
            "Hyperparameters:\n",
            "activation: relu\n",
            "units: 32\n",
            "learning_rate: 0.001\n",
            "tuner/epochs: 2\n",
            "tuner/initial_epoch: 0\n",
            "tuner/bracket: 2\n",
            "tuner/round: 0\n",
            "Score: 0.5277373790740967\n",
            "\n",
            "Trial 0008 summary\n",
            "Hyperparameters:\n",
            "activation: relu\n",
            "units: 160\n",
            "learning_rate: 0.0001\n",
            "tuner/epochs: 2\n",
            "tuner/initial_epoch: 0\n",
            "tuner/bracket: 2\n",
            "tuner/round: 0\n",
            "Score: 0.5276427865028381\n",
            "\n",
            "Trial 0020 summary\n",
            "Hyperparameters:\n",
            "activation: tanh\n",
            "units: 128\n",
            "learning_rate: 0.01\n",
            "tuner/epochs: 10\n",
            "tuner/initial_epoch: 4\n",
            "tuner/bracket: 1\n",
            "tuner/round: 1\n",
            "tuner/trial_id: 0019\n",
            "Score: 0.527458667755127\n",
            "\n",
            "Trial 0005 summary\n",
            "Hyperparameters:\n",
            "activation: tanh\n",
            "units: 352\n",
            "learning_rate: 0.001\n",
            "tuner/epochs: 2\n",
            "tuner/initial_epoch: 0\n",
            "tuner/bracket: 2\n",
            "tuner/round: 0\n",
            "Score: 0.5271662473678589\n",
            "\n",
            "Trial 0003 summary\n",
            "Hyperparameters:\n",
            "activation: relu\n",
            "units: 128\n",
            "learning_rate: 0.0001\n",
            "tuner/epochs: 2\n",
            "tuner/initial_epoch: 0\n",
            "tuner/bracket: 2\n",
            "tuner/round: 0\n",
            "Score: 0.5270047187805176\n",
            "\n",
            "Trial 0019 summary\n",
            "Hyperparameters:\n",
            "activation: tanh\n",
            "units: 128\n",
            "learning_rate: 0.01\n",
            "tuner/epochs: 4\n",
            "tuner/initial_epoch: 0\n",
            "tuner/bracket: 1\n",
            "tuner/round: 0\n",
            "Score: 0.52691650390625\n",
            "\n",
            "Trial 0021 summary\n",
            "Hyperparameters:\n",
            "activation: tanh\n",
            "units: 192\n",
            "learning_rate: 0.01\n",
            "tuner/epochs: 10\n",
            "tuner/initial_epoch: 4\n",
            "tuner/bracket: 1\n",
            "tuner/round: 1\n",
            "tuner/trial_id: 0015\n",
            "Score: 0.5266681909561157\n"
          ]
        }
      ],
      "source": [
        "tuner.results_summary(num_trials=10)"
      ],
      "id": "zSlKfBVwGRb3"
    },
    {
      "cell_type": "code",
      "execution_count": null,
      "metadata": {
        "id": "rFZY21WEpaWj"
      },
      "outputs": [],
      "source": [
        "best_hps = tuner.get_best_hyperparameters(num_trials=1)[0]"
      ],
      "id": "rFZY21WEpaWj"
    },
    {
      "cell_type": "code",
      "execution_count": null,
      "metadata": {
        "id": "qTwVKv4Rpkfo"
      },
      "outputs": [],
      "source": [
        "model_2 = tuner.hypermodel.build(best_hps)"
      ],
      "id": "qTwVKv4Rpkfo"
    },
    {
      "cell_type": "code",
      "execution_count": null,
      "metadata": {
        "colab": {
          "base_uri": "https://localhost:8080/"
        },
        "id": "aI5w95wFpqv7",
        "outputId": "eb4a384e-52d8-4959-d27d-a73d6184e509"
      },
      "outputs": [
        {
          "name": "stdout",
          "output_type": "stream",
          "text": [
            "Model: \"model_2_DNN\"\n",
            "_________________________________________________________________\n",
            " Layer (type)                Output Shape              Param #   \n",
            "=================================================================\n",
            " input_3 (InputLayer)        [(None, 25)]              0         \n",
            "                                                                 \n",
            " embedding_2 (Embedding)     (None, 25, 50)            28679650  \n",
            "                                                                 \n",
            " dense_4 (Dense)             (None, 25, 480)           24480     \n",
            "                                                                 \n",
            " dense_5 (Dense)             (None, 25, 1)             481       \n",
            "                                                                 \n",
            "=================================================================\n",
            "Total params: 28704611 (109.50 MB)\n",
            "Trainable params: 24961 (97.50 KB)\n",
            "Non-trainable params: 28679650 (109.40 MB)\n",
            "_________________________________________________________________\n"
          ]
        }
      ],
      "source": [
        "model_2.summary()"
      ],
      "id": "aI5w95wFpqv7"
    },
    {
      "cell_type": "markdown",
      "metadata": {
        "id": "x7rAWd-B_zuN"
      },
      "source": [
        "## Training"
      ],
      "id": "x7rAWd-B_zuN"
    },
    {
      "cell_type": "code",
      "execution_count": null,
      "metadata": {
        "id": "jCeNp3Y8ePxy"
      },
      "outputs": [],
      "source": [
        "# Neural Network architecture\n",
        "from tensorflow.keras import layers\n",
        "import numpy as np\n",
        "\n",
        "tf.random.set_seed(42)\n",
        "embedding_layer = Embedding(vocab_length, 50, weights=[embedding_matrix], input_length=25 , trainable=False)\n",
        "\n",
        "inputs = layers.Input(shape=(25), dtype=\"int32\")\n",
        "x = embedding_layer(inputs)\n",
        "x = layers.Dense(128, activation=\"relu\")(x)\n",
        "outputs = layers.Dense(1, activation=\"sigmoid\")(x)\n",
        "model_2 = tf.keras.Model(inputs, outputs, name=\"model_2_DNN\")\n",
        "\n",
        "model_2.compile(optimizer=tf.keras.optimizers.Adam(learning_rate=1e-4), loss='binary_crossentropy', metrics=['acc'])"
      ],
      "id": "jCeNp3Y8ePxy"
    },
    {
      "cell_type": "code",
      "execution_count": null,
      "metadata": {
        "colab": {
          "base_uri": "https://localhost:8080/"
        },
        "id": "-l1w7_Hpee56",
        "outputId": "f8a540e9-ccdd-496f-af88-81e14e5b62fc"
      },
      "outputs": [
        {
          "name": "stdout",
          "output_type": "stream",
          "text": [
            "Model: \"model_2_DNN\"\n",
            "_________________________________________________________________\n",
            " Layer (type)                Output Shape              Param #   \n",
            "=================================================================\n",
            " input_4 (InputLayer)        [(None, 25)]              0         \n",
            "                                                                 \n",
            " embedding_3 (Embedding)     (None, 25, 50)            28679650  \n",
            "                                                                 \n",
            " dense_6 (Dense)             (None, 25, 128)           6528      \n",
            "                                                                 \n",
            " dense_7 (Dense)             (None, 25, 1)             129       \n",
            "                                                                 \n",
            "=================================================================\n",
            "Total params: 28686307 (109.43 MB)\n",
            "Trainable params: 6657 (26.00 KB)\n",
            "Non-trainable params: 28679650 (109.40 MB)\n",
            "_________________________________________________________________\n"
          ]
        }
      ],
      "source": [
        "model_2.summary()"
      ],
      "id": "-l1w7_Hpee56"
    },
    {
      "cell_type": "code",
      "execution_count": null,
      "metadata": {
        "colab": {
          "base_uri": "https://localhost:8080/"
        },
        "id": "pmDIwDU4eiL0",
        "outputId": "795b6ef0-b424-4d2b-e2b4-4e8d9a1c2d97"
      },
      "outputs": [
        {
          "name": "stdout",
          "output_type": "stream",
          "text": [
            "Saving TensorBoard log files to: tensorflow_hub/DNN_50D_1L/20231217-094735\n",
            "Epoch 1/20\n",
            "5998/5998 [==============================] - 29s 5ms/step - loss: 0.6878 - acc: 0.5229 - val_loss: 0.6863 - val_acc: 0.5231 - lr: 1.0000e-04\n",
            "Epoch 2/20\n",
            "5998/5998 [==============================] - 28s 5ms/step - loss: 0.6858 - acc: 0.5231 - val_loss: 0.6853 - val_acc: 0.5248 - lr: 1.0000e-04\n",
            "Epoch 3/20\n",
            "5998/5998 [==============================] - 35s 6ms/step - loss: 0.6851 - acc: 0.5257 - val_loss: 0.6851 - val_acc: 0.5258 - lr: 1.0000e-04\n",
            "Epoch 4/20\n",
            "5998/5998 [==============================] - 36s 6ms/step - loss: 0.6847 - acc: 0.5259 - val_loss: 0.6845 - val_acc: 0.5264 - lr: 1.0000e-04\n",
            "Epoch 5/20\n",
            "5998/5998 [==============================] - 53s 9ms/step - loss: 0.6845 - acc: 0.5279 - val_loss: 0.6844 - val_acc: 0.5266 - lr: 1.0000e-04\n",
            "Epoch 6/20\n",
            "5998/5998 [==============================] - 39s 7ms/step - loss: 0.6843 - acc: 0.5280 - val_loss: 0.6842 - val_acc: 0.5269 - lr: 1.0000e-04\n",
            "Epoch 7/20\n",
            "4000/5998 [===================>..........] - ETA: 9s - loss: 0.6842 - acc: 0.5276"
          ]
        },
        {
          "name": "stderr",
          "output_type": "stream",
          "text": [
            "WARNING:tensorflow:Your input ran out of data; interrupting training. Make sure that your dataset or generator can generate at least `steps_per_epoch * epochs` batches (in this case, 119960 batches). You may need to use the repeat() function when building your dataset.\n"
          ]
        },
        {
          "name": "stdout",
          "output_type": "stream",
          "text": [
            "\b\b\b\b\b\b\b\b\b\b\b\b\b\b\b\b\b\b\b\b\b\b\b\b\b\b\b\b\b\b\b\b\b\b\b\b\b\b\b\b\b\b\b\b\b\b\b\b\b\b\b\b\b\b\b\b\b\b\b\b\b\b\b\b\b\b\b\b\b\b\b\b\b\b\b\b\b\b\b\b\b\r5998/5998 [==============================] - 24s 4ms/step - loss: 0.6842 - acc: 0.5276 - val_loss: 0.6841 - val_acc: 0.5266 - lr: 1.0000e-04\n"
          ]
        }
      ],
      "source": [
        "# Fit model\n",
        "model_2_history = model_2.fit(train_dataset,\n",
        "                              steps_per_epoch=int(0.15 * len(train_dataset)), # only fit on 10% of batches for faster training time\n",
        "                              epochs=20,\n",
        "                              validation_data=valid_dataset,\n",
        "                              validation_steps=int(0.15 * len(valid_dataset)),\n",
        "                              callbacks=[early_stopping,\n",
        "                                         reduce_lr,\n",
        "                                         create_model_checkpoint(model_name=\"DNN_50D_1L\"),\n",
        "                                         create_tensorboard_callback(dir_name=\"tensorflow_hub\",\n",
        "                                                                     experiment_name=\"DNN_50D_1L\")])"
      ],
      "id": "pmDIwDU4eiL0"
    },
    {
      "cell_type": "markdown",
      "metadata": {
        "id": "dOjxeh1v_3l1"
      },
      "source": [
        "## Evaluating & Visualizing"
      ],
      "id": "dOjxeh1v_3l1"
    },
    {
      "cell_type": "code",
      "execution_count": null,
      "metadata": {
        "colab": {
          "base_uri": "https://localhost:8080/"
        },
        "id": "nPwilT48ijvR",
        "outputId": "5fc0af8e-ebb5-496a-ca1f-aacc695699db"
      },
      "outputs": [
        {
          "name": "stdout",
          "output_type": "stream",
          "text": [
            "9997/9997 [==============================] - 31s 3ms/step - loss: 0.6839 - acc: 0.5293\n"
          ]
        }
      ],
      "source": [
        "score_2 = model_2.evaluate(X_test, y_test, verbose=1)"
      ],
      "id": "nPwilT48ijvR"
    },
    {
      "cell_type": "markdown",
      "metadata": {
        "id": "TTSM-vDD_6VV"
      },
      "source": [
        "# Model 3 (LSTM)"
      ],
      "id": "TTSM-vDD_6VV"
    },
    {
      "cell_type": "markdown",
      "metadata": {
        "id": "-LIic3zNNOfK"
      },
      "source": [
        "## Hyperparameter Tuning"
      ],
      "id": "-LIic3zNNOfK"
    },
    {
      "cell_type": "code",
      "execution_count": null,
      "metadata": {
        "id": "mM5T9oBBLasu"
      },
      "outputs": [],
      "source": [
        "def model_builder(hp):\n",
        "  tf.random.set_seed(42)\n",
        "  embedding_layer = Embedding(vocab_length, 50, weights=[embedding_matrix], input_length=25 , trainable=False)\n",
        "\n",
        "  hp_layer_1 = hp.Int(\"units\", min_value=32, max_value=256, step=32)\n",
        "  hp_learning_rate = hp.Choice('learning_rate', values=[1e-2, 1e-3, 1e-4])\n",
        "\n",
        "  inputs = layers.Input(shape=(25), dtype=\"int32\")\n",
        "  x = embedding_layer(inputs)\n",
        "  x = layers.LSTM(units=hp_layer_1)(x)\n",
        "  outputs = layers.Dense(1, activation=\"sigmoid\")(x)\n",
        "  model = tf.keras.Model(inputs, outputs, name=\"model_3_LSTM\")\n",
        "\n",
        "  model.compile(optimizer=tf.keras.optimizers.Adam(learning_rate=hp_learning_rate), loss='binary_crossentropy', metrics=['acc'])\n",
        "  return model"
      ],
      "id": "mM5T9oBBLasu"
    },
    {
      "cell_type": "code",
      "execution_count": null,
      "metadata": {
        "id": "gUEltIYnLehU"
      },
      "outputs": [],
      "source": [
        "import keras_tuner as kt\n",
        "\n",
        "tuner = kt.Hyperband(model_builder,\n",
        "                     objective='val_acc',\n",
        "                     max_epochs=10,\n",
        "                     factor=3,\n",
        "                     directory='dir',\n",
        "                     project_name='model_4_LSTM')"
      ],
      "id": "gUEltIYnLehU"
    },
    {
      "cell_type": "code",
      "execution_count": null,
      "metadata": {
        "colab": {
          "base_uri": "https://localhost:8080/"
        },
        "id": "t7SozwTwLlC7",
        "outputId": "b7ec4b14-e432-43fa-85d6-e0aaa8555d48"
      },
      "outputs": [
        {
          "name": "stdout",
          "output_type": "stream",
          "text": [
            "Trial 30 Complete [00h 08m 25s]\n",
            "val_acc: 0.7319114208221436\n",
            "\n",
            "Best val_acc So Far: 0.7757973074913025\n",
            "Total elapsed time: 02h 05m 08s\n"
          ]
        }
      ],
      "source": [
        "tuner.search(train_dataset,\n",
        "             steps_per_epoch=int(0.15 * len(train_dataset)),\n",
        "             epochs=20,\n",
        "             validation_data = valid_dataset,\n",
        "             validation_split=int(0.15 * len(valid_dataset)),\n",
        "             callbacks=[early_stopping])"
      ],
      "id": "t7SozwTwLlC7"
    },
    {
      "cell_type": "code",
      "execution_count": null,
      "metadata": {
        "colab": {
          "base_uri": "https://localhost:8080/"
        },
        "id": "1_uUrZLfltdl",
        "outputId": "b6ebdfaf-c3af-41b5-b27a-7c35765512ab"
      },
      "outputs": [
        {
          "name": "stdout",
          "output_type": "stream",
          "text": [
            "Results summary\n",
            "Results in dir/model_4_LSTM\n",
            "Showing 10 best trials\n",
            "Objective(name=\"val_acc\", direction=\"max\")\n",
            "\n",
            "Trial 0017 summary\n",
            "Hyperparameters:\n",
            "units: 256\n",
            "learning_rate: 0.001\n",
            "tuner/epochs: 10\n",
            "tuner/initial_epoch: 4\n",
            "tuner/bracket: 2\n",
            "tuner/round: 2\n",
            "tuner/trial_id: 0015\n",
            "Score: 0.7757973074913025\n",
            "\n",
            "Trial 0016 summary\n",
            "Hyperparameters:\n",
            "units: 224\n",
            "learning_rate: 0.001\n",
            "tuner/epochs: 10\n",
            "tuner/initial_epoch: 4\n",
            "tuner/bracket: 2\n",
            "tuner/round: 2\n",
            "tuner/trial_id: 0012\n",
            "Score: 0.7752971053123474\n",
            "\n",
            "Trial 0024 summary\n",
            "Hyperparameters:\n",
            "units: 160\n",
            "learning_rate: 0.001\n",
            "tuner/epochs: 10\n",
            "tuner/initial_epoch: 4\n",
            "tuner/bracket: 1\n",
            "tuner/round: 1\n",
            "tuner/trial_id: 0019\n",
            "Score: 0.7743687033653259\n",
            "\n",
            "Trial 0025 summary\n",
            "Hyperparameters:\n",
            "units: 128\n",
            "learning_rate: 0.001\n",
            "tuner/epochs: 10\n",
            "tuner/initial_epoch: 4\n",
            "tuner/bracket: 1\n",
            "tuner/round: 1\n",
            "tuner/trial_id: 0018\n",
            "Score: 0.7729495167732239\n",
            "\n",
            "Trial 0012 summary\n",
            "Hyperparameters:\n",
            "units: 224\n",
            "learning_rate: 0.001\n",
            "tuner/epochs: 4\n",
            "tuner/initial_epoch: 2\n",
            "tuner/bracket: 2\n",
            "tuner/round: 1\n",
            "tuner/trial_id: 0004\n",
            "Score: 0.7618303298950195\n",
            "\n",
            "Trial 0015 summary\n",
            "Hyperparameters:\n",
            "units: 256\n",
            "learning_rate: 0.001\n",
            "tuner/epochs: 4\n",
            "tuner/initial_epoch: 2\n",
            "tuner/bracket: 2\n",
            "tuner/round: 1\n",
            "tuner/trial_id: 0000\n",
            "Score: 0.7609331607818604\n",
            "\n",
            "Trial 0013 summary\n",
            "Hyperparameters:\n",
            "units: 192\n",
            "learning_rate: 0.001\n",
            "tuner/epochs: 4\n",
            "tuner/initial_epoch: 2\n",
            "tuner/bracket: 2\n",
            "tuner/round: 1\n",
            "tuner/trial_id: 0001\n",
            "Score: 0.7600798010826111\n",
            "\n",
            "Trial 0019 summary\n",
            "Hyperparameters:\n",
            "units: 160\n",
            "learning_rate: 0.001\n",
            "tuner/epochs: 4\n",
            "tuner/initial_epoch: 0\n",
            "tuner/bracket: 1\n",
            "tuner/round: 0\n",
            "Score: 0.7590325474739075\n",
            "\n",
            "Trial 0018 summary\n",
            "Hyperparameters:\n",
            "units: 128\n",
            "learning_rate: 0.001\n",
            "tuner/epochs: 4\n",
            "tuner/initial_epoch: 0\n",
            "tuner/bracket: 1\n",
            "tuner/round: 0\n",
            "Score: 0.7579790949821472\n",
            "\n",
            "Trial 0014 summary\n",
            "Hyperparameters:\n",
            "units: 96\n",
            "learning_rate: 0.001\n",
            "tuner/epochs: 4\n",
            "tuner/initial_epoch: 2\n",
            "tuner/bracket: 2\n",
            "tuner/round: 1\n",
            "tuner/trial_id: 0007\n",
            "Score: 0.7578572034835815\n"
          ]
        }
      ],
      "source": [
        "tuner.results_summary(num_trials=10)"
      ],
      "id": "1_uUrZLfltdl"
    },
    {
      "cell_type": "code",
      "execution_count": null,
      "metadata": {
        "colab": {
          "base_uri": "https://localhost:8080/"
        },
        "id": "NZH5NwogMBs2",
        "outputId": "c8c729d8-b6ae-4707-8d70-4c5a9d8be31a"
      },
      "outputs": [
        {
          "name": "stdout",
          "output_type": "stream",
          "text": [
            "Results summary\n",
            "Results in dir/model_3_LSTM\n",
            "Showing 10 best trials\n",
            "Objective(name=\"val_acc\", direction=\"max\")\n",
            "\n",
            "Trial 0005 summary\n",
            "Hyperparameters:\n",
            "units: 128\n",
            "learning_rate: 0.001\n",
            "tuner/epochs: 5\n",
            "tuner/initial_epoch: 2\n",
            "tuner/bracket: 1\n",
            "tuner/round: 1\n",
            "tuner/trial_id: 0004\n",
            "Score: 0.7635340094566345\n",
            "\n",
            "Trial 0009 summary\n",
            "Hyperparameters:\n",
            "units: 96\n",
            "learning_rate: 0.001\n",
            "tuner/epochs: 5\n",
            "tuner/initial_epoch: 0\n",
            "tuner/bracket: 0\n",
            "tuner/round: 0\n",
            "Score: 0.7624180316925049\n",
            "\n",
            "Trial 0006 summary\n",
            "Hyperparameters:\n",
            "units: 64\n",
            "learning_rate: 0.001\n",
            "tuner/epochs: 5\n",
            "tuner/initial_epoch: 2\n",
            "tuner/bracket: 1\n",
            "tuner/round: 1\n",
            "tuner/trial_id: 0003\n",
            "Score: 0.7606924772262573\n",
            "\n",
            "Trial 0004 summary\n",
            "Hyperparameters:\n",
            "units: 128\n",
            "learning_rate: 0.001\n",
            "tuner/epochs: 2\n",
            "tuner/initial_epoch: 0\n",
            "tuner/bracket: 1\n",
            "tuner/round: 0\n",
            "Score: 0.7455095052719116\n",
            "\n",
            "Trial 0003 summary\n",
            "Hyperparameters:\n",
            "units: 64\n",
            "learning_rate: 0.001\n",
            "tuner/epochs: 2\n",
            "tuner/initial_epoch: 0\n",
            "tuner/bracket: 1\n",
            "tuner/round: 0\n",
            "Score: 0.7421771883964539\n",
            "\n",
            "Trial 0008 summary\n",
            "Hyperparameters:\n",
            "units: 224\n",
            "learning_rate: 0.01\n",
            "tuner/epochs: 5\n",
            "tuner/initial_epoch: 0\n",
            "tuner/bracket: 0\n",
            "tuner/round: 0\n",
            "Score: 0.7397608160972595\n",
            "\n",
            "Trial 0002 summary\n",
            "Hyperparameters:\n",
            "units: 128\n",
            "learning_rate: 0.01\n",
            "tuner/epochs: 2\n",
            "tuner/initial_epoch: 0\n",
            "tuner/bracket: 1\n",
            "tuner/round: 0\n",
            "Score: 0.738532304763794\n",
            "\n",
            "Trial 0007 summary\n",
            "Hyperparameters:\n",
            "units: 192\n",
            "learning_rate: 0.0001\n",
            "tuner/epochs: 5\n",
            "tuner/initial_epoch: 0\n",
            "tuner/bracket: 0\n",
            "tuner/round: 0\n",
            "Score: 0.7314894199371338\n",
            "\n",
            "Trial 0000 summary\n",
            "Hyperparameters:\n",
            "units: 128\n",
            "learning_rate: 0.0001\n",
            "tuner/epochs: 2\n",
            "tuner/initial_epoch: 0\n",
            "tuner/bracket: 1\n",
            "tuner/round: 0\n",
            "Score: 0.7194386720657349\n",
            "\n",
            "Trial 0001 summary\n",
            "Hyperparameters:\n",
            "units: 160\n",
            "learning_rate: 0.0001\n",
            "tuner/epochs: 2\n",
            "tuner/initial_epoch: 0\n",
            "tuner/bracket: 1\n",
            "tuner/round: 0\n",
            "Score: 0.7192823886871338\n"
          ]
        }
      ],
      "source": [
        "tuner.results_summary(num_trials=10)"
      ],
      "id": "NZH5NwogMBs2"
    },
    {
      "cell_type": "code",
      "execution_count": null,
      "metadata": {
        "id": "EGyJb215MCQN"
      },
      "outputs": [],
      "source": [
        "best_hps = tuner.get_best_hyperparameters(num_trials=1)[0]"
      ],
      "id": "EGyJb215MCQN"
    },
    {
      "cell_type": "code",
      "execution_count": null,
      "metadata": {
        "id": "BN-ltxX3MGKk"
      },
      "outputs": [],
      "source": [
        "model_3 = tuner.hypermodel.build(best_hps)"
      ],
      "id": "BN-ltxX3MGKk"
    },
    {
      "cell_type": "code",
      "execution_count": null,
      "metadata": {
        "colab": {
          "base_uri": "https://localhost:8080/"
        },
        "id": "1FuGKUrGMJVB",
        "outputId": "89580734-a604-44af-8fe6-d0951d68dc20"
      },
      "outputs": [
        {
          "name": "stdout",
          "output_type": "stream",
          "text": [
            "Model: \"model_3_LSTM\"\n",
            "_________________________________________________________________\n",
            " Layer (type)                Output Shape              Param #   \n",
            "=================================================================\n",
            " input_2 (InputLayer)        [(None, 25)]              0         \n",
            "                                                                 \n",
            " embedding_1 (Embedding)     (None, 25, 50)            28679650  \n",
            "                                                                 \n",
            " lstm_1 (LSTM)               (None, 128)               91648     \n",
            "                                                                 \n",
            " dense_1 (Dense)             (None, 1)                 129       \n",
            "                                                                 \n",
            "=================================================================\n",
            "Total params: 28771427 (109.75 MB)\n",
            "Trainable params: 91777 (358.50 KB)\n",
            "Non-trainable params: 28679650 (109.40 MB)\n",
            "_________________________________________________________________\n"
          ]
        }
      ],
      "source": [
        "model_3.summary()"
      ],
      "id": "1FuGKUrGMJVB"
    },
    {
      "cell_type": "markdown",
      "metadata": {
        "id": "Uw94_Ji__9V9"
      },
      "source": [
        "## Training"
      ],
      "id": "Uw94_Ji__9V9"
    },
    {
      "cell_type": "code",
      "execution_count": null,
      "metadata": {
        "id": "Q2gwoGjkd3aE"
      },
      "outputs": [],
      "source": [
        "# Neural Network architecture\n",
        "from tensorflow.keras import layers\n",
        "import numpy as np\n",
        "\n",
        "tf.random.set_seed(42)\n",
        "embedding_layer = Embedding(vocab_length, 50, weights=[embedding_matrix], input_length=25 , trainable=False)\n",
        "\n",
        "inputs = layers.Input(shape=(25,), dtype=\"int32\")\n",
        "x = embedding_layer(inputs)\n",
        "x = layers.LSTM(64, return_sequences=True, dropout=0.2)(x)\n",
        "x = layers.LSTM(64, kernel_regularizer='l1', return_sequences=True, dropout=0.2)(x)\n",
        "# x = layers.LSTM(128)(x)\n",
        "outputs = layers.Dense(1, activation=\"sigmoid\", dtype=tf.float32)(x)\n",
        "model_3 = tf.keras.Model(inputs, outputs, name=\"model_3_LSTM\")\n",
        "\n",
        "model_3.compile(optimizer=tf.keras.optimizers.Adam(learning_rate=0.001), loss='binary_crossentropy', metrics=['acc'])"
      ],
      "id": "Q2gwoGjkd3aE"
    },
    {
      "cell_type": "code",
      "execution_count": null,
      "metadata": {
        "colab": {
          "base_uri": "https://localhost:8080/"
        },
        "id": "9NtCHNyTd6J8",
        "outputId": "eaef58bc-b53b-4838-c6e7-ee8cbfb3983a"
      },
      "outputs": [
        {
          "output_type": "stream",
          "name": "stdout",
          "text": [
            "Model: \"model_3_LSTM\"\n",
            "_________________________________________________________________\n",
            " Layer (type)                Output Shape              Param #   \n",
            "=================================================================\n",
            " input_8 (InputLayer)        [(None, 25)]              0         \n",
            "                                                                 \n",
            " embedding_7 (Embedding)     (None, 25, 50)            28679650  \n",
            "                                                                 \n",
            " lstm_13 (LSTM)              (None, 25, 64)            29440     \n",
            "                                                                 \n",
            " lstm_14 (LSTM)              (None, 25, 64)            33024     \n",
            "                                                                 \n",
            " dense_5 (Dense)             (None, 25, 1)             65        \n",
            "                                                                 \n",
            "=================================================================\n",
            "Total params: 28742179 (109.64 MB)\n",
            "Trainable params: 62529 (244.25 KB)\n",
            "Non-trainable params: 28679650 (109.40 MB)\n",
            "_________________________________________________________________\n"
          ]
        }
      ],
      "source": [
        "model_3.summary()"
      ],
      "id": "9NtCHNyTd6J8"
    },
    {
      "cell_type": "code",
      "execution_count": null,
      "metadata": {
        "id": "EPk10TQAOx9e"
      },
      "outputs": [],
      "source": [
        "# for layer in model_3.layers:\n",
        "#   print(layer.name, layer.trainable, layer.dtype, layer.dtype_policy)"
      ],
      "id": "EPk10TQAOx9e"
    },
    {
      "cell_type": "code",
      "execution_count": null,
      "metadata": {
        "colab": {
          "base_uri": "https://localhost:8080/",
          "height": 581
        },
        "id": "Ef2UA0V-d9BJ",
        "outputId": "d371f992-461a-4d3e-d0fc-d5f78135992d"
      },
      "outputs": [
        {
          "output_type": "stream",
          "name": "stdout",
          "text": [
            "Saving TensorBoard log files to: tensorflow_hub/LSTM_50D_1L/20240102-111326\n",
            "Epoch 1/20\n",
            "127959/127959 [==============================] - 1169s 9ms/step - loss: 0.5882 - acc: 0.7060 - val_loss: 0.5455 - val_acc: 0.7353 - lr: 0.0010\n",
            "Epoch 2/20\n",
            "127959/127959 [==============================] - 1205s 9ms/step - loss: 0.5616 - acc: 0.7232 - val_loss: 0.5432 - val_acc: 0.7391 - lr: 0.0010\n",
            "Epoch 3/20\n",
            "127959/127959 [==============================] - 1310s 10ms/step - loss: 0.5562 - acc: 0.7274 - val_loss: 0.5383 - val_acc: 0.7419 - lr: 0.0010\n",
            "Epoch 4/20\n",
            "127959/127959 [==============================] - 1344s 11ms/step - loss: 0.5543 - acc: 0.7288 - val_loss: 0.5384 - val_acc: 0.7433 - lr: 0.0010\n",
            "Epoch 5/20\n",
            " 17926/127959 [===>..........................] - ETA: 17:25 - loss: 0.5526 - acc: 0.7299"
          ]
        },
        {
          "output_type": "error",
          "ename": "KeyboardInterrupt",
          "evalue": "ignored",
          "traceback": [
            "\u001b[0;31m---------------------------------------------------------------------------\u001b[0m",
            "\u001b[0;31mKeyboardInterrupt\u001b[0m                         Traceback (most recent call last)",
            "\u001b[0;32m<ipython-input-83-e8ec1b7d25d9>\u001b[0m in \u001b[0;36m<cell line: 2>\u001b[0;34m()\u001b[0m\n\u001b[1;32m      1\u001b[0m \u001b[0;31m# Fit model\u001b[0m\u001b[0;34m\u001b[0m\u001b[0;34m\u001b[0m\u001b[0m\n\u001b[0;32m----> 2\u001b[0;31m model_3_history = model_3.fit(train_dataset,\n\u001b[0m\u001b[1;32m      3\u001b[0m                               \u001b[0;31m# steps_per_epoch=int(0.20 * len(train_dataset)), # only fit on 10% of batches for faster training time\u001b[0m\u001b[0;34m\u001b[0m\u001b[0;34m\u001b[0m\u001b[0m\n\u001b[1;32m      4\u001b[0m                               \u001b[0mepochs\u001b[0m\u001b[0;34m=\u001b[0m\u001b[0;36m20\u001b[0m\u001b[0;34m,\u001b[0m\u001b[0;34m\u001b[0m\u001b[0;34m\u001b[0m\u001b[0m\n\u001b[1;32m      5\u001b[0m                               \u001b[0mvalidation_data\u001b[0m\u001b[0;34m=\u001b[0m\u001b[0mvalid_dataset\u001b[0m\u001b[0;34m,\u001b[0m\u001b[0;34m\u001b[0m\u001b[0;34m\u001b[0m\u001b[0m\n",
            "\u001b[0;32m/usr/local/lib/python3.10/dist-packages/keras/src/utils/traceback_utils.py\u001b[0m in \u001b[0;36merror_handler\u001b[0;34m(*args, **kwargs)\u001b[0m\n\u001b[1;32m     63\u001b[0m         \u001b[0mfiltered_tb\u001b[0m \u001b[0;34m=\u001b[0m \u001b[0;32mNone\u001b[0m\u001b[0;34m\u001b[0m\u001b[0;34m\u001b[0m\u001b[0m\n\u001b[1;32m     64\u001b[0m         \u001b[0;32mtry\u001b[0m\u001b[0;34m:\u001b[0m\u001b[0;34m\u001b[0m\u001b[0;34m\u001b[0m\u001b[0m\n\u001b[0;32m---> 65\u001b[0;31m             \u001b[0;32mreturn\u001b[0m \u001b[0mfn\u001b[0m\u001b[0;34m(\u001b[0m\u001b[0;34m*\u001b[0m\u001b[0margs\u001b[0m\u001b[0;34m,\u001b[0m \u001b[0;34m**\u001b[0m\u001b[0mkwargs\u001b[0m\u001b[0;34m)\u001b[0m\u001b[0;34m\u001b[0m\u001b[0;34m\u001b[0m\u001b[0m\n\u001b[0m\u001b[1;32m     66\u001b[0m         \u001b[0;32mexcept\u001b[0m \u001b[0mException\u001b[0m \u001b[0;32mas\u001b[0m \u001b[0me\u001b[0m\u001b[0;34m:\u001b[0m\u001b[0;34m\u001b[0m\u001b[0;34m\u001b[0m\u001b[0m\n\u001b[1;32m     67\u001b[0m             \u001b[0mfiltered_tb\u001b[0m \u001b[0;34m=\u001b[0m \u001b[0m_process_traceback_frames\u001b[0m\u001b[0;34m(\u001b[0m\u001b[0me\u001b[0m\u001b[0;34m.\u001b[0m\u001b[0m__traceback__\u001b[0m\u001b[0;34m)\u001b[0m\u001b[0;34m\u001b[0m\u001b[0;34m\u001b[0m\u001b[0m\n",
            "\u001b[0;32m/usr/local/lib/python3.10/dist-packages/keras/src/engine/training.py\u001b[0m in \u001b[0;36mfit\u001b[0;34m(self, x, y, batch_size, epochs, verbose, callbacks, validation_split, validation_data, shuffle, class_weight, sample_weight, initial_epoch, steps_per_epoch, validation_steps, validation_batch_size, validation_freq, max_queue_size, workers, use_multiprocessing)\u001b[0m\n\u001b[1;32m   1805\u001b[0m                         ):\n\u001b[1;32m   1806\u001b[0m                             \u001b[0mcallbacks\u001b[0m\u001b[0;34m.\u001b[0m\u001b[0mon_train_batch_begin\u001b[0m\u001b[0;34m(\u001b[0m\u001b[0mstep\u001b[0m\u001b[0;34m)\u001b[0m\u001b[0;34m\u001b[0m\u001b[0;34m\u001b[0m\u001b[0m\n\u001b[0;32m-> 1807\u001b[0;31m                             \u001b[0mtmp_logs\u001b[0m \u001b[0;34m=\u001b[0m \u001b[0mself\u001b[0m\u001b[0;34m.\u001b[0m\u001b[0mtrain_function\u001b[0m\u001b[0;34m(\u001b[0m\u001b[0miterator\u001b[0m\u001b[0;34m)\u001b[0m\u001b[0;34m\u001b[0m\u001b[0;34m\u001b[0m\u001b[0m\n\u001b[0m\u001b[1;32m   1808\u001b[0m                             \u001b[0;32mif\u001b[0m \u001b[0mdata_handler\u001b[0m\u001b[0;34m.\u001b[0m\u001b[0mshould_sync\u001b[0m\u001b[0;34m:\u001b[0m\u001b[0;34m\u001b[0m\u001b[0;34m\u001b[0m\u001b[0m\n\u001b[1;32m   1809\u001b[0m                                 \u001b[0mcontext\u001b[0m\u001b[0;34m.\u001b[0m\u001b[0masync_wait\u001b[0m\u001b[0;34m(\u001b[0m\u001b[0;34m)\u001b[0m\u001b[0;34m\u001b[0m\u001b[0;34m\u001b[0m\u001b[0m\n",
            "\u001b[0;32m/usr/local/lib/python3.10/dist-packages/tensorflow/python/util/traceback_utils.py\u001b[0m in \u001b[0;36merror_handler\u001b[0;34m(*args, **kwargs)\u001b[0m\n\u001b[1;32m    148\u001b[0m     \u001b[0mfiltered_tb\u001b[0m \u001b[0;34m=\u001b[0m \u001b[0;32mNone\u001b[0m\u001b[0;34m\u001b[0m\u001b[0;34m\u001b[0m\u001b[0m\n\u001b[1;32m    149\u001b[0m     \u001b[0;32mtry\u001b[0m\u001b[0;34m:\u001b[0m\u001b[0;34m\u001b[0m\u001b[0;34m\u001b[0m\u001b[0m\n\u001b[0;32m--> 150\u001b[0;31m       \u001b[0;32mreturn\u001b[0m \u001b[0mfn\u001b[0m\u001b[0;34m(\u001b[0m\u001b[0;34m*\u001b[0m\u001b[0margs\u001b[0m\u001b[0;34m,\u001b[0m \u001b[0;34m**\u001b[0m\u001b[0mkwargs\u001b[0m\u001b[0;34m)\u001b[0m\u001b[0;34m\u001b[0m\u001b[0;34m\u001b[0m\u001b[0m\n\u001b[0m\u001b[1;32m    151\u001b[0m     \u001b[0;32mexcept\u001b[0m \u001b[0mException\u001b[0m \u001b[0;32mas\u001b[0m \u001b[0me\u001b[0m\u001b[0;34m:\u001b[0m\u001b[0;34m\u001b[0m\u001b[0;34m\u001b[0m\u001b[0m\n\u001b[1;32m    152\u001b[0m       \u001b[0mfiltered_tb\u001b[0m \u001b[0;34m=\u001b[0m \u001b[0m_process_traceback_frames\u001b[0m\u001b[0;34m(\u001b[0m\u001b[0me\u001b[0m\u001b[0;34m.\u001b[0m\u001b[0m__traceback__\u001b[0m\u001b[0;34m)\u001b[0m\u001b[0;34m\u001b[0m\u001b[0;34m\u001b[0m\u001b[0m\n",
            "\u001b[0;32m/usr/local/lib/python3.10/dist-packages/tensorflow/python/eager/polymorphic_function/polymorphic_function.py\u001b[0m in \u001b[0;36m__call__\u001b[0;34m(self, *args, **kwds)\u001b[0m\n\u001b[1;32m    830\u001b[0m \u001b[0;34m\u001b[0m\u001b[0m\n\u001b[1;32m    831\u001b[0m       \u001b[0;32mwith\u001b[0m \u001b[0mOptionalXlaContext\u001b[0m\u001b[0;34m(\u001b[0m\u001b[0mself\u001b[0m\u001b[0;34m.\u001b[0m\u001b[0m_jit_compile\u001b[0m\u001b[0;34m)\u001b[0m\u001b[0;34m:\u001b[0m\u001b[0;34m\u001b[0m\u001b[0;34m\u001b[0m\u001b[0m\n\u001b[0;32m--> 832\u001b[0;31m         \u001b[0mresult\u001b[0m \u001b[0;34m=\u001b[0m \u001b[0mself\u001b[0m\u001b[0;34m.\u001b[0m\u001b[0m_call\u001b[0m\u001b[0;34m(\u001b[0m\u001b[0;34m*\u001b[0m\u001b[0margs\u001b[0m\u001b[0;34m,\u001b[0m \u001b[0;34m**\u001b[0m\u001b[0mkwds\u001b[0m\u001b[0;34m)\u001b[0m\u001b[0;34m\u001b[0m\u001b[0;34m\u001b[0m\u001b[0m\n\u001b[0m\u001b[1;32m    833\u001b[0m \u001b[0;34m\u001b[0m\u001b[0m\n\u001b[1;32m    834\u001b[0m       \u001b[0mnew_tracing_count\u001b[0m \u001b[0;34m=\u001b[0m \u001b[0mself\u001b[0m\u001b[0;34m.\u001b[0m\u001b[0mexperimental_get_tracing_count\u001b[0m\u001b[0;34m(\u001b[0m\u001b[0;34m)\u001b[0m\u001b[0;34m\u001b[0m\u001b[0;34m\u001b[0m\u001b[0m\n",
            "\u001b[0;32m/usr/local/lib/python3.10/dist-packages/tensorflow/python/eager/polymorphic_function/polymorphic_function.py\u001b[0m in \u001b[0;36m_call\u001b[0;34m(self, *args, **kwds)\u001b[0m\n\u001b[1;32m    866\u001b[0m       \u001b[0;31m# In this case we have created variables on the first call, so we run the\u001b[0m\u001b[0;34m\u001b[0m\u001b[0;34m\u001b[0m\u001b[0m\n\u001b[1;32m    867\u001b[0m       \u001b[0;31m# defunned version which is guaranteed to never create variables.\u001b[0m\u001b[0;34m\u001b[0m\u001b[0;34m\u001b[0m\u001b[0m\n\u001b[0;32m--> 868\u001b[0;31m       return tracing_compilation.call_function(\n\u001b[0m\u001b[1;32m    869\u001b[0m           \u001b[0margs\u001b[0m\u001b[0;34m,\u001b[0m \u001b[0mkwds\u001b[0m\u001b[0;34m,\u001b[0m \u001b[0mself\u001b[0m\u001b[0;34m.\u001b[0m\u001b[0m_no_variable_creation_config\u001b[0m\u001b[0;34m\u001b[0m\u001b[0;34m\u001b[0m\u001b[0m\n\u001b[1;32m    870\u001b[0m       )\n",
            "\u001b[0;32m/usr/local/lib/python3.10/dist-packages/tensorflow/python/eager/polymorphic_function/tracing_compilation.py\u001b[0m in \u001b[0;36mcall_function\u001b[0;34m(args, kwargs, tracing_options)\u001b[0m\n\u001b[1;32m    137\u001b[0m   \u001b[0mbound_args\u001b[0m \u001b[0;34m=\u001b[0m \u001b[0mfunction\u001b[0m\u001b[0;34m.\u001b[0m\u001b[0mfunction_type\u001b[0m\u001b[0;34m.\u001b[0m\u001b[0mbind\u001b[0m\u001b[0;34m(\u001b[0m\u001b[0;34m*\u001b[0m\u001b[0margs\u001b[0m\u001b[0;34m,\u001b[0m \u001b[0;34m**\u001b[0m\u001b[0mkwargs\u001b[0m\u001b[0;34m)\u001b[0m\u001b[0;34m\u001b[0m\u001b[0;34m\u001b[0m\u001b[0m\n\u001b[1;32m    138\u001b[0m   \u001b[0mflat_inputs\u001b[0m \u001b[0;34m=\u001b[0m \u001b[0mfunction\u001b[0m\u001b[0;34m.\u001b[0m\u001b[0mfunction_type\u001b[0m\u001b[0;34m.\u001b[0m\u001b[0munpack_inputs\u001b[0m\u001b[0;34m(\u001b[0m\u001b[0mbound_args\u001b[0m\u001b[0;34m)\u001b[0m\u001b[0;34m\u001b[0m\u001b[0;34m\u001b[0m\u001b[0m\n\u001b[0;32m--> 139\u001b[0;31m   return function._call_flat(  # pylint: disable=protected-access\n\u001b[0m\u001b[1;32m    140\u001b[0m       \u001b[0mflat_inputs\u001b[0m\u001b[0;34m,\u001b[0m \u001b[0mcaptured_inputs\u001b[0m\u001b[0;34m=\u001b[0m\u001b[0mfunction\u001b[0m\u001b[0;34m.\u001b[0m\u001b[0mcaptured_inputs\u001b[0m\u001b[0;34m\u001b[0m\u001b[0;34m\u001b[0m\u001b[0m\n\u001b[1;32m    141\u001b[0m   )\n",
            "\u001b[0;32m/usr/local/lib/python3.10/dist-packages/tensorflow/python/eager/polymorphic_function/concrete_function.py\u001b[0m in \u001b[0;36m_call_flat\u001b[0;34m(self, tensor_inputs, captured_inputs)\u001b[0m\n\u001b[1;32m   1321\u001b[0m         and executing_eagerly):\n\u001b[1;32m   1322\u001b[0m       \u001b[0;31m# No tape is watching; skip to running the function.\u001b[0m\u001b[0;34m\u001b[0m\u001b[0;34m\u001b[0m\u001b[0m\n\u001b[0;32m-> 1323\u001b[0;31m       \u001b[0;32mreturn\u001b[0m \u001b[0mself\u001b[0m\u001b[0;34m.\u001b[0m\u001b[0m_inference_function\u001b[0m\u001b[0;34m.\u001b[0m\u001b[0mcall_preflattened\u001b[0m\u001b[0;34m(\u001b[0m\u001b[0margs\u001b[0m\u001b[0;34m)\u001b[0m\u001b[0;34m\u001b[0m\u001b[0;34m\u001b[0m\u001b[0m\n\u001b[0m\u001b[1;32m   1324\u001b[0m     forward_backward = self._select_forward_and_backward_functions(\n\u001b[1;32m   1325\u001b[0m         \u001b[0margs\u001b[0m\u001b[0;34m,\u001b[0m\u001b[0;34m\u001b[0m\u001b[0;34m\u001b[0m\u001b[0m\n",
            "\u001b[0;32m/usr/local/lib/python3.10/dist-packages/tensorflow/python/eager/polymorphic_function/atomic_function.py\u001b[0m in \u001b[0;36mcall_preflattened\u001b[0;34m(self, args)\u001b[0m\n\u001b[1;32m    214\u001b[0m   \u001b[0;32mdef\u001b[0m \u001b[0mcall_preflattened\u001b[0m\u001b[0;34m(\u001b[0m\u001b[0mself\u001b[0m\u001b[0;34m,\u001b[0m \u001b[0margs\u001b[0m\u001b[0;34m:\u001b[0m \u001b[0mSequence\u001b[0m\u001b[0;34m[\u001b[0m\u001b[0mcore\u001b[0m\u001b[0;34m.\u001b[0m\u001b[0mTensor\u001b[0m\u001b[0;34m]\u001b[0m\u001b[0;34m)\u001b[0m \u001b[0;34m->\u001b[0m \u001b[0mAny\u001b[0m\u001b[0;34m:\u001b[0m\u001b[0;34m\u001b[0m\u001b[0;34m\u001b[0m\u001b[0m\n\u001b[1;32m    215\u001b[0m     \u001b[0;34m\"\"\"Calls with flattened tensor inputs and returns the structured output.\"\"\"\u001b[0m\u001b[0;34m\u001b[0m\u001b[0;34m\u001b[0m\u001b[0m\n\u001b[0;32m--> 216\u001b[0;31m     \u001b[0mflat_outputs\u001b[0m \u001b[0;34m=\u001b[0m \u001b[0mself\u001b[0m\u001b[0;34m.\u001b[0m\u001b[0mcall_flat\u001b[0m\u001b[0;34m(\u001b[0m\u001b[0;34m*\u001b[0m\u001b[0margs\u001b[0m\u001b[0;34m)\u001b[0m\u001b[0;34m\u001b[0m\u001b[0;34m\u001b[0m\u001b[0m\n\u001b[0m\u001b[1;32m    217\u001b[0m     \u001b[0;32mreturn\u001b[0m \u001b[0mself\u001b[0m\u001b[0;34m.\u001b[0m\u001b[0mfunction_type\u001b[0m\u001b[0;34m.\u001b[0m\u001b[0mpack_output\u001b[0m\u001b[0;34m(\u001b[0m\u001b[0mflat_outputs\u001b[0m\u001b[0;34m)\u001b[0m\u001b[0;34m\u001b[0m\u001b[0;34m\u001b[0m\u001b[0m\n\u001b[1;32m    218\u001b[0m \u001b[0;34m\u001b[0m\u001b[0m\n",
            "\u001b[0;32m/usr/local/lib/python3.10/dist-packages/tensorflow/python/eager/polymorphic_function/atomic_function.py\u001b[0m in \u001b[0;36mcall_flat\u001b[0;34m(self, *args)\u001b[0m\n\u001b[1;32m    249\u001b[0m         \u001b[0;32mwith\u001b[0m \u001b[0mrecord\u001b[0m\u001b[0;34m.\u001b[0m\u001b[0mstop_recording\u001b[0m\u001b[0;34m(\u001b[0m\u001b[0;34m)\u001b[0m\u001b[0;34m:\u001b[0m\u001b[0;34m\u001b[0m\u001b[0;34m\u001b[0m\u001b[0m\n\u001b[1;32m    250\u001b[0m           \u001b[0;32mif\u001b[0m \u001b[0mself\u001b[0m\u001b[0;34m.\u001b[0m\u001b[0m_bound_context\u001b[0m\u001b[0;34m.\u001b[0m\u001b[0mexecuting_eagerly\u001b[0m\u001b[0;34m(\u001b[0m\u001b[0;34m)\u001b[0m\u001b[0;34m:\u001b[0m\u001b[0;34m\u001b[0m\u001b[0;34m\u001b[0m\u001b[0m\n\u001b[0;32m--> 251\u001b[0;31m             outputs = self._bound_context.call_function(\n\u001b[0m\u001b[1;32m    252\u001b[0m                 \u001b[0mself\u001b[0m\u001b[0;34m.\u001b[0m\u001b[0mname\u001b[0m\u001b[0;34m,\u001b[0m\u001b[0;34m\u001b[0m\u001b[0;34m\u001b[0m\u001b[0m\n\u001b[1;32m    253\u001b[0m                 \u001b[0mlist\u001b[0m\u001b[0;34m(\u001b[0m\u001b[0margs\u001b[0m\u001b[0;34m)\u001b[0m\u001b[0;34m,\u001b[0m\u001b[0;34m\u001b[0m\u001b[0;34m\u001b[0m\u001b[0m\n",
            "\u001b[0;32m/usr/local/lib/python3.10/dist-packages/tensorflow/python/eager/context.py\u001b[0m in \u001b[0;36mcall_function\u001b[0;34m(self, name, tensor_inputs, num_outputs)\u001b[0m\n\u001b[1;32m   1484\u001b[0m     \u001b[0mcancellation_context\u001b[0m \u001b[0;34m=\u001b[0m \u001b[0mcancellation\u001b[0m\u001b[0;34m.\u001b[0m\u001b[0mcontext\u001b[0m\u001b[0;34m(\u001b[0m\u001b[0;34m)\u001b[0m\u001b[0;34m\u001b[0m\u001b[0;34m\u001b[0m\u001b[0m\n\u001b[1;32m   1485\u001b[0m     \u001b[0;32mif\u001b[0m \u001b[0mcancellation_context\u001b[0m \u001b[0;32mis\u001b[0m \u001b[0;32mNone\u001b[0m\u001b[0;34m:\u001b[0m\u001b[0;34m\u001b[0m\u001b[0;34m\u001b[0m\u001b[0m\n\u001b[0;32m-> 1486\u001b[0;31m       outputs = execute.execute(\n\u001b[0m\u001b[1;32m   1487\u001b[0m           \u001b[0mname\u001b[0m\u001b[0;34m.\u001b[0m\u001b[0mdecode\u001b[0m\u001b[0;34m(\u001b[0m\u001b[0;34m\"utf-8\"\u001b[0m\u001b[0;34m)\u001b[0m\u001b[0;34m,\u001b[0m\u001b[0;34m\u001b[0m\u001b[0;34m\u001b[0m\u001b[0m\n\u001b[1;32m   1488\u001b[0m           \u001b[0mnum_outputs\u001b[0m\u001b[0;34m=\u001b[0m\u001b[0mnum_outputs\u001b[0m\u001b[0;34m,\u001b[0m\u001b[0;34m\u001b[0m\u001b[0;34m\u001b[0m\u001b[0m\n",
            "\u001b[0;32m/usr/local/lib/python3.10/dist-packages/tensorflow/python/eager/execute.py\u001b[0m in \u001b[0;36mquick_execute\u001b[0;34m(op_name, num_outputs, inputs, attrs, ctx, name)\u001b[0m\n\u001b[1;32m     51\u001b[0m   \u001b[0;32mtry\u001b[0m\u001b[0;34m:\u001b[0m\u001b[0;34m\u001b[0m\u001b[0;34m\u001b[0m\u001b[0m\n\u001b[1;32m     52\u001b[0m     \u001b[0mctx\u001b[0m\u001b[0;34m.\u001b[0m\u001b[0mensure_initialized\u001b[0m\u001b[0;34m(\u001b[0m\u001b[0;34m)\u001b[0m\u001b[0;34m\u001b[0m\u001b[0;34m\u001b[0m\u001b[0m\n\u001b[0;32m---> 53\u001b[0;31m     tensors = pywrap_tfe.TFE_Py_Execute(ctx._handle, device_name, op_name,\n\u001b[0m\u001b[1;32m     54\u001b[0m                                         inputs, attrs, num_outputs)\n\u001b[1;32m     55\u001b[0m   \u001b[0;32mexcept\u001b[0m \u001b[0mcore\u001b[0m\u001b[0;34m.\u001b[0m\u001b[0m_NotOkStatusException\u001b[0m \u001b[0;32mas\u001b[0m \u001b[0me\u001b[0m\u001b[0;34m:\u001b[0m\u001b[0;34m\u001b[0m\u001b[0;34m\u001b[0m\u001b[0m\n",
            "\u001b[0;31mKeyboardInterrupt\u001b[0m: "
          ]
        }
      ],
      "source": [
        "# Fit model\n",
        "model_3_history = model_3.fit(train_dataset,\n",
        "                              # steps_per_epoch=int(0.20 * len(train_dataset)), # only fit on 10% of batches for faster training time\n",
        "                              epochs=20,\n",
        "                              validation_data=valid_dataset,\n",
        "                              # validation_steps=int(0.20 * len(valid_dataset)),\n",
        "                              callbacks=[early_stopping,\n",
        "                                         reduce_lr,\n",
        "                                         create_model_checkpoint(model_name=\"LSTM_50D_1L\"),\n",
        "                                         create_tensorboard_callback(dir_name=\"tensorflow_hub\",\n",
        "                                                                     experiment_name=\"LSTM_50D_1L\")])"
      ],
      "id": "Ef2UA0V-d9BJ"
    },
    {
      "cell_type": "markdown",
      "metadata": {
        "id": "acBjFxpSAAvN"
      },
      "source": [
        "## Evaluating & Visualizing"
      ],
      "id": "acBjFxpSAAvN"
    },
    {
      "cell_type": "code",
      "execution_count": null,
      "metadata": {
        "colab": {
          "base_uri": "https://localhost:8080/"
        },
        "id": "dcG8_iEweLyD",
        "outputId": "06bc9081-c945-407b-b4fe-78ab9a19c952"
      },
      "outputs": [
        {
          "name": "stdout",
          "output_type": "stream",
          "text": [
            "9997/9997 [==============================] - 53s 5ms/step - loss: 0.4694 - acc: 0.7789\n"
          ]
        }
      ],
      "source": [
        "score_3 = model_3.evaluate(X_test, y_test, verbose=1)"
      ],
      "id": "dcG8_iEweLyD"
    },
    {
      "cell_type": "markdown",
      "metadata": {
        "id": "yqbhylgyAF_u"
      },
      "source": [
        "# Model 4 (GRU)"
      ],
      "id": "yqbhylgyAF_u"
    },
    {
      "cell_type": "markdown",
      "metadata": {
        "id": "woCjNK_8NQIg"
      },
      "source": [
        "## Hyperparameter Tuning"
      ],
      "id": "woCjNK_8NQIg"
    },
    {
      "cell_type": "code",
      "execution_count": null,
      "metadata": {
        "id": "v7ksiPnTOBov"
      },
      "outputs": [],
      "source": [
        "def model_builder(hp):\n",
        "  tf.random.set_seed(42)\n",
        "  embedding_layer = Embedding(vocab_length, 50, weights=[embedding_matrix], input_length=25 , trainable=False)\n",
        "\n",
        "  hp_layer_1 = hp.Int(\"units\", min_value=32, max_value=256, step=32)\n",
        "  hp_learning_rate = hp.Choice('learning_rate', values=[1e-2, 1e-3, 1e-4])\n",
        "\n",
        "  inputs = layers.Input(shape=(25), dtype=\"int32\")\n",
        "  x = embedding_layer(inputs)\n",
        "  x = layers.LSTM(units=hp_layer_1)(x)\n",
        "  outputs = layers.Dense(1, activation=\"sigmoid\")(x)\n",
        "  model = tf.keras.Model(inputs, outputs, name=\"model_4_GRU\")\n",
        "\n",
        "  model.compile(optimizer=tf.keras.optimizers.Adam(learning_rate=hp_learning_rate), loss='binary_crossentropy', metrics=['acc'])\n",
        "  return model"
      ],
      "id": "v7ksiPnTOBov"
    },
    {
      "cell_type": "code",
      "execution_count": null,
      "metadata": {
        "id": "COqBjp2nOC8N"
      },
      "outputs": [],
      "source": [
        "import keras_tuner as kt\n",
        "\n",
        "tuner = kt.Hyperband(model_builder,\n",
        "                     objective='val_acc',\n",
        "                     max_epochs=10,\n",
        "                     factor=3,\n",
        "                     directory='dir',\n",
        "                     project_name='model_4_GRU')"
      ],
      "id": "COqBjp2nOC8N"
    },
    {
      "cell_type": "code",
      "execution_count": null,
      "metadata": {
        "colab": {
          "base_uri": "https://localhost:8080/"
        },
        "id": "RpKUSJi-OL4h",
        "outputId": "4686f54e-f94d-4f1f-995b-f7d6ca49c76d"
      },
      "outputs": [
        {
          "name": "stdout",
          "output_type": "stream",
          "text": [
            "Trial 28 Complete [00h 06m 48s]\n",
            "val_acc: 0.7444685697555542\n",
            "\n",
            "Best val_acc So Far: 0.7751314640045166\n",
            "Total elapsed time: 01h 48m 10s\n"
          ]
        }
      ],
      "source": [
        "tuner.search(train_dataset,\n",
        "             steps_per_epoch=int(0.15 * len(train_dataset)),\n",
        "             epochs=20,\n",
        "             validation_data = valid_dataset,\n",
        "             validation_split=int(0.15 * len(valid_dataset)),\n",
        "             callbacks=[early_stopping])"
      ],
      "id": "RpKUSJi-OL4h"
    },
    {
      "cell_type": "code",
      "execution_count": null,
      "metadata": {
        "colab": {
          "base_uri": "https://localhost:8080/"
        },
        "id": "53xmfPTCONZf",
        "outputId": "e303ceb0-6850-4510-a524-25fe20a732b1"
      },
      "outputs": [
        {
          "name": "stdout",
          "output_type": "stream",
          "text": [
            "Results summary\n",
            "Results in dir/model_4_GRU\n",
            "Showing 10 best trials\n",
            "Objective(name=\"val_acc\", direction=\"max\")\n",
            "\n",
            "Trial 0016 summary\n",
            "Hyperparameters:\n",
            "units: 224\n",
            "learning_rate: 0.001\n",
            "tuner/epochs: 10\n",
            "tuner/initial_epoch: 4\n",
            "tuner/bracket: 2\n",
            "tuner/round: 2\n",
            "tuner/trial_id: 0015\n",
            "Score: 0.7751314640045166\n",
            "\n",
            "Trial 0017 summary\n",
            "Hyperparameters:\n",
            "units: 192\n",
            "learning_rate: 0.001\n",
            "tuner/epochs: 10\n",
            "tuner/initial_epoch: 4\n",
            "tuner/bracket: 2\n",
            "tuner/round: 2\n",
            "tuner/trial_id: 0012\n",
            "Score: 0.7743530869483948\n",
            "\n",
            "Trial 0024 summary\n",
            "Hyperparameters:\n",
            "units: 64\n",
            "learning_rate: 0.001\n",
            "tuner/epochs: 10\n",
            "tuner/initial_epoch: 4\n",
            "tuner/bracket: 1\n",
            "tuner/round: 1\n",
            "tuner/trial_id: 0023\n",
            "Score: 0.7669788599014282\n",
            "\n",
            "Trial 0015 summary\n",
            "Hyperparameters:\n",
            "units: 224\n",
            "learning_rate: 0.001\n",
            "tuner/epochs: 4\n",
            "tuner/initial_epoch: 2\n",
            "tuner/bracket: 2\n",
            "tuner/round: 1\n",
            "tuner/trial_id: 0009\n",
            "Score: 0.7620928883552551\n",
            "\n",
            "Trial 0012 summary\n",
            "Hyperparameters:\n",
            "units: 192\n",
            "learning_rate: 0.001\n",
            "tuner/epochs: 4\n",
            "tuner/initial_epoch: 2\n",
            "tuner/bracket: 2\n",
            "tuner/round: 1\n",
            "tuner/trial_id: 0010\n",
            "Score: 0.7610675692558289\n",
            "\n",
            "Trial 0014 summary\n",
            "Hyperparameters:\n",
            "units: 256\n",
            "learning_rate: 0.001\n",
            "tuner/epochs: 4\n",
            "tuner/initial_epoch: 2\n",
            "tuner/bracket: 2\n",
            "tuner/round: 1\n",
            "tuner/trial_id: 0005\n",
            "Score: 0.7608550190925598\n",
            "\n",
            "Trial 0013 summary\n",
            "Hyperparameters:\n",
            "units: 160\n",
            "learning_rate: 0.001\n",
            "tuner/epochs: 4\n",
            "tuner/initial_epoch: 2\n",
            "tuner/bracket: 2\n",
            "tuner/round: 1\n",
            "tuner/trial_id: 0001\n",
            "Score: 0.7599110007286072\n",
            "\n",
            "Trial 0023 summary\n",
            "Hyperparameters:\n",
            "units: 64\n",
            "learning_rate: 0.001\n",
            "tuner/epochs: 4\n",
            "tuner/initial_epoch: 0\n",
            "tuner/bracket: 1\n",
            "tuner/round: 0\n",
            "Score: 0.7549625039100647\n",
            "\n",
            "Trial 0025 summary\n",
            "Hyperparameters:\n",
            "units: 64\n",
            "learning_rate: 0.01\n",
            "tuner/epochs: 10\n",
            "tuner/initial_epoch: 4\n",
            "tuner/bracket: 1\n",
            "tuner/round: 1\n",
            "tuner/trial_id: 0018\n",
            "Score: 0.7548906207084656\n",
            "\n",
            "Trial 0010 summary\n",
            "Hyperparameters:\n",
            "units: 192\n",
            "learning_rate: 0.001\n",
            "tuner/epochs: 2\n",
            "tuner/initial_epoch: 0\n",
            "tuner/bracket: 2\n",
            "tuner/round: 0\n",
            "Score: 0.7484229207038879\n"
          ]
        }
      ],
      "source": [
        "tuner.results_summary(num_trials=10)"
      ],
      "id": "53xmfPTCONZf"
    },
    {
      "cell_type": "code",
      "execution_count": null,
      "metadata": {
        "id": "Vwm2R1RvOObl"
      },
      "outputs": [],
      "source": [
        "best_hps = tuner.get_best_hyperparameters(num_trials=1)[0]"
      ],
      "id": "Vwm2R1RvOObl"
    },
    {
      "cell_type": "code",
      "execution_count": null,
      "metadata": {
        "id": "dJX1YXLzOPi6"
      },
      "outputs": [],
      "source": [
        "model_4 = tuner.hypermodel.build(best_hps)"
      ],
      "id": "dJX1YXLzOPi6"
    },
    {
      "cell_type": "code",
      "execution_count": null,
      "metadata": {
        "colab": {
          "base_uri": "https://localhost:8080/"
        },
        "id": "vaAnN3GGORgP",
        "outputId": "6d014175-172d-43c8-91e7-f4a4cfa0b0d4"
      },
      "outputs": [
        {
          "name": "stdout",
          "output_type": "stream",
          "text": [
            "Model: \"model_4_GRU\"\n",
            "_________________________________________________________________\n",
            " Layer (type)                Output Shape              Param #   \n",
            "=================================================================\n",
            " input_2 (InputLayer)        [(None, 25)]              0         \n",
            "                                                                 \n",
            " embedding_1 (Embedding)     (None, 25, 50)            28679650  \n",
            "                                                                 \n",
            " lstm_1 (LSTM)               (None, 224)               246400    \n",
            "                                                                 \n",
            " dense_1 (Dense)             (None, 1)                 225       \n",
            "                                                                 \n",
            "=================================================================\n",
            "Total params: 28926275 (110.34 MB)\n",
            "Trainable params: 246625 (963.38 KB)\n",
            "Non-trainable params: 28679650 (109.40 MB)\n",
            "_________________________________________________________________\n"
          ]
        }
      ],
      "source": [
        "model_4.summary()"
      ],
      "id": "vaAnN3GGORgP"
    },
    {
      "cell_type": "markdown",
      "metadata": {
        "id": "v1pNth6uAM7Q"
      },
      "source": [
        "## Training"
      ],
      "id": "v1pNth6uAM7Q"
    },
    {
      "cell_type": "code",
      "execution_count": null,
      "metadata": {
        "id": "s-R3lS2Lesth"
      },
      "outputs": [],
      "source": [
        "# Neural Network architecture\n",
        "from tensorflow.keras import layers\n",
        "import numpy as np\n",
        "\n",
        "tf.random.set_seed(42)\n",
        "embedding_layer = Embedding(vocab_length, 50, weights=[embedding_matrix], input_length=25 , trainable=False)\n",
        "\n",
        "inputs = layers.Input(shape=(25,), dtype=\"int32\")\n",
        "x = embedding_layer(inputs)\n",
        "x = layers.GRU(128, return_sequences=True)(x)\n",
        "x = Dropout(0.2)(x)\n",
        "x = layers.GRU(64, kernel_regularizer='l1', return_sequences=True)(x)\n",
        "x = Dropout(0.5)(x)\n",
        "x = layers.GRU(128)(x)\n",
        "x = Dropout(0.2)(x)\n",
        "outputs = layers.Dense(1, activation=\"sigmoid\")(x)\n",
        "model_4 = tf.keras.Model(inputs, outputs, name=\"model_4_GRU\")\n",
        "\n",
        "model_4.compile(optimizer='adam', loss='binary_crossentropy', metrics=['acc'])"
      ],
      "id": "s-R3lS2Lesth"
    },
    {
      "cell_type": "code",
      "execution_count": null,
      "metadata": {
        "colab": {
          "base_uri": "https://localhost:8080/"
        },
        "id": "qtrM1lmTezsb",
        "outputId": "e0121dbd-de06-40a3-cc03-9c8593178795"
      },
      "outputs": [
        {
          "output_type": "stream",
          "name": "stdout",
          "text": [
            "Model: \"model_4_GRU\"\n",
            "_________________________________________________________________\n",
            " Layer (type)                Output Shape              Param #   \n",
            "=================================================================\n",
            " input_2 (InputLayer)        [(None, 25)]              0         \n",
            "                                                                 \n",
            " embedding_1 (Embedding)     (None, 25, 50)            28679650  \n",
            "                                                                 \n",
            " gru_3 (GRU)                 (None, 25, 128)           69120     \n",
            "                                                                 \n",
            " dropout_3 (Dropout)         (None, 25, 128)           0         \n",
            "                                                                 \n",
            " gru_4 (GRU)                 (None, 25, 64)            37248     \n",
            "                                                                 \n",
            " dropout_4 (Dropout)         (None, 25, 64)            0         \n",
            "                                                                 \n",
            " gru_5 (GRU)                 (None, 128)               74496     \n",
            "                                                                 \n",
            " dropout_5 (Dropout)         (None, 128)               0         \n",
            "                                                                 \n",
            " dense_1 (Dense)             (None, 1)                 129       \n",
            "                                                                 \n",
            "=================================================================\n",
            "Total params: 28860643 (110.09 MB)\n",
            "Trainable params: 180993 (707.00 KB)\n",
            "Non-trainable params: 28679650 (109.40 MB)\n",
            "_________________________________________________________________\n"
          ]
        }
      ],
      "source": [
        "model_4.summary()"
      ],
      "id": "qtrM1lmTezsb"
    },
    {
      "cell_type": "code",
      "execution_count": null,
      "metadata": {
        "colab": {
          "base_uri": "https://localhost:8080/"
        },
        "id": "ARMjq7THe0_P",
        "outputId": "79129254-5af8-4aaa-9cbe-52efd72da99f"
      },
      "outputs": [
        {
          "output_type": "stream",
          "name": "stdout",
          "text": [
            "Saving TensorBoard log files to: tensorflow_hub/GRU_50D_1L/20231231-145722\n",
            "Epoch 1/20\n",
            "4999/4999 [==============================] - 73s 13ms/step - loss: 0.7186 - acc: 0.7355 - val_loss: 0.5267 - val_acc: 0.7567 - lr: 0.0010\n",
            "Epoch 2/20\n",
            "4999/4999 [==============================] - 74s 15ms/step - loss: 0.5221 - acc: 0.7616 - val_loss: 0.5108 - val_acc: 0.7677 - lr: 0.0010\n",
            "Epoch 3/20\n",
            "4999/4999 [==============================] - 67s 13ms/step - loss: 0.5086 - acc: 0.7703 - val_loss: 0.5048 - val_acc: 0.7713 - lr: 0.0010\n",
            "Epoch 4/20\n",
            "4999/4999 [==============================] - 73s 15ms/step - loss: 0.5001 - acc: 0.7755 - val_loss: 0.5025 - val_acc: 0.7732 - lr: 0.0010\n",
            "Epoch 5/20\n",
            "4999/4999 [==============================] - 65s 13ms/step - loss: 0.4937 - acc: 0.7796 - val_loss: 0.5018 - val_acc: 0.7745 - lr: 0.0010\n",
            "Epoch 6/20\n",
            "4999/4999 [==============================] - 57s 11ms/step - loss: 0.4886 - acc: 0.7830 - val_loss: 0.5025 - val_acc: 0.7743 - lr: 0.0010\n",
            "Epoch 7/20\n",
            "4999/4999 [==============================] - ETA: 0s - loss: 0.4841 - acc: 0.7856\n",
            "Epoch 7: ReduceLROnPlateau reducing learning rate to 0.00020000000949949026.\n",
            "4999/4999 [==============================] - 56s 11ms/step - loss: 0.4841 - acc: 0.7856 - val_loss: 0.5035 - val_acc: 0.7741 - lr: 0.0010\n",
            "Epoch 8/20\n",
            "4999/4999 [==============================] - 66s 13ms/step - loss: 0.4469 - acc: 0.7929 - val_loss: 0.4815 - val_acc: 0.7749 - lr: 2.0000e-04\n",
            "Epoch 9/20\n",
            "4999/4999 [==============================] - 61s 12ms/step - loss: 0.4440 - acc: 0.7943 - val_loss: 0.4826 - val_acc: 0.7746 - lr: 2.0000e-04\n",
            "Epoch 10/20\n",
            "4998/4999 [============================>.] - ETA: 0s - loss: 0.4422 - acc: 0.7951\n",
            "Epoch 10: ReduceLROnPlateau reducing learning rate to 4.0000001899898055e-05.\n",
            "4999/4999 [==============================] - 59s 12ms/step - loss: 0.4422 - acc: 0.7951 - val_loss: 0.4839 - val_acc: 0.7740 - lr: 2.0000e-04\n",
            "Epoch 11/20\n",
            "4999/4999 [==============================] - 66s 13ms/step - loss: 0.4332 - acc: 0.7973 - val_loss: 0.4746 - val_acc: 0.7741 - lr: 4.0000e-05\n",
            "Epoch 12/20\n",
            "4999/4999 [==============================] - 68s 14ms/step - loss: 0.4323 - acc: 0.7976 - val_loss: 0.4746 - val_acc: 0.7741 - lr: 4.0000e-05\n",
            "Epoch 13/20\n",
            "4999/4999 [==============================] - 66s 13ms/step - loss: 0.4320 - acc: 0.7978 - val_loss: 0.4744 - val_acc: 0.7741 - lr: 4.0000e-05\n",
            "Epoch 14/20\n",
            "4999/4999 [==============================] - 58s 12ms/step - loss: 0.4316 - acc: 0.7979 - val_loss: 0.4749 - val_acc: 0.7740 - lr: 4.0000e-05\n",
            "Epoch 15/20\n",
            "4998/4999 [============================>.] - ETA: 0s - loss: 0.4312 - acc: 0.7980\n",
            "Epoch 15: ReduceLROnPlateau reducing learning rate to 8.000000525498762e-06.\n",
            "4999/4999 [==============================] - 57s 11ms/step - loss: 0.4312 - acc: 0.7980 - val_loss: 0.4751 - val_acc: 0.7740 - lr: 4.0000e-05\n",
            "Epoch 16/20\n",
            "4999/4999 [==============================] - 74s 15ms/step - loss: 0.4290 - acc: 0.7986 - val_loss: 0.4740 - val_acc: 0.7740 - lr: 8.0000e-06\n",
            "Epoch 17/20\n",
            "4999/4999 [==============================] - 63s 13ms/step - loss: 0.4289 - acc: 0.7986 - val_loss: 0.4741 - val_acc: 0.7740 - lr: 8.0000e-06\n",
            "Epoch 18/20\n",
            "4999/4999 [==============================] - 66s 13ms/step - loss: 0.4287 - acc: 0.7989 - val_loss: 0.4739 - val_acc: 0.7740 - lr: 8.0000e-06\n",
            "Epoch 19/20\n",
            "4999/4999 [==============================] - 60s 12ms/step - loss: 0.4287 - acc: 0.7987 - val_loss: 0.4740 - val_acc: 0.7740 - lr: 8.0000e-06\n",
            "Epoch 20/20\n",
            "4998/4999 [============================>.] - ETA: 0s - loss: 0.4286 - acc: 0.7989\n",
            "Epoch 20: ReduceLROnPlateau reducing learning rate to 1.6000001778593287e-06.\n",
            "4999/4999 [==============================] - 65s 13ms/step - loss: 0.4286 - acc: 0.7990 - val_loss: 0.4739 - val_acc: 0.7740 - lr: 8.0000e-06\n"
          ]
        }
      ],
      "source": [
        "# Fit model\n",
        "model_4_history = model_4.fit(train_dataset,\n",
        "                              # steps_per_epoch=int(0.15 * len(train_dataset)), # only fit on 10% of batches for faster training time\n",
        "                              steps_per_epoch=len(train_dataset),\n",
        "                              epochs=20,\n",
        "                              validation_data=valid_dataset,\n",
        "                              # validation_steps=int(0.15 * len(valid_dataset)),\n",
        "                              validation_steps=len(valid_dataset),\n",
        "                              callbacks=[early_stopping,\n",
        "                                         reduce_lr,\n",
        "                                         create_model_checkpoint(model_name=\"GRU_50D_1L\"),\n",
        "                                         create_tensorboard_callback(dir_name=\"tensorflow_hub\",\n",
        "                                                                     experiment_name=\"GRU_50D_1L\")])"
      ],
      "id": "ARMjq7THe0_P"
    },
    {
      "cell_type": "markdown",
      "metadata": {
        "id": "xy8YrgpLAOYo"
      },
      "source": [
        "## Evaluating & Visualizing"
      ],
      "id": "xy8YrgpLAOYo"
    },
    {
      "cell_type": "code",
      "execution_count": null,
      "metadata": {
        "colab": {
          "base_uri": "https://localhost:8080/"
        },
        "id": "YMlM_gPLfDBA",
        "outputId": "e917b359-4b8e-41a3-a4d1-2d8730aa37e8"
      },
      "outputs": [
        {
          "output_type": "stream",
          "name": "stdout",
          "text": [
            "9997/9997 [==============================] - 45s 4ms/step - loss: 0.4738 - acc: 0.7740\n"
          ]
        }
      ],
      "source": [
        "score_4 = model_4.evaluate(X_test, y_test, verbose=1)"
      ],
      "id": "YMlM_gPLfDBA"
    },
    {
      "cell_type": "code",
      "source": [
        "# Plot the training curves\n",
        "pd.DataFrame(model_4_history.history).plot(figsize=(10, 7));"
      ],
      "metadata": {
        "colab": {
          "base_uri": "https://localhost:8080/",
          "height": 599
        },
        "id": "qbIMqf-RSQ9T",
        "outputId": "3205bb63-b15e-4390-b580-e27c9952665f"
      },
      "id": "qbIMqf-RSQ9T",
      "execution_count": null,
      "outputs": [
        {
          "output_type": "display_data",
          "data": {
            "text/plain": [
              "<Figure size 1000x700 with 1 Axes>"
            ],
            "image/png": "[encoded data removed]"
          },
          "metadata": {}
        }
      ]
    },
    {
      "cell_type": "code",
      "source": [
        "# Check out the loss curves of model_4\n",
        "plot_loss_curves(model_4_history)"
      ],
      "metadata": {
        "colab": {
          "base_uri": "https://localhost:8080/",
          "height": 927
        },
        "id": "7aBOw2tvU-Wa",
        "outputId": "41e11c16-aab2-438d-9768-6c6a4b4ba397"
      },
      "id": "7aBOw2tvU-Wa",
      "execution_count": null,
      "outputs": [
        {
          "output_type": "display_data",
          "data": {
            "text/plain": [
              "<Figure size 640x480 with 1 Axes>"
            ],
            "image/png": "[encoded data removed]"
          },
          "metadata": {}
        },
        {
          "output_type": "display_data",
          "data": {
            "text/plain": [
              "<Figure size 640x480 with 1 Axes>"
            ],
            "image/png": "[encoded data removed]"
          },
          "metadata": {}
        }
      ]
    },
    {
      "cell_type": "code",
      "source": [
        "# Make predictions\n",
        "preds = model_4.predict(X_test)\n",
        "preds = tf.squeeze(tf.round(preds))\n",
        "preds[:20]"
      ],
      "metadata": {
        "colab": {
          "base_uri": "https://localhost:8080/"
        },
        "id": "lCX3JwiYVYzx",
        "outputId": "5dd89a4f-be89-450c-f8fd-f8549d5560a7"
      },
      "id": "lCX3JwiYVYzx",
      "execution_count": null,
      "outputs": [
        {
          "output_type": "stream",
          "name": "stdout",
          "text": [
            "9997/9997 [==============================] - 37s 4ms/step\n"
          ]
        },
        {
          "output_type": "execute_result",
          "data": {
            "text/plain": [
              "<tf.Tensor: shape=(20,), dtype=float16, numpy=\n",
              "array([0., 0., 0., 1., 1., 0., 0., 1., 0., 1., 0., 1., 1., 1., 0., 0., 0.,\n",
              "       1., 0., 0.], dtype=float16)>"
            ]
          },
          "metadata": {},
          "execution_count": 46
        }
      ]
    },
    {
      "cell_type": "code",
      "source": [
        "# Get baseline results\n",
        "results = calculate_results(y_true=y_test,\n",
        "                            y_pred=preds)\n",
        "results"
      ],
      "metadata": {
        "colab": {
          "base_uri": "https://localhost:8080/"
        },
        "id": "XFkIPk6AV-Uv",
        "outputId": "2b47aa86-5a43-4268-96db-00e116952eb2"
      },
      "id": "XFkIPk6AV-Uv",
      "execution_count": null,
      "outputs": [
        {
          "output_type": "execute_result",
          "data": {
            "text/plain": [
              "{'accuracy': 77.39529475020163,\n",
              " 'precision': 0.7740128191923561,\n",
              " 'recall': 0.7739529475020163,\n",
              " 'f1': 0.7739330729873807}"
            ]
          },
          "metadata": {},
          "execution_count": 47
        }
      ]
    },
    {
      "cell_type": "markdown",
      "metadata": {
        "id": "qDCx5ApAAQpI"
      },
      "source": [
        "# Model 5 (BiLSTM)"
      ],
      "id": "qDCx5ApAAQpI"
    },
    {
      "cell_type": "markdown",
      "metadata": {
        "id": "q8FrCgtVNS12"
      },
      "source": [
        "## Hyperparameter Tuning"
      ],
      "id": "q8FrCgtVNS12"
    },
    {
      "cell_type": "code",
      "execution_count": null,
      "metadata": {
        "id": "d25xWRRCOVT9"
      },
      "outputs": [],
      "source": [
        "def model_builder(hp):\n",
        "  tf.random.set_seed(42)\n",
        "  embedding_layer = Embedding(vocab_length, 50, weights=[embedding_matrix], input_length=25 , trainable=False)\n",
        "\n",
        "  hp_layer_1 = hp.Int(\"units\", min_value=32, max_value=256, step=32)\n",
        "  hp_learning_rate = hp.Choice('learning_rate', values=[1e-2, 1e-3, 1e-4])\n",
        "\n",
        "  inputs = layers.Input(shape=(25), dtype=\"int32\")\n",
        "  x = embedding_layer(inputs)\n",
        "  x = layers.Bidirectional(layers.LSTM(units=hp_layer_1))(x)\n",
        "  outputs = layers.Dense(1, activation=\"sigmoid\")(x)\n",
        "  model = tf.keras.Model(inputs, outputs, name=\"model_5_BiLSTM\")\n",
        "\n",
        "  model.compile(optimizer=tf.keras.optimizers.Adam(learning_rate=hp_learning_rate), loss='binary_crossentropy', metrics=['acc'])\n",
        "  return model"
      ],
      "id": "d25xWRRCOVT9"
    },
    {
      "cell_type": "code",
      "execution_count": null,
      "metadata": {
        "colab": {
          "base_uri": "https://localhost:8080/"
        },
        "id": "o49XPBHLO1Mv",
        "outputId": "79bb480d-cd4c-43e5-e84d-a7172441a640"
      },
      "outputs": [
        {
          "name": "stdout",
          "output_type": "stream",
          "text": [
            "Reloading Tuner from dir/model_3_LSTM/tuner0.json\n"
          ]
        }
      ],
      "source": [
        "import keras_tuner as kt\n",
        "\n",
        "tuner = kt.Hyperband(model_builder,\n",
        "                     objective='val_acc',\n",
        "                     max_epochs=10,\n",
        "                     factor=3,\n",
        "                     directory='dir',\n",
        "                     project_name='model_3_LSTM')"
      ],
      "id": "o49XPBHLO1Mv"
    },
    {
      "cell_type": "code",
      "execution_count": null,
      "metadata": {
        "id": "BpXSF3TNO3Cy"
      },
      "outputs": [],
      "source": [
        "tuner.search(train_dataset,\n",
        "             steps_per_epoch=int(0.15 * len(train_dataset)),\n",
        "             epochs=20,\n",
        "             validation_data = valid_dataset,\n",
        "             validation_split=int(0.15 * len(valid_dataset)),\n",
        "             callbacks=[early_stopping])"
      ],
      "id": "BpXSF3TNO3Cy"
    },
    {
      "cell_type": "code",
      "execution_count": null,
      "metadata": {
        "colab": {
          "base_uri": "https://localhost:8080/"
        },
        "id": "JS6uqvjoO5H_",
        "outputId": "68ab3938-10af-49fc-b8e1-4915b1c38d1f"
      },
      "outputs": [
        {
          "name": "stdout",
          "output_type": "stream",
          "text": [
            "Results summary\n",
            "Results in dir/model_3_LSTM\n",
            "Showing 10 best trials\n",
            "Objective(name=\"val_acc\", direction=\"max\")\n",
            "\n",
            "Trial 0005 summary\n",
            "Hyperparameters:\n",
            "units: 128\n",
            "learning_rate: 0.001\n",
            "tuner/epochs: 5\n",
            "tuner/initial_epoch: 2\n",
            "tuner/bracket: 1\n",
            "tuner/round: 1\n",
            "tuner/trial_id: 0004\n",
            "Score: 0.7635340094566345\n",
            "\n",
            "Trial 0009 summary\n",
            "Hyperparameters:\n",
            "units: 96\n",
            "learning_rate: 0.001\n",
            "tuner/epochs: 5\n",
            "tuner/initial_epoch: 0\n",
            "tuner/bracket: 0\n",
            "tuner/round: 0\n",
            "Score: 0.7624180316925049\n",
            "\n",
            "Trial 0006 summary\n",
            "Hyperparameters:\n",
            "units: 64\n",
            "learning_rate: 0.001\n",
            "tuner/epochs: 5\n",
            "tuner/initial_epoch: 2\n",
            "tuner/bracket: 1\n",
            "tuner/round: 1\n",
            "tuner/trial_id: 0003\n",
            "Score: 0.7606924772262573\n",
            "\n",
            "Trial 0004 summary\n",
            "Hyperparameters:\n",
            "units: 128\n",
            "learning_rate: 0.001\n",
            "tuner/epochs: 2\n",
            "tuner/initial_epoch: 0\n",
            "tuner/bracket: 1\n",
            "tuner/round: 0\n",
            "Score: 0.7455095052719116\n",
            "\n",
            "Trial 0003 summary\n",
            "Hyperparameters:\n",
            "units: 64\n",
            "learning_rate: 0.001\n",
            "tuner/epochs: 2\n",
            "tuner/initial_epoch: 0\n",
            "tuner/bracket: 1\n",
            "tuner/round: 0\n",
            "Score: 0.7421771883964539\n",
            "\n",
            "Trial 0008 summary\n",
            "Hyperparameters:\n",
            "units: 224\n",
            "learning_rate: 0.01\n",
            "tuner/epochs: 5\n",
            "tuner/initial_epoch: 0\n",
            "tuner/bracket: 0\n",
            "tuner/round: 0\n",
            "Score: 0.7397608160972595\n",
            "\n",
            "Trial 0002 summary\n",
            "Hyperparameters:\n",
            "units: 128\n",
            "learning_rate: 0.01\n",
            "tuner/epochs: 2\n",
            "tuner/initial_epoch: 0\n",
            "tuner/bracket: 1\n",
            "tuner/round: 0\n",
            "Score: 0.738532304763794\n",
            "\n",
            "Trial 0007 summary\n",
            "Hyperparameters:\n",
            "units: 192\n",
            "learning_rate: 0.0001\n",
            "tuner/epochs: 5\n",
            "tuner/initial_epoch: 0\n",
            "tuner/bracket: 0\n",
            "tuner/round: 0\n",
            "Score: 0.7314894199371338\n",
            "\n",
            "Trial 0000 summary\n",
            "Hyperparameters:\n",
            "units: 128\n",
            "learning_rate: 0.0001\n",
            "tuner/epochs: 2\n",
            "tuner/initial_epoch: 0\n",
            "tuner/bracket: 1\n",
            "tuner/round: 0\n",
            "Score: 0.7194386720657349\n",
            "\n",
            "Trial 0001 summary\n",
            "Hyperparameters:\n",
            "units: 160\n",
            "learning_rate: 0.0001\n",
            "tuner/epochs: 2\n",
            "tuner/initial_epoch: 0\n",
            "tuner/bracket: 1\n",
            "tuner/round: 0\n",
            "Score: 0.7192823886871338\n"
          ]
        }
      ],
      "source": [
        "tuner.results_summary(num_trials=10)"
      ],
      "id": "JS6uqvjoO5H_"
    },
    {
      "cell_type": "code",
      "execution_count": null,
      "metadata": {
        "id": "SXZr8EvMO6oI"
      },
      "outputs": [],
      "source": [
        "best_hps = tuner.get_best_hyperparameters(num_trials=1)[0]"
      ],
      "id": "SXZr8EvMO6oI"
    },
    {
      "cell_type": "code",
      "execution_count": null,
      "metadata": {
        "id": "nhBgxDC8O7qC"
      },
      "outputs": [],
      "source": [
        "model_5 = tuner.hypermodel.build(best_hps)"
      ],
      "id": "nhBgxDC8O7qC"
    },
    {
      "cell_type": "code",
      "execution_count": null,
      "metadata": {
        "colab": {
          "base_uri": "https://localhost:8080/"
        },
        "id": "hEGAF_-UO8uM",
        "outputId": "67535283-d3ea-4a25-e517-c38b5c51501a"
      },
      "outputs": [
        {
          "name": "stdout",
          "output_type": "stream",
          "text": [
            "Model: \"model_5_BiLSTM\"\n",
            "_________________________________________________________________\n",
            " Layer (type)                Output Shape              Param #   \n",
            "=================================================================\n",
            " input_3 (InputLayer)        [(None, 25)]              0         \n",
            "                                                                 \n",
            " embedding_2 (Embedding)     (None, 25, 50)            28679650  \n",
            "                                                                 \n",
            " bidirectional (Bidirection  (None, 256)               183296    \n",
            " al)                                                             \n",
            "                                                                 \n",
            " dense_2 (Dense)             (None, 1)                 257       \n",
            "                                                                 \n",
            "=================================================================\n",
            "Total params: 28863203 (110.10 MB)\n",
            "Trainable params: 183553 (717.00 KB)\n",
            "Non-trainable params: 28679650 (109.40 MB)\n",
            "_________________________________________________________________\n"
          ]
        }
      ],
      "source": [
        "model_5.summary()"
      ],
      "id": "hEGAF_-UO8uM"
    },
    {
      "cell_type": "markdown",
      "metadata": {
        "id": "AHIEj8pEASrY"
      },
      "source": [
        "## Training"
      ],
      "id": "AHIEj8pEASrY"
    },
    {
      "cell_type": "code",
      "execution_count": null,
      "metadata": {
        "id": "LguO9UX0fGFP"
      },
      "outputs": [],
      "source": [
        "from tensorflow.keras import layers\n",
        "import numpy as np\n",
        "\n",
        "tf.random.set_seed(42)\n",
        "embedding_layer = Embedding(vocab_length, 50, weights=[embedding_matrix], input_length=25 , trainable=False)\n",
        "\n",
        "inputs = layers.Input(shape=(25,), dtype=\"int32\")\n",
        "x = embedding_layer(inputs)\n",
        "x = layers.LSTM(64, return_sequences=True)(x)\n",
        "x = Dropout(0.5)(x)\n",
        "x = layers.Bidirectional(layers.LSTM(128, kernel_regularizer='l1', return_sequences=True))(x)\n",
        "x = layers.LSTM(64, return_sequences=True)(x)\n",
        "x = Dropout(0.5)(x)\n",
        "# x = layers.LSTM(64)(x)\n",
        "\n",
        "outputs = layers.Dense(1, activation=\"sigmoid\")(x)\n",
        "model_5 = tf.keras.Model(inputs, outputs, name=\"model_5_BiLSTM\")\n",
        "\n",
        "model_5.compile(optimizer=tf.keras.optimizers.Adam(learning_rate=0.001), loss='binary_crossentropy', metrics=['acc'])"
      ],
      "id": "LguO9UX0fGFP"
    },
    {
      "cell_type": "code",
      "execution_count": null,
      "metadata": {
        "colab": {
          "base_uri": "https://localhost:8080/"
        },
        "id": "kDC9pxc1gJQy",
        "outputId": "b76cbaba-0c87-451b-94b6-9185f3a5c48d"
      },
      "outputs": [
        {
          "output_type": "stream",
          "name": "stdout",
          "text": [
            "Model: \"model_5_BiLSTM\"\n",
            "_________________________________________________________________\n",
            " Layer (type)                Output Shape              Param #   \n",
            "=================================================================\n",
            " input_11 (InputLayer)       [(None, 25)]              0         \n",
            "                                                                 \n",
            " embedding_10 (Embedding)    (None, 25, 50)            28679650  \n",
            "                                                                 \n",
            " lstm_38 (LSTM)              (None, 25, 64)            29440     \n",
            "                                                                 \n",
            " dropout_21 (Dropout)        (None, 25, 64)            0         \n",
            "                                                                 \n",
            " bidirectional_15 (Bidirect  (None, 25, 256)           197632    \n",
            " ional)                                                          \n",
            "                                                                 \n",
            " lstm_40 (LSTM)              (None, 25, 64)            82176     \n",
            "                                                                 \n",
            " dropout_22 (Dropout)        (None, 25, 64)            0         \n",
            "                                                                 \n",
            " dense_10 (Dense)            (None, 25, 1)             65        \n",
            "                                                                 \n",
            "=================================================================\n",
            "Total params: 28988963 (110.58 MB)\n",
            "Trainable params: 309313 (1.18 MB)\n",
            "Non-trainable params: 28679650 (109.40 MB)\n",
            "_________________________________________________________________\n"
          ]
        }
      ],
      "source": [
        "model_5.summary()"
      ],
      "id": "kDC9pxc1gJQy"
    },
    {
      "cell_type": "code",
      "execution_count": null,
      "metadata": {
        "colab": {
          "base_uri": "https://localhost:8080/",
          "height": 546
        },
        "id": "Uj53hpmBgKj0",
        "outputId": "a168916a-2f47-4b15-af62-26e968c18e83"
      },
      "outputs": [
        {
          "output_type": "stream",
          "name": "stdout",
          "text": [
            "Saving TensorBoard log files to: tensorflow_hub/BiLSTM_50D_1L/20240101-085721\n",
            "Epoch 1/15\n",
            "39988/39988 [==============================] - 600s 15ms/step - loss: 0.6286 - acc: 0.7423 - val_loss: 0.5638 - val_acc: 0.7646 - lr: 0.0010\n",
            "Epoch 2/15\n",
            "39988/39988 [==============================] - 598s 15ms/step - loss: 0.5642 - acc: 0.7657 - val_loss: 0.5558 - val_acc: 0.7701 - lr: 0.0010\n",
            "Epoch 3/15\n",
            "39988/39988 [==============================] - 563s 14ms/step - loss: 0.5543 - acc: 0.7719 - val_loss: 0.5533 - val_acc: 0.7726 - lr: 0.0010\n",
            "Epoch 4/15\n",
            "39985/39988 [============================>.] - ETA: 0s - loss: 0.5486 - acc: 0.7757"
          ]
        },
        {
          "output_type": "error",
          "ename": "KeyboardInterrupt",
          "evalue": "ignored",
          "traceback": [
            "\u001b[0;31m---------------------------------------------------------------------------\u001b[0m",
            "\u001b[0;31mKeyboardInterrupt\u001b[0m                         Traceback (most recent call last)",
            "\u001b[0;32m<ipython-input-64-34066bc816dd>\u001b[0m in \u001b[0;36m<cell line: 2>\u001b[0;34m()\u001b[0m\n\u001b[1;32m      1\u001b[0m \u001b[0;31m# Fit model\u001b[0m\u001b[0;34m\u001b[0m\u001b[0;34m\u001b[0m\u001b[0m\n\u001b[0;32m----> 2\u001b[0;31m model_5_history = model_5.fit(train_dataset,\n\u001b[0m\u001b[1;32m      3\u001b[0m                               \u001b[0;31m# steps_per_epoch=int(0.10 * len(train_dataset)), # only fit on 10% of batches for faster training time\u001b[0m\u001b[0;34m\u001b[0m\u001b[0;34m\u001b[0m\u001b[0m\n\u001b[1;32m      4\u001b[0m                               \u001b[0mepochs\u001b[0m\u001b[0;34m=\u001b[0m\u001b[0;36m15\u001b[0m\u001b[0;34m,\u001b[0m\u001b[0;34m\u001b[0m\u001b[0;34m\u001b[0m\u001b[0m\n\u001b[1;32m      5\u001b[0m                               \u001b[0mvalidation_data\u001b[0m\u001b[0;34m=\u001b[0m\u001b[0mvalid_dataset\u001b[0m\u001b[0;34m,\u001b[0m\u001b[0;34m\u001b[0m\u001b[0;34m\u001b[0m\u001b[0m\n",
            "\u001b[0;32m/usr/local/lib/python3.10/dist-packages/keras/src/utils/traceback_utils.py\u001b[0m in \u001b[0;36merror_handler\u001b[0;34m(*args, **kwargs)\u001b[0m\n\u001b[1;32m     63\u001b[0m         \u001b[0mfiltered_tb\u001b[0m \u001b[0;34m=\u001b[0m \u001b[0;32mNone\u001b[0m\u001b[0;34m\u001b[0m\u001b[0;34m\u001b[0m\u001b[0m\n\u001b[1;32m     64\u001b[0m         \u001b[0;32mtry\u001b[0m\u001b[0;34m:\u001b[0m\u001b[0;34m\u001b[0m\u001b[0;34m\u001b[0m\u001b[0m\n\u001b[0;32m---> 65\u001b[0;31m             \u001b[0;32mreturn\u001b[0m \u001b[0mfn\u001b[0m\u001b[0;34m(\u001b[0m\u001b[0;34m*\u001b[0m\u001b[0margs\u001b[0m\u001b[0;34m,\u001b[0m \u001b[0;34m**\u001b[0m\u001b[0mkwargs\u001b[0m\u001b[0;34m)\u001b[0m\u001b[0;34m\u001b[0m\u001b[0;34m\u001b[0m\u001b[0m\n\u001b[0m\u001b[1;32m     66\u001b[0m         \u001b[0;32mexcept\u001b[0m \u001b[0mException\u001b[0m \u001b[0;32mas\u001b[0m \u001b[0me\u001b[0m\u001b[0;34m:\u001b[0m\u001b[0;34m\u001b[0m\u001b[0;34m\u001b[0m\u001b[0m\n\u001b[1;32m     67\u001b[0m             \u001b[0mfiltered_tb\u001b[0m \u001b[0;34m=\u001b[0m \u001b[0m_process_traceback_frames\u001b[0m\u001b[0;34m(\u001b[0m\u001b[0me\u001b[0m\u001b[0;34m.\u001b[0m\u001b[0m__traceback__\u001b[0m\u001b[0;34m)\u001b[0m\u001b[0;34m\u001b[0m\u001b[0;34m\u001b[0m\u001b[0m\n",
            "\u001b[0;32m/usr/local/lib/python3.10/dist-packages/keras/src/engine/training.py\u001b[0m in \u001b[0;36mfit\u001b[0;34m(self, x, y, batch_size, epochs, verbose, callbacks, validation_split, validation_data, shuffle, class_weight, sample_weight, initial_epoch, steps_per_epoch, validation_steps, validation_batch_size, validation_freq, max_queue_size, workers, use_multiprocessing)\u001b[0m\n\u001b[1;32m   1854\u001b[0m                             \u001b[0mpss_evaluation_shards\u001b[0m\u001b[0;34m=\u001b[0m\u001b[0mself\u001b[0m\u001b[0;34m.\u001b[0m\u001b[0m_pss_evaluation_shards\u001b[0m\u001b[0;34m,\u001b[0m\u001b[0;34m\u001b[0m\u001b[0;34m\u001b[0m\u001b[0m\n\u001b[1;32m   1855\u001b[0m                         )\n\u001b[0;32m-> 1856\u001b[0;31m                     val_logs = self.evaluate(\n\u001b[0m\u001b[1;32m   1857\u001b[0m                         \u001b[0mx\u001b[0m\u001b[0;34m=\u001b[0m\u001b[0mval_x\u001b[0m\u001b[0;34m,\u001b[0m\u001b[0;34m\u001b[0m\u001b[0;34m\u001b[0m\u001b[0m\n\u001b[1;32m   1858\u001b[0m                         \u001b[0my\u001b[0m\u001b[0;34m=\u001b[0m\u001b[0mval_y\u001b[0m\u001b[0;34m,\u001b[0m\u001b[0;34m\u001b[0m\u001b[0;34m\u001b[0m\u001b[0m\n",
            "\u001b[0;32m/usr/local/lib/python3.10/dist-packages/keras/src/utils/traceback_utils.py\u001b[0m in \u001b[0;36merror_handler\u001b[0;34m(*args, **kwargs)\u001b[0m\n\u001b[1;32m     63\u001b[0m         \u001b[0mfiltered_tb\u001b[0m \u001b[0;34m=\u001b[0m \u001b[0;32mNone\u001b[0m\u001b[0;34m\u001b[0m\u001b[0;34m\u001b[0m\u001b[0m\n\u001b[1;32m     64\u001b[0m         \u001b[0;32mtry\u001b[0m\u001b[0;34m:\u001b[0m\u001b[0;34m\u001b[0m\u001b[0;34m\u001b[0m\u001b[0m\n\u001b[0;32m---> 65\u001b[0;31m             \u001b[0;32mreturn\u001b[0m \u001b[0mfn\u001b[0m\u001b[0;34m(\u001b[0m\u001b[0;34m*\u001b[0m\u001b[0margs\u001b[0m\u001b[0;34m,\u001b[0m \u001b[0;34m**\u001b[0m\u001b[0mkwargs\u001b[0m\u001b[0;34m)\u001b[0m\u001b[0;34m\u001b[0m\u001b[0;34m\u001b[0m\u001b[0m\n\u001b[0m\u001b[1;32m     66\u001b[0m         \u001b[0;32mexcept\u001b[0m \u001b[0mException\u001b[0m \u001b[0;32mas\u001b[0m \u001b[0me\u001b[0m\u001b[0;34m:\u001b[0m\u001b[0;34m\u001b[0m\u001b[0;34m\u001b[0m\u001b[0m\n\u001b[1;32m     67\u001b[0m             \u001b[0mfiltered_tb\u001b[0m \u001b[0;34m=\u001b[0m \u001b[0m_process_traceback_frames\u001b[0m\u001b[0;34m(\u001b[0m\u001b[0me\u001b[0m\u001b[0;34m.\u001b[0m\u001b[0m__traceback__\u001b[0m\u001b[0;34m)\u001b[0m\u001b[0;34m\u001b[0m\u001b[0;34m\u001b[0m\u001b[0m\n",
            "\u001b[0;32m/usr/local/lib/python3.10/dist-packages/keras/src/engine/training.py\u001b[0m in \u001b[0;36mevaluate\u001b[0;34m(self, x, y, batch_size, verbose, sample_weight, steps, callbacks, max_queue_size, workers, use_multiprocessing, return_dict, **kwargs)\u001b[0m\n\u001b[1;32m   2294\u001b[0m                         ):\n\u001b[1;32m   2295\u001b[0m                             \u001b[0mcallbacks\u001b[0m\u001b[0;34m.\u001b[0m\u001b[0mon_test_batch_begin\u001b[0m\u001b[0;34m(\u001b[0m\u001b[0mstep\u001b[0m\u001b[0;34m)\u001b[0m\u001b[0;34m\u001b[0m\u001b[0;34m\u001b[0m\u001b[0m\n\u001b[0;32m-> 2296\u001b[0;31m                             logs = test_function_runner.run_step(\n\u001b[0m\u001b[1;32m   2297\u001b[0m                                 \u001b[0mdataset_or_iterator\u001b[0m\u001b[0;34m,\u001b[0m\u001b[0;34m\u001b[0m\u001b[0;34m\u001b[0m\u001b[0m\n\u001b[1;32m   2298\u001b[0m                                 \u001b[0mdata_handler\u001b[0m\u001b[0;34m,\u001b[0m\u001b[0;34m\u001b[0m\u001b[0;34m\u001b[0m\u001b[0m\n",
            "\u001b[0;32m/usr/local/lib/python3.10/dist-packages/keras/src/engine/training.py\u001b[0m in \u001b[0;36mrun_step\u001b[0;34m(self, dataset_or_iterator, data_handler, step, unused_shards)\u001b[0m\n\u001b[1;32m   4106\u001b[0m \u001b[0;34m\u001b[0m\u001b[0m\n\u001b[1;32m   4107\u001b[0m     \u001b[0;32mdef\u001b[0m \u001b[0mrun_step\u001b[0m\u001b[0;34m(\u001b[0m\u001b[0mself\u001b[0m\u001b[0;34m,\u001b[0m \u001b[0mdataset_or_iterator\u001b[0m\u001b[0;34m,\u001b[0m \u001b[0mdata_handler\u001b[0m\u001b[0;34m,\u001b[0m \u001b[0mstep\u001b[0m\u001b[0;34m,\u001b[0m \u001b[0munused_shards\u001b[0m\u001b[0;34m)\u001b[0m\u001b[0;34m:\u001b[0m\u001b[0;34m\u001b[0m\u001b[0;34m\u001b[0m\u001b[0m\n\u001b[0;32m-> 4108\u001b[0;31m         \u001b[0mtmp_logs\u001b[0m \u001b[0;34m=\u001b[0m \u001b[0mself\u001b[0m\u001b[0;34m.\u001b[0m\u001b[0m_function\u001b[0m\u001b[0;34m(\u001b[0m\u001b[0mdataset_or_iterator\u001b[0m\u001b[0;34m)\u001b[0m\u001b[0;34m\u001b[0m\u001b[0;34m\u001b[0m\u001b[0m\n\u001b[0m\u001b[1;32m   4109\u001b[0m         \u001b[0;32mif\u001b[0m \u001b[0mdata_handler\u001b[0m\u001b[0;34m.\u001b[0m\u001b[0mshould_sync\u001b[0m\u001b[0;34m:\u001b[0m\u001b[0;34m\u001b[0m\u001b[0;34m\u001b[0m\u001b[0m\n\u001b[1;32m   4110\u001b[0m             \u001b[0mcontext\u001b[0m\u001b[0;34m.\u001b[0m\u001b[0masync_wait\u001b[0m\u001b[0;34m(\u001b[0m\u001b[0;34m)\u001b[0m\u001b[0;34m\u001b[0m\u001b[0;34m\u001b[0m\u001b[0m\n",
            "\u001b[0;32m/usr/local/lib/python3.10/dist-packages/tensorflow/python/util/traceback_utils.py\u001b[0m in \u001b[0;36merror_handler\u001b[0;34m(*args, **kwargs)\u001b[0m\n\u001b[1;32m    148\u001b[0m     \u001b[0mfiltered_tb\u001b[0m \u001b[0;34m=\u001b[0m \u001b[0;32mNone\u001b[0m\u001b[0;34m\u001b[0m\u001b[0;34m\u001b[0m\u001b[0m\n\u001b[1;32m    149\u001b[0m     \u001b[0;32mtry\u001b[0m\u001b[0;34m:\u001b[0m\u001b[0;34m\u001b[0m\u001b[0;34m\u001b[0m\u001b[0m\n\u001b[0;32m--> 150\u001b[0;31m       \u001b[0;32mreturn\u001b[0m \u001b[0mfn\u001b[0m\u001b[0;34m(\u001b[0m\u001b[0;34m*\u001b[0m\u001b[0margs\u001b[0m\u001b[0;34m,\u001b[0m \u001b[0;34m**\u001b[0m\u001b[0mkwargs\u001b[0m\u001b[0;34m)\u001b[0m\u001b[0;34m\u001b[0m\u001b[0;34m\u001b[0m\u001b[0m\n\u001b[0m\u001b[1;32m    151\u001b[0m     \u001b[0;32mexcept\u001b[0m \u001b[0mException\u001b[0m \u001b[0;32mas\u001b[0m \u001b[0me\u001b[0m\u001b[0;34m:\u001b[0m\u001b[0;34m\u001b[0m\u001b[0;34m\u001b[0m\u001b[0m\n\u001b[1;32m    152\u001b[0m       \u001b[0mfiltered_tb\u001b[0m \u001b[0;34m=\u001b[0m \u001b[0m_process_traceback_frames\u001b[0m\u001b[0;34m(\u001b[0m\u001b[0me\u001b[0m\u001b[0;34m.\u001b[0m\u001b[0m__traceback__\u001b[0m\u001b[0;34m)\u001b[0m\u001b[0;34m\u001b[0m\u001b[0;34m\u001b[0m\u001b[0m\n",
            "\u001b[0;32m/usr/local/lib/python3.10/dist-packages/tensorflow/python/eager/polymorphic_function/polymorphic_function.py\u001b[0m in \u001b[0;36m__call__\u001b[0;34m(self, *args, **kwds)\u001b[0m\n\u001b[1;32m    830\u001b[0m \u001b[0;34m\u001b[0m\u001b[0m\n\u001b[1;32m    831\u001b[0m       \u001b[0;32mwith\u001b[0m \u001b[0mOptionalXlaContext\u001b[0m\u001b[0;34m(\u001b[0m\u001b[0mself\u001b[0m\u001b[0;34m.\u001b[0m\u001b[0m_jit_compile\u001b[0m\u001b[0;34m)\u001b[0m\u001b[0;34m:\u001b[0m\u001b[0;34m\u001b[0m\u001b[0;34m\u001b[0m\u001b[0m\n\u001b[0;32m--> 832\u001b[0;31m         \u001b[0mresult\u001b[0m \u001b[0;34m=\u001b[0m \u001b[0mself\u001b[0m\u001b[0;34m.\u001b[0m\u001b[0m_call\u001b[0m\u001b[0;34m(\u001b[0m\u001b[0;34m*\u001b[0m\u001b[0margs\u001b[0m\u001b[0;34m,\u001b[0m \u001b[0;34m**\u001b[0m\u001b[0mkwds\u001b[0m\u001b[0;34m)\u001b[0m\u001b[0;34m\u001b[0m\u001b[0;34m\u001b[0m\u001b[0m\n\u001b[0m\u001b[1;32m    833\u001b[0m \u001b[0;34m\u001b[0m\u001b[0m\n\u001b[1;32m    834\u001b[0m       \u001b[0mnew_tracing_count\u001b[0m \u001b[0;34m=\u001b[0m \u001b[0mself\u001b[0m\u001b[0;34m.\u001b[0m\u001b[0mexperimental_get_tracing_count\u001b[0m\u001b[0;34m(\u001b[0m\u001b[0;34m)\u001b[0m\u001b[0;34m\u001b[0m\u001b[0;34m\u001b[0m\u001b[0m\n",
            "\u001b[0;32m/usr/local/lib/python3.10/dist-packages/tensorflow/python/eager/polymorphic_function/polymorphic_function.py\u001b[0m in \u001b[0;36m_call\u001b[0;34m(self, *args, **kwds)\u001b[0m\n\u001b[1;32m    875\u001b[0m       \u001b[0;31m# In this case we have not created variables on the first call. So we can\u001b[0m\u001b[0;34m\u001b[0m\u001b[0;34m\u001b[0m\u001b[0m\n\u001b[1;32m    876\u001b[0m       \u001b[0;31m# run the first trace but we should fail if variables are created.\u001b[0m\u001b[0;34m\u001b[0m\u001b[0;34m\u001b[0m\u001b[0m\n\u001b[0;32m--> 877\u001b[0;31m       results = tracing_compilation.call_function(\n\u001b[0m\u001b[1;32m    878\u001b[0m           \u001b[0margs\u001b[0m\u001b[0;34m,\u001b[0m \u001b[0mkwds\u001b[0m\u001b[0;34m,\u001b[0m \u001b[0mself\u001b[0m\u001b[0;34m.\u001b[0m\u001b[0m_variable_creation_config\u001b[0m\u001b[0;34m\u001b[0m\u001b[0;34m\u001b[0m\u001b[0m\n\u001b[1;32m    879\u001b[0m       )\n",
            "\u001b[0;32m/usr/local/lib/python3.10/dist-packages/tensorflow/python/eager/polymorphic_function/tracing_compilation.py\u001b[0m in \u001b[0;36mcall_function\u001b[0;34m(args, kwargs, tracing_options)\u001b[0m\n\u001b[1;32m    137\u001b[0m   \u001b[0mbound_args\u001b[0m \u001b[0;34m=\u001b[0m \u001b[0mfunction\u001b[0m\u001b[0;34m.\u001b[0m\u001b[0mfunction_type\u001b[0m\u001b[0;34m.\u001b[0m\u001b[0mbind\u001b[0m\u001b[0;34m(\u001b[0m\u001b[0;34m*\u001b[0m\u001b[0margs\u001b[0m\u001b[0;34m,\u001b[0m \u001b[0;34m**\u001b[0m\u001b[0mkwargs\u001b[0m\u001b[0;34m)\u001b[0m\u001b[0;34m\u001b[0m\u001b[0;34m\u001b[0m\u001b[0m\n\u001b[1;32m    138\u001b[0m   \u001b[0mflat_inputs\u001b[0m \u001b[0;34m=\u001b[0m \u001b[0mfunction\u001b[0m\u001b[0;34m.\u001b[0m\u001b[0mfunction_type\u001b[0m\u001b[0;34m.\u001b[0m\u001b[0munpack_inputs\u001b[0m\u001b[0;34m(\u001b[0m\u001b[0mbound_args\u001b[0m\u001b[0;34m)\u001b[0m\u001b[0;34m\u001b[0m\u001b[0;34m\u001b[0m\u001b[0m\n\u001b[0;32m--> 139\u001b[0;31m   return function._call_flat(  # pylint: disable=protected-access\n\u001b[0m\u001b[1;32m    140\u001b[0m       \u001b[0mflat_inputs\u001b[0m\u001b[0;34m,\u001b[0m \u001b[0mcaptured_inputs\u001b[0m\u001b[0;34m=\u001b[0m\u001b[0mfunction\u001b[0m\u001b[0;34m.\u001b[0m\u001b[0mcaptured_inputs\u001b[0m\u001b[0;34m\u001b[0m\u001b[0;34m\u001b[0m\u001b[0m\n\u001b[1;32m    141\u001b[0m   )\n",
            "\u001b[0;32m/usr/local/lib/python3.10/dist-packages/tensorflow/python/eager/polymorphic_function/concrete_function.py\u001b[0m in \u001b[0;36m_call_flat\u001b[0;34m(self, tensor_inputs, captured_inputs)\u001b[0m\n\u001b[1;32m   1321\u001b[0m         and executing_eagerly):\n\u001b[1;32m   1322\u001b[0m       \u001b[0;31m# No tape is watching; skip to running the function.\u001b[0m\u001b[0;34m\u001b[0m\u001b[0;34m\u001b[0m\u001b[0m\n\u001b[0;32m-> 1323\u001b[0;31m       \u001b[0;32mreturn\u001b[0m \u001b[0mself\u001b[0m\u001b[0;34m.\u001b[0m\u001b[0m_inference_function\u001b[0m\u001b[0;34m.\u001b[0m\u001b[0mcall_preflattened\u001b[0m\u001b[0;34m(\u001b[0m\u001b[0margs\u001b[0m\u001b[0;34m)\u001b[0m\u001b[0;34m\u001b[0m\u001b[0;34m\u001b[0m\u001b[0m\n\u001b[0m\u001b[1;32m   1324\u001b[0m     forward_backward = self._select_forward_and_backward_functions(\n\u001b[1;32m   1325\u001b[0m         \u001b[0margs\u001b[0m\u001b[0;34m,\u001b[0m\u001b[0;34m\u001b[0m\u001b[0;34m\u001b[0m\u001b[0m\n",
            "\u001b[0;32m/usr/local/lib/python3.10/dist-packages/tensorflow/python/eager/polymorphic_function/atomic_function.py\u001b[0m in \u001b[0;36mcall_preflattened\u001b[0;34m(self, args)\u001b[0m\n\u001b[1;32m    214\u001b[0m   \u001b[0;32mdef\u001b[0m \u001b[0mcall_preflattened\u001b[0m\u001b[0;34m(\u001b[0m\u001b[0mself\u001b[0m\u001b[0;34m,\u001b[0m \u001b[0margs\u001b[0m\u001b[0;34m:\u001b[0m \u001b[0mSequence\u001b[0m\u001b[0;34m[\u001b[0m\u001b[0mcore\u001b[0m\u001b[0;34m.\u001b[0m\u001b[0mTensor\u001b[0m\u001b[0;34m]\u001b[0m\u001b[0;34m)\u001b[0m \u001b[0;34m->\u001b[0m \u001b[0mAny\u001b[0m\u001b[0;34m:\u001b[0m\u001b[0;34m\u001b[0m\u001b[0;34m\u001b[0m\u001b[0m\n\u001b[1;32m    215\u001b[0m     \u001b[0;34m\"\"\"Calls with flattened tensor inputs and returns the structured output.\"\"\"\u001b[0m\u001b[0;34m\u001b[0m\u001b[0;34m\u001b[0m\u001b[0m\n\u001b[0;32m--> 216\u001b[0;31m     \u001b[0mflat_outputs\u001b[0m \u001b[0;34m=\u001b[0m \u001b[0mself\u001b[0m\u001b[0;34m.\u001b[0m\u001b[0mcall_flat\u001b[0m\u001b[0;34m(\u001b[0m\u001b[0;34m*\u001b[0m\u001b[0margs\u001b[0m\u001b[0;34m)\u001b[0m\u001b[0;34m\u001b[0m\u001b[0;34m\u001b[0m\u001b[0m\n\u001b[0m\u001b[1;32m    217\u001b[0m     \u001b[0;32mreturn\u001b[0m \u001b[0mself\u001b[0m\u001b[0;34m.\u001b[0m\u001b[0mfunction_type\u001b[0m\u001b[0;34m.\u001b[0m\u001b[0mpack_output\u001b[0m\u001b[0;34m(\u001b[0m\u001b[0mflat_outputs\u001b[0m\u001b[0;34m)\u001b[0m\u001b[0;34m\u001b[0m\u001b[0;34m\u001b[0m\u001b[0m\n\u001b[1;32m    218\u001b[0m \u001b[0;34m\u001b[0m\u001b[0m\n",
            "\u001b[0;32m/usr/local/lib/python3.10/dist-packages/tensorflow/python/eager/polymorphic_function/atomic_function.py\u001b[0m in \u001b[0;36mcall_flat\u001b[0;34m(self, *args)\u001b[0m\n\u001b[1;32m    249\u001b[0m         \u001b[0;32mwith\u001b[0m \u001b[0mrecord\u001b[0m\u001b[0;34m.\u001b[0m\u001b[0mstop_recording\u001b[0m\u001b[0;34m(\u001b[0m\u001b[0;34m)\u001b[0m\u001b[0;34m:\u001b[0m\u001b[0;34m\u001b[0m\u001b[0;34m\u001b[0m\u001b[0m\n\u001b[1;32m    250\u001b[0m           \u001b[0;32mif\u001b[0m \u001b[0mself\u001b[0m\u001b[0;34m.\u001b[0m\u001b[0m_bound_context\u001b[0m\u001b[0;34m.\u001b[0m\u001b[0mexecuting_eagerly\u001b[0m\u001b[0;34m(\u001b[0m\u001b[0;34m)\u001b[0m\u001b[0;34m:\u001b[0m\u001b[0;34m\u001b[0m\u001b[0;34m\u001b[0m\u001b[0m\n\u001b[0;32m--> 251\u001b[0;31m             outputs = self._bound_context.call_function(\n\u001b[0m\u001b[1;32m    252\u001b[0m                 \u001b[0mself\u001b[0m\u001b[0;34m.\u001b[0m\u001b[0mname\u001b[0m\u001b[0;34m,\u001b[0m\u001b[0;34m\u001b[0m\u001b[0;34m\u001b[0m\u001b[0m\n\u001b[1;32m    253\u001b[0m                 \u001b[0mlist\u001b[0m\u001b[0;34m(\u001b[0m\u001b[0margs\u001b[0m\u001b[0;34m)\u001b[0m\u001b[0;34m,\u001b[0m\u001b[0;34m\u001b[0m\u001b[0;34m\u001b[0m\u001b[0m\n",
            "\u001b[0;32m/usr/local/lib/python3.10/dist-packages/tensorflow/python/eager/context.py\u001b[0m in \u001b[0;36mcall_function\u001b[0;34m(self, name, tensor_inputs, num_outputs)\u001b[0m\n\u001b[1;32m   1484\u001b[0m     \u001b[0mcancellation_context\u001b[0m \u001b[0;34m=\u001b[0m \u001b[0mcancellation\u001b[0m\u001b[0;34m.\u001b[0m\u001b[0mcontext\u001b[0m\u001b[0;34m(\u001b[0m\u001b[0;34m)\u001b[0m\u001b[0;34m\u001b[0m\u001b[0;34m\u001b[0m\u001b[0m\n\u001b[1;32m   1485\u001b[0m     \u001b[0;32mif\u001b[0m \u001b[0mcancellation_context\u001b[0m \u001b[0;32mis\u001b[0m \u001b[0;32mNone\u001b[0m\u001b[0;34m:\u001b[0m\u001b[0;34m\u001b[0m\u001b[0;34m\u001b[0m\u001b[0m\n\u001b[0;32m-> 1486\u001b[0;31m       outputs = execute.execute(\n\u001b[0m\u001b[1;32m   1487\u001b[0m           \u001b[0mname\u001b[0m\u001b[0;34m.\u001b[0m\u001b[0mdecode\u001b[0m\u001b[0;34m(\u001b[0m\u001b[0;34m\"utf-8\"\u001b[0m\u001b[0;34m)\u001b[0m\u001b[0;34m,\u001b[0m\u001b[0;34m\u001b[0m\u001b[0;34m\u001b[0m\u001b[0m\n\u001b[1;32m   1488\u001b[0m           \u001b[0mnum_outputs\u001b[0m\u001b[0;34m=\u001b[0m\u001b[0mnum_outputs\u001b[0m\u001b[0;34m,\u001b[0m\u001b[0;34m\u001b[0m\u001b[0;34m\u001b[0m\u001b[0m\n",
            "\u001b[0;32m/usr/local/lib/python3.10/dist-packages/tensorflow/python/eager/execute.py\u001b[0m in \u001b[0;36mquick_execute\u001b[0;34m(op_name, num_outputs, inputs, attrs, ctx, name)\u001b[0m\n\u001b[1;32m     51\u001b[0m   \u001b[0;32mtry\u001b[0m\u001b[0;34m:\u001b[0m\u001b[0;34m\u001b[0m\u001b[0;34m\u001b[0m\u001b[0m\n\u001b[1;32m     52\u001b[0m     \u001b[0mctx\u001b[0m\u001b[0;34m.\u001b[0m\u001b[0mensure_initialized\u001b[0m\u001b[0;34m(\u001b[0m\u001b[0;34m)\u001b[0m\u001b[0;34m\u001b[0m\u001b[0;34m\u001b[0m\u001b[0m\n\u001b[0;32m---> 53\u001b[0;31m     tensors = pywrap_tfe.TFE_Py_Execute(ctx._handle, device_name, op_name,\n\u001b[0m\u001b[1;32m     54\u001b[0m                                         inputs, attrs, num_outputs)\n\u001b[1;32m     55\u001b[0m   \u001b[0;32mexcept\u001b[0m \u001b[0mcore\u001b[0m\u001b[0;34m.\u001b[0m\u001b[0m_NotOkStatusException\u001b[0m \u001b[0;32mas\u001b[0m \u001b[0me\u001b[0m\u001b[0;34m:\u001b[0m\u001b[0;34m\u001b[0m\u001b[0;34m\u001b[0m\u001b[0m\n",
            "\u001b[0;31mKeyboardInterrupt\u001b[0m: "
          ]
        }
      ],
      "source": [
        "# Fit model\n",
        "model_5_history = model_5.fit(train_dataset,\n",
        "                              # steps_per_epoch=int(0.10 * len(train_dataset)), # only fit on 10% of batches for faster training time\n",
        "                              epochs=15,\n",
        "                              validation_data=valid_dataset,\n",
        "                              # validation_steps=int(0.20 * len(valid_dataset)),\n",
        "                              callbacks=[early_stopping,\n",
        "                                         reduce_lr,\n",
        "                                         create_model_checkpoint(model_name=\"BiLSTM_50D_1L\"),\n",
        "                                         create_tensorboard_callback(dir_name=\"tensorflow_hub\",\n",
        "                                                                     experiment_name=\"BiLSTM_50D_1L\")])"
      ],
      "id": "Uj53hpmBgKj0"
    },
    {
      "cell_type": "markdown",
      "metadata": {
        "id": "D9nWemNoAtWj"
      },
      "source": [
        "## Evaluating & Visualizing"
      ],
      "id": "D9nWemNoAtWj"
    },
    {
      "cell_type": "code",
      "execution_count": null,
      "metadata": {
        "colab": {
          "base_uri": "https://localhost:8080/"
        },
        "id": "f1wMNjDCgUxq",
        "outputId": "44d9e5f0-31a5-4541-d2c8-ba60ffd36e5d"
      },
      "outputs": [
        {
          "output_type": "stream",
          "name": "stdout",
          "text": [
            "9997/9997 [==============================] - 64s 6ms/step - loss: 0.4683 - acc: 0.7764\n"
          ]
        }
      ],
      "source": [
        "score_5 = model_5.evaluate(X_test, y_test, verbose=1)"
      ],
      "id": "f1wMNjDCgUxq"
    },
    {
      "cell_type": "code",
      "source": [
        "# Plot the training curves\n",
        "pd.DataFrame(model_5_history.history).plot(figsize=(10, 7));"
      ],
      "metadata": {
        "colab": {
          "base_uri": "https://localhost:8080/",
          "height": 599
        },
        "id": "dBvMwe8eoKcU",
        "outputId": "489842e8-c315-4073-9a7a-0f1e69c92695"
      },
      "id": "dBvMwe8eoKcU",
      "execution_count": null,
      "outputs": [
        {
          "output_type": "display_data",
          "data": {
            "text/plain": [
              "<Figure size 1000x700 with 1 Axes>"
            ],
            "image/png": "[encoded data removed]"
          },
          "metadata": {}
        }
      ]
    },
    {
      "cell_type": "code",
      "source": [
        "# Check out the loss curves of model_5\n",
        "plot_loss_curves(model_5_history)"
      ],
      "metadata": {
        "colab": {
          "base_uri": "https://localhost:8080/",
          "height": 927
        },
        "id": "04vyi1yroNXL",
        "outputId": "60ebac13-dfef-481a-f294-9c9a531f5037"
      },
      "id": "04vyi1yroNXL",
      "execution_count": null,
      "outputs": [
        {
          "output_type": "display_data",
          "data": {
            "text/plain": [
              "<Figure size 640x480 with 1 Axes>"
            ],
            "image/png": "[encoded data removed]"
          },
          "metadata": {}
        },
        {
          "output_type": "display_data",
          "data": {
            "text/plain": [
              "<Figure size 640x480 with 1 Axes>"
            ],
            "image/png": "[encoded data removed]"
          },
          "metadata": {}
        }
      ]
    },
    {
      "cell_type": "code",
      "source": [
        "# Make predictions\n",
        "preds = model_5.predict(X_test)\n",
        "preds = tf.squeeze(tf.round(preds))\n",
        "preds[:20]"
      ],
      "metadata": {
        "colab": {
          "base_uri": "https://localhost:8080/"
        },
        "id": "QTSejjYToSX4",
        "outputId": "636554b4-c3d8-442c-854c-710d453ae594"
      },
      "id": "QTSejjYToSX4",
      "execution_count": null,
      "outputs": [
        {
          "output_type": "stream",
          "name": "stdout",
          "text": [
            "9997/9997 [==============================] - 59s 6ms/step\n"
          ]
        },
        {
          "output_type": "execute_result",
          "data": {
            "text/plain": [
              "<tf.Tensor: shape=(20,), dtype=float16, numpy=\n",
              "array([0., 0., 0., 1., 1., 0., 0., 1., 0., 1., 0., 1., 1., 0., 0., 0., 1.,\n",
              "       1., 0., 0.], dtype=float16)>"
            ]
          },
          "metadata": {},
          "execution_count": 33
        }
      ]
    },
    {
      "cell_type": "code",
      "source": [
        "# Get baseline results\n",
        "results = calculate_results(y_true=y_test,\n",
        "                            y_pred=preds)\n",
        "results"
      ],
      "metadata": {
        "colab": {
          "base_uri": "https://localhost:8080/"
        },
        "id": "riQyTaMYoVhw",
        "outputId": "934c5218-7f1c-4078-b28b-61fdb5955ec1"
      },
      "id": "riQyTaMYoVhw",
      "execution_count": null,
      "outputs": [
        {
          "output_type": "execute_result",
          "data": {
            "text/plain": [
              "{'accuracy': 77.63880987064627,\n",
              " 'precision': 0.7764469275782911,\n",
              " 'recall': 0.7763880987064626,\n",
              " 'f1': 0.7763689000978212}"
            ]
          },
          "metadata": {},
          "execution_count": 34
        }
      ]
    },
    {
      "cell_type": "markdown",
      "metadata": {
        "id": "CJ6AJWsKA3I8"
      },
      "source": [
        "# Model 6 (LSTM-GRU)"
      ],
      "id": "CJ6AJWsKA3I8"
    },
    {
      "cell_type": "markdown",
      "metadata": {
        "id": "hVCezprmNUr0"
      },
      "source": [
        "## Hyperparameter Tuning"
      ],
      "id": "hVCezprmNUr0"
    },
    {
      "cell_type": "code",
      "execution_count": null,
      "metadata": {
        "id": "2T0_wnLkPDAf"
      },
      "outputs": [],
      "source": [
        "def model_builder(hp):\n",
        "  tf.random.set_seed(42)\n",
        "  embedding_layer = Embedding(vocab_length, 50, weights=[embedding_matrix], input_length=25 , trainable=False)\n",
        "\n",
        "  hp_layer_1 = hp.Int(\"units\", min_value=32, max_value=256, step=32)\n",
        "  hp_layer_2 = hp.Int(\"units\", min_value=32, max_value=256, step=32)\n",
        "  hp_learning_rate = hp.Choice('learning_rate', values=[1e-2, 1e-3, 1e-4])\n",
        "\n",
        "  inputs = layers.Input(shape=(25), dtype=\"int32\")\n",
        "  x = embedding_layer(inputs)\n",
        "  x = layers.LSTM(units=hp_layer_1, return_sequences=True)(x)\n",
        "  x = layers.LSTM(units=hp_layer_2)(x)\n",
        "  outputs = layers.Dense(1, activation=\"sigmoid\")(x)\n",
        "  model = tf.keras.Model(inputs, outputs, name=\"model_6_LSTM-GRU\")\n",
        "\n",
        "  model.compile(optimizer=tf.keras.optimizers.Adam(learning_rate=hp_learning_rate), loss='binary_crossentropy', metrics=['acc'])\n",
        "  return model"
      ],
      "id": "2T0_wnLkPDAf"
    },
    {
      "cell_type": "code",
      "execution_count": null,
      "metadata": {
        "id": "feSdiNkdPGC5"
      },
      "outputs": [],
      "source": [
        "import keras_tuner as kt\n",
        "\n",
        "tuner = kt.Hyperband(model_builder,\n",
        "                     objective='val_acc',\n",
        "                     max_epochs=10,\n",
        "                     factor=3,\n",
        "                     directory='dir',\n",
        "                     project_name='model_6_LSTM-GRU')"
      ],
      "id": "feSdiNkdPGC5"
    },
    {
      "cell_type": "code",
      "execution_count": null,
      "metadata": {
        "colab": {
          "base_uri": "https://localhost:8080/"
        },
        "id": "RQhnOemDPHLz",
        "outputId": "9d4508dd-4a5f-4e89-8eaa-2f6b9faaf112"
      },
      "outputs": [
        {
          "name": "stdout",
          "output_type": "stream",
          "text": [
            "Trial 30 Complete [00h 10m 31s]\n",
            "val_acc: 0.7718929052352905\n",
            "\n",
            "Best val_acc So Far: 0.7778135538101196\n",
            "Total elapsed time: 02h 38m 13s\n"
          ]
        }
      ],
      "source": [
        "tuner.search(train_dataset,\n",
        "             steps_per_epoch=int(0.15 * len(train_dataset)),\n",
        "             epochs=20,\n",
        "             validation_data = valid_dataset,\n",
        "             validation_split=int(0.15 * len(valid_dataset)),\n",
        "             callbacks=[early_stopping])"
      ],
      "id": "RQhnOemDPHLz"
    },
    {
      "cell_type": "code",
      "execution_count": null,
      "metadata": {
        "colab": {
          "base_uri": "https://localhost:8080/"
        },
        "id": "2sqdCKCPPLw2",
        "outputId": "76bd409e-a99d-4c02-de2a-e9dbd427f6c4"
      },
      "outputs": [
        {
          "name": "stdout",
          "output_type": "stream",
          "text": [
            "Results summary\n",
            "Results in dir/model_6_LSTM-GRU\n",
            "Showing 10 best trials\n",
            "Objective(name=\"val_acc\", direction=\"max\")\n",
            "\n",
            "Trial 0016 summary\n",
            "Hyperparameters:\n",
            "units: 256\n",
            "learning_rate: 0.001\n",
            "tuner/epochs: 10\n",
            "tuner/initial_epoch: 4\n",
            "tuner/bracket: 2\n",
            "tuner/round: 2\n",
            "tuner/trial_id: 0012\n",
            "Score: 0.7778135538101196\n",
            "\n",
            "Trial 0017 summary\n",
            "Hyperparameters:\n",
            "units: 224\n",
            "learning_rate: 0.001\n",
            "tuner/epochs: 10\n",
            "tuner/initial_epoch: 4\n",
            "tuner/bracket: 2\n",
            "tuner/round: 2\n",
            "tuner/trial_id: 0013\n",
            "Score: 0.7753283977508545\n",
            "\n",
            "Trial 0024 summary\n",
            "Hyperparameters:\n",
            "units: 160\n",
            "learning_rate: 0.001\n",
            "tuner/epochs: 10\n",
            "tuner/initial_epoch: 4\n",
            "tuner/bracket: 1\n",
            "tuner/round: 1\n",
            "tuner/trial_id: 0019\n",
            "Score: 0.7752752304077148\n",
            "\n",
            "Trial 0025 summary\n",
            "Hyperparameters:\n",
            "units: 96\n",
            "learning_rate: 0.001\n",
            "tuner/epochs: 10\n",
            "tuner/initial_epoch: 4\n",
            "tuner/bracket: 1\n",
            "tuner/round: 1\n",
            "tuner/trial_id: 0023\n",
            "Score: 0.77264004945755\n",
            "\n",
            "Trial 0029 summary\n",
            "Hyperparameters:\n",
            "units: 192\n",
            "learning_rate: 0.001\n",
            "tuner/epochs: 10\n",
            "tuner/initial_epoch: 0\n",
            "tuner/bracket: 0\n",
            "tuner/round: 0\n",
            "Score: 0.7718929052352905\n",
            "\n",
            "Trial 0012 summary\n",
            "Hyperparameters:\n",
            "units: 256\n",
            "learning_rate: 0.001\n",
            "tuner/epochs: 4\n",
            "tuner/initial_epoch: 2\n",
            "tuner/bracket: 2\n",
            "tuner/round: 1\n",
            "tuner/trial_id: 0010\n",
            "Score: 0.7621679306030273\n",
            "\n",
            "Trial 0013 summary\n",
            "Hyperparameters:\n",
            "units: 224\n",
            "learning_rate: 0.001\n",
            "tuner/epochs: 4\n",
            "tuner/initial_epoch: 2\n",
            "tuner/bracket: 2\n",
            "tuner/round: 1\n",
            "tuner/trial_id: 0004\n",
            "Score: 0.7606518268585205\n",
            "\n",
            "Trial 0019 summary\n",
            "Hyperparameters:\n",
            "units: 160\n",
            "learning_rate: 0.001\n",
            "tuner/epochs: 4\n",
            "tuner/initial_epoch: 0\n",
            "tuner/bracket: 1\n",
            "tuner/round: 0\n",
            "Score: 0.7595421075820923\n",
            "\n",
            "Trial 0023 summary\n",
            "Hyperparameters:\n",
            "units: 96\n",
            "learning_rate: 0.001\n",
            "tuner/epochs: 4\n",
            "tuner/initial_epoch: 0\n",
            "tuner/bracket: 1\n",
            "tuner/round: 0\n",
            "Score: 0.7581353783607483\n",
            "\n",
            "Trial 0014 summary\n",
            "Hyperparameters:\n",
            "units: 64\n",
            "learning_rate: 0.001\n",
            "tuner/epochs: 4\n",
            "tuner/initial_epoch: 2\n",
            "tuner/bracket: 2\n",
            "tuner/round: 1\n",
            "tuner/trial_id: 0003\n",
            "Score: 0.7570632100105286\n"
          ]
        }
      ],
      "source": [
        "tuner.results_summary(num_trials=10)"
      ],
      "id": "2sqdCKCPPLw2"
    },
    {
      "cell_type": "code",
      "execution_count": null,
      "metadata": {
        "id": "A6VX28rpPM4F"
      },
      "outputs": [],
      "source": [
        "best_hps = tuner.get_best_hyperparameters(num_trials=1)[0]"
      ],
      "id": "A6VX28rpPM4F"
    },
    {
      "cell_type": "code",
      "execution_count": null,
      "metadata": {
        "id": "tXX-eM4gPNbq"
      },
      "outputs": [],
      "source": [
        "model_6 = tuner.hypermodel.build(best_hps)"
      ],
      "id": "tXX-eM4gPNbq"
    },
    {
      "cell_type": "code",
      "execution_count": null,
      "metadata": {
        "colab": {
          "base_uri": "https://localhost:8080/"
        },
        "id": "Lm7OZjYMPO_S",
        "outputId": "e1f20e50-239e-4765-99d8-c575c332d643"
      },
      "outputs": [
        {
          "name": "stdout",
          "output_type": "stream",
          "text": [
            "Model: \"model_6_LSTM-GRU\"\n",
            "_________________________________________________________________\n",
            " Layer (type)                Output Shape              Param #   \n",
            "=================================================================\n",
            " input_2 (InputLayer)        [(None, 25)]              0         \n",
            "                                                                 \n",
            " embedding_1 (Embedding)     (None, 25, 50)            28679650  \n",
            "                                                                 \n",
            " lstm_2 (LSTM)               (None, 25, 256)           314368    \n",
            "                                                                 \n",
            " lstm_3 (LSTM)               (None, 256)               525312    \n",
            "                                                                 \n",
            " dense_1 (Dense)             (None, 1)                 257       \n",
            "                                                                 \n",
            "=================================================================\n",
            "Total params: 29519587 (112.61 MB)\n",
            "Trainable params: 839937 (3.20 MB)\n",
            "Non-trainable params: 28679650 (109.40 MB)\n",
            "_________________________________________________________________\n"
          ]
        }
      ],
      "source": [
        "model_6.summary()"
      ],
      "id": "Lm7OZjYMPO_S"
    },
    {
      "cell_type": "markdown",
      "metadata": {
        "id": "dpQV1tw7A_CN"
      },
      "source": [
        "## Training"
      ],
      "id": "dpQV1tw7A_CN"
    },
    {
      "cell_type": "code",
      "execution_count": null,
      "metadata": {
        "id": "NVB-03XvgbZ9"
      },
      "outputs": [],
      "source": [
        "# Neural Network architecture\n",
        "from tensorflow.keras import layers\n",
        "import numpy as np\n",
        "\n",
        "tf.random.set_seed(42)\n",
        "embedding_layer = Embedding(vocab_length, 50, weights=[embedding_matrix], input_length=25 , trainable=False)\n",
        "\n",
        "inputs = layers.Input(shape=(25,), dtype=\"int32\")\n",
        "x = embedding_layer(inputs)\n",
        "x = layers.LSTM(128, return_sequences=True)(x)\n",
        "x = layers.GRU(128)(x)\n",
        "outputs = layers.Dense(1, activation=\"sigmoid\")(x)\n",
        "model_6 = tf.keras.Model(inputs, outputs, name=\"model_6_LSTM-GRU\")\n",
        "\n",
        "model_6.compile(optimizer='adam', loss='binary_crossentropy', metrics=['acc'])"
      ],
      "id": "NVB-03XvgbZ9"
    },
    {
      "cell_type": "code",
      "execution_count": null,
      "metadata": {
        "colab": {
          "base_uri": "https://localhost:8080/"
        },
        "id": "UWG8BvMZgj2f",
        "outputId": "078f2dcd-d8af-48f5-82cc-485a86c3cd39"
      },
      "outputs": [
        {
          "name": "stdout",
          "output_type": "stream",
          "text": [
            "Model: \"model_6_LSTM-GRU\"\n",
            "_________________________________________________________________\n",
            " Layer (type)                Output Shape              Param #   \n",
            "=================================================================\n",
            " input_10 (InputLayer)       [(None, 25)]              0         \n",
            "                                                                 \n",
            " embedding_11 (Embedding)    (None, 25, 50)            28679650  \n",
            "                                                                 \n",
            " lstm_3 (LSTM)               (None, 25, 128)           91648     \n",
            "                                                                 \n",
            " gru_2 (GRU)                 (None, 128)               99072     \n",
            "                                                                 \n",
            " dense_11 (Dense)            (None, 1)                 129       \n",
            "                                                                 \n",
            "=================================================================\n",
            "Total params: 28870499 (110.13 MB)\n",
            "Trainable params: 190849 (745.50 KB)\n",
            "Non-trainable params: 28679650 (109.40 MB)\n",
            "_________________________________________________________________\n"
          ]
        }
      ],
      "source": [
        "model_6.summary()"
      ],
      "id": "UWG8BvMZgj2f"
    },
    {
      "cell_type": "code",
      "execution_count": null,
      "metadata": {
        "colab": {
          "base_uri": "https://localhost:8080/"
        },
        "id": "13ODlSdHgl0a",
        "outputId": "e6427186-b5e1-4d70-99ef-3c0f0245b829"
      },
      "outputs": [
        {
          "name": "stdout",
          "output_type": "stream",
          "text": [
            "Saving TensorBoard log files to: tensorflow_hub/LSTM-GRU_50D_1L/20231217-045707\n",
            "Epoch 1/20\n",
            "5998/5998 [==============================] - 77s 12ms/step - loss: 0.5636 - acc: 0.7060 - val_loss: 0.5376 - val_acc: 0.7264 - lr: 0.0010\n",
            "Epoch 2/20\n",
            "5998/5998 [==============================] - 72s 12ms/step - loss: 0.5191 - acc: 0.7399 - val_loss: 0.5094 - val_acc: 0.7486 - lr: 0.0010\n",
            "Epoch 3/20\n",
            "5998/5998 [==============================] - 57s 10ms/step - loss: 0.5014 - acc: 0.7523 - val_loss: 0.4919 - val_acc: 0.7573 - lr: 0.0010\n",
            "Epoch 4/20\n",
            "5998/5998 [==============================] - 68s 11ms/step - loss: 0.4913 - acc: 0.7579 - val_loss: 0.4850 - val_acc: 0.7631 - lr: 0.0010\n",
            "Epoch 5/20\n",
            "5998/5998 [==============================] - 59s 10ms/step - loss: 0.4843 - acc: 0.7648 - val_loss: 0.4788 - val_acc: 0.7681 - lr: 0.0010\n",
            "Epoch 6/20\n",
            "5998/5998 [==============================] - 71s 12ms/step - loss: 0.4794 - acc: 0.7668 - val_loss: 0.4758 - val_acc: 0.7703 - lr: 0.0010\n",
            "Epoch 7/20\n",
            "3996/5998 [==================>...........] - ETA: 15s - loss: 0.4765 - acc: 0.7686"
          ]
        },
        {
          "name": "stderr",
          "output_type": "stream",
          "text": [
            "WARNING:tensorflow:Your input ran out of data; interrupting training. Make sure that your dataset or generator can generate at least `steps_per_epoch * epochs` batches (in this case, 119960 batches). You may need to use the repeat() function when building your dataset.\n"
          ]
        },
        {
          "name": "stdout",
          "output_type": "stream",
          "text": [
            "\b\b\b\b\b\b\b\b\b\b\b\b\b\b\b\b\b\b\b\b\b\b\b\b\b\b\b\b\b\b\b\b\b\b\b\b\b\b\b\b\b\b\b\b\b\b\b\b\b\b\b\b\b\b\b\b\b\b\b\b\b\b\b\b\b\b\b\b\b\b\b\b\b\b\b\b\b\b\b\b\b\b\r5998/5998 [==============================] - 42s 7ms/step - loss: 0.4765 - acc: 0.7686 - val_loss: 0.4742 - val_acc: 0.7726 - lr: 0.0010\n"
          ]
        }
      ],
      "source": [
        "# Fit model\n",
        "model_6_history = model_6.fit(train_dataset,\n",
        "                              steps_per_epoch=int(0.15 * len(train_dataset)), # only fit on 10% of batches for faster training time\n",
        "                              epochs=20,\n",
        "                              validation_data=valid_dataset,\n",
        "                              validation_steps=int(0.15 * len(valid_dataset)),\n",
        "                              callbacks=[early_stopping,\n",
        "                                         reduce_lr,\n",
        "                                         create_model_checkpoint(model_name=\"LSTM-GRU_50D_1L\"),\n",
        "                                         create_tensorboard_callback(dir_name=\"tensorflow_hub\",\n",
        "                                                                     experiment_name=\"LSTM-GRU_50D_1L\")])"
      ],
      "id": "13ODlSdHgl0a"
    },
    {
      "cell_type": "markdown",
      "metadata": {
        "id": "EVws25zkBA7F"
      },
      "source": [
        "## Evaluating & Visualizing"
      ],
      "id": "EVws25zkBA7F"
    },
    {
      "cell_type": "code",
      "execution_count": null,
      "metadata": {
        "colab": {
          "base_uri": "https://localhost:8080/"
        },
        "id": "C9g4VqDggwAb",
        "outputId": "3e893182-4eee-4d48-b0b2-ef4ec410f326"
      },
      "outputs": [
        {
          "name": "stdout",
          "output_type": "stream",
          "text": [
            "9997/9997 [==============================] - 47s 5ms/step - loss: 0.4732 - acc: 0.7709\n"
          ]
        }
      ],
      "source": [
        "score_6 = model_6.evaluate(X_test, y_test, verbose=1)"
      ],
      "id": "C9g4VqDggwAb"
    },
    {
      "cell_type": "markdown",
      "metadata": {
        "id": "FvmR2WhqBCP9"
      },
      "source": [
        "# Model 7 (LSTM-CNN)"
      ],
      "id": "FvmR2WhqBCP9"
    },
    {
      "cell_type": "markdown",
      "metadata": {
        "id": "q6U1DGJvNV_d"
      },
      "source": [
        "## Hyperparameter Tuning"
      ],
      "id": "q6U1DGJvNV_d"
    },
    {
      "cell_type": "code",
      "execution_count": null,
      "metadata": {
        "id": "vga0NlB3Pqjp"
      },
      "outputs": [],
      "source": [
        "def model_builder(hp):\n",
        "  tf.random.set_seed(42)\n",
        "  embedding_layer = Embedding(vocab_length, 50, weights=[embedding_matrix], input_length=25 , trainable=False)\n",
        "\n",
        "  hp_layer_1 = hp.Int(\"units\", min_value=32, max_value=256, step=32)\n",
        "  hp_layer_2 = hp.Int(\"filters\", min_value=8, max_value=64, step=8)\n",
        "  hp_layer_3 = hp.Int(\"kernel_size\", min_value=2, max_value=5, step=1)\n",
        "  hp_learning_rate = hp.Choice('learning_rate', values=[1e-2, 1e-3, 1e-4])\n",
        "\n",
        "  inputs = layers.Input(shape=(25), dtype=\"int32\")\n",
        "  x = embedding_layer(inputs)\n",
        "  x = layers.LSTM(units=hp_layer_1, return_sequences=True)(x)\n",
        "  x = layers.Conv1D(filters=hp_layer_2, kernel_size=hp_layer_3, activation=\"relu\")(x)\n",
        "  outputs = layers.Dense(1, activation=\"sigmoid\")(x)\n",
        "  model = tf.keras.Model(inputs, outputs, name=\"model_7_LSTM-CNN\")\n",
        "\n",
        "  model.compile(optimizer=tf.keras.optimizers.Adam(learning_rate=hp_learning_rate), loss='binary_crossentropy', metrics=['acc'])\n",
        "  return model"
      ],
      "id": "vga0NlB3Pqjp"
    },
    {
      "cell_type": "code",
      "execution_count": null,
      "metadata": {
        "id": "xkXYzpY3Pq2e"
      },
      "outputs": [],
      "source": [
        "import keras_tuner as kt\n",
        "\n",
        "tuner = kt.Hyperband(model_builder,\n",
        "                     objective='val_acc',\n",
        "                     max_epochs=10,\n",
        "                     factor=3,\n",
        "                     directory='dir',\n",
        "                     project_name='model_7_LSTM-CNN')"
      ],
      "id": "xkXYzpY3Pq2e"
    },
    {
      "cell_type": "code",
      "execution_count": null,
      "metadata": {
        "colab": {
          "base_uri": "https://localhost:8080/"
        },
        "id": "P7cAKHbZPsER",
        "outputId": "86d71a7f-27e5-4989-a33e-8064449a05df"
      },
      "outputs": [
        {
          "name": "stdout",
          "output_type": "stream",
          "text": [
            "Trial 18 Complete [00h 08m 24s]\n",
            "val_acc: 0.7585970759391785\n",
            "\n",
            "Best val_acc So Far: 0.7612302303314209\n",
            "Total elapsed time: 01h 08m 54s\n",
            "\n",
            "Search: Running Trial #19\n",
            "\n",
            "Value             |Best Value So Far |Hyperparameter\n",
            "224               |64                |units\n",
            "8                 |32                |filters\n",
            "2                 |5                 |kernel_size\n",
            "0.01              |0.001             |learning_rate\n",
            "4                 |10                |tuner/epochs\n",
            "0                 |4                 |tuner/initial_epoch\n",
            "1                 |2                 |tuner/bracket\n",
            "0                 |2                 |tuner/round\n",
            "\n",
            "Epoch 1/4\n",
            "5998/5998 [==============================] - 87s 14ms/step - loss: 0.6431 - acc: 0.5961 - val_loss: 0.5815 - val_acc: 0.7006\n",
            "Epoch 2/4\n",
            "5998/5998 [==============================] - 82s 14ms/step - loss: 0.5619 - acc: 0.7071 - val_loss: 0.5472 - val_acc: 0.7184\n",
            "Epoch 3/4\n",
            "5998/5998 [==============================] - 88s 15ms/step - loss: 0.5492 - acc: 0.7177 - val_loss: 0.5412 - val_acc: 0.7237\n",
            "Epoch 4/4\n",
            "5998/5998 [==============================] - 79s 13ms/step - loss: 0.5442 - acc: 0.7208 - val_loss: 0.5354 - val_acc: 0.7273\n"
          ]
        }
      ],
      "source": [
        "tuner.search(train_dataset,\n",
        "             steps_per_epoch=int(0.15 * len(train_dataset)),\n",
        "             epochs=20,\n",
        "             validation_data = valid_dataset,\n",
        "             validation_split=int(0.15 * len(valid_dataset)),\n",
        "             callbacks=[early_stopping])"
      ],
      "id": "P7cAKHbZPsER"
    },
    {
      "cell_type": "code",
      "execution_count": null,
      "metadata": {
        "id": "HUiYA6PpPubB"
      },
      "outputs": [],
      "source": [
        "tuner.results_summary(num_trials=10)"
      ],
      "id": "HUiYA6PpPubB"
    },
    {
      "cell_type": "code",
      "execution_count": null,
      "metadata": {
        "id": "d1guxz9vPwGU"
      },
      "outputs": [],
      "source": [
        "best_hps = tuner.get_best_hyperparameters(num_trials=1)[0]"
      ],
      "id": "d1guxz9vPwGU"
    },
    {
      "cell_type": "code",
      "execution_count": null,
      "metadata": {
        "id": "T95W0p_sPx5z"
      },
      "outputs": [],
      "source": [
        "model_7 = tuner.hypermodel.build(best_hps)"
      ],
      "id": "T95W0p_sPx5z"
    },
    {
      "cell_type": "code",
      "execution_count": null,
      "metadata": {
        "id": "GYCRdz9MPzF2"
      },
      "outputs": [],
      "source": [
        "model_7.summary()"
      ],
      "id": "GYCRdz9MPzF2"
    },
    {
      "cell_type": "markdown",
      "metadata": {
        "id": "StyZ27eTBVWn"
      },
      "source": [
        "## Training"
      ],
      "id": "StyZ27eTBVWn"
    },
    {
      "cell_type": "code",
      "execution_count": null,
      "metadata": {
        "id": "CYRADisEgyPP"
      },
      "outputs": [],
      "source": [
        "# Neural Network architecture\n",
        "from tensorflow.keras import layers\n",
        "import numpy as np\n",
        "\n",
        "tf.random.set_seed(42)\n",
        "embedding_layer = Embedding(vocab_length, 50, weights=[embedding_matrix], input_length=25 , trainable=False)\n",
        "\n",
        "inputs = layers.Input(shape=(25,), dtype=\"int32\")\n",
        "x = embedding_layer(inputs)\n",
        "x = layers.LSTM(128, dropout=0.2, return_sequences=True)(x)\n",
        "x = layers.LSTM(128, kernel_regularizer='l1', dropout=0.2, return_sequences=True)(x)\n",
        "x = layers.Conv1D(filters=32, kernel_size=5, activation=\"relu\")(x)\n",
        "outputs = layers.Dense(1, activation=\"sigmoid\")(x)\n",
        "model_7 = tf.keras.Model(inputs, outputs, name=\"model_7_LSTM-CNN\")\n",
        "\n",
        "model_7.compile(optimizer='adam', loss='binary_crossentropy', metrics=['acc'])"
      ],
      "id": "CYRADisEgyPP"
    },
    {
      "cell_type": "code",
      "execution_count": null,
      "metadata": {
        "id": "s90F7trYg-WZ",
        "colab": {
          "base_uri": "https://localhost:8080/"
        },
        "outputId": "ebad0250-2478-413c-8e58-d53b63faef96"
      },
      "outputs": [
        {
          "output_type": "stream",
          "name": "stdout",
          "text": [
            "Model: \"model_7_LSTM-CNN\"\n",
            "_________________________________________________________________\n",
            " Layer (type)                Output Shape              Param #   \n",
            "=================================================================\n",
            " input_2 (InputLayer)        [(None, 25)]              0         \n",
            "                                                                 \n",
            " embedding_1 (Embedding)     (None, 25, 50)            28679650  \n",
            "                                                                 \n",
            " lstm_2 (LSTM)               (None, 25, 128)           91648     \n",
            "                                                                 \n",
            " lstm_3 (LSTM)               (None, 25, 128)           131584    \n",
            "                                                                 \n",
            " conv1d_1 (Conv1D)           (None, 21, 32)            20512     \n",
            "                                                                 \n",
            " dense (Dense)               (None, 21, 1)             33        \n",
            "                                                                 \n",
            "=================================================================\n",
            "Total params: 28923427 (110.33 MB)\n",
            "Trainable params: 243777 (952.25 KB)\n",
            "Non-trainable params: 28679650 (109.40 MB)\n",
            "_________________________________________________________________\n"
          ]
        }
      ],
      "source": [
        "model_7.summary()"
      ],
      "id": "s90F7trYg-WZ"
    },
    {
      "cell_type": "code",
      "execution_count": null,
      "metadata": {
        "id": "6Uuibswxg_5Y",
        "colab": {
          "base_uri": "https://localhost:8080/"
        },
        "outputId": "dd0e4841-37eb-4f18-9d93-860e2f1c6c3c"
      },
      "outputs": [
        {
          "output_type": "stream",
          "name": "stdout",
          "text": [
            "Saving TensorBoard log files to: tensorflow_hub/LSTM-CNN_50D_1L/20240102-080233\n",
            "Epoch 1/20\n",
            "2500/2500 [==============================] - 37s 12ms/step - loss: 1.0726 - acc: 0.6989 - val_loss: 0.5982 - val_acc: 0.7360 - lr: 0.0010\n",
            "Epoch 2/20\n",
            "2500/2500 [==============================] - 29s 11ms/step - loss: 0.6102 - acc: 0.7269 - val_loss: 0.5837 - val_acc: 0.7471 - lr: 0.0010\n",
            "Epoch 3/20\n",
            "2500/2500 [==============================] - 29s 11ms/step - loss: 0.5964 - acc: 0.7367 - val_loss: 0.5742 - val_acc: 0.7531 - lr: 0.0010\n",
            "Epoch 4/20\n",
            "2500/2500 [==============================] - 29s 11ms/step - loss: 0.5880 - acc: 0.7429 - val_loss: 0.5673 - val_acc: 0.7581 - lr: 0.0010\n",
            "Epoch 5/20\n",
            "2500/2500 [==============================] - 29s 12ms/step - loss: 0.5819 - acc: 0.7471 - val_loss: 0.5640 - val_acc: 0.7600 - lr: 0.0010\n",
            "Epoch 6/20\n",
            "2500/2500 [==============================] - 28s 11ms/step - loss: 0.5775 - acc: 0.7500 - val_loss: 0.5602 - val_acc: 0.7631 - lr: 0.0010\n",
            "Epoch 7/20\n",
            "2500/2500 [==============================] - 31s 12ms/step - loss: 0.5738 - acc: 0.7525 - val_loss: 0.5560 - val_acc: 0.7649 - lr: 0.0010\n",
            "Epoch 8/20\n",
            "2500/2500 [==============================] - 29s 11ms/step - loss: 0.5711 - acc: 0.7542 - val_loss: 0.5554 - val_acc: 0.7660 - lr: 0.0010\n",
            "Epoch 9/20\n",
            "2500/2500 [==============================] - 28s 11ms/step - loss: 0.5687 - acc: 0.7558 - val_loss: 0.5545 - val_acc: 0.7671 - lr: 0.0010\n",
            "Epoch 10/20\n",
            "2500/2500 [==============================] - 28s 11ms/step - loss: 0.5669 - acc: 0.7574 - val_loss: 0.5528 - val_acc: 0.7677 - lr: 0.0010\n",
            "Epoch 11/20\n",
            "2500/2500 [==============================] - 23s 9ms/step - loss: 0.5651 - acc: 0.7584 - val_loss: 0.5542 - val_acc: 0.7681 - lr: 0.0010\n",
            "Epoch 12/20\n",
            "2499/2500 [============================>.] - ETA: 0s - loss: 0.5637 - acc: 0.7592\n",
            "Epoch 12: ReduceLROnPlateau reducing learning rate to 0.00020000000949949026.\n",
            "2500/2500 [==============================] - 22s 9ms/step - loss: 0.5637 - acc: 0.7592 - val_loss: 0.5536 - val_acc: 0.7690 - lr: 0.0010\n",
            "Epoch 13/20\n",
            "2500/2500 [==============================] - 28s 11ms/step - loss: 0.5016 - acc: 0.7623 - val_loss: 0.4896 - val_acc: 0.7704 - lr: 2.0000e-04\n",
            "Epoch 14/20\n",
            "2500/2500 [==============================] - 28s 11ms/step - loss: 0.5000 - acc: 0.7633 - val_loss: 0.4892 - val_acc: 0.7706 - lr: 2.0000e-04\n",
            "Epoch 15/20\n",
            "2500/2500 [==============================] - 30s 12ms/step - loss: 0.4992 - acc: 0.7634 - val_loss: 0.4889 - val_acc: 0.7708 - lr: 2.0000e-04\n",
            "Epoch 16/20\n",
            "2500/2500 [==============================] - 28s 11ms/step - loss: 0.4986 - acc: 0.7641 - val_loss: 0.4885 - val_acc: 0.7711 - lr: 2.0000e-04\n",
            "Epoch 17/20\n",
            "2500/2500 [==============================] - 22s 9ms/step - loss: 0.4982 - acc: 0.7640 - val_loss: 0.4885 - val_acc: 0.7712 - lr: 2.0000e-04\n",
            "Epoch 18/20\n",
            "2500/2500 [==============================] - 28s 11ms/step - loss: 0.4977 - acc: 0.7642 - val_loss: 0.4877 - val_acc: 0.7715 - lr: 2.0000e-04\n",
            "Epoch 19/20\n",
            "2500/2500 [==============================] - 22s 9ms/step - loss: 0.4975 - acc: 0.7644 - val_loss: 0.4883 - val_acc: 0.7716 - lr: 2.0000e-04\n",
            "Epoch 20/20\n",
            "2497/2500 [============================>.] - ETA: 0s - loss: 0.4969 - acc: 0.7650\n",
            "Epoch 20: ReduceLROnPlateau reducing learning rate to 4.0000001899898055e-05.\n",
            "2500/2500 [==============================] - 23s 9ms/step - loss: 0.4969 - acc: 0.7650 - val_loss: 0.4881 - val_acc: 0.7715 - lr: 2.0000e-04\n"
          ]
        }
      ],
      "source": [
        "# Fit model\n",
        "model_7_history = model_7.fit(train_dataset,\n",
        "                              steps_per_epoch=len(train_dataset),\n",
        "                              epochs=20,\n",
        "                              validation_data=valid_dataset,\n",
        "                              validation_steps=len(valid_dataset),\n",
        "                              callbacks=[early_stopping,\n",
        "                                         reduce_lr,\n",
        "                                         create_model_checkpoint(model_name=\"LSTM-CNN_50D_1L\"),\n",
        "                                         create_tensorboard_callback(dir_name=\"tensorflow_hub\",\n",
        "                                                                     experiment_name=\"LSTM-CNN_50D_1L\")])"
      ],
      "id": "6Uuibswxg_5Y"
    },
    {
      "cell_type": "markdown",
      "metadata": {
        "id": "LaVZ0EfrBWwn"
      },
      "source": [
        "## Evaluating & Visualizing"
      ],
      "id": "LaVZ0EfrBWwn"
    },
    {
      "cell_type": "code",
      "execution_count": null,
      "metadata": {
        "id": "75Z1LXAVhJM1",
        "colab": {
          "base_uri": "https://localhost:8080/"
        },
        "outputId": "a2ae7e15-74ec-49b2-97a9-4327bd5cf97b"
      },
      "outputs": [
        {
          "output_type": "stream",
          "name": "stdout",
          "text": [
            "9997/9997 [==============================] - 41s 4ms/step - loss: 0.4881 - acc: 0.7715\n"
          ]
        }
      ],
      "source": [
        "score_7 = model_7.evaluate(X_test, y_test, verbose=1)"
      ],
      "id": "75Z1LXAVhJM1"
    },
    {
      "cell_type": "markdown",
      "metadata": {
        "id": "ywmhLrNMBXww"
      },
      "source": [
        "# Model 8 (BiLSTM-CNN)"
      ],
      "id": "ywmhLrNMBXww"
    },
    {
      "cell_type": "markdown",
      "metadata": {
        "id": "Hx17FO5YNXPF"
      },
      "source": [
        "## Hyperparameter Tuning"
      ],
      "id": "Hx17FO5YNXPF"
    },
    {
      "cell_type": "code",
      "execution_count": null,
      "metadata": {
        "id": "Uaf-7Z8cS3M4"
      },
      "outputs": [],
      "source": [
        "def model_builder(hp):\n",
        "  tf.random.set_seed(42)\n",
        "  embedding_layer = Embedding(vocab_length, 50, weights=[embedding_matrix], input_length=25 , trainable=False)\n",
        "\n",
        "  hp_layer_1 = hp.Int(\"units\", min_value=32, max_value=256, step=32)\n",
        "  hp_layer_2 = hp.Int(\"filters\", min_value=8, max_value=64, step=8)\n",
        "  hp_layer_3 = hp.Int(\"kernel_size\", min_value=2, max_value=5, step=1)\n",
        "  hp_learning_rate = hp.Choice('learning_rate', values=[1e-2, 1e-3, 1e-4])\n",
        "\n",
        "  inputs = layers.Input(shape=(25), dtype=\"int32\")\n",
        "  x = embedding_layer(inputs)\n",
        "  x = layers.Bidirectional(layers.LSTM(units=hp_layer_1, return_sequences=True))(x)\n",
        "  x = layers.Conv1D(filters=hp_layer_2, kernel_size=hp_layer_3, activation=\"relu\")(x)\n",
        "  outputs = layers.Dense(1, activation=\"sigmoid\")(x)\n",
        "  model = tf.keras.Model(inputs, outputs, name=\"model_8_BiLSTM-CNN\")\n",
        "\n",
        "  model.compile(optimizer=tf.keras.optimizers.Adam(learning_rate=hp_learning_rate), loss='binary_crossentropy', metrics=['acc'])\n",
        "  return model"
      ],
      "id": "Uaf-7Z8cS3M4"
    },
    {
      "cell_type": "code",
      "execution_count": null,
      "metadata": {
        "id": "paXmh78AS6QI"
      },
      "outputs": [],
      "source": [
        "import keras_tuner as kt\n",
        "\n",
        "tuner = kt.Hyperband(model_builder,\n",
        "                     objective='val_acc',\n",
        "                     max_epochs=10,\n",
        "                     factor=3,\n",
        "                     directory='dir',\n",
        "                     project_name='model_8_BiLSTM-CNN')"
      ],
      "id": "paXmh78AS6QI"
    },
    {
      "cell_type": "code",
      "execution_count": null,
      "metadata": {
        "id": "CPzXht8uTElG"
      },
      "outputs": [],
      "source": [
        "tuner.search(train_dataset,\n",
        "             steps_per_epoch=int(0.15 * len(train_dataset)),\n",
        "             epochs=20,\n",
        "             validation_data = valid_dataset,\n",
        "             validation_split=int(0.15 * len(valid_dataset)),\n",
        "             callbacks=[early_stopping])"
      ],
      "id": "CPzXht8uTElG"
    },
    {
      "cell_type": "code",
      "execution_count": null,
      "metadata": {
        "id": "ziPxw8JOTF16"
      },
      "outputs": [],
      "source": [
        "tuner.results_summary(num_trials=10)"
      ],
      "id": "ziPxw8JOTF16"
    },
    {
      "cell_type": "code",
      "execution_count": null,
      "metadata": {
        "id": "aH7-uxkwTHtj"
      },
      "outputs": [],
      "source": [
        "best_hps = tuner.get_best_hyperparameters(num_trials=1)[0]"
      ],
      "id": "aH7-uxkwTHtj"
    },
    {
      "cell_type": "code",
      "execution_count": null,
      "metadata": {
        "id": "W1RBjeVVTI5H"
      },
      "outputs": [],
      "source": [
        "model_8 = tuner.hypermodel.build(best_hps)"
      ],
      "id": "W1RBjeVVTI5H"
    },
    {
      "cell_type": "code",
      "execution_count": null,
      "metadata": {
        "id": "3SNfOA6MTJ6p"
      },
      "outputs": [],
      "source": [
        "model_8.summary()"
      ],
      "id": "3SNfOA6MTJ6p"
    },
    {
      "cell_type": "markdown",
      "metadata": {
        "id": "cj4SQTI5BdR4"
      },
      "source": [
        "## Training"
      ],
      "id": "cj4SQTI5BdR4"
    },
    {
      "cell_type": "code",
      "execution_count": null,
      "metadata": {
        "id": "uvWvDHFdhMqV"
      },
      "outputs": [],
      "source": [
        "# Neural Network architecture\n",
        "from tensorflow.keras import layers\n",
        "import numpy as np\n",
        "\n",
        "tf.random.set_seed(42)\n",
        "embedding_layer = Embedding(vocab_length, 50, weights=[embedding_matrix], input_length=25 , trainable=False)\n",
        "\n",
        "inputs = layers.Input(shape=(25,), dtype=\"int32\")\n",
        "x = embedding_layer(inputs)\n",
        "x = layers.LSTM(128, dropout=0.2, return_sequences=True)(x)\n",
        "x = layers.Bidirectional(layers.LSTM(64, dropout=0.2, return_sequences=True))(x)\n",
        "x = layers.LSTM(128, kernel_regularizer='l1', dropout=0.2, return_sequences=True)(x)\n",
        "x = layers.Conv1D(filters=32, kernel_size=5, activation=\"relu\")(x)\n",
        "x = layers.MaxPooling1D(pool_size=2)(x)\n",
        "x = layers.Conv1D(filters=32, kernel_size=5, activation=\"relu\")(x)\n",
        "\n",
        "outputs = layers.Dense(1, activation=\"sigmoid\")(x)\n",
        "model_8 = tf.keras.Model(inputs, outputs, name=\"model_8_BiLSTM-CNN\")\n",
        "\n",
        "model_8.compile(optimizer='adam', loss='binary_crossentropy', metrics=['acc'])"
      ],
      "id": "uvWvDHFdhMqV"
    },
    {
      "cell_type": "code",
      "execution_count": null,
      "metadata": {
        "id": "eVJ8T-3fhXmz",
        "colab": {
          "base_uri": "https://localhost:8080/"
        },
        "outputId": "36f6aa30-1e10-47f7-c24c-422c2c1f8e47"
      },
      "outputs": [
        {
          "output_type": "stream",
          "name": "stdout",
          "text": [
            "Model: \"model_8_BiLSTM-CNN\"\n",
            "_________________________________________________________________\n",
            " Layer (type)                Output Shape              Param #   \n",
            "=================================================================\n",
            " input_4 (InputLayer)        [(None, 25)]              0         \n",
            "                                                                 \n",
            " embedding_3 (Embedding)     (None, 25, 50)            28679650  \n",
            "                                                                 \n",
            " lstm_4 (LSTM)               (None, 25, 128)           91648     \n",
            "                                                                 \n",
            " bidirectional (Bidirection  (None, 25, 128)           98816     \n",
            " al)                                                             \n",
            "                                                                 \n",
            " lstm_6 (LSTM)               (None, 25, 128)           131584    \n",
            "                                                                 \n",
            " conv1d_2 (Conv1D)           (None, 21, 32)            20512     \n",
            "                                                                 \n",
            " max_pooling1d (MaxPooling1  (None, 10, 32)            0         \n",
            " D)                                                              \n",
            "                                                                 \n",
            " conv1d_3 (Conv1D)           (None, 6, 32)             5152      \n",
            "                                                                 \n",
            " dense_1 (Dense)             (None, 6, 1)              33        \n",
            "                                                                 \n",
            "=================================================================\n",
            "Total params: 29027395 (110.73 MB)\n",
            "Trainable params: 347745 (1.33 MB)\n",
            "Non-trainable params: 28679650 (109.40 MB)\n",
            "_________________________________________________________________\n"
          ]
        }
      ],
      "source": [
        "model_8.summary()"
      ],
      "id": "eVJ8T-3fhXmz"
    },
    {
      "cell_type": "code",
      "execution_count": null,
      "metadata": {
        "id": "-xykW2w1hafO",
        "colab": {
          "base_uri": "https://localhost:8080/"
        },
        "outputId": "fc9494bd-8eab-4b87-f03b-e6cf53edd818"
      },
      "outputs": [
        {
          "output_type": "stream",
          "name": "stdout",
          "text": [
            "Saving TensorBoard log files to: tensorflow_hub/BiLSTM-CNN_50D_1L/20240102-081342\n",
            "Epoch 1/20\n",
            "2500/2500 [==============================] - 62s 22ms/step - loss: 1.0645 - acc: 0.7076 - val_loss: 0.5901 - val_acc: 0.7431 - lr: 0.0010\n",
            "Epoch 2/20\n",
            "2500/2500 [==============================] - 50s 20ms/step - loss: 0.6011 - acc: 0.7356 - val_loss: 0.5706 - val_acc: 0.7563 - lr: 0.0010\n",
            "Epoch 3/20\n",
            "2500/2500 [==============================] - 49s 20ms/step - loss: 0.5863 - acc: 0.7456 - val_loss: 0.5609 - val_acc: 0.7632 - lr: 0.0010\n",
            "Epoch 4/20\n",
            "2500/2500 [==============================] - 52s 21ms/step - loss: 0.5764 - acc: 0.7525 - val_loss: 0.5547 - val_acc: 0.7678 - lr: 0.0010\n",
            "Epoch 5/20\n",
            "2500/2500 [==============================] - 51s 20ms/step - loss: 0.5689 - acc: 0.7573 - val_loss: 0.5524 - val_acc: 0.7690 - lr: 0.0010\n",
            "Epoch 6/20\n",
            "2500/2500 [==============================] - 49s 20ms/step - loss: 0.5635 - acc: 0.7606 - val_loss: 0.5485 - val_acc: 0.7714 - lr: 0.0010\n",
            "Epoch 7/20\n",
            "2500/2500 [==============================] - 52s 21ms/step - loss: 0.5592 - acc: 0.7638 - val_loss: 0.5450 - val_acc: 0.7743 - lr: 0.0010\n",
            "Epoch 8/20\n",
            "2500/2500 [==============================] - 51s 20ms/step - loss: 0.5558 - acc: 0.7656 - val_loss: 0.5435 - val_acc: 0.7751 - lr: 0.0010\n",
            "Epoch 9/20\n",
            "2500/2500 [==============================] - 34s 14ms/step - loss: 0.5529 - acc: 0.7672 - val_loss: 0.5445 - val_acc: 0.7764 - lr: 0.0010\n",
            "Epoch 10/20\n",
            "2500/2500 [==============================] - 52s 21ms/step - loss: 0.5505 - acc: 0.7689 - val_loss: 0.5387 - val_acc: 0.7781 - lr: 0.0010\n",
            "Epoch 11/20\n",
            "2500/2500 [==============================] - 35s 14ms/step - loss: 0.5482 - acc: 0.7705 - val_loss: 0.5408 - val_acc: 0.7783 - lr: 0.0010\n",
            "Epoch 12/20\n",
            "2499/2500 [============================>.] - ETA: 0s - loss: 0.5462 - acc: 0.7719\n",
            "Epoch 12: ReduceLROnPlateau reducing learning rate to 0.00020000000949949026.\n",
            "2500/2500 [==============================] - 35s 14ms/step - loss: 0.5462 - acc: 0.7719 - val_loss: 0.5409 - val_acc: 0.7789 - lr: 0.0010\n",
            "Epoch 13/20\n",
            "2500/2500 [==============================] - 50s 20ms/step - loss: 0.4828 - acc: 0.7750 - val_loss: 0.4734 - val_acc: 0.7819 - lr: 2.0000e-04\n",
            "Epoch 14/20\n",
            "2500/2500 [==============================] - 49s 20ms/step - loss: 0.4809 - acc: 0.7759 - val_loss: 0.4729 - val_acc: 0.7825 - lr: 2.0000e-04\n",
            "Epoch 15/20\n",
            "2500/2500 [==============================] - 52s 21ms/step - loss: 0.4802 - acc: 0.7763 - val_loss: 0.4725 - val_acc: 0.7828 - lr: 2.0000e-04\n",
            "Epoch 16/20\n",
            "2500/2500 [==============================] - 34s 14ms/step - loss: 0.4798 - acc: 0.7766 - val_loss: 0.4736 - val_acc: 0.7826 - lr: 2.0000e-04\n",
            "Epoch 17/20\n",
            "2500/2500 [==============================] - ETA: 0s - loss: 0.4791 - acc: 0.7770\n",
            "Epoch 17: ReduceLROnPlateau reducing learning rate to 4.0000001899898055e-05.\n",
            "2500/2500 [==============================] - 34s 14ms/step - loss: 0.4791 - acc: 0.7770 - val_loss: 0.4725 - val_acc: 0.7830 - lr: 2.0000e-04\n",
            "Epoch 18/20\n",
            "2500/2500 [==============================] - 48s 19ms/step - loss: 0.4648 - acc: 0.7781 - val_loss: 0.4586 - val_acc: 0.7832 - lr: 4.0000e-05\n",
            "Epoch 19/20\n",
            "2500/2500 [==============================] - 34s 13ms/step - loss: 0.4644 - acc: 0.7776 - val_loss: 0.4589 - val_acc: 0.7831 - lr: 4.0000e-05\n",
            "Epoch 20/20\n",
            "2500/2500 [==============================] - 51s 21ms/step - loss: 0.4643 - acc: 0.7781 - val_loss: 0.4585 - val_acc: 0.7832 - lr: 4.0000e-05\n"
          ]
        }
      ],
      "source": [
        "# Fit model\n",
        "model_8_history = model_8.fit(train_dataset,\n",
        "                              # steps_per_epoch=int(0.15 * len(train_dataset)), # only fit on 10% of batches for faster training time\n",
        "                              epochs=20,\n",
        "                              validation_data=valid_dataset,\n",
        "                              # validation_steps=int(0.15 * len(valid_dataset)),\n",
        "                              callbacks=[early_stopping,\n",
        "                                         reduce_lr,\n",
        "                                         create_model_checkpoint(model_name=\"BiLSTM-CNN_50D_1L\"),\n",
        "                                         create_tensorboard_callback(dir_name=\"tensorflow_hub\",\n",
        "                                                                     experiment_name=\"BiLSTM-CNN_50D_1L\")])"
      ],
      "id": "-xykW2w1hafO"
    },
    {
      "cell_type": "markdown",
      "metadata": {
        "id": "aiyS4ltfBe8w"
      },
      "source": [
        "## Evaluating & Visualizing"
      ],
      "id": "aiyS4ltfBe8w"
    },
    {
      "cell_type": "code",
      "execution_count": null,
      "metadata": {
        "id": "ghXK9hirhkCL",
        "colab": {
          "base_uri": "https://localhost:8080/"
        },
        "outputId": "ab026e77-84f2-4757-a651-ef0a6de13e8e"
      },
      "outputs": [
        {
          "output_type": "stream",
          "name": "stdout",
          "text": [
            "9997/9997 [==============================] - 57s 6ms/step - loss: 0.4585 - acc: 0.7832\n"
          ]
        }
      ],
      "source": [
        "score_8 = model_8.evaluate(X_test, y_test, verbose=1)"
      ],
      "id": "ghXK9hirhkCL"
    },
    {
      "cell_type": "code",
      "source": [
        "# Plot the training curves\n",
        "pd.DataFrame(model_8_history.history).plot(figsize=(10, 7));"
      ],
      "metadata": {
        "colab": {
          "base_uri": "https://localhost:8080/",
          "height": 599
        },
        "id": "yqo5tptVhUY4",
        "outputId": "eb96e68a-ad77-44f4-e53c-84ee859cee66"
      },
      "id": "yqo5tptVhUY4",
      "execution_count": null,
      "outputs": [
        {
          "output_type": "display_data",
          "data": {
            "text/plain": [
              "<Figure size 1000x700 with 1 Axes>"
            ],
            "image/png": "[encoded data removed]"
          },
          "metadata": {}
        }
      ]
    },
    {
      "cell_type": "code",
      "source": [
        "# Check out the loss curves of model_4\n",
        "plot_loss_curves(model_8_history)"
      ],
      "metadata": {
        "id": "kZQDu246hX-r"
      },
      "id": "kZQDu246hX-r",
      "execution_count": null,
      "outputs": []
    },
    {
      "cell_type": "code",
      "source": [
        "# Make predictions\n",
        "preds = model_8.predict(X_test)\n",
        "preds = tf.squeeze(tf.round(tf.reduce_mean(preds, axis=1)))\n",
        "\n",
        "# Get baseline results\n",
        "results = calculate_results(y_true=y_test,\n",
        "                            y_pred=preds)\n",
        "results"
      ],
      "metadata": {
        "colab": {
          "base_uri": "https://localhost:8080/"
        },
        "id": "OEAX2TXfhbWt",
        "outputId": "7e436cc8-6755-4ae6-c8a2-7cd13282c6f9"
      },
      "id": "OEAX2TXfhbWt",
      "execution_count": null,
      "outputs": [
        {
          "output_type": "stream",
          "name": "stdout",
          "text": [
            "9997/9997 [==============================] - 50s 5ms/step\n"
          ]
        },
        {
          "output_type": "execute_result",
          "data": {
            "text/plain": [
              "{'accuracy': 78.31183689801125,\n",
              " 'precision': 0.7831191865893218,\n",
              " 'recall': 0.7831183689801124,\n",
              " 'f1': 0.783118614663479}"
            ]
          },
          "metadata": {},
          "execution_count": 74
        }
      ]
    },
    {
      "cell_type": "markdown",
      "metadata": {
        "id": "hUy6hdxeBhfa"
      },
      "source": [
        "# Model 9 (BiGru-CNN)"
      ],
      "id": "hUy6hdxeBhfa"
    },
    {
      "cell_type": "markdown",
      "metadata": {
        "id": "gnuUW8x4NYW_"
      },
      "source": [
        "## Hyperparameter Tuning"
      ],
      "id": "gnuUW8x4NYW_"
    },
    {
      "cell_type": "code",
      "execution_count": null,
      "metadata": {
        "id": "XxctCGRHS7Nf"
      },
      "outputs": [],
      "source": [
        "def model_builder(hp):\n",
        "  tf.random.set_seed(42)\n",
        "  embedding_layer = Embedding(vocab_length, 50, weights=[embedding_matrix], input_length=25 , trainable=False)\n",
        "\n",
        "  hp_layer_1 = hp.Int(\"units\", min_value=32, max_value=256, step=32)\n",
        "  hp_layer_2 = hp.Int(\"filters\", min_value=8, max_value=64, step=8)\n",
        "  hp_layer_3 = hp.Int(\"kernel_size\", min_value=2, max_value=5, step=1)\n",
        "  hp_learning_rate = hp.Choice('learning_rate', values=[1e-2, 1e-3, 1e-4])\n",
        "\n",
        "  inputs = layers.Input(shape=(25), dtype=\"int32\")\n",
        "  x = embedding_layer(inputs)\n",
        "  x = layers.Bidirectional(layers.GRU(units=hp_layer_1, return_sequences=True))(x)\n",
        "  x = layers.Conv1D(filters=hp_layer_2, kernel_size=hp_layer_3, activation=\"relu\")(x)\n",
        "  outputs = layers.Dense(1, activation=\"sigmoid\")(x)\n",
        "  model = tf.keras.Model(inputs, outputs, name=\"model_9_BiGRU-CNN\")\n",
        "\n",
        "  model.compile(optimizer=tf.keras.optimizers.Adam(learning_rate=hp_learning_rate), loss='binary_crossentropy', metrics=['acc'])\n",
        "  return model"
      ],
      "id": "XxctCGRHS7Nf"
    },
    {
      "cell_type": "code",
      "execution_count": null,
      "metadata": {
        "id": "MsSKJ640TORV"
      },
      "outputs": [],
      "source": [
        "import keras_tuner as kt\n",
        "\n",
        "tuner = kt.Hyperband(model_builder,\n",
        "                     objective='val_acc',\n",
        "                     max_epochs=10,\n",
        "                     factor=3,\n",
        "                     directory='dir',\n",
        "                     project_name='model_3_LSTM')mm"
      ],
      "id": "MsSKJ640TORV"
    },
    {
      "cell_type": "code",
      "execution_count": null,
      "metadata": {
        "id": "zfek7J0cTQyR"
      },
      "outputs": [],
      "source": [
        "tuner.search(train_dataset,\n",
        "             steps_per_epoch=int(0.15 * len(train_dataset)),\n",
        "             epochs=20,\n",
        "             validation_data = valid_dataset,\n",
        "             validation_split=int(0.15 * len(valid_dataset)),\n",
        "             callbacks=[early_stopping])"
      ],
      "id": "zfek7J0cTQyR"
    },
    {
      "cell_type": "code",
      "execution_count": null,
      "metadata": {
        "id": "t8cBxoBWTSeU"
      },
      "outputs": [],
      "source": [
        "tuner.results_summary(num_trials=10)"
      ],
      "id": "t8cBxoBWTSeU"
    },
    {
      "cell_type": "code",
      "execution_count": null,
      "metadata": {
        "id": "g5VTb2xcTT1k"
      },
      "outputs": [],
      "source": [
        "best_hps = tuner.get_best_hyperparameters(num_trials=1)[0]"
      ],
      "id": "g5VTb2xcTT1k"
    },
    {
      "cell_type": "code",
      "execution_count": null,
      "metadata": {
        "id": "o3HSFt_5TVIZ"
      },
      "outputs": [],
      "source": [
        "model_9 = tuner.hypermodel.build(best_hps)"
      ],
      "id": "o3HSFt_5TVIZ"
    },
    {
      "cell_type": "code",
      "execution_count": null,
      "metadata": {
        "id": "p6mEB0slTWNk"
      },
      "outputs": [],
      "source": [
        "model_9.summary()"
      ],
      "id": "p6mEB0slTWNk"
    },
    {
      "cell_type": "markdown",
      "metadata": {
        "id": "-Ymn1ojPBoWx"
      },
      "source": [
        "## Training"
      ],
      "id": "-Ymn1ojPBoWx"
    },
    {
      "cell_type": "code",
      "execution_count": null,
      "metadata": {
        "id": "Fh5QIwWnhl6n"
      },
      "outputs": [],
      "source": [
        "# Neural Network architecture\n",
        "from tensorflow.keras import layers\n",
        "import numpy as np\n",
        "\n",
        "tf.random.set_seed(42)\n",
        "embedding_layer = Embedding(vocab_length, 50, weights=[embedding_matrix], input_length=25 , trainable=False)\n",
        "\n",
        "inputs = layers.Input(shape=(25,), dtype=\"int32\")\n",
        "x = embedding_layer(inputs)\n",
        "x = layers.Bidirectional(layers.GRU(64))(x)\n",
        "x = layers.Conv1D(filters=32, kernel_size=5, activation=\"relu\")(x)\n",
        "outputs = layers.Dense(1, activation=\"sigmoid\")(x)\n",
        "model_9 = tf.keras.Model(inputs, outputs, name=\"model_9_BiGRU-CNN\")\n",
        "\n",
        "model_9.compile(optimizer='adam', loss='binary_crossentropy', metrics=['acc'])"
      ],
      "id": "Fh5QIwWnhl6n"
    },
    {
      "cell_type": "code",
      "execution_count": null,
      "metadata": {
        "id": "PLIsTtyKhvNV"
      },
      "outputs": [],
      "source": [
        "model_9.summary()"
      ],
      "id": "PLIsTtyKhvNV"
    },
    {
      "cell_type": "code",
      "execution_count": null,
      "metadata": {
        "id": "_s8OF8Zahwao"
      },
      "outputs": [],
      "source": [
        "# Fit model\n",
        "model_9_history = model_9.fit(train_dataset,\n",
        "                              steps_per_epoch=int(0.15 * len(train_dataset)), # only fit on 10% of batches for faster training time\n",
        "                              epochs=20,\n",
        "                              validation_data=valid_dataset,\n",
        "                              validation_steps=int(0.15 * len(valid_dataset)),\n",
        "                              callbacks=[early_stopping,\n",
        "                                         reduce_lr,\n",
        "                                         create_model_checkpoint(model_name=\"BiGRU-CNN_50D_1L\"),\n",
        "                                         create_tensorboard_callback(dir_name=\"tensorflow_hub\",\n",
        "                                                                     experiment_name=\"BiGRU-CNN_50D_1L\")])"
      ],
      "id": "_s8OF8Zahwao"
    },
    {
      "cell_type": "markdown",
      "metadata": {
        "id": "abGDJ9KyBxEL"
      },
      "source": [
        "## Evaluating & Visualizing"
      ],
      "id": "abGDJ9KyBxEL"
    },
    {
      "cell_type": "code",
      "execution_count": null,
      "metadata": {
        "id": "5d2dUk85h3cn"
      },
      "outputs": [],
      "source": [
        "score_9 = model_9.evaluate(X_test, y_test, verbose=1)"
      ],
      "id": "5d2dUk85h3cn"
    },
    {
      "cell_type": "markdown",
      "metadata": {
        "id": "kDVQvpxoBx-6"
      },
      "source": [
        "# Model 10 (LSTM-GRU-CNN)"
      ],
      "id": "kDVQvpxoBx-6"
    },
    {
      "cell_type": "markdown",
      "metadata": {
        "id": "Tmt9BvN-NZd7"
      },
      "source": [
        "## Hyperparameter Tuning"
      ],
      "id": "Tmt9BvN-NZd7"
    },
    {
      "cell_type": "code",
      "execution_count": null,
      "metadata": {
        "id": "LagGI2bYS8Av"
      },
      "outputs": [],
      "source": [
        "def model_builder(hp):\n",
        "  tf.random.set_seed(42)\n",
        "  embedding_layer = Embedding(vocab_length, 50, weights=[embedding_matrix], input_length=25 , trainable=False)\n",
        "\n",
        "  hp_layer_1 = hp.Int(\"units\", min_value=32, max_value=256, step=32)\n",
        "  hp_layer_2 = hp.Int(\"filters\", min_value=8, max_value=64, step=8)\n",
        "  hp_layer_3 = hp.Int(\"kernel_size\", min_value=2, max_value=5, step=1)\n",
        "  hp_layer_4 = hp.Int(\"units\", min_value=32, max_value=256, step=32)\n",
        "\n",
        "  hp_learning_rate = hp.Choice('learning_rate', values=[1e-2, 1e-3, 1e-4])\n",
        "\n",
        "  inputs = layers.Input(shape=(25), dtype=\"int32\")\n",
        "  x = embedding_layer(inputs)\n",
        "  x = layers.LSTM(units=hp_layer_1, return_sequences=True)(x)\n",
        "  x = layers.GRU(units=hp_layer_4, return_sequences=True)(x)\n",
        "  x = layers.Conv1D(filters=hp_layer_2, kernel_size=hp_layer_3, activation=\"relu\")(x)\n",
        "  outputs = layers.Dense(1, activation=\"sigmoid\")(x)\n",
        "  model = tf.keras.Model(inputs, outputs, name=\"model_10_LSTM-GRU-CNN\")\n",
        "\n",
        "  model.compile(optimizer=tf.keras.optimizers.Adam(learning_rate=hp_learning_rate), loss='binary_crossentropy', metrics=['acc'])\n",
        "  return model"
      ],
      "id": "LagGI2bYS8Av"
    },
    {
      "cell_type": "code",
      "execution_count": null,
      "metadata": {
        "id": "dopXgF3eTYoG"
      },
      "outputs": [],
      "source": [
        "import keras_tuner as kt\n",
        "\n",
        "tuner = kt.Hyperband(model_builder,\n",
        "                     objective='val_acc',\n",
        "                     max_epochs=10,\n",
        "                     factor=3,\n",
        "                     directory='dir',\n",
        "                     project_name='model_3_LSTM')"
      ],
      "id": "dopXgF3eTYoG"
    },
    {
      "cell_type": "code",
      "execution_count": null,
      "metadata": {
        "id": "tGj-ZsJPTaHx"
      },
      "outputs": [],
      "source": [
        "tuner.search(train_dataset,\n",
        "             steps_per_epoch=int(0.15 * len(train_dataset)),\n",
        "             epochs=20,\n",
        "             validation_data = valid_dataset,\n",
        "             validation_split=int(0.15 * len(valid_dataset)),\n",
        "             callbacks=[early_stopping])"
      ],
      "id": "tGj-ZsJPTaHx"
    },
    {
      "cell_type": "code",
      "execution_count": null,
      "metadata": {
        "id": "znJuQEa-TbPl"
      },
      "outputs": [],
      "source": [
        "tuner.results_summary(num_trials=10)"
      ],
      "id": "znJuQEa-TbPl"
    },
    {
      "cell_type": "code",
      "execution_count": null,
      "metadata": {
        "id": "DwYeq4HcTc3K"
      },
      "outputs": [],
      "source": [
        "best_hps = tuner.get_best_hyperparameters(num_trials=1)[0]"
      ],
      "id": "DwYeq4HcTc3K"
    },
    {
      "cell_type": "code",
      "execution_count": null,
      "metadata": {
        "id": "cSkPdKpCTd7Q"
      },
      "outputs": [],
      "source": [
        "model_10 = tuner.hypermodel.build(best_hps)"
      ],
      "id": "cSkPdKpCTd7Q"
    },
    {
      "cell_type": "code",
      "execution_count": null,
      "metadata": {
        "id": "C8v6-Qw7Te8s"
      },
      "outputs": [],
      "source": [
        "model_10.summary()"
      ],
      "id": "C8v6-Qw7Te8s"
    },
    {
      "cell_type": "markdown",
      "metadata": {
        "id": "O8rE3SMtCbCn"
      },
      "source": [
        "## Training"
      ],
      "id": "O8rE3SMtCbCn"
    },
    {
      "cell_type": "code",
      "execution_count": null,
      "metadata": {
        "id": "csmcq5Kch7J2"
      },
      "outputs": [],
      "source": [
        "# Neural Network architecture\n",
        "from tensorflow.keras import layers\n",
        "import numpy as np\n",
        "\n",
        "tf.random.set_seed(42)\n",
        "embedding_layer = Embedding(vocab_length, 50, weights=[embedding_matrix], input_length=25 , trainable=False)\n",
        "\n",
        "inputs = layers.Input(shape=(25,), dtype=\"int32\")\n",
        "x = embedding_layer(inputs)\n",
        "# x = layers.LSTM(128)(x)\n",
        "# x = layers.GRU(128)(x)\n",
        "\n",
        "x = layers.LSTM(128, dropout=0.2, return_sequences=True)(x)\n",
        "x = layers.Bidirectional(layers.LSTM(64, dropout=0.2, return_sequences=True))(x)\n",
        "# x = layers.LSTM(128, kernel_regularizer='l1', dropout=0.2, return_sequences=True)(x)\n",
        "x = layers.GRU(128, kernel_regularizer='l1', dropout=0.2, return_sequences=True)(x)\n",
        "x = layers.Conv1D(filters=32, kernel_size=5, activation=\"relu\")(x)\n",
        "x = layers.MaxPooling1D(pool_size=2)(x)\n",
        "# x = layers.Conv1D(filters=32, kernel_size=5, activation=\"relu\")(x)\n",
        "\n",
        "outputs = layers.Dense(1, activation=\"sigmoid\")(x)\n",
        "model_10 = tf.keras.Model(inputs, outputs, name=\"model_10_LSTM-GRU-CNN\")\n",
        "\n",
        "model_10.compile(optimizer='adam', loss='binary_crossentropy', metrics=['acc'])"
      ],
      "id": "csmcq5Kch7J2"
    },
    {
      "cell_type": "code",
      "execution_count": null,
      "metadata": {
        "id": "KZs8By3biL1P",
        "colab": {
          "base_uri": "https://localhost:8080/"
        },
        "outputId": "896b0b70-4175-4701-ccf7-7570bf61f3fa"
      },
      "outputs": [
        {
          "output_type": "stream",
          "name": "stdout",
          "text": [
            "Model: \"model_10_LSTM-GRU-CNN\"\n",
            "_________________________________________________________________\n",
            " Layer (type)                Output Shape              Param #   \n",
            "=================================================================\n",
            " input_7 (InputLayer)        [(None, 25)]              0         \n",
            "                                                                 \n",
            " embedding_6 (Embedding)     (None, 25, 50)            28679650  \n",
            "                                                                 \n",
            " lstm_11 (LSTM)              (None, 25, 128)           91648     \n",
            "                                                                 \n",
            " bidirectional_3 (Bidirecti  (None, 25, 128)           98816     \n",
            " onal)                                                           \n",
            "                                                                 \n",
            " gru_2 (GRU)                 (None, 25, 128)           99072     \n",
            "                                                                 \n",
            " conv1d_7 (Conv1D)           (None, 21, 32)            20512     \n",
            "                                                                 \n",
            " max_pooling1d_3 (MaxPoolin  (None, 10, 32)            0         \n",
            " g1D)                                                            \n",
            "                                                                 \n",
            " dense_4 (Dense)             (None, 10, 1)             33        \n",
            "                                                                 \n",
            "=================================================================\n",
            "Total params: 28989731 (110.59 MB)\n",
            "Trainable params: 310081 (1.18 MB)\n",
            "Non-trainable params: 28679650 (109.40 MB)\n",
            "_________________________________________________________________\n"
          ]
        }
      ],
      "source": [
        "model_10.summary()"
      ],
      "id": "KZs8By3biL1P"
    },
    {
      "cell_type": "code",
      "execution_count": null,
      "metadata": {
        "id": "rgqrPogMiNBa",
        "colab": {
          "base_uri": "https://localhost:8080/",
          "height": 720
        },
        "outputId": "10652ab9-52d2-4c49-ecf9-09bc8099379f"
      },
      "outputs": [
        {
          "output_type": "stream",
          "name": "stdout",
          "text": [
            "Saving TensorBoard log files to: tensorflow_hub/LSTM-GRU-CNN_50D_1L/20240102-095307\n",
            "Epoch 1/20\n",
            "39988/39988 [==============================] - 567s 14ms/step - loss: 0.6187 - acc: 0.7290 - val_loss: 0.5513 - val_acc: 0.7587 - lr: 0.0010\n",
            "Epoch 2/20\n",
            "39988/39988 [==============================] - 525s 13ms/step - loss: 0.5573 - acc: 0.7545 - val_loss: 0.5390 - val_acc: 0.7689 - lr: 0.0010\n",
            "Epoch 3/20\n",
            "39988/39988 [==============================] - 517s 13ms/step - loss: 0.5481 - acc: 0.7611 - val_loss: 0.5303 - val_acc: 0.7744 - lr: 0.0010\n",
            "Epoch 4/20\n",
            "39988/39988 [==============================] - 521s 13ms/step - loss: 0.5430 - acc: 0.7645 - val_loss: 0.5272 - val_acc: 0.7759 - lr: 0.0010\n",
            "Epoch 5/20\n",
            "39988/39988 [==============================] - 542s 14ms/step - loss: 0.5395 - acc: 0.7668 - val_loss: 0.5248 - val_acc: 0.7777 - lr: 0.0010\n",
            "Epoch 6/20\n",
            "39988/39988 [==============================] - 571s 14ms/step - loss: 0.5369 - acc: 0.7684 - val_loss: 0.5221 - val_acc: 0.7796 - lr: 0.0010\n",
            "Epoch 7/20\n",
            "39988/39988 [==============================] - 594s 15ms/step - loss: 0.5351 - acc: 0.7696 - val_loss: 0.5205 - val_acc: 0.7799 - lr: 0.0010\n",
            "Epoch 8/20\n",
            "39988/39988 [==============================] - 603s 15ms/step - loss: 0.5338 - acc: 0.7704 - val_loss: 0.5204 - val_acc: 0.7806 - lr: 0.0010\n",
            "Epoch 9/20\n",
            "26426/39988 [==================>...........] - ETA: 2:55 - loss: 0.5329 - acc: 0.7710"
          ]
        },
        {
          "output_type": "error",
          "ename": "KeyboardInterrupt",
          "evalue": "ignored",
          "traceback": [
            "\u001b[0;31m---------------------------------------------------------------------------\u001b[0m",
            "\u001b[0;31mKeyboardInterrupt\u001b[0m                         Traceback (most recent call last)",
            "\u001b[0;32m<ipython-input-78-8f84e7009755>\u001b[0m in \u001b[0;36m<cell line: 2>\u001b[0;34m()\u001b[0m\n\u001b[1;32m      1\u001b[0m \u001b[0;31m# Fit model\u001b[0m\u001b[0;34m\u001b[0m\u001b[0;34m\u001b[0m\u001b[0m\n\u001b[0;32m----> 2\u001b[0;31m model_10_history = model_10.fit(train_dataset,\n\u001b[0m\u001b[1;32m      3\u001b[0m                               \u001b[0;31m# steps_per_epoch=int(0.15 * len(train_dataset)), # only fit on 10% of batches for faster training time\u001b[0m\u001b[0;34m\u001b[0m\u001b[0;34m\u001b[0m\u001b[0m\n\u001b[1;32m      4\u001b[0m                               \u001b[0mepochs\u001b[0m\u001b[0;34m=\u001b[0m\u001b[0;36m20\u001b[0m\u001b[0;34m,\u001b[0m\u001b[0;34m\u001b[0m\u001b[0;34m\u001b[0m\u001b[0m\n\u001b[1;32m      5\u001b[0m                               \u001b[0mvalidation_data\u001b[0m\u001b[0;34m=\u001b[0m\u001b[0mvalid_dataset\u001b[0m\u001b[0;34m,\u001b[0m\u001b[0;34m\u001b[0m\u001b[0;34m\u001b[0m\u001b[0m\n",
            "\u001b[0;32m/usr/local/lib/python3.10/dist-packages/keras/src/utils/traceback_utils.py\u001b[0m in \u001b[0;36merror_handler\u001b[0;34m(*args, **kwargs)\u001b[0m\n\u001b[1;32m     63\u001b[0m         \u001b[0mfiltered_tb\u001b[0m \u001b[0;34m=\u001b[0m \u001b[0;32mNone\u001b[0m\u001b[0;34m\u001b[0m\u001b[0;34m\u001b[0m\u001b[0m\n\u001b[1;32m     64\u001b[0m         \u001b[0;32mtry\u001b[0m\u001b[0;34m:\u001b[0m\u001b[0;34m\u001b[0m\u001b[0;34m\u001b[0m\u001b[0m\n\u001b[0;32m---> 65\u001b[0;31m             \u001b[0;32mreturn\u001b[0m \u001b[0mfn\u001b[0m\u001b[0;34m(\u001b[0m\u001b[0;34m*\u001b[0m\u001b[0margs\u001b[0m\u001b[0;34m,\u001b[0m \u001b[0;34m**\u001b[0m\u001b[0mkwargs\u001b[0m\u001b[0;34m)\u001b[0m\u001b[0;34m\u001b[0m\u001b[0;34m\u001b[0m\u001b[0m\n\u001b[0m\u001b[1;32m     66\u001b[0m         \u001b[0;32mexcept\u001b[0m \u001b[0mException\u001b[0m \u001b[0;32mas\u001b[0m \u001b[0me\u001b[0m\u001b[0;34m:\u001b[0m\u001b[0;34m\u001b[0m\u001b[0;34m\u001b[0m\u001b[0m\n\u001b[1;32m     67\u001b[0m             \u001b[0mfiltered_tb\u001b[0m \u001b[0;34m=\u001b[0m \u001b[0m_process_traceback_frames\u001b[0m\u001b[0;34m(\u001b[0m\u001b[0me\u001b[0m\u001b[0;34m.\u001b[0m\u001b[0m__traceback__\u001b[0m\u001b[0;34m)\u001b[0m\u001b[0;34m\u001b[0m\u001b[0;34m\u001b[0m\u001b[0m\n",
            "\u001b[0;32m/usr/local/lib/python3.10/dist-packages/keras/src/engine/training.py\u001b[0m in \u001b[0;36mfit\u001b[0;34m(self, x, y, batch_size, epochs, verbose, callbacks, validation_split, validation_data, shuffle, class_weight, sample_weight, initial_epoch, steps_per_epoch, validation_steps, validation_batch_size, validation_freq, max_queue_size, workers, use_multiprocessing)\u001b[0m\n\u001b[1;32m   1805\u001b[0m                         ):\n\u001b[1;32m   1806\u001b[0m                             \u001b[0mcallbacks\u001b[0m\u001b[0;34m.\u001b[0m\u001b[0mon_train_batch_begin\u001b[0m\u001b[0;34m(\u001b[0m\u001b[0mstep\u001b[0m\u001b[0;34m)\u001b[0m\u001b[0;34m\u001b[0m\u001b[0;34m\u001b[0m\u001b[0m\n\u001b[0;32m-> 1807\u001b[0;31m                             \u001b[0mtmp_logs\u001b[0m \u001b[0;34m=\u001b[0m \u001b[0mself\u001b[0m\u001b[0;34m.\u001b[0m\u001b[0mtrain_function\u001b[0m\u001b[0;34m(\u001b[0m\u001b[0miterator\u001b[0m\u001b[0;34m)\u001b[0m\u001b[0;34m\u001b[0m\u001b[0;34m\u001b[0m\u001b[0m\n\u001b[0m\u001b[1;32m   1808\u001b[0m                             \u001b[0;32mif\u001b[0m \u001b[0mdata_handler\u001b[0m\u001b[0;34m.\u001b[0m\u001b[0mshould_sync\u001b[0m\u001b[0;34m:\u001b[0m\u001b[0;34m\u001b[0m\u001b[0;34m\u001b[0m\u001b[0m\n\u001b[1;32m   1809\u001b[0m                                 \u001b[0mcontext\u001b[0m\u001b[0;34m.\u001b[0m\u001b[0masync_wait\u001b[0m\u001b[0;34m(\u001b[0m\u001b[0;34m)\u001b[0m\u001b[0;34m\u001b[0m\u001b[0;34m\u001b[0m\u001b[0m\n",
            "\u001b[0;32m/usr/local/lib/python3.10/dist-packages/tensorflow/python/util/traceback_utils.py\u001b[0m in \u001b[0;36merror_handler\u001b[0;34m(*args, **kwargs)\u001b[0m\n\u001b[1;32m    148\u001b[0m     \u001b[0mfiltered_tb\u001b[0m \u001b[0;34m=\u001b[0m \u001b[0;32mNone\u001b[0m\u001b[0;34m\u001b[0m\u001b[0;34m\u001b[0m\u001b[0m\n\u001b[1;32m    149\u001b[0m     \u001b[0;32mtry\u001b[0m\u001b[0;34m:\u001b[0m\u001b[0;34m\u001b[0m\u001b[0;34m\u001b[0m\u001b[0m\n\u001b[0;32m--> 150\u001b[0;31m       \u001b[0;32mreturn\u001b[0m \u001b[0mfn\u001b[0m\u001b[0;34m(\u001b[0m\u001b[0;34m*\u001b[0m\u001b[0margs\u001b[0m\u001b[0;34m,\u001b[0m \u001b[0;34m**\u001b[0m\u001b[0mkwargs\u001b[0m\u001b[0;34m)\u001b[0m\u001b[0;34m\u001b[0m\u001b[0;34m\u001b[0m\u001b[0m\n\u001b[0m\u001b[1;32m    151\u001b[0m     \u001b[0;32mexcept\u001b[0m \u001b[0mException\u001b[0m \u001b[0;32mas\u001b[0m \u001b[0me\u001b[0m\u001b[0;34m:\u001b[0m\u001b[0;34m\u001b[0m\u001b[0;34m\u001b[0m\u001b[0m\n\u001b[1;32m    152\u001b[0m       \u001b[0mfiltered_tb\u001b[0m \u001b[0;34m=\u001b[0m \u001b[0m_process_traceback_frames\u001b[0m\u001b[0;34m(\u001b[0m\u001b[0me\u001b[0m\u001b[0;34m.\u001b[0m\u001b[0m__traceback__\u001b[0m\u001b[0;34m)\u001b[0m\u001b[0;34m\u001b[0m\u001b[0;34m\u001b[0m\u001b[0m\n",
            "\u001b[0;32m/usr/local/lib/python3.10/dist-packages/tensorflow/python/eager/polymorphic_function/polymorphic_function.py\u001b[0m in \u001b[0;36m__call__\u001b[0;34m(self, *args, **kwds)\u001b[0m\n\u001b[1;32m    830\u001b[0m \u001b[0;34m\u001b[0m\u001b[0m\n\u001b[1;32m    831\u001b[0m       \u001b[0;32mwith\u001b[0m \u001b[0mOptionalXlaContext\u001b[0m\u001b[0;34m(\u001b[0m\u001b[0mself\u001b[0m\u001b[0;34m.\u001b[0m\u001b[0m_jit_compile\u001b[0m\u001b[0;34m)\u001b[0m\u001b[0;34m:\u001b[0m\u001b[0;34m\u001b[0m\u001b[0;34m\u001b[0m\u001b[0m\n\u001b[0;32m--> 832\u001b[0;31m         \u001b[0mresult\u001b[0m \u001b[0;34m=\u001b[0m \u001b[0mself\u001b[0m\u001b[0;34m.\u001b[0m\u001b[0m_call\u001b[0m\u001b[0;34m(\u001b[0m\u001b[0;34m*\u001b[0m\u001b[0margs\u001b[0m\u001b[0;34m,\u001b[0m \u001b[0;34m**\u001b[0m\u001b[0mkwds\u001b[0m\u001b[0;34m)\u001b[0m\u001b[0;34m\u001b[0m\u001b[0;34m\u001b[0m\u001b[0m\n\u001b[0m\u001b[1;32m    833\u001b[0m \u001b[0;34m\u001b[0m\u001b[0m\n\u001b[1;32m    834\u001b[0m       \u001b[0mnew_tracing_count\u001b[0m \u001b[0;34m=\u001b[0m \u001b[0mself\u001b[0m\u001b[0;34m.\u001b[0m\u001b[0mexperimental_get_tracing_count\u001b[0m\u001b[0;34m(\u001b[0m\u001b[0;34m)\u001b[0m\u001b[0;34m\u001b[0m\u001b[0;34m\u001b[0m\u001b[0m\n",
            "\u001b[0;32m/usr/local/lib/python3.10/dist-packages/tensorflow/python/eager/polymorphic_function/polymorphic_function.py\u001b[0m in \u001b[0;36m_call\u001b[0;34m(self, *args, **kwds)\u001b[0m\n\u001b[1;32m    866\u001b[0m       \u001b[0;31m# In this case we have created variables on the first call, so we run the\u001b[0m\u001b[0;34m\u001b[0m\u001b[0;34m\u001b[0m\u001b[0m\n\u001b[1;32m    867\u001b[0m       \u001b[0;31m# defunned version which is guaranteed to never create variables.\u001b[0m\u001b[0;34m\u001b[0m\u001b[0;34m\u001b[0m\u001b[0m\n\u001b[0;32m--> 868\u001b[0;31m       return tracing_compilation.call_function(\n\u001b[0m\u001b[1;32m    869\u001b[0m           \u001b[0margs\u001b[0m\u001b[0;34m,\u001b[0m \u001b[0mkwds\u001b[0m\u001b[0;34m,\u001b[0m \u001b[0mself\u001b[0m\u001b[0;34m.\u001b[0m\u001b[0m_no_variable_creation_config\u001b[0m\u001b[0;34m\u001b[0m\u001b[0;34m\u001b[0m\u001b[0m\n\u001b[1;32m    870\u001b[0m       )\n",
            "\u001b[0;32m/usr/local/lib/python3.10/dist-packages/tensorflow/python/eager/polymorphic_function/tracing_compilation.py\u001b[0m in \u001b[0;36mcall_function\u001b[0;34m(args, kwargs, tracing_options)\u001b[0m\n\u001b[1;32m    137\u001b[0m   \u001b[0mbound_args\u001b[0m \u001b[0;34m=\u001b[0m \u001b[0mfunction\u001b[0m\u001b[0;34m.\u001b[0m\u001b[0mfunction_type\u001b[0m\u001b[0;34m.\u001b[0m\u001b[0mbind\u001b[0m\u001b[0;34m(\u001b[0m\u001b[0;34m*\u001b[0m\u001b[0margs\u001b[0m\u001b[0;34m,\u001b[0m \u001b[0;34m**\u001b[0m\u001b[0mkwargs\u001b[0m\u001b[0;34m)\u001b[0m\u001b[0;34m\u001b[0m\u001b[0;34m\u001b[0m\u001b[0m\n\u001b[1;32m    138\u001b[0m   \u001b[0mflat_inputs\u001b[0m \u001b[0;34m=\u001b[0m \u001b[0mfunction\u001b[0m\u001b[0;34m.\u001b[0m\u001b[0mfunction_type\u001b[0m\u001b[0;34m.\u001b[0m\u001b[0munpack_inputs\u001b[0m\u001b[0;34m(\u001b[0m\u001b[0mbound_args\u001b[0m\u001b[0;34m)\u001b[0m\u001b[0;34m\u001b[0m\u001b[0;34m\u001b[0m\u001b[0m\n\u001b[0;32m--> 139\u001b[0;31m   return function._call_flat(  # pylint: disable=protected-access\n\u001b[0m\u001b[1;32m    140\u001b[0m       \u001b[0mflat_inputs\u001b[0m\u001b[0;34m,\u001b[0m \u001b[0mcaptured_inputs\u001b[0m\u001b[0;34m=\u001b[0m\u001b[0mfunction\u001b[0m\u001b[0;34m.\u001b[0m\u001b[0mcaptured_inputs\u001b[0m\u001b[0;34m\u001b[0m\u001b[0;34m\u001b[0m\u001b[0m\n\u001b[1;32m    141\u001b[0m   )\n",
            "\u001b[0;32m/usr/local/lib/python3.10/dist-packages/tensorflow/python/eager/polymorphic_function/concrete_function.py\u001b[0m in \u001b[0;36m_call_flat\u001b[0;34m(self, tensor_inputs, captured_inputs)\u001b[0m\n\u001b[1;32m   1321\u001b[0m         and executing_eagerly):\n\u001b[1;32m   1322\u001b[0m       \u001b[0;31m# No tape is watching; skip to running the function.\u001b[0m\u001b[0;34m\u001b[0m\u001b[0;34m\u001b[0m\u001b[0m\n\u001b[0;32m-> 1323\u001b[0;31m       \u001b[0;32mreturn\u001b[0m \u001b[0mself\u001b[0m\u001b[0;34m.\u001b[0m\u001b[0m_inference_function\u001b[0m\u001b[0;34m.\u001b[0m\u001b[0mcall_preflattened\u001b[0m\u001b[0;34m(\u001b[0m\u001b[0margs\u001b[0m\u001b[0;34m)\u001b[0m\u001b[0;34m\u001b[0m\u001b[0;34m\u001b[0m\u001b[0m\n\u001b[0m\u001b[1;32m   1324\u001b[0m     forward_backward = self._select_forward_and_backward_functions(\n\u001b[1;32m   1325\u001b[0m         \u001b[0margs\u001b[0m\u001b[0;34m,\u001b[0m\u001b[0;34m\u001b[0m\u001b[0;34m\u001b[0m\u001b[0m\n",
            "\u001b[0;32m/usr/local/lib/python3.10/dist-packages/tensorflow/python/eager/polymorphic_function/atomic_function.py\u001b[0m in \u001b[0;36mcall_preflattened\u001b[0;34m(self, args)\u001b[0m\n\u001b[1;32m    214\u001b[0m   \u001b[0;32mdef\u001b[0m \u001b[0mcall_preflattened\u001b[0m\u001b[0;34m(\u001b[0m\u001b[0mself\u001b[0m\u001b[0;34m,\u001b[0m \u001b[0margs\u001b[0m\u001b[0;34m:\u001b[0m \u001b[0mSequence\u001b[0m\u001b[0;34m[\u001b[0m\u001b[0mcore\u001b[0m\u001b[0;34m.\u001b[0m\u001b[0mTensor\u001b[0m\u001b[0;34m]\u001b[0m\u001b[0;34m)\u001b[0m \u001b[0;34m->\u001b[0m \u001b[0mAny\u001b[0m\u001b[0;34m:\u001b[0m\u001b[0;34m\u001b[0m\u001b[0;34m\u001b[0m\u001b[0m\n\u001b[1;32m    215\u001b[0m     \u001b[0;34m\"\"\"Calls with flattened tensor inputs and returns the structured output.\"\"\"\u001b[0m\u001b[0;34m\u001b[0m\u001b[0;34m\u001b[0m\u001b[0m\n\u001b[0;32m--> 216\u001b[0;31m     \u001b[0mflat_outputs\u001b[0m \u001b[0;34m=\u001b[0m \u001b[0mself\u001b[0m\u001b[0;34m.\u001b[0m\u001b[0mcall_flat\u001b[0m\u001b[0;34m(\u001b[0m\u001b[0;34m*\u001b[0m\u001b[0margs\u001b[0m\u001b[0;34m)\u001b[0m\u001b[0;34m\u001b[0m\u001b[0;34m\u001b[0m\u001b[0m\n\u001b[0m\u001b[1;32m    217\u001b[0m     \u001b[0;32mreturn\u001b[0m \u001b[0mself\u001b[0m\u001b[0;34m.\u001b[0m\u001b[0mfunction_type\u001b[0m\u001b[0;34m.\u001b[0m\u001b[0mpack_output\u001b[0m\u001b[0;34m(\u001b[0m\u001b[0mflat_outputs\u001b[0m\u001b[0;34m)\u001b[0m\u001b[0;34m\u001b[0m\u001b[0;34m\u001b[0m\u001b[0m\n\u001b[1;32m    218\u001b[0m \u001b[0;34m\u001b[0m\u001b[0m\n",
            "\u001b[0;32m/usr/local/lib/python3.10/dist-packages/tensorflow/python/eager/polymorphic_function/atomic_function.py\u001b[0m in \u001b[0;36mcall_flat\u001b[0;34m(self, *args)\u001b[0m\n\u001b[1;32m    249\u001b[0m         \u001b[0;32mwith\u001b[0m \u001b[0mrecord\u001b[0m\u001b[0;34m.\u001b[0m\u001b[0mstop_recording\u001b[0m\u001b[0;34m(\u001b[0m\u001b[0;34m)\u001b[0m\u001b[0;34m:\u001b[0m\u001b[0;34m\u001b[0m\u001b[0;34m\u001b[0m\u001b[0m\n\u001b[1;32m    250\u001b[0m           \u001b[0;32mif\u001b[0m \u001b[0mself\u001b[0m\u001b[0;34m.\u001b[0m\u001b[0m_bound_context\u001b[0m\u001b[0;34m.\u001b[0m\u001b[0mexecuting_eagerly\u001b[0m\u001b[0;34m(\u001b[0m\u001b[0;34m)\u001b[0m\u001b[0;34m:\u001b[0m\u001b[0;34m\u001b[0m\u001b[0;34m\u001b[0m\u001b[0m\n\u001b[0;32m--> 251\u001b[0;31m             outputs = self._bound_context.call_function(\n\u001b[0m\u001b[1;32m    252\u001b[0m                 \u001b[0mself\u001b[0m\u001b[0;34m.\u001b[0m\u001b[0mname\u001b[0m\u001b[0;34m,\u001b[0m\u001b[0;34m\u001b[0m\u001b[0;34m\u001b[0m\u001b[0m\n\u001b[1;32m    253\u001b[0m                 \u001b[0mlist\u001b[0m\u001b[0;34m(\u001b[0m\u001b[0margs\u001b[0m\u001b[0;34m)\u001b[0m\u001b[0;34m,\u001b[0m\u001b[0;34m\u001b[0m\u001b[0;34m\u001b[0m\u001b[0m\n",
            "\u001b[0;32m/usr/local/lib/python3.10/dist-packages/tensorflow/python/eager/context.py\u001b[0m in \u001b[0;36mcall_function\u001b[0;34m(self, name, tensor_inputs, num_outputs)\u001b[0m\n\u001b[1;32m   1484\u001b[0m     \u001b[0mcancellation_context\u001b[0m \u001b[0;34m=\u001b[0m \u001b[0mcancellation\u001b[0m\u001b[0;34m.\u001b[0m\u001b[0mcontext\u001b[0m\u001b[0;34m(\u001b[0m\u001b[0;34m)\u001b[0m\u001b[0;34m\u001b[0m\u001b[0;34m\u001b[0m\u001b[0m\n\u001b[1;32m   1485\u001b[0m     \u001b[0;32mif\u001b[0m \u001b[0mcancellation_context\u001b[0m \u001b[0;32mis\u001b[0m \u001b[0;32mNone\u001b[0m\u001b[0;34m:\u001b[0m\u001b[0;34m\u001b[0m\u001b[0;34m\u001b[0m\u001b[0m\n\u001b[0;32m-> 1486\u001b[0;31m       outputs = execute.execute(\n\u001b[0m\u001b[1;32m   1487\u001b[0m           \u001b[0mname\u001b[0m\u001b[0;34m.\u001b[0m\u001b[0mdecode\u001b[0m\u001b[0;34m(\u001b[0m\u001b[0;34m\"utf-8\"\u001b[0m\u001b[0;34m)\u001b[0m\u001b[0;34m,\u001b[0m\u001b[0;34m\u001b[0m\u001b[0;34m\u001b[0m\u001b[0m\n\u001b[1;32m   1488\u001b[0m           \u001b[0mnum_outputs\u001b[0m\u001b[0;34m=\u001b[0m\u001b[0mnum_outputs\u001b[0m\u001b[0;34m,\u001b[0m\u001b[0;34m\u001b[0m\u001b[0;34m\u001b[0m\u001b[0m\n",
            "\u001b[0;32m/usr/local/lib/python3.10/dist-packages/tensorflow/python/eager/execute.py\u001b[0m in \u001b[0;36mquick_execute\u001b[0;34m(op_name, num_outputs, inputs, attrs, ctx, name)\u001b[0m\n\u001b[1;32m     51\u001b[0m   \u001b[0;32mtry\u001b[0m\u001b[0;34m:\u001b[0m\u001b[0;34m\u001b[0m\u001b[0;34m\u001b[0m\u001b[0m\n\u001b[1;32m     52\u001b[0m     \u001b[0mctx\u001b[0m\u001b[0;34m.\u001b[0m\u001b[0mensure_initialized\u001b[0m\u001b[0;34m(\u001b[0m\u001b[0;34m)\u001b[0m\u001b[0;34m\u001b[0m\u001b[0;34m\u001b[0m\u001b[0m\n\u001b[0;32m---> 53\u001b[0;31m     tensors = pywrap_tfe.TFE_Py_Execute(ctx._handle, device_name, op_name,\n\u001b[0m\u001b[1;32m     54\u001b[0m                                         inputs, attrs, num_outputs)\n\u001b[1;32m     55\u001b[0m   \u001b[0;32mexcept\u001b[0m \u001b[0mcore\u001b[0m\u001b[0;34m.\u001b[0m\u001b[0m_NotOkStatusException\u001b[0m \u001b[0;32mas\u001b[0m \u001b[0me\u001b[0m\u001b[0;34m:\u001b[0m\u001b[0;34m\u001b[0m\u001b[0;34m\u001b[0m\u001b[0m\n",
            "\u001b[0;31mKeyboardInterrupt\u001b[0m: "
          ]
        }
      ],
      "source": [
        "# Fit model\n",
        "model_10_history = model_10.fit(train_dataset,\n",
        "                              # steps_per_epoch=int(0.15 * len(train_dataset)), # only fit on 10% of batches for faster training time\n",
        "                              epochs=20,\n",
        "                              validation_data=valid_dataset,\n",
        "                              # validation_steps=int(0.15 * len(valid_dataset)),\n",
        "                              callbacks=[early_stopping,\n",
        "                                         reduce_lr,\n",
        "                                         create_model_checkpoint(model_name=\"LSTM-GRU-CNN_50D_1L\"),\n",
        "                                         create_tensorboard_callback(dir_name=\"tensorflow_hub\",\n",
        "                                                                     experiment_name=\"LSTM-GRU-CNN_50D_1L\")])"
      ],
      "id": "rgqrPogMiNBa"
    },
    {
      "cell_type": "code",
      "source": [
        "# Fit model\n",
        "model_10_history = model_10.fit(train_dataset,\n",
        "                              # steps_per_epoch=int(0.15 * len(train_dataset)), # only fit on 10% of batches for faster training time\n",
        "                              epochs=20,\n",
        "                              validation_data=valid_dataset,\n",
        "                              # validation_steps=int(0.15 * len(valid_dataset)),\n",
        "                              callbacks=[early_stopping,\n",
        "                                         reduce_lr,\n",
        "                                         create_model_checkpoint(model_name=\"LSTM-GRU-CNN_50D_2L\"),\n",
        "                                         create_tensorboard_callback(dir_name=\"tensorflow_hub\",\n",
        "                                                                     experiment_name=\"LSTM-GRU-CNN_50D_2L\")])"
      ],
      "metadata": {
        "colab": {
          "base_uri": "https://localhost:8080/"
        },
        "id": "CN4qb8f-bZnc",
        "outputId": "6a55bfda-97da-4529-f2b3-5961d8eab1a7"
      },
      "id": "CN4qb8f-bZnc",
      "execution_count": null,
      "outputs": [
        {
          "output_type": "stream",
          "name": "stdout",
          "text": [
            "Saving TensorBoard log files to: tensorflow_hub/LSTM-GRU-CNN_50D_2L/20240102-090828\n",
            "Epoch 1/20\n",
            "2500/2500 [==============================] - 61s 21ms/step - loss: 1.0201 - acc: 0.7063 - val_loss: 0.5729 - val_acc: 0.7430 - lr: 0.0010\n",
            "Epoch 2/20\n",
            "2500/2500 [==============================] - 49s 20ms/step - loss: 0.5849 - acc: 0.7343 - val_loss: 0.5554 - val_acc: 0.7551 - lr: 0.0010\n",
            "Epoch 3/20\n",
            "2500/2500 [==============================] - 53s 21ms/step - loss: 0.5698 - acc: 0.7444 - val_loss: 0.5456 - val_acc: 0.7613 - lr: 0.0010\n",
            "Epoch 4/20\n",
            "2500/2500 [==============================] - 51s 20ms/step - loss: 0.5603 - acc: 0.7509 - val_loss: 0.5370 - val_acc: 0.7672 - lr: 0.0010\n",
            "Epoch 5/20\n",
            "2500/2500 [==============================] - 50s 20ms/step - loss: 0.5535 - acc: 0.7558 - val_loss: 0.5336 - val_acc: 0.7704 - lr: 0.0010\n",
            "Epoch 6/20\n",
            "2500/2500 [==============================] - 54s 22ms/step - loss: 0.5485 - acc: 0.7590 - val_loss: 0.5298 - val_acc: 0.7729 - lr: 0.0010\n",
            "Epoch 7/20\n",
            "2500/2500 [==============================] - 51s 20ms/step - loss: 0.5446 - acc: 0.7621 - val_loss: 0.5267 - val_acc: 0.7735 - lr: 0.0010\n",
            "Epoch 8/20\n",
            "2500/2500 [==============================] - 51s 20ms/step - loss: 0.5416 - acc: 0.7637 - val_loss: 0.5254 - val_acc: 0.7760 - lr: 0.0010\n",
            "Epoch 9/20\n",
            "2500/2500 [==============================] - 53s 21ms/step - loss: 0.5390 - acc: 0.7659 - val_loss: 0.5234 - val_acc: 0.7773 - lr: 0.0010\n",
            "Epoch 10/20\n",
            "2500/2500 [==============================] - 53s 21ms/step - loss: 0.5372 - acc: 0.7671 - val_loss: 0.5217 - val_acc: 0.7775 - lr: 0.0010\n",
            "Epoch 11/20\n",
            "2500/2500 [==============================] - 35s 14ms/step - loss: 0.5349 - acc: 0.7687 - val_loss: 0.5223 - val_acc: 0.7784 - lr: 0.0010\n",
            "Epoch 12/20\n",
            "2500/2500 [==============================] - 49s 20ms/step - loss: 0.5327 - acc: 0.7701 - val_loss: 0.5210 - val_acc: 0.7787 - lr: 0.0010\n",
            "Epoch 13/20\n",
            "2500/2500 [==============================] - 53s 21ms/step - loss: 0.5315 - acc: 0.7708 - val_loss: 0.5190 - val_acc: 0.7793 - lr: 0.0010\n",
            "Epoch 14/20\n",
            "2500/2500 [==============================] - 52s 21ms/step - loss: 0.5297 - acc: 0.7718 - val_loss: 0.5173 - val_acc: 0.7802 - lr: 0.0010\n",
            "Epoch 15/20\n",
            "2500/2500 [==============================] - 35s 14ms/step - loss: 0.5288 - acc: 0.7725 - val_loss: 0.5174 - val_acc: 0.7807 - lr: 0.0010\n",
            "Epoch 16/20\n",
            "2497/2500 [============================>.] - ETA: 0s - loss: 0.5275 - acc: 0.7734\n",
            "Epoch 16: ReduceLROnPlateau reducing learning rate to 0.00020000000949949026.\n",
            "2500/2500 [==============================] - 34s 14ms/step - loss: 0.5275 - acc: 0.7734 - val_loss: 0.5175 - val_acc: 0.7810 - lr: 0.0010\n",
            "Epoch 17/20\n",
            "2500/2500 [==============================] - 49s 20ms/step - loss: 0.4761 - acc: 0.7766 - val_loss: 0.4684 - val_acc: 0.7822 - lr: 2.0000e-04\n",
            "Epoch 18/20\n",
            "2500/2500 [==============================] - 52s 21ms/step - loss: 0.4750 - acc: 0.7773 - val_loss: 0.4676 - val_acc: 0.7826 - lr: 2.0000e-04\n",
            "Epoch 19/20\n",
            "2500/2500 [==============================] - 49s 20ms/step - loss: 0.4745 - acc: 0.7772 - val_loss: 0.4675 - val_acc: 0.7826 - lr: 2.0000e-04\n",
            "Epoch 20/20\n",
            "2500/2500 [==============================] - 52s 21ms/step - loss: 0.4737 - acc: 0.7777 - val_loss: 0.4673 - val_acc: 0.7827 - lr: 2.0000e-04\n"
          ]
        }
      ]
    },
    {
      "cell_type": "markdown",
      "metadata": {
        "id": "AgIkm1aGCeKX"
      },
      "source": [
        "## Evaluating & Visualizing"
      ],
      "id": "AgIkm1aGCeKX"
    },
    {
      "cell_type": "code",
      "execution_count": null,
      "metadata": {
        "id": "kySgo0vniWJ8",
        "colab": {
          "base_uri": "https://localhost:8080/"
        },
        "outputId": "f8ac46e0-e7e9-4c1e-9bd3-90a59cfa4e1d"
      },
      "outputs": [
        {
          "output_type": "stream",
          "name": "stdout",
          "text": [
            "9997/9997 [==============================] - 54s 5ms/step - loss: 0.4672 - acc: 0.7827\n"
          ]
        }
      ],
      "source": [
        "score_10 = model_10.evaluate(X_test, y_test, verbose=1)"
      ],
      "id": "kySgo0vniWJ8"
    },
    {
      "cell_type": "code",
      "source": [
        "# Plot the training curves\n",
        "pd.DataFrame(model_10_history.history).plot(figsize=(10, 7));"
      ],
      "metadata": {
        "colab": {
          "base_uri": "https://localhost:8080/",
          "height": 599
        },
        "id": "IBgW8xpidZID",
        "outputId": "30b79546-5760-41e9-fc22-e361521f9ecb"
      },
      "id": "IBgW8xpidZID",
      "execution_count": null,
      "outputs": [
        {
          "output_type": "display_data",
          "data": {
            "text/plain": [
              "<Figure size 1000x700 with 1 Axes>"
            ],
            "image/png": "[encoded data removed]"
          },
          "metadata": {}
        }
      ]
    },
    {
      "cell_type": "code",
      "source": [
        "# Check out the loss curves of model_4\n",
        "plot_loss_curves(model_10_history)"
      ],
      "metadata": {
        "colab": {
          "base_uri": "https://localhost:8080/",
          "height": 927
        },
        "id": "evMQX6Hsdfef",
        "outputId": "622a4d4e-6eab-46de-9ef8-580d9df6c54b"
      },
      "id": "evMQX6Hsdfef",
      "execution_count": null,
      "outputs": [
        {
          "output_type": "display_data",
          "data": {
            "text/plain": [
              "<Figure size 640x480 with 1 Axes>"
            ],
            "image/png": "[encoded data removed]"
          },
          "metadata": {}
        },
        {
          "output_type": "display_data",
          "data": {
            "text/plain": [
              "<Figure size 640x480 with 1 Axes>"
            ],
            "image/png": "[encoded data removed]"
          },
          "metadata": {}
        }
      ]
    },
    {
      "cell_type": "code",
      "source": [
        "# Make predictions\n",
        "preds = model_10.predict(X_test)\n",
        "preds = tf.squeeze(tf.round(tf.reduce_mean(preds, axis=1)))"
      ],
      "metadata": {
        "colab": {
          "base_uri": "https://localhost:8080/"
        },
        "id": "hZ6BdCTNdhBU",
        "outputId": "3a3d1747-07b5-4ce5-d34d-8b9593019197"
      },
      "id": "hZ6BdCTNdhBU",
      "execution_count": null,
      "outputs": [
        {
          "output_type": "stream",
          "name": "stdout",
          "text": [
            "9997/9997 [==============================] - 48s 5ms/step\n"
          ]
        }
      ]
    },
    {
      "cell_type": "code",
      "source": [
        "preds[:5]"
      ],
      "metadata": {
        "colab": {
          "base_uri": "https://localhost:8080/"
        },
        "id": "VRUJxBFEjFxy",
        "outputId": "41de7b84-0b47-415e-8475-c8a7f35a6665"
      },
      "id": "VRUJxBFEjFxy",
      "execution_count": null,
      "outputs": [
        {
          "output_type": "execute_result",
          "data": {
            "text/plain": [
              "<tf.Tensor: shape=(5,), dtype=float16, numpy=array([0., 0., 0., 1., 0.], dtype=float16)>"
            ]
          },
          "metadata": {},
          "execution_count": 71
        }
      ]
    },
    {
      "cell_type": "code",
      "source": [
        "preds.shape"
      ],
      "metadata": {
        "colab": {
          "base_uri": "https://localhost:8080/"
        },
        "id": "1JLkPJp8knQb",
        "outputId": "157952a4-bba2-4fa6-8960-1c3118659b3e"
      },
      "id": "1JLkPJp8knQb",
      "execution_count": null,
      "outputs": [
        {
          "output_type": "execute_result",
          "data": {
            "text/plain": [
              "TensorShape([319898])"
            ]
          },
          "metadata": {},
          "execution_count": 72
        }
      ]
    },
    {
      "cell_type": "code",
      "source": [
        "# Get baseline results\n",
        "results = calculate_results(y_true=y_test,\n",
        "                            y_pred=preds)\n",
        "results"
      ],
      "metadata": {
        "colab": {
          "base_uri": "https://localhost:8080/"
        },
        "id": "44fKtr9Edid-",
        "outputId": "ee935a80-076d-4523-c7d7-aa1ad81237e4"
      },
      "id": "44fKtr9Edid-",
      "execution_count": null,
      "outputs": [
        {
          "output_type": "execute_result",
          "data": {
            "text/plain": [
              "{'accuracy': 78.27119894466361,\n",
              " 'precision': 0.7828493735548918,\n",
              " 'recall': 0.7827119894466361,\n",
              " 'f1': 0.7826753514811705}"
            ]
          },
          "metadata": {},
          "execution_count": 73
        }
      ]
    },
    {
      "cell_type": "markdown",
      "metadata": {
        "id": "IKQDGaZ3uaJb"
      },
      "source": [
        "# File Download"
      ],
      "id": "IKQDGaZ3uaJb"
    },
    {
      "cell_type": "code",
      "execution_count": null,
      "metadata": {
        "colab": {
          "base_uri": "https://localhost:8080/",
          "height": 17
        },
        "id": "eZM6THHFucFt",
        "outputId": "98e90123-60ec-4888-e307-04dd780a4e5a"
      },
      "outputs": [
        {
          "data": {
            "application/javascript": [
              "\n",
              "    async function download(id, filename, size) {\n",
              "      if (!google.colab.kernel.accessAllowed) {\n",
              "        return;\n",
              "      }\n",
              "      const div = document.createElement('div');\n",
              "      const label = document.createElement('label');\n",
              "      label.textContent = `Downloading \"${filename}\": `;\n",
              "      div.appendChild(label);\n",
              "      const progress = document.createElement('progress');\n",
              "      progress.max = size;\n",
              "      div.appendChild(progress);\n",
              "      document.body.appendChild(div);\n",
              "\n",
              "      const buffers = [];\n",
              "      let downloaded = 0;\n",
              "\n",
              "      const channel = await google.colab.kernel.comms.open(id);\n",
              "      // Send a message to notify the kernel that we're ready.\n",
              "      channel.send({})\n",
              "\n",
              "      for await (const message of channel.messages) {\n",
              "        // Send a message to notify the kernel that we're ready.\n",
              "        channel.send({})\n",
              "        if (message.buffers) {\n",
              "          for (const buffer of message.buffers) {\n",
              "            buffers.push(buffer);\n",
              "            downloaded += buffer.byteLength;\n",
              "            progress.value = downloaded;\n",
              "          }\n",
              "        }\n",
              "      }\n",
              "      const blob = new Blob(buffers, {type: 'application/binary'});\n",
              "      const a = document.createElement('a');\n",
              "      a.href = window.URL.createObjectURL(blob);\n",
              "      a.download = filename;\n",
              "      div.appendChild(a);\n",
              "      a.click();\n",
              "      div.remove();\n",
              "    }\n",
              "  "
            ],
            "text/plain": [
              "<IPython.core.display.Javascript object>"
            ]
          },
          "metadata": {},
          "output_type": "display_data"
        },
        {
          "data": {
            "application/javascript": [
              "download(\"download_d23304cb-1423-4387-bbf8-ba82357fe839\", \"tokenizer.pkl\", 23813800)"
            ],
            "text/plain": [
              "<IPython.core.display.Javascript object>"
            ]
          },
          "metadata": {},
          "output_type": "display_data"
        }
      ],
      "source": [
        "# Download files locally to upload to Embedding Projector\n",
        "try:\n",
        "  from google.colab import files\n",
        "except ImportError:\n",
        "  pass\n",
        "else:\n",
        "  files.download(\"tokenizer.pkl\")\n",
        "  # files.download(\"embedding_metadata.tsv\")"
      ],
      "id": "eZM6THHFucFt"
    },
    {
      "cell_type": "code",
      "execution_count": null,
      "metadata": {
        "colab": {
          "base_uri": "https://localhost:8080/",
          "height": 34
        },
        "id": "PNpBgHKcoWud",
        "outputId": "8584aefb-869b-4d82-c353-ad63ff3d1f7c"
      },
      "outputs": [
        {
          "data": {
            "application/javascript": [
              "\n",
              "    async function download(id, filename, size) {\n",
              "      if (!google.colab.kernel.accessAllowed) {\n",
              "        return;\n",
              "      }\n",
              "      const div = document.createElement('div');\n",
              "      const label = document.createElement('label');\n",
              "      label.textContent = `Downloading \"${filename}\": `;\n",
              "      div.appendChild(label);\n",
              "      const progress = document.createElement('progress');\n",
              "      progress.max = size;\n",
              "      div.appendChild(progress);\n",
              "      document.body.appendChild(div);\n",
              "\n",
              "      const buffers = [];\n",
              "      let downloaded = 0;\n",
              "\n",
              "      const channel = await google.colab.kernel.comms.open(id);\n",
              "      // Send a message to notify the kernel that we're ready.\n",
              "      channel.send({})\n",
              "\n",
              "      for await (const message of channel.messages) {\n",
              "        // Send a message to notify the kernel that we're ready.\n",
              "        channel.send({})\n",
              "        if (message.buffers) {\n",
              "          for (const buffer of message.buffers) {\n",
              "            buffers.push(buffer);\n",
              "            downloaded += buffer.byteLength;\n",
              "            progress.value = downloaded;\n",
              "          }\n",
              "        }\n",
              "      }\n",
              "      const blob = new Blob(buffers, {type: 'application/binary'});\n",
              "      const a = document.createElement('a');\n",
              "      a.href = window.URL.createObjectURL(blob);\n",
              "      a.download = filename;\n",
              "      div.appendChild(a);\n",
              "      a.click();\n",
              "      div.remove();\n",
              "    }\n",
              "  "
            ],
            "text/plain": [
              "<IPython.core.display.Javascript object>"
            ]
          },
          "metadata": {},
          "output_type": "display_data"
        },
        {
          "data": {
            "application/javascript": [
              "download(\"download_7d38f58b-e82f-4a3f-9afa-85c87600594c\", \"model_1.h5\", 102678080)"
            ],
            "text/plain": [
              "<IPython.core.display.Javascript object>"
            ]
          },
          "metadata": {},
          "output_type": "display_data"
        }
      ],
      "source": [
        "# Download files locally to upload to Embedding Projector\n",
        "try:\n",
        "  from google.colab import files\n",
        "except ImportError:\n",
        "  pass\n",
        "else:\n",
        "  files.download(\"model_1.h5\")"
      ],
      "id": "PNpBgHKcoWud"
    },
    {
      "cell_type": "code",
      "execution_count": null,
      "metadata": {
        "id": "tzcWF1Zvyjp1"
      },
      "outputs": [],
      "source": [
        "# Syntax\n",
        "# !wget -P /content/drive/My\\ Drive [file URL]\n",
        "\n",
        "!wget -P /content/drive/AI\\ Drive '...'"
      ],
      "id": "tzcWF1Zvyjp1"
    },
    {
      "cell_type": "code",
      "execution_count": null,
      "metadata": {
        "colab": {
          "base_uri": "https://localhost:8080/",
          "height": 36
        },
        "id": "XBmuzcA1y5fY",
        "outputId": "abba8ea3-ad3d-4ad9-c515-b3ef5498545c"
      },
      "outputs": [
        {
          "output_type": "execute_result",
          "data": {
            "text/plain": [
              "'/content/gdrive/MyDrive/ML/Models'"
            ],
            "application/vnd.google.colaboratory.intrinsic+json": {
              "type": "string"
            }
          },
          "metadata": {},
          "execution_count": 87
        }
      ],
      "source": [
        "import shutil\n",
        "import os\n",
        "\n",
        "# Define the source folder (inside your Colab environment)\n",
        "source_folder = '/content/model_experiments'\n",
        "\n",
        "# Define the destination folder (inside your Google Drive)\n",
        "destination_folder = '/content/gdrive/MyDrive/ML/Models'\n",
        "\n",
        "# Remove the destination folder (if it exists)\n",
        "if os.path.exists(destination_folder):\n",
        "    shutil.rmtree(destination_folder)\n",
        "\n",
        "# Copy the source folder and its contents to the destination\n",
        "shutil.copytree(source_folder, destination_folder)"
      ],
      "id": "XBmuzcA1y5fY"
    },
    {
      "cell_type": "markdown",
      "metadata": {
        "id": "7Nhn92TLb7_E"
      },
      "source": [
        "# Model Saving"
      ],
      "id": "7Nhn92TLb7_E"
    },
    {
      "cell_type": "code",
      "execution_count": null,
      "metadata": {
        "id": "9P_onjvNb6rB"
      },
      "outputs": [],
      "source": [
        "tf.keras.saving.save_model(model_1, filepath='model_1.h5', save_format='h5')"
      ],
      "id": "9P_onjvNb6rB"
    },
    {
      "cell_type": "markdown",
      "metadata": {
        "id": "lkFuB_aQb_Tf"
      },
      "source": [
        "# Model Loading"
      ],
      "id": "lkFuB_aQb_Tf"
    },
    {
      "cell_type": "code",
      "execution_count": null,
      "metadata": {
        "id": "QmB8NxmhcBPP"
      },
      "outputs": [],
      "source": [
        "# Wrong way\n",
        "# model_temp = tf.saved_model.load('model_experiments/LSTM-GRU-CNN_50D_2L')\n",
        "\n",
        "# Correct way\n",
        "model_temp = tf.keras.models.load_model('model_experiments/LSTM-GRU-CNN_50D_2L')"
      ],
      "id": "QmB8NxmhcBPP"
    },
    {
      "cell_type": "code",
      "source": [
        "model_temp"
      ],
      "metadata": {
        "colab": {
          "base_uri": "https://localhost:8080/"
        },
        "id": "tnXkgIZNOTGY",
        "outputId": "66d7d76c-0e0f-4677-d17c-6cc69bc9daa9"
      },
      "id": "tnXkgIZNOTGY",
      "execution_count": null,
      "outputs": [
        {
          "output_type": "execute_result",
          "data": {
            "text/plain": [
              "<keras.src.engine.functional.Functional at 0x7eed545cedd0>"
            ]
          },
          "metadata": {},
          "execution_count": 99
        }
      ]
    },
    {
      "cell_type": "code",
      "source": [
        "score = model_temp.evaluate(X_test, y_test, verbose=1)"
      ],
      "metadata": {
        "colab": {
          "base_uri": "https://localhost:8080/"
        },
        "id": "iHK6_Mp2NlYh",
        "outputId": "6316e54c-d26b-4867-fde5-c5b824c86b3c"
      },
      "id": "iHK6_Mp2NlYh",
      "execution_count": null,
      "outputs": [
        {
          "output_type": "stream",
          "name": "stdout",
          "text": [
            "9997/9997 [==============================] - 66s 6ms/step - loss: 0.4672 - acc: 0.7827\n"
          ]
        }
      ]
    },
    {
      "cell_type": "markdown",
      "source": [
        "# Model Fine Tune"
      ],
      "metadata": {
        "id": "-eNO66n3Pmiq"
      },
      "id": "-eNO66n3Pmiq"
    },
    {
      "cell_type": "code",
      "source": [
        "# Fit model\n",
        "model_temp_history = model_temp.fit(train_dataset,\n",
        "                                    epochs=20,\n",
        "                                    validation_data=valid_dataset,\n",
        "                                    callbacks=[early_stopping,\n",
        "                                              reduce_lr,\n",
        "                                              create_model_checkpoint(model_name=\"model_temp\"),\n",
        "                                              create_tensorboard_callback(dir_name=\"tensorflow_hub\",\n",
        "                                                                          experiment_name=\"model_temp\")])"
      ],
      "metadata": {
        "colab": {
          "base_uri": "https://localhost:8080/",
          "height": 1000
        },
        "id": "073hNmftPozi",
        "outputId": "768c695b-c65f-4b56-ed34-a23a45395dfe"
      },
      "id": "073hNmftPozi",
      "execution_count": null,
      "outputs": [
        {
          "output_type": "stream",
          "name": "stdout",
          "text": [
            "Saving TensorBoard log files to: tensorflow_hub/model_temp/20240102-125628\n",
            "Epoch 1/20\n",
            "2500/2500 [==============================] - 71s 24ms/step - loss: 0.4737 - acc: 0.7777 - val_loss: 0.4671 - val_acc: 0.7826 - lr: 2.0000e-04\n",
            "Epoch 2/20\n",
            "2500/2500 [==============================] - 58s 23ms/step - loss: 0.4730 - acc: 0.7780 - val_loss: 0.4665 - val_acc: 0.7828 - lr: 2.0000e-04\n",
            "Epoch 3/20\n",
            "2500/2500 [==============================] - 41s 16ms/step - loss: 0.4727 - acc: 0.7784 - val_loss: 0.4672 - val_acc: 0.7830 - lr: 2.0000e-04\n",
            "Epoch 4/20\n",
            "2497/2500 [============================>.] - ETA: 0s - loss: 0.4722 - acc: 0.7783\n",
            "Epoch 4: ReduceLROnPlateau reducing learning rate to 4.0000001899898055e-05.\n",
            "2500/2500 [==============================] - 42s 17ms/step - loss: 0.4722 - acc: 0.7783 - val_loss: 0.4668 - val_acc: 0.7829 - lr: 2.0000e-04\n",
            "Epoch 5/20\n",
            "2500/2500 [==============================] - 57s 23ms/step - loss: 0.4610 - acc: 0.7797 - val_loss: 0.4577 - val_acc: 0.7828 - lr: 4.0000e-05\n",
            "Epoch 6/20\n",
            "2500/2500 [==============================] - 62s 25ms/step - loss: 0.4607 - acc: 0.7799 - val_loss: 0.4571 - val_acc: 0.7829 - lr: 4.0000e-05\n",
            "Epoch 7/20\n",
            "2500/2500 [==============================] - 43s 17ms/step - loss: 0.4604 - acc: 0.7800 - val_loss: 0.4578 - val_acc: 0.7828 - lr: 4.0000e-05\n",
            "Epoch 8/20\n",
            "2499/2500 [============================>.] - ETA: 0s - loss: 0.4601 - acc: 0.7797\n",
            "Epoch 8: ReduceLROnPlateau reducing learning rate to 8.000000525498762e-06.\n",
            "2500/2500 [==============================] - 58s 23ms/step - loss: 0.4601 - acc: 0.7797 - val_loss: 0.4571 - val_acc: 0.7831 - lr: 4.0000e-05\n",
            "Epoch 9/20\n",
            "2500/2500 [==============================] - 57s 23ms/step - loss: 0.4577 - acc: 0.7805 - val_loss: 0.4549 - val_acc: 0.7833 - lr: 8.0000e-06\n",
            "Epoch 10/20\n",
            "2500/2500 [==============================] - 61s 25ms/step - loss: 0.4575 - acc: 0.7805 - val_loss: 0.4549 - val_acc: 0.7834 - lr: 8.0000e-06\n",
            "Epoch 11/20\n",
            "2500/2500 [==============================] - ETA: 0s - loss: 0.4571 - acc: 0.7806\n",
            "Epoch 11: ReduceLROnPlateau reducing learning rate to 1.6000001778593287e-06.\n",
            "2500/2500 [==============================] - 58s 23ms/step - loss: 0.4571 - acc: 0.7806 - val_loss: 0.4548 - val_acc: 0.7834 - lr: 8.0000e-06\n",
            "Epoch 12/20\n",
            "2500/2500 [==============================] - 52s 21ms/step - loss: 0.4558 - acc: 0.7813 - val_loss: 0.4545 - val_acc: 0.7834 - lr: 1.6000e-06\n",
            "Epoch 13/20\n",
            "2500/2500 [==============================] - 52s 21ms/step - loss: 0.4561 - acc: 0.7809 - val_loss: 0.4544 - val_acc: 0.7833 - lr: 1.6000e-06\n",
            "Epoch 14/20\n",
            "2499/2500 [============================>.] - ETA: 0s - loss: 0.4552 - acc: 0.7814\n",
            "Epoch 14: ReduceLROnPlateau reducing learning rate to 3.200000264769187e-07.\n",
            "2500/2500 [==============================] - 37s 15ms/step - loss: 0.4552 - acc: 0.7814 - val_loss: 0.4545 - val_acc: 0.7834 - lr: 1.6000e-06\n",
            "Epoch 15/20\n",
            "2500/2500 [==============================] - 56s 22ms/step - loss: 0.4550 - acc: 0.7817 - val_loss: 0.4543 - val_acc: 0.7833 - lr: 3.2000e-07\n",
            "Epoch 16/20\n",
            "2500/2500 [==============================] - 38s 15ms/step - loss: 0.4542 - acc: 0.7824 - val_loss: 0.4544 - val_acc: 0.7834 - lr: 3.2000e-07\n",
            "Epoch 17/20\n",
            "2500/2500 [==============================] - 52s 21ms/step - loss: 0.4569 - acc: 0.7805 - val_loss: 0.4542 - val_acc: 0.7833 - lr: 3.2000e-07\n",
            "Epoch 18/20\n",
            "2500/2500 [==============================] - 53s 21ms/step - loss: 0.4570 - acc: 0.7805 - val_loss: 0.4541 - val_acc: 0.7833 - lr: 3.2000e-07\n",
            "Epoch 19/20\n",
            "2499/2500 [============================>.] - ETA: 0s - loss: 0.4571 - acc: 0.7802\n",
            "Epoch 19: ReduceLROnPlateau reducing learning rate to 1e-07.\n",
            "2500/2500 [==============================] - 57s 23ms/step - loss: 0.4571 - acc: 0.7802 - val_loss: 0.4541 - val_acc: 0.7833 - lr: 3.2000e-07\n",
            "Epoch 20/20\n",
            "2035/2500 [=======================>......] - ETA: 6s - loss: 0.4570 - acc: 0.7805"
          ]
        },
        {
          "output_type": "error",
          "ename": "KeyboardInterrupt",
          "evalue": "ignored",
          "traceback": [
            "\u001b[0;31m---------------------------------------------------------------------------\u001b[0m",
            "\u001b[0;31mKeyboardInterrupt\u001b[0m                         Traceback (most recent call last)",
            "\u001b[0;32m<ipython-input-101-6b97be9f440a>\u001b[0m in \u001b[0;36m<cell line: 2>\u001b[0;34m()\u001b[0m\n\u001b[1;32m      1\u001b[0m \u001b[0;31m# Fit model\u001b[0m\u001b[0;34m\u001b[0m\u001b[0;34m\u001b[0m\u001b[0m\n\u001b[0;32m----> 2\u001b[0;31m model_temp_history = model_temp.fit(train_dataset,\n\u001b[0m\u001b[1;32m      3\u001b[0m                                     \u001b[0mepochs\u001b[0m\u001b[0;34m=\u001b[0m\u001b[0;36m20\u001b[0m\u001b[0;34m,\u001b[0m\u001b[0;34m\u001b[0m\u001b[0;34m\u001b[0m\u001b[0m\n\u001b[1;32m      4\u001b[0m                                     \u001b[0mvalidation_data\u001b[0m\u001b[0;34m=\u001b[0m\u001b[0mvalid_dataset\u001b[0m\u001b[0;34m,\u001b[0m\u001b[0;34m\u001b[0m\u001b[0;34m\u001b[0m\u001b[0m\n\u001b[1;32m      5\u001b[0m                                     callbacks=[early_stopping,\n",
            "\u001b[0;32m/usr/local/lib/python3.10/dist-packages/keras/src/utils/traceback_utils.py\u001b[0m in \u001b[0;36merror_handler\u001b[0;34m(*args, **kwargs)\u001b[0m\n\u001b[1;32m     63\u001b[0m         \u001b[0mfiltered_tb\u001b[0m \u001b[0;34m=\u001b[0m \u001b[0;32mNone\u001b[0m\u001b[0;34m\u001b[0m\u001b[0;34m\u001b[0m\u001b[0m\n\u001b[1;32m     64\u001b[0m         \u001b[0;32mtry\u001b[0m\u001b[0;34m:\u001b[0m\u001b[0;34m\u001b[0m\u001b[0;34m\u001b[0m\u001b[0m\n\u001b[0;32m---> 65\u001b[0;31m             \u001b[0;32mreturn\u001b[0m \u001b[0mfn\u001b[0m\u001b[0;34m(\u001b[0m\u001b[0;34m*\u001b[0m\u001b[0margs\u001b[0m\u001b[0;34m,\u001b[0m \u001b[0;34m**\u001b[0m\u001b[0mkwargs\u001b[0m\u001b[0;34m)\u001b[0m\u001b[0;34m\u001b[0m\u001b[0;34m\u001b[0m\u001b[0m\n\u001b[0m\u001b[1;32m     66\u001b[0m         \u001b[0;32mexcept\u001b[0m \u001b[0mException\u001b[0m \u001b[0;32mas\u001b[0m \u001b[0me\u001b[0m\u001b[0;34m:\u001b[0m\u001b[0;34m\u001b[0m\u001b[0;34m\u001b[0m\u001b[0m\n\u001b[1;32m     67\u001b[0m             \u001b[0mfiltered_tb\u001b[0m \u001b[0;34m=\u001b[0m \u001b[0m_process_traceback_frames\u001b[0m\u001b[0;34m(\u001b[0m\u001b[0me\u001b[0m\u001b[0;34m.\u001b[0m\u001b[0m__traceback__\u001b[0m\u001b[0;34m)\u001b[0m\u001b[0;34m\u001b[0m\u001b[0;34m\u001b[0m\u001b[0m\n",
            "\u001b[0;32m/usr/local/lib/python3.10/dist-packages/keras/src/engine/training.py\u001b[0m in \u001b[0;36mfit\u001b[0;34m(self, x, y, batch_size, epochs, verbose, callbacks, validation_split, validation_data, shuffle, class_weight, sample_weight, initial_epoch, steps_per_epoch, validation_steps, validation_batch_size, validation_freq, max_queue_size, workers, use_multiprocessing)\u001b[0m\n\u001b[1;32m   1805\u001b[0m                         ):\n\u001b[1;32m   1806\u001b[0m                             \u001b[0mcallbacks\u001b[0m\u001b[0;34m.\u001b[0m\u001b[0mon_train_batch_begin\u001b[0m\u001b[0;34m(\u001b[0m\u001b[0mstep\u001b[0m\u001b[0;34m)\u001b[0m\u001b[0;34m\u001b[0m\u001b[0;34m\u001b[0m\u001b[0m\n\u001b[0;32m-> 1807\u001b[0;31m                             \u001b[0mtmp_logs\u001b[0m \u001b[0;34m=\u001b[0m \u001b[0mself\u001b[0m\u001b[0;34m.\u001b[0m\u001b[0mtrain_function\u001b[0m\u001b[0;34m(\u001b[0m\u001b[0miterator\u001b[0m\u001b[0;34m)\u001b[0m\u001b[0;34m\u001b[0m\u001b[0;34m\u001b[0m\u001b[0m\n\u001b[0m\u001b[1;32m   1808\u001b[0m                             \u001b[0;32mif\u001b[0m \u001b[0mdata_handler\u001b[0m\u001b[0;34m.\u001b[0m\u001b[0mshould_sync\u001b[0m\u001b[0;34m:\u001b[0m\u001b[0;34m\u001b[0m\u001b[0;34m\u001b[0m\u001b[0m\n\u001b[1;32m   1809\u001b[0m                                 \u001b[0mcontext\u001b[0m\u001b[0;34m.\u001b[0m\u001b[0masync_wait\u001b[0m\u001b[0;34m(\u001b[0m\u001b[0;34m)\u001b[0m\u001b[0;34m\u001b[0m\u001b[0;34m\u001b[0m\u001b[0m\n",
            "\u001b[0;32m/usr/local/lib/python3.10/dist-packages/tensorflow/python/util/traceback_utils.py\u001b[0m in \u001b[0;36merror_handler\u001b[0;34m(*args, **kwargs)\u001b[0m\n\u001b[1;32m    148\u001b[0m     \u001b[0mfiltered_tb\u001b[0m \u001b[0;34m=\u001b[0m \u001b[0;32mNone\u001b[0m\u001b[0;34m\u001b[0m\u001b[0;34m\u001b[0m\u001b[0m\n\u001b[1;32m    149\u001b[0m     \u001b[0;32mtry\u001b[0m\u001b[0;34m:\u001b[0m\u001b[0;34m\u001b[0m\u001b[0;34m\u001b[0m\u001b[0m\n\u001b[0;32m--> 150\u001b[0;31m       \u001b[0;32mreturn\u001b[0m \u001b[0mfn\u001b[0m\u001b[0;34m(\u001b[0m\u001b[0;34m*\u001b[0m\u001b[0margs\u001b[0m\u001b[0;34m,\u001b[0m \u001b[0;34m**\u001b[0m\u001b[0mkwargs\u001b[0m\u001b[0;34m)\u001b[0m\u001b[0;34m\u001b[0m\u001b[0;34m\u001b[0m\u001b[0m\n\u001b[0m\u001b[1;32m    151\u001b[0m     \u001b[0;32mexcept\u001b[0m \u001b[0mException\u001b[0m \u001b[0;32mas\u001b[0m \u001b[0me\u001b[0m\u001b[0;34m:\u001b[0m\u001b[0;34m\u001b[0m\u001b[0;34m\u001b[0m\u001b[0m\n\u001b[1;32m    152\u001b[0m       \u001b[0mfiltered_tb\u001b[0m \u001b[0;34m=\u001b[0m \u001b[0m_process_traceback_frames\u001b[0m\u001b[0;34m(\u001b[0m\u001b[0me\u001b[0m\u001b[0;34m.\u001b[0m\u001b[0m__traceback__\u001b[0m\u001b[0;34m)\u001b[0m\u001b[0;34m\u001b[0m\u001b[0;34m\u001b[0m\u001b[0m\n",
            "\u001b[0;32m/usr/local/lib/python3.10/dist-packages/tensorflow/python/eager/polymorphic_function/polymorphic_function.py\u001b[0m in \u001b[0;36m__call__\u001b[0;34m(self, *args, **kwds)\u001b[0m\n\u001b[1;32m    830\u001b[0m \u001b[0;34m\u001b[0m\u001b[0m\n\u001b[1;32m    831\u001b[0m       \u001b[0;32mwith\u001b[0m \u001b[0mOptionalXlaContext\u001b[0m\u001b[0;34m(\u001b[0m\u001b[0mself\u001b[0m\u001b[0;34m.\u001b[0m\u001b[0m_jit_compile\u001b[0m\u001b[0;34m)\u001b[0m\u001b[0;34m:\u001b[0m\u001b[0;34m\u001b[0m\u001b[0;34m\u001b[0m\u001b[0m\n\u001b[0;32m--> 832\u001b[0;31m         \u001b[0mresult\u001b[0m \u001b[0;34m=\u001b[0m \u001b[0mself\u001b[0m\u001b[0;34m.\u001b[0m\u001b[0m_call\u001b[0m\u001b[0;34m(\u001b[0m\u001b[0;34m*\u001b[0m\u001b[0margs\u001b[0m\u001b[0;34m,\u001b[0m \u001b[0;34m**\u001b[0m\u001b[0mkwds\u001b[0m\u001b[0;34m)\u001b[0m\u001b[0;34m\u001b[0m\u001b[0;34m\u001b[0m\u001b[0m\n\u001b[0m\u001b[1;32m    833\u001b[0m \u001b[0;34m\u001b[0m\u001b[0m\n\u001b[1;32m    834\u001b[0m       \u001b[0mnew_tracing_count\u001b[0m \u001b[0;34m=\u001b[0m \u001b[0mself\u001b[0m\u001b[0;34m.\u001b[0m\u001b[0mexperimental_get_tracing_count\u001b[0m\u001b[0;34m(\u001b[0m\u001b[0;34m)\u001b[0m\u001b[0;34m\u001b[0m\u001b[0;34m\u001b[0m\u001b[0m\n",
            "\u001b[0;32m/usr/local/lib/python3.10/dist-packages/tensorflow/python/eager/polymorphic_function/polymorphic_function.py\u001b[0m in \u001b[0;36m_call\u001b[0;34m(self, *args, **kwds)\u001b[0m\n\u001b[1;32m    866\u001b[0m       \u001b[0;31m# In this case we have created variables on the first call, so we run the\u001b[0m\u001b[0;34m\u001b[0m\u001b[0;34m\u001b[0m\u001b[0m\n\u001b[1;32m    867\u001b[0m       \u001b[0;31m# defunned version which is guaranteed to never create variables.\u001b[0m\u001b[0;34m\u001b[0m\u001b[0;34m\u001b[0m\u001b[0m\n\u001b[0;32m--> 868\u001b[0;31m       return tracing_compilation.call_function(\n\u001b[0m\u001b[1;32m    869\u001b[0m           \u001b[0margs\u001b[0m\u001b[0;34m,\u001b[0m \u001b[0mkwds\u001b[0m\u001b[0;34m,\u001b[0m \u001b[0mself\u001b[0m\u001b[0;34m.\u001b[0m\u001b[0m_no_variable_creation_config\u001b[0m\u001b[0;34m\u001b[0m\u001b[0;34m\u001b[0m\u001b[0m\n\u001b[1;32m    870\u001b[0m       )\n",
            "\u001b[0;32m/usr/local/lib/python3.10/dist-packages/tensorflow/python/eager/polymorphic_function/tracing_compilation.py\u001b[0m in \u001b[0;36mcall_function\u001b[0;34m(args, kwargs, tracing_options)\u001b[0m\n\u001b[1;32m    137\u001b[0m   \u001b[0mbound_args\u001b[0m \u001b[0;34m=\u001b[0m \u001b[0mfunction\u001b[0m\u001b[0;34m.\u001b[0m\u001b[0mfunction_type\u001b[0m\u001b[0;34m.\u001b[0m\u001b[0mbind\u001b[0m\u001b[0;34m(\u001b[0m\u001b[0;34m*\u001b[0m\u001b[0margs\u001b[0m\u001b[0;34m,\u001b[0m \u001b[0;34m**\u001b[0m\u001b[0mkwargs\u001b[0m\u001b[0;34m)\u001b[0m\u001b[0;34m\u001b[0m\u001b[0;34m\u001b[0m\u001b[0m\n\u001b[1;32m    138\u001b[0m   \u001b[0mflat_inputs\u001b[0m \u001b[0;34m=\u001b[0m \u001b[0mfunction\u001b[0m\u001b[0;34m.\u001b[0m\u001b[0mfunction_type\u001b[0m\u001b[0;34m.\u001b[0m\u001b[0munpack_inputs\u001b[0m\u001b[0;34m(\u001b[0m\u001b[0mbound_args\u001b[0m\u001b[0;34m)\u001b[0m\u001b[0;34m\u001b[0m\u001b[0;34m\u001b[0m\u001b[0m\n\u001b[0;32m--> 139\u001b[0;31m   return function._call_flat(  # pylint: disable=protected-access\n\u001b[0m\u001b[1;32m    140\u001b[0m       \u001b[0mflat_inputs\u001b[0m\u001b[0;34m,\u001b[0m \u001b[0mcaptured_inputs\u001b[0m\u001b[0;34m=\u001b[0m\u001b[0mfunction\u001b[0m\u001b[0;34m.\u001b[0m\u001b[0mcaptured_inputs\u001b[0m\u001b[0;34m\u001b[0m\u001b[0;34m\u001b[0m\u001b[0m\n\u001b[1;32m    141\u001b[0m   )\n",
            "\u001b[0;32m/usr/local/lib/python3.10/dist-packages/tensorflow/python/eager/polymorphic_function/concrete_function.py\u001b[0m in \u001b[0;36m_call_flat\u001b[0;34m(self, tensor_inputs, captured_inputs)\u001b[0m\n\u001b[1;32m   1321\u001b[0m         and executing_eagerly):\n\u001b[1;32m   1322\u001b[0m       \u001b[0;31m# No tape is watching; skip to running the function.\u001b[0m\u001b[0;34m\u001b[0m\u001b[0;34m\u001b[0m\u001b[0m\n\u001b[0;32m-> 1323\u001b[0;31m       \u001b[0;32mreturn\u001b[0m \u001b[0mself\u001b[0m\u001b[0;34m.\u001b[0m\u001b[0m_inference_function\u001b[0m\u001b[0;34m.\u001b[0m\u001b[0mcall_preflattened\u001b[0m\u001b[0;34m(\u001b[0m\u001b[0margs\u001b[0m\u001b[0;34m)\u001b[0m\u001b[0;34m\u001b[0m\u001b[0;34m\u001b[0m\u001b[0m\n\u001b[0m\u001b[1;32m   1324\u001b[0m     forward_backward = self._select_forward_and_backward_functions(\n\u001b[1;32m   1325\u001b[0m         \u001b[0margs\u001b[0m\u001b[0;34m,\u001b[0m\u001b[0;34m\u001b[0m\u001b[0;34m\u001b[0m\u001b[0m\n",
            "\u001b[0;32m/usr/local/lib/python3.10/dist-packages/tensorflow/python/eager/polymorphic_function/atomic_function.py\u001b[0m in \u001b[0;36mcall_preflattened\u001b[0;34m(self, args)\u001b[0m\n\u001b[1;32m    214\u001b[0m   \u001b[0;32mdef\u001b[0m \u001b[0mcall_preflattened\u001b[0m\u001b[0;34m(\u001b[0m\u001b[0mself\u001b[0m\u001b[0;34m,\u001b[0m \u001b[0margs\u001b[0m\u001b[0;34m:\u001b[0m \u001b[0mSequence\u001b[0m\u001b[0;34m[\u001b[0m\u001b[0mcore\u001b[0m\u001b[0;34m.\u001b[0m\u001b[0mTensor\u001b[0m\u001b[0;34m]\u001b[0m\u001b[0;34m)\u001b[0m \u001b[0;34m->\u001b[0m \u001b[0mAny\u001b[0m\u001b[0;34m:\u001b[0m\u001b[0;34m\u001b[0m\u001b[0;34m\u001b[0m\u001b[0m\n\u001b[1;32m    215\u001b[0m     \u001b[0;34m\"\"\"Calls with flattened tensor inputs and returns the structured output.\"\"\"\u001b[0m\u001b[0;34m\u001b[0m\u001b[0;34m\u001b[0m\u001b[0m\n\u001b[0;32m--> 216\u001b[0;31m     \u001b[0mflat_outputs\u001b[0m \u001b[0;34m=\u001b[0m \u001b[0mself\u001b[0m\u001b[0;34m.\u001b[0m\u001b[0mcall_flat\u001b[0m\u001b[0;34m(\u001b[0m\u001b[0;34m*\u001b[0m\u001b[0margs\u001b[0m\u001b[0;34m)\u001b[0m\u001b[0;34m\u001b[0m\u001b[0;34m\u001b[0m\u001b[0m\n\u001b[0m\u001b[1;32m    217\u001b[0m     \u001b[0;32mreturn\u001b[0m \u001b[0mself\u001b[0m\u001b[0;34m.\u001b[0m\u001b[0mfunction_type\u001b[0m\u001b[0;34m.\u001b[0m\u001b[0mpack_output\u001b[0m\u001b[0;34m(\u001b[0m\u001b[0mflat_outputs\u001b[0m\u001b[0;34m)\u001b[0m\u001b[0;34m\u001b[0m\u001b[0;34m\u001b[0m\u001b[0m\n\u001b[1;32m    218\u001b[0m \u001b[0;34m\u001b[0m\u001b[0m\n",
            "\u001b[0;32m/usr/local/lib/python3.10/dist-packages/tensorflow/python/eager/polymorphic_function/atomic_function.py\u001b[0m in \u001b[0;36mcall_flat\u001b[0;34m(self, *args)\u001b[0m\n\u001b[1;32m    249\u001b[0m         \u001b[0;32mwith\u001b[0m \u001b[0mrecord\u001b[0m\u001b[0;34m.\u001b[0m\u001b[0mstop_recording\u001b[0m\u001b[0;34m(\u001b[0m\u001b[0;34m)\u001b[0m\u001b[0;34m:\u001b[0m\u001b[0;34m\u001b[0m\u001b[0;34m\u001b[0m\u001b[0m\n\u001b[1;32m    250\u001b[0m           \u001b[0;32mif\u001b[0m \u001b[0mself\u001b[0m\u001b[0;34m.\u001b[0m\u001b[0m_bound_context\u001b[0m\u001b[0;34m.\u001b[0m\u001b[0mexecuting_eagerly\u001b[0m\u001b[0;34m(\u001b[0m\u001b[0;34m)\u001b[0m\u001b[0;34m:\u001b[0m\u001b[0;34m\u001b[0m\u001b[0;34m\u001b[0m\u001b[0m\n\u001b[0;32m--> 251\u001b[0;31m             outputs = self._bound_context.call_function(\n\u001b[0m\u001b[1;32m    252\u001b[0m                 \u001b[0mself\u001b[0m\u001b[0;34m.\u001b[0m\u001b[0mname\u001b[0m\u001b[0;34m,\u001b[0m\u001b[0;34m\u001b[0m\u001b[0;34m\u001b[0m\u001b[0m\n\u001b[1;32m    253\u001b[0m                 \u001b[0mlist\u001b[0m\u001b[0;34m(\u001b[0m\u001b[0margs\u001b[0m\u001b[0;34m)\u001b[0m\u001b[0;34m,\u001b[0m\u001b[0;34m\u001b[0m\u001b[0;34m\u001b[0m\u001b[0m\n",
            "\u001b[0;32m/usr/local/lib/python3.10/dist-packages/tensorflow/python/eager/context.py\u001b[0m in \u001b[0;36mcall_function\u001b[0;34m(self, name, tensor_inputs, num_outputs)\u001b[0m\n\u001b[1;32m   1484\u001b[0m     \u001b[0mcancellation_context\u001b[0m \u001b[0;34m=\u001b[0m \u001b[0mcancellation\u001b[0m\u001b[0;34m.\u001b[0m\u001b[0mcontext\u001b[0m\u001b[0;34m(\u001b[0m\u001b[0;34m)\u001b[0m\u001b[0;34m\u001b[0m\u001b[0;34m\u001b[0m\u001b[0m\n\u001b[1;32m   1485\u001b[0m     \u001b[0;32mif\u001b[0m \u001b[0mcancellation_context\u001b[0m \u001b[0;32mis\u001b[0m \u001b[0;32mNone\u001b[0m\u001b[0;34m:\u001b[0m\u001b[0;34m\u001b[0m\u001b[0;34m\u001b[0m\u001b[0m\n\u001b[0;32m-> 1486\u001b[0;31m       outputs = execute.execute(\n\u001b[0m\u001b[1;32m   1487\u001b[0m           \u001b[0mname\u001b[0m\u001b[0;34m.\u001b[0m\u001b[0mdecode\u001b[0m\u001b[0;34m(\u001b[0m\u001b[0;34m\"utf-8\"\u001b[0m\u001b[0;34m)\u001b[0m\u001b[0;34m,\u001b[0m\u001b[0;34m\u001b[0m\u001b[0;34m\u001b[0m\u001b[0m\n\u001b[1;32m   1488\u001b[0m           \u001b[0mnum_outputs\u001b[0m\u001b[0;34m=\u001b[0m\u001b[0mnum_outputs\u001b[0m\u001b[0;34m,\u001b[0m\u001b[0;34m\u001b[0m\u001b[0;34m\u001b[0m\u001b[0m\n",
            "\u001b[0;32m/usr/local/lib/python3.10/dist-packages/tensorflow/python/eager/execute.py\u001b[0m in \u001b[0;36mquick_execute\u001b[0;34m(op_name, num_outputs, inputs, attrs, ctx, name)\u001b[0m\n\u001b[1;32m     51\u001b[0m   \u001b[0;32mtry\u001b[0m\u001b[0;34m:\u001b[0m\u001b[0;34m\u001b[0m\u001b[0;34m\u001b[0m\u001b[0m\n\u001b[1;32m     52\u001b[0m     \u001b[0mctx\u001b[0m\u001b[0;34m.\u001b[0m\u001b[0mensure_initialized\u001b[0m\u001b[0;34m(\u001b[0m\u001b[0;34m)\u001b[0m\u001b[0;34m\u001b[0m\u001b[0;34m\u001b[0m\u001b[0m\n\u001b[0;32m---> 53\u001b[0;31m     tensors = pywrap_tfe.TFE_Py_Execute(ctx._handle, device_name, op_name,\n\u001b[0m\u001b[1;32m     54\u001b[0m                                         inputs, attrs, num_outputs)\n\u001b[1;32m     55\u001b[0m   \u001b[0;32mexcept\u001b[0m \u001b[0mcore\u001b[0m\u001b[0;34m.\u001b[0m\u001b[0m_NotOkStatusException\u001b[0m \u001b[0;32mas\u001b[0m \u001b[0me\u001b[0m\u001b[0;34m:\u001b[0m\u001b[0;34m\u001b[0m\u001b[0;34m\u001b[0m\u001b[0m\n",
            "\u001b[0;31mKeyboardInterrupt\u001b[0m: "
          ]
        }
      ]
    },
    {
      "cell_type": "markdown",
      "metadata": {
        "id": "N996qbHlcGh_"
      },
      "source": [
        "# Model Evaluating"
      ],
      "id": "N996qbHlcGh_"
    },
    {
      "cell_type": "code",
      "execution_count": null,
      "metadata": {
        "id": "NOHQNxR1cIog"
      },
      "outputs": [],
      "source": [
        "# Upload TensorBoard dev records\n",
        "!tensorboard dev upload --logdir ./transfer_learning \\\n",
        "  --name \"Transfer learning experiments\" \\\n",
        "  --description \"A series of different transfer learning experiments with varying amounts of data and fine-tuning\" \\\n",
        "  --one_shot # exits the uploader when upload has finished"
      ],
      "id": "NOHQNxR1cIog"
    },
    {
      "cell_type": "code",
      "source": [
        "# View previous experiments\n",
        "!tensorboard dev list"
      ],
      "metadata": {
        "id": "bXHmLpfyRkC4"
      },
      "id": "bXHmLpfyRkC4",
      "execution_count": null,
      "outputs": []
    },
    {
      "cell_type": "code",
      "source": [
        "# Remove previous experiments\n",
        "!tensorboard dev delete --experiment_id OUbW0O3pRqqQgAphVBxi8Q"
      ],
      "metadata": {
        "id": "S3fZG425RlSj"
      },
      "id": "S3fZG425RlSj",
      "execution_count": null,
      "outputs": []
    }
  ],
  "metadata": {
    "colab": {
      "provenance": [],
      "toc_visible": true,
      "include_colab_link": true
    },
    "kernelspec": {
      "display_name": "Python 3",
      "name": "python3"
    },
    "language_info": {
      "codemirror_mode": {
        "name": "ipython",
        "version": 3
      },
      "file_extension": ".py",
      "mimetype": "text/x-python",
      "name": "python",
      "nbconvert_exporter": "python",
      "pygments_lexer": "ipython3",
      "version": "3.9.13"
    }
  },
  "nbformat": 4,
  "nbformat_minor": 5
}
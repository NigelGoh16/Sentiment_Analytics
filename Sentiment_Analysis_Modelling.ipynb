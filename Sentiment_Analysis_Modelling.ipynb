{
  "cells": [
    {
      "cell_type": "markdown",
      "metadata": {
        "id": "view-in-github",
        "colab_type": "text"
      },
      "source": [
        "<a href=\"https://colab.research.google.com/github/NigelGoh16/Sentiment_Analytics/blob/master/Sentiment_Analysis_Modelling.ipynb\" target=\"_parent\"><img src=\"https://colab.research.google.com/assets/colab-badge.svg\" alt=\"Open In Colab\"/></a>"
      ]
    },
    {
      "cell_type": "markdown",
      "id": "88c1a869-2fc9-42f2-889f-6c8e535a7063",
      "metadata": {
        "id": "88c1a869-2fc9-42f2-889f-6c8e535a7063"
      },
      "source": [
        "# Data Procurement"
      ]
    },
    {
      "cell_type": "code",
      "source": [
        "!pip install -q kaggle\n",
        "! mkdir ~/.kaggle\n",
        "! cp kaggle.json ~/.kaggle/\n",
        "! chmod 600 ~/.kaggle/kaggle.json\n",
        "! kaggle datasets download -d kazanova/sentiment140"
      ],
      "metadata": {
        "colab": {
          "base_uri": "https://localhost:8080/"
        },
        "id": "xAd7_aNiTEvA",
        "outputId": "d08bc950-7e4e-4f45-a4d6-74416a3e9e33"
      },
      "id": "xAd7_aNiTEvA",
      "execution_count": null,
      "outputs": [
        {
          "output_type": "stream",
          "name": "stdout",
          "text": [
            "Downloading sentiment140.zip to /content\n",
            " 80% 65.0M/80.9M [00:00<00:00, 147MB/s]\n",
            "100% 80.9M/80.9M [00:00<00:00, 147MB/s]\n"
          ]
        }
      ]
    },
    {
      "cell_type": "code",
      "source": [
        "! wget https://nlp.stanford.edu/data/glove.6B.zip"
      ],
      "metadata": {
        "colab": {
          "base_uri": "https://localhost:8080/"
        },
        "id": "SqNiLlnl9HWR",
        "outputId": "bc36bd5e-ea24-467f-bea2-ed9efaef5887"
      },
      "id": "SqNiLlnl9HWR",
      "execution_count": null,
      "outputs": [
        {
          "output_type": "stream",
          "name": "stdout",
          "text": [
            "--2023-11-01 15:45:52--  https://nlp.stanford.edu/data/glove.6B.zip\n",
            "Resolving nlp.stanford.edu (nlp.stanford.edu)... 171.64.67.140\n",
            "Connecting to nlp.stanford.edu (nlp.stanford.edu)|171.64.67.140|:443... connected.\n",
            "HTTP request sent, awaiting response... 301 Moved Permanently\n",
            "Location: https://downloads.cs.stanford.edu/nlp/data/glove.6B.zip [following]\n",
            "--2023-11-01 15:45:53--  https://downloads.cs.stanford.edu/nlp/data/glove.6B.zip\n",
            "Resolving downloads.cs.stanford.edu (downloads.cs.stanford.edu)... 171.64.64.22\n",
            "Connecting to downloads.cs.stanford.edu (downloads.cs.stanford.edu)|171.64.64.22|:443... connected.\n",
            "HTTP request sent, awaiting response... 200 OK\n",
            "Length: 862182613 (822M) [application/zip]\n",
            "Saving to: ‘glove.6B.zip’\n",
            "\n",
            "glove.6B.zip        100%[===================>] 822.24M  5.11MB/s    in 2m 40s  \n",
            "\n",
            "2023-11-01 15:48:34 (5.14 MB/s) - ‘glove.6B.zip’ saved [862182613/862182613]\n",
            "\n"
          ]
        }
      ]
    },
    {
      "cell_type": "code",
      "source": [
        "import zipfile\n",
        "\n",
        "# Unzip the downloaded file\n",
        "zip_ref = zipfile.ZipFile(\"/content/sentiment140.zip\", \"r\")\n",
        "zip_ref.extractall()\n",
        "zip_ref.close()"
      ],
      "metadata": {
        "id": "voUclCgVTVVB"
      },
      "id": "voUclCgVTVVB",
      "execution_count": null,
      "outputs": []
    },
    {
      "cell_type": "code",
      "source": [
        "# Unzip the downloaded file\n",
        "zip_ref = zipfile.ZipFile(\"/content/glove.6B.zip\", \"r\")\n",
        "zip_ref.extractall()\n",
        "zip_ref.close()"
      ],
      "metadata": {
        "id": "nrSQBC16k3Tb"
      },
      "id": "nrSQBC16k3Tb",
      "execution_count": null,
      "outputs": []
    },
    {
      "cell_type": "code",
      "execution_count": null,
      "id": "06652b1c-44ce-48da-982b-5c3576bde435",
      "metadata": {
        "id": "06652b1c-44ce-48da-982b-5c3576bde435"
      },
      "outputs": [],
      "source": [
        "import pandas as pd\n",
        "import numpy as np\n",
        "import re\n",
        "import nltk\n",
        "from nltk.corpus import stopwords\n",
        "from numpy import array\n",
        "\n",
        "import tensorflow as tf\n",
        "from tensorflow.keras.preprocessing.text import one_hot, Tokenizer\n",
        "from tensorflow.keras.preprocessing.sequence import pad_sequences\n",
        "from tensorflow.keras.models import Sequential\n",
        "from tensorflow.keras.layers import Flatten, GlobalMaxPooling1D, Embedding, LSTM, Activation, Dropout, Dense, Conv1D\n",
        "from sklearn.model_selection import train_test_split"
      ]
    },
    {
      "cell_type": "code",
      "execution_count": null,
      "id": "f4b8b8d2-681c-4dfc-85c3-d97f1e5a33c4",
      "metadata": {
        "id": "f4b8b8d2-681c-4dfc-85c3-d97f1e5a33c4"
      },
      "outputs": [],
      "source": [
        "# Dataset\n",
        "\n",
        "# movie_reviews = pd.read_csv(\"a1_IMDB_Dataset.csv\")\n",
        "\n",
        "columns = [\"sentiment\",\"1\",\"2\",\"3\",\"4\",\"review\"]\n",
        "movie_reviews = pd.read_csv(\"/content/training.1600000.processed.noemoticon.csv\", encoding = \"ISO-8859-1\", names=columns)"
      ]
    },
    {
      "cell_type": "code",
      "execution_count": null,
      "id": "c7649f6f-f6aa-42cd-b436-df757e8d6cb4",
      "metadata": {
        "colab": {
          "base_uri": "https://localhost:8080/"
        },
        "id": "c7649f6f-f6aa-42cd-b436-df757e8d6cb4",
        "outputId": "e9849b28-c9e1-4886-bf85-1ac4e2cc1149"
      },
      "outputs": [
        {
          "output_type": "execute_result",
          "data": {
            "text/plain": [
              "(1600000, 6)"
            ]
          },
          "metadata": {},
          "execution_count": 5
        }
      ],
      "source": [
        "#Dataset exploration\n",
        "\n",
        "movie_reviews.shape"
      ]
    },
    {
      "cell_type": "code",
      "execution_count": null,
      "id": "a5649b03-2ae5-4f8e-b3e2-fbc9b2be44f3",
      "metadata": {
        "colab": {
          "base_uri": "https://localhost:8080/",
          "height": 206
        },
        "id": "a5649b03-2ae5-4f8e-b3e2-fbc9b2be44f3",
        "outputId": "aa150cdd-ed88-4f94-c2c7-1ba17dead47b"
      },
      "outputs": [
        {
          "output_type": "execute_result",
          "data": {
            "text/plain": [
              "   sentiment           1                             2         3  \\\n",
              "0          0  1467810369  Mon Apr 06 22:19:45 PDT 2009  NO_QUERY   \n",
              "1          0  1467810672  Mon Apr 06 22:19:49 PDT 2009  NO_QUERY   \n",
              "2          0  1467810917  Mon Apr 06 22:19:53 PDT 2009  NO_QUERY   \n",
              "3          0  1467811184  Mon Apr 06 22:19:57 PDT 2009  NO_QUERY   \n",
              "4          0  1467811193  Mon Apr 06 22:19:57 PDT 2009  NO_QUERY   \n",
              "\n",
              "                 4                                             review  \n",
              "0  _TheSpecialOne_  @switchfoot http://twitpic.com/2y1zl - Awww, t...  \n",
              "1    scotthamilton  is upset that he can't update his Facebook by ...  \n",
              "2         mattycus  @Kenichan I dived many times for the ball. Man...  \n",
              "3          ElleCTF    my whole body feels itchy and like its on fire   \n",
              "4           Karoli  @nationwideclass no, it's not behaving at all....  "
            ],
            "text/html": [
              "\n",
              "  <div id=\"df-4fe3ddd3-ed47-4c60-bf3a-4e8c8dab6682\" class=\"colab-df-container\">\n",
              "    <div>\n",
              "<style scoped>\n",
              "    .dataframe tbody tr th:only-of-type {\n",
              "        vertical-align: middle;\n",
              "    }\n",
              "\n",
              "    .dataframe tbody tr th {\n",
              "        vertical-align: top;\n",
              "    }\n",
              "\n",
              "    .dataframe thead th {\n",
              "        text-align: right;\n",
              "    }\n",
              "</style>\n",
              "<table border=\"1\" class=\"dataframe\">\n",
              "  <thead>\n",
              "    <tr style=\"text-align: right;\">\n",
              "      <th></th>\n",
              "      <th>sentiment</th>\n",
              "      <th>1</th>\n",
              "      <th>2</th>\n",
              "      <th>3</th>\n",
              "      <th>4</th>\n",
              "      <th>review</th>\n",
              "    </tr>\n",
              "  </thead>\n",
              "  <tbody>\n",
              "    <tr>\n",
              "      <th>0</th>\n",
              "      <td>0</td>\n",
              "      <td>1467810369</td>\n",
              "      <td>Mon Apr 06 22:19:45 PDT 2009</td>\n",
              "      <td>NO_QUERY</td>\n",
              "      <td>_TheSpecialOne_</td>\n",
              "      <td>@switchfoot http://twitpic.com/2y1zl - Awww, t...</td>\n",
              "    </tr>\n",
              "    <tr>\n",
              "      <th>1</th>\n",
              "      <td>0</td>\n",
              "      <td>1467810672</td>\n",
              "      <td>Mon Apr 06 22:19:49 PDT 2009</td>\n",
              "      <td>NO_QUERY</td>\n",
              "      <td>scotthamilton</td>\n",
              "      <td>is upset that he can't update his Facebook by ...</td>\n",
              "    </tr>\n",
              "    <tr>\n",
              "      <th>2</th>\n",
              "      <td>0</td>\n",
              "      <td>1467810917</td>\n",
              "      <td>Mon Apr 06 22:19:53 PDT 2009</td>\n",
              "      <td>NO_QUERY</td>\n",
              "      <td>mattycus</td>\n",
              "      <td>@Kenichan I dived many times for the ball. Man...</td>\n",
              "    </tr>\n",
              "    <tr>\n",
              "      <th>3</th>\n",
              "      <td>0</td>\n",
              "      <td>1467811184</td>\n",
              "      <td>Mon Apr 06 22:19:57 PDT 2009</td>\n",
              "      <td>NO_QUERY</td>\n",
              "      <td>ElleCTF</td>\n",
              "      <td>my whole body feels itchy and like its on fire</td>\n",
              "    </tr>\n",
              "    <tr>\n",
              "      <th>4</th>\n",
              "      <td>0</td>\n",
              "      <td>1467811193</td>\n",
              "      <td>Mon Apr 06 22:19:57 PDT 2009</td>\n",
              "      <td>NO_QUERY</td>\n",
              "      <td>Karoli</td>\n",
              "      <td>@nationwideclass no, it's not behaving at all....</td>\n",
              "    </tr>\n",
              "  </tbody>\n",
              "</table>\n",
              "</div>\n",
              "    <div class=\"colab-df-buttons\">\n",
              "\n",
              "  <div class=\"colab-df-container\">\n",
              "    <button class=\"colab-df-convert\" onclick=\"convertToInteractive('df-4fe3ddd3-ed47-4c60-bf3a-4e8c8dab6682')\"\n",
              "            title=\"Convert this dataframe to an interactive table.\"\n",
              "            style=\"display:none;\">\n",
              "\n",
              "  <svg xmlns=\"http://www.w3.org/2000/svg\" height=\"24px\" viewBox=\"0 -960 960 960\">\n",
              "    <path d=\"M120-120v-720h720v720H120Zm60-500h600v-160H180v160Zm220 220h160v-160H400v160Zm0 220h160v-160H400v160ZM180-400h160v-160H180v160Zm440 0h160v-160H620v160ZM180-180h160v-160H180v160Zm440 0h160v-160H620v160Z\"/>\n",
              "  </svg>\n",
              "    </button>\n",
              "\n",
              "  <style>\n",
              "    .colab-df-container {\n",
              "      display:flex;\n",
              "      gap: 12px;\n",
              "    }\n",
              "\n",
              "    .colab-df-convert {\n",
              "      background-color: #E8F0FE;\n",
              "      border: none;\n",
              "      border-radius: 50%;\n",
              "      cursor: pointer;\n",
              "      display: none;\n",
              "      fill: #1967D2;\n",
              "      height: 32px;\n",
              "      padding: 0 0 0 0;\n",
              "      width: 32px;\n",
              "    }\n",
              "\n",
              "    .colab-df-convert:hover {\n",
              "      background-color: #E2EBFA;\n",
              "      box-shadow: 0px 1px 2px rgba(60, 64, 67, 0.3), 0px 1px 3px 1px rgba(60, 64, 67, 0.15);\n",
              "      fill: #174EA6;\n",
              "    }\n",
              "\n",
              "    .colab-df-buttons div {\n",
              "      margin-bottom: 4px;\n",
              "    }\n",
              "\n",
              "    [theme=dark] .colab-df-convert {\n",
              "      background-color: #3B4455;\n",
              "      fill: #D2E3FC;\n",
              "    }\n",
              "\n",
              "    [theme=dark] .colab-df-convert:hover {\n",
              "      background-color: #434B5C;\n",
              "      box-shadow: 0px 1px 3px 1px rgba(0, 0, 0, 0.15);\n",
              "      filter: drop-shadow(0px 1px 2px rgba(0, 0, 0, 0.3));\n",
              "      fill: #FFFFFF;\n",
              "    }\n",
              "  </style>\n",
              "\n",
              "    <script>\n",
              "      const buttonEl =\n",
              "        document.querySelector('#df-4fe3ddd3-ed47-4c60-bf3a-4e8c8dab6682 button.colab-df-convert');\n",
              "      buttonEl.style.display =\n",
              "        google.colab.kernel.accessAllowed ? 'block' : 'none';\n",
              "\n",
              "      async function convertToInteractive(key) {\n",
              "        const element = document.querySelector('#df-4fe3ddd3-ed47-4c60-bf3a-4e8c8dab6682');\n",
              "        const dataTable =\n",
              "          await google.colab.kernel.invokeFunction('convertToInteractive',\n",
              "                                                    [key], {});\n",
              "        if (!dataTable) return;\n",
              "\n",
              "        const docLinkHtml = 'Like what you see? Visit the ' +\n",
              "          '<a target=\"_blank\" href=https://colab.research.google.com/notebooks/data_table.ipynb>data table notebook</a>'\n",
              "          + ' to learn more about interactive tables.';\n",
              "        element.innerHTML = '';\n",
              "        dataTable['output_type'] = 'display_data';\n",
              "        await google.colab.output.renderOutput(dataTable, element);\n",
              "        const docLink = document.createElement('div');\n",
              "        docLink.innerHTML = docLinkHtml;\n",
              "        element.appendChild(docLink);\n",
              "      }\n",
              "    </script>\n",
              "  </div>\n",
              "\n",
              "\n",
              "<div id=\"df-6b741be6-34b7-4b14-b3f6-a2f2d5abddf4\">\n",
              "  <button class=\"colab-df-quickchart\" onclick=\"quickchart('df-6b741be6-34b7-4b14-b3f6-a2f2d5abddf4')\"\n",
              "            title=\"Suggest charts.\"\n",
              "            style=\"display:none;\">\n",
              "\n",
              "<svg xmlns=\"http://www.w3.org/2000/svg\" height=\"24px\"viewBox=\"0 0 24 24\"\n",
              "     width=\"24px\">\n",
              "    <g>\n",
              "        <path d=\"M19 3H5c-1.1 0-2 .9-2 2v14c0 1.1.9 2 2 2h14c1.1 0 2-.9 2-2V5c0-1.1-.9-2-2-2zM9 17H7v-7h2v7zm4 0h-2V7h2v10zm4 0h-2v-4h2v4z\"/>\n",
              "    </g>\n",
              "</svg>\n",
              "  </button>\n",
              "\n",
              "<style>\n",
              "  .colab-df-quickchart {\n",
              "      --bg-color: #E8F0FE;\n",
              "      --fill-color: #1967D2;\n",
              "      --hover-bg-color: #E2EBFA;\n",
              "      --hover-fill-color: #174EA6;\n",
              "      --disabled-fill-color: #AAA;\n",
              "      --disabled-bg-color: #DDD;\n",
              "  }\n",
              "\n",
              "  [theme=dark] .colab-df-quickchart {\n",
              "      --bg-color: #3B4455;\n",
              "      --fill-color: #D2E3FC;\n",
              "      --hover-bg-color: #434B5C;\n",
              "      --hover-fill-color: #FFFFFF;\n",
              "      --disabled-bg-color: #3B4455;\n",
              "      --disabled-fill-color: #666;\n",
              "  }\n",
              "\n",
              "  .colab-df-quickchart {\n",
              "    background-color: var(--bg-color);\n",
              "    border: none;\n",
              "    border-radius: 50%;\n",
              "    cursor: pointer;\n",
              "    display: none;\n",
              "    fill: var(--fill-color);\n",
              "    height: 32px;\n",
              "    padding: 0;\n",
              "    width: 32px;\n",
              "  }\n",
              "\n",
              "  .colab-df-quickchart:hover {\n",
              "    background-color: var(--hover-bg-color);\n",
              "    box-shadow: 0 1px 2px rgba(60, 64, 67, 0.3), 0 1px 3px 1px rgba(60, 64, 67, 0.15);\n",
              "    fill: var(--button-hover-fill-color);\n",
              "  }\n",
              "\n",
              "  .colab-df-quickchart-complete:disabled,\n",
              "  .colab-df-quickchart-complete:disabled:hover {\n",
              "    background-color: var(--disabled-bg-color);\n",
              "    fill: var(--disabled-fill-color);\n",
              "    box-shadow: none;\n",
              "  }\n",
              "\n",
              "  .colab-df-spinner {\n",
              "    border: 2px solid var(--fill-color);\n",
              "    border-color: transparent;\n",
              "    border-bottom-color: var(--fill-color);\n",
              "    animation:\n",
              "      spin 1s steps(1) infinite;\n",
              "  }\n",
              "\n",
              "  @keyframes spin {\n",
              "    0% {\n",
              "      border-color: transparent;\n",
              "      border-bottom-color: var(--fill-color);\n",
              "      border-left-color: var(--fill-color);\n",
              "    }\n",
              "    20% {\n",
              "      border-color: transparent;\n",
              "      border-left-color: var(--fill-color);\n",
              "      border-top-color: var(--fill-color);\n",
              "    }\n",
              "    30% {\n",
              "      border-color: transparent;\n",
              "      border-left-color: var(--fill-color);\n",
              "      border-top-color: var(--fill-color);\n",
              "      border-right-color: var(--fill-color);\n",
              "    }\n",
              "    40% {\n",
              "      border-color: transparent;\n",
              "      border-right-color: var(--fill-color);\n",
              "      border-top-color: var(--fill-color);\n",
              "    }\n",
              "    60% {\n",
              "      border-color: transparent;\n",
              "      border-right-color: var(--fill-color);\n",
              "    }\n",
              "    80% {\n",
              "      border-color: transparent;\n",
              "      border-right-color: var(--fill-color);\n",
              "      border-bottom-color: var(--fill-color);\n",
              "    }\n",
              "    90% {\n",
              "      border-color: transparent;\n",
              "      border-bottom-color: var(--fill-color);\n",
              "    }\n",
              "  }\n",
              "</style>\n",
              "\n",
              "  <script>\n",
              "    async function quickchart(key) {\n",
              "      const quickchartButtonEl =\n",
              "        document.querySelector('#' + key + ' button');\n",
              "      quickchartButtonEl.disabled = true;  // To prevent multiple clicks.\n",
              "      quickchartButtonEl.classList.add('colab-df-spinner');\n",
              "      try {\n",
              "        const charts = await google.colab.kernel.invokeFunction(\n",
              "            'suggestCharts', [key], {});\n",
              "      } catch (error) {\n",
              "        console.error('Error during call to suggestCharts:', error);\n",
              "      }\n",
              "      quickchartButtonEl.classList.remove('colab-df-spinner');\n",
              "      quickchartButtonEl.classList.add('colab-df-quickchart-complete');\n",
              "    }\n",
              "    (() => {\n",
              "      let quickchartButtonEl =\n",
              "        document.querySelector('#df-6b741be6-34b7-4b14-b3f6-a2f2d5abddf4 button');\n",
              "      quickchartButtonEl.style.display =\n",
              "        google.colab.kernel.accessAllowed ? 'block' : 'none';\n",
              "    })();\n",
              "  </script>\n",
              "</div>\n",
              "    </div>\n",
              "  </div>\n"
            ]
          },
          "metadata": {},
          "execution_count": 9
        }
      ],
      "source": [
        "#Dataset exploration\n",
        "\n",
        "movie_reviews.head(5)"
      ]
    },
    {
      "cell_type": "code",
      "execution_count": null,
      "id": "b8919ff7-83a2-4f2f-8747-5a5b00251713",
      "metadata": {
        "colab": {
          "base_uri": "https://localhost:8080/"
        },
        "id": "b8919ff7-83a2-4f2f-8747-5a5b00251713",
        "outputId": "47fdf550-c3f4-4abc-aae9-ea0d74cabcb4"
      },
      "outputs": [
        {
          "output_type": "execute_result",
          "data": {
            "text/plain": [
              "False"
            ]
          },
          "metadata": {},
          "execution_count": 7
        }
      ],
      "source": [
        "#Missing value check\n",
        "\n",
        "movie_reviews.isnull().values.any()"
      ]
    },
    {
      "cell_type": "code",
      "source": [
        "movie_reviews['sentiment'] = movie_reviews['sentiment'].replace(4, 1)"
      ],
      "metadata": {
        "id": "z93sndY-UKYY"
      },
      "id": "z93sndY-UKYY",
      "execution_count": null,
      "outputs": []
    },
    {
      "cell_type": "code",
      "source": [
        "import plotly.express as px\n",
        "\n",
        "vc = movie_reviews['sentiment'].value_counts()\n",
        "print(vc)\n",
        "for i in vc:\n",
        "  print(i)"
      ],
      "metadata": {
        "colab": {
          "base_uri": "https://localhost:8080/"
        },
        "id": "wlEfsPiE-A1R",
        "outputId": "2217af43-86f6-44bd-a4f3-3e4dfeed8db8"
      },
      "id": "wlEfsPiE-A1R",
      "execution_count": null,
      "outputs": [
        {
          "output_type": "stream",
          "name": "stdout",
          "text": [
            "0    800000\n",
            "1    800000\n",
            "Name: sentiment, dtype: int64\n",
            "800000\n",
            "800000\n"
          ]
        }
      ]
    },
    {
      "cell_type": "code",
      "source": [
        "fig_bar = px.bar (movie_reviews, x=movie_reviews['sentiment'].unique().tolist(), y=vc.tolist())\n",
        "fig_bar"
      ],
      "metadata": {
        "id": "F-EyMMPS_ZGS"
      },
      "id": "F-EyMMPS_ZGS",
      "execution_count": null,
      "outputs": []
    },
    {
      "cell_type": "code",
      "source": [
        "from nltk.corpus import stopwords\n",
        "nltk.download('stopwords')\n",
        "\n",
        "TAG_RE = re.compile(r'<[^>]+>')\n",
        "\n",
        "def remove_tags(text):\n",
        "    return TAG_RE.sub('', text)\n",
        "\n",
        "stopwords_list = stopwords.words('english')\n",
        "\n",
        "def preprocess_text(sen):\n",
        "    sen = sen.lower()\n",
        "    # Remove html tags\n",
        "    sentence = remove_tags(sen)\n",
        "    # Remove punctuations and numbers\n",
        "    sentence = re.sub('[^a-zA-Z]', ' ', sentence)\n",
        "    # Single character removal\n",
        "    sentence = re.sub(r\"\\s+[a-zA-Z]\\s+\", ' ', sentence)  # When we remove apostrophe from the word \"Mark's\", the apostrophe is replaced by an empty space. Hence, we are left with single character \"s\" that we are removing here.\n",
        "    # Remove multiple spaces\n",
        "    sentence = re.sub(r'\\s+', ' ', sentence)  # Next, we remove all the single characters and replace it by a space which creates multiple spaces in our text. Finally, we remove the multiple spaces from our text as well.\n",
        "    # Remove Stopwords\n",
        "    pattern = re.compile(r'\\b(' + r'|'.join(stopwords_list) + r')\\b\\s*')\n",
        "    sentence = pattern.sub('', sentence)\n",
        "    return sentence"
      ],
      "metadata": {
        "id": "piQLhxEkSM2y",
        "colab": {
          "base_uri": "https://localhost:8080/"
        },
        "outputId": "afd28b2c-a028-4725-a32e-62c6dac13529"
      },
      "id": "piQLhxEkSM2y",
      "execution_count": null,
      "outputs": [
        {
          "output_type": "stream",
          "name": "stderr",
          "text": [
            "[nltk_data] Downloading package stopwords to /root/nltk_data...\n",
            "[nltk_data]   Unzipping corpora/stopwords.zip.\n"
          ]
        }
      ]
    },
    {
      "cell_type": "code",
      "source": [
        "def tokenized_list(df, column):\n",
        "    df['tokenized'] = df[column].apply(preprocess_text)\n",
        "    tokens = [token for sentence in df['tokenized'] for token in sentence.split()]\n",
        "    return tokens"
      ],
      "metadata": {
        "id": "4v_f_JWLHGDP"
      },
      "id": "4v_f_JWLHGDP",
      "execution_count": null,
      "outputs": []
    },
    {
      "cell_type": "code",
      "source": [
        "tokens = tokenized_list(movie_reviews, \"review\")"
      ],
      "metadata": {
        "id": "mUhrmPxTHIYv"
      },
      "id": "mUhrmPxTHIYv",
      "execution_count": null,
      "outputs": []
    },
    {
      "cell_type": "code",
      "execution_count": null,
      "id": "5345cc45-da4b-4a2b-b2a5-510496caafc2",
      "metadata": {
        "colab": {
          "base_uri": "https://localhost:8080/",
          "height": 466
        },
        "id": "5345cc45-da4b-4a2b-b2a5-510496caafc2",
        "outputId": "61e15b6a-74b2-4931-f75e-6d0e0d0fb769"
      },
      "outputs": [
        {
          "output_type": "execute_result",
          "data": {
            "text/plain": [
              "<Axes: xlabel='sentiment', ylabel='count'>"
            ]
          },
          "metadata": {},
          "execution_count": 9
        },
        {
          "output_type": "display_data",
          "data": {
            "text/plain": [
              "<Figure size 640x480 with 1 Axes>"
            ],
            "image/png": "[encoded data removed]"
          },
          "metadata": {}
        }
      ],
      "source": [
        "#Positive/Negative distribution plot\n",
        "\n",
        "import seaborn as sns\n",
        "sns.countplot(x='sentiment', data=movie_reviews)"
      ]
    },
    {
      "cell_type": "code",
      "source": [
        "# How long is each sentence on average?\n",
        "total_sentences = movie_reviews['review'].to_list()\n",
        "sent_lens = [len(sentence.split()) for sentence in total_sentences]\n",
        "avg_sent_len = np.mean(sent_lens)\n",
        "output_seq_len = int(np.percentile(sent_lens, 95))\n",
        "print(f\"Average length of sentence: {avg_sent_len} \\nSentence length that encompasses 95%: {output_seq_len}\" )\n",
        "max_len = output_seq_len\n",
        "\n",
        "# What's the distribution look like?\n",
        "import matplotlib.pyplot as plt\n",
        "plt.hist(sent_lens, bins=7);"
      ],
      "metadata": {
        "colab": {
          "base_uri": "https://localhost:8080/",
          "height": 465
        },
        "id": "5wz2h0xkY6Ck",
        "outputId": "1ac0d0e7-bb64-4d7c-bd57-3583cd54aa6c"
      },
      "id": "5wz2h0xkY6Ck",
      "execution_count": null,
      "outputs": [
        {
          "output_type": "stream",
          "name": "stdout",
          "text": [
            "Average length of sentence: 13.176150625 \n",
            "Sentence length that encompasses 95%: 25\n"
          ]
        },
        {
          "output_type": "display_data",
          "data": {
            "text/plain": [
              "<Figure size 640x480 with 1 Axes>"
            ],
            "image/png": "[encoded data removed]"
          },
          "metadata": {}
        }
      ]
    },
    {
      "cell_type": "markdown",
      "source": [
        "# Callbacks"
      ],
      "metadata": {
        "id": "MqXCuXDN-s-f"
      },
      "id": "MqXCuXDN-s-f"
    },
    {
      "cell_type": "code",
      "source": [
        "import os\n",
        "\n",
        "# Setup EarlyStopping callback to stop training if model's val_loss doesn't improve for 3 epochs\n",
        "early_stopping = tf.keras.callbacks.EarlyStopping(monitor=\"val_loss\", # watch the val loss metric\n",
        "                                                  patience=3) # if val loss decreases for 3 epochs in a row, stop training\n",
        "\n",
        "# Create a function to implement a ModelCheckpoint callback with a specific filename\n",
        "def create_model_checkpoint(model_name, save_path=\"model_experiments\"):\n",
        "  return tf.keras.callbacks.ModelCheckpoint(filepath=os.path.join(save_path, model_name), # create filepath to save model\n",
        "                                            verbose=0, # only output a limited amount of text\n",
        "                                            save_best_only=True) # save only the best model to file\n",
        "\n",
        "# Create tensorboard callback (functionized because need to create a new one for each model)\n",
        "import datetime\n",
        "def create_tensorboard_callback(dir_name, experiment_name):\n",
        "  log_dir = dir_name + \"/\" + experiment_name + \"/\" + datetime.datetime.now().strftime(\"%Y%m%d-%H%M%S\")\n",
        "  tensorboard_callback = tf.keras.callbacks.TensorBoard(\n",
        "      log_dir=log_dir\n",
        "  )\n",
        "  print(f\"Saving TensorBoard log files to: {log_dir}\")\n",
        "  return tensorboard_callback\n",
        "\n",
        "# Creating learning rate reduction callback\n",
        "reduce_lr = tf.keras.callbacks.ReduceLROnPlateau(monitor=\"val_loss\",\n",
        "                                                 factor=0.2, # multiply the learning rate by 0.2 (reduce by 5x)\n",
        "                                                 patience=2,\n",
        "                                                 verbose=1, # print out when learning rate goes down\n",
        "                                                 min_lr=1e-7)"
      ],
      "metadata": {
        "id": "_fNyuw_n-uaF"
      },
      "id": "_fNyuw_n-uaF",
      "execution_count": null,
      "outputs": []
    },
    {
      "cell_type": "markdown",
      "id": "1fb5cd7e-40ca-462f-ae57-c74c6eeece13",
      "metadata": {
        "id": "1fb5cd7e-40ca-462f-ae57-c74c6eeece13"
      },
      "source": [
        "# Data Preprocessing"
      ]
    },
    {
      "cell_type": "code",
      "execution_count": null,
      "id": "8ced9d58-e58d-46c0-a9e4-73d6e58d54e1",
      "metadata": {
        "colab": {
          "base_uri": "https://localhost:8080/",
          "height": 35
        },
        "id": "8ced9d58-e58d-46c0-a9e4-73d6e58d54e1",
        "outputId": "3991088b-e60d-489a-fc01-62527e6e6685"
      },
      "outputs": [
        {
          "output_type": "execute_result",
          "data": {
            "text/plain": [
              "'@Kenichan I dived many times for the ball. Managed to save 50%  The rest go out of bounds'"
            ],
            "application/vnd.google.colaboratory.intrinsic+json": {
              "type": "string"
            }
          },
          "metadata": {},
          "execution_count": 55
        }
      ],
      "source": [
        "#Review example\n",
        "\n",
        "movie_reviews[\"review\"][2]"
      ]
    },
    {
      "cell_type": "code",
      "execution_count": null,
      "id": "7c598dfe-0559-49fa-b9c8-97dcb45dfa00",
      "metadata": {
        "id": "7c598dfe-0559-49fa-b9c8-97dcb45dfa00"
      },
      "outputs": [],
      "source": [
        "#tag removal\n",
        "#Removes HTML tags: replace the anything between opening and closing <> with ''.\n",
        "\n",
        "TAG_RE = re.compile(r'<[^>]+>')\n",
        "\n",
        "def remove_tags(text):\n",
        "    return TAG_RE.sub('', text)"
      ]
    },
    {
      "cell_type": "code",
      "execution_count": null,
      "id": "885bb390-49ca-412c-a6b4-465a2d813304",
      "metadata": {
        "colab": {
          "base_uri": "https://localhost:8080/"
        },
        "id": "885bb390-49ca-412c-a6b4-465a2d813304",
        "outputId": "b0043a0e-6483-4edb-8c42-f065589e766e"
      },
      "outputs": [
        {
          "output_type": "stream",
          "name": "stderr",
          "text": [
            "[nltk_data] Downloading package stopwords to /root/nltk_data...\n",
            "[nltk_data]   Unzipping corpora/stopwords.zip.\n"
          ]
        }
      ],
      "source": [
        "import nltk\n",
        "nltk.download('stopwords')\n",
        "stopwords_list = stopwords.words('english')"
      ]
    },
    {
      "cell_type": "code",
      "execution_count": null,
      "id": "c01c47b9-859b-4c6e-9a19-c7062739cd1f",
      "metadata": {
        "id": "c01c47b9-859b-4c6e-9a19-c7062739cd1f"
      },
      "outputs": [],
      "source": [
        "def preprocess_text(sen):\n",
        "    sen = sen.lower()\n",
        "\n",
        "    # Remove html tags\n",
        "    sentence = remove_tags(sen)\n",
        "\n",
        "    # Remove punctuations and numbers\n",
        "    sentence = re.sub('[^a-zA-Z]', ' ', sentence)\n",
        "\n",
        "    # Single character removal\n",
        "    sentence = re.sub(r\"\\s+[a-zA-Z]\\s+\", ' ', sentence)  # When we remove apostrophe from the word \"Mark's\", the apostrophe is replaced by an empty space. Hence, we are left with single character \"s\" that we are removing here.\n",
        "\n",
        "    # Remove multiple spaces\n",
        "    sentence = re.sub(r'\\s+', ' ', sentence)  # Next, we remove all the single characters and replace it by a space which creates multiple spaces in our text. Finally, we remove the multiple spaces from our text as well.\n",
        "\n",
        "    # Remove Stopwords\n",
        "    pattern = re.compile(r'\\b(' + r'|'.join(stopwords_list) + r')\\b\\s*')\n",
        "    sentence = pattern.sub('', sentence)\n",
        "\n",
        "    return sentence"
      ]
    },
    {
      "cell_type": "code",
      "execution_count": null,
      "id": "93d38f7f-a5e9-4160-a309-897ba7715846",
      "metadata": {
        "id": "93d38f7f-a5e9-4160-a309-897ba7715846"
      },
      "outputs": [],
      "source": [
        "# Calling preprocessing_text function on movie_reviews\n",
        "\n",
        "X = []\n",
        "sentences = list(movie_reviews['review'])\n",
        "for sen in sentences:\n",
        "    X.append(preprocess_text(sen))"
      ]
    },
    {
      "cell_type": "code",
      "execution_count": null,
      "id": "9afb18da-e3d9-4189-b25c-8cc9cb26ec29",
      "metadata": {
        "colab": {
          "base_uri": "https://localhost:8080/",
          "height": 35
        },
        "id": "9afb18da-e3d9-4189-b25c-8cc9cb26ec29",
        "outputId": "fee3e957-c3c1-4377-ecff-27f5c7b447cf"
      },
      "outputs": [
        {
          "output_type": "execute_result",
          "data": {
            "text/plain": [
              "' kenichan dived many times ball managed save rest go bounds'"
            ],
            "application/vnd.google.colaboratory.intrinsic+json": {
              "type": "string"
            }
          },
          "metadata": {},
          "execution_count": 86
        }
      ],
      "source": [
        "X[2]"
      ]
    },
    {
      "cell_type": "code",
      "execution_count": null,
      "id": "3086212a-2a2c-4e61-b1ee-ce01a51ab1f5",
      "metadata": {
        "colab": {
          "base_uri": "https://localhost:8080/"
        },
        "id": "3086212a-2a2c-4e61-b1ee-ce01a51ab1f5",
        "outputId": "816b9a32-36ab-4975-c312-2b5bd67c74d2"
      },
      "outputs": [
        {
          "output_type": "execute_result",
          "data": {
            "text/plain": [
              "array([0, 0, 0, ..., 1, 1, 1])"
            ]
          },
          "metadata": {},
          "execution_count": 14
        }
      ],
      "source": [
        "# Converting sentiment labels to 0 & 1\n",
        "\n",
        "y = movie_reviews['sentiment']\n",
        "\n",
        "# y = np.array(list(map(lambda x: 1 if x==\"positive\" else 0, y)))\n",
        "y = np.array(list(y))\n",
        "y"
      ]
    },
    {
      "cell_type": "code",
      "execution_count": null,
      "id": "4c45b67f-638f-4a37-ad53-808b893eef2b",
      "metadata": {
        "id": "4c45b67f-638f-4a37-ad53-808b893eef2b"
      },
      "outputs": [],
      "source": [
        "X_train, X_test, y_train, y_test = train_test_split(X, y, test_size=0.20, random_state=42)"
      ]
    },
    {
      "cell_type": "markdown",
      "id": "8be1cf20-92d7-4d70-99e5-5a5a54580d02",
      "metadata": {
        "id": "8be1cf20-92d7-4d70-99e5-5a5a54580d02"
      },
      "source": [
        "# Tokenizing & Embeddings"
      ]
    },
    {
      "cell_type": "code",
      "execution_count": null,
      "id": "04618b93-7740-45e5-a65b-1e2609f8d345",
      "metadata": {
        "colab": {
          "base_uri": "https://localhost:8080/"
        },
        "id": "04618b93-7740-45e5-a65b-1e2609f8d345",
        "outputId": "167bb550-7539-4df5-dbfd-79b6064ff884"
      },
      "outputs": [
        {
          "output_type": "execute_result",
          "data": {
            "text/plain": [
              "507703"
            ]
          },
          "metadata": {},
          "execution_count": 16
        }
      ],
      "source": [
        "word_tokenizer = Tokenizer()\n",
        "word_tokenizer.fit_on_texts(X_train)\n",
        "\n",
        "X_train = word_tokenizer.texts_to_sequences(X_train)\n",
        "X_test = word_tokenizer.texts_to_sequences(X_test)\n",
        "\n",
        "vocab_length = len(word_tokenizer.word_index) + 1\n",
        "\n",
        "vocab_length"
      ]
    },
    {
      "cell_type": "code",
      "source": [
        "import pickle\n",
        "\n",
        "# saving\n",
        "with open('tokenizer.pkl', 'wb') as handle:\n",
        "    pickle.dump(word_tokenizer, handle, protocol=pickle.HIGHEST_PROTOCOL)"
      ],
      "metadata": {
        "id": "E-nGYEpkcSUE"
      },
      "id": "E-nGYEpkcSUE",
      "execution_count": null,
      "outputs": []
    },
    {
      "cell_type": "code",
      "source": [
        "X_train = pad_sequences(X_train, padding='post', truncating='post', maxlen=max_len)\n",
        "X_test = pad_sequences(X_test, padding='post', truncating='post', maxlen=max_len)"
      ],
      "metadata": {
        "id": "uuaIhHuxwoRT"
      },
      "id": "uuaIhHuxwoRT",
      "execution_count": null,
      "outputs": []
    },
    {
      "cell_type": "code",
      "source": [
        "# Turn our data into TensorFlow Datasets\n",
        "train_dataset = tf.data.Dataset.from_tensor_slices((X_train, y_train))\n",
        "valid_dataset = tf.data.Dataset.from_tensor_slices((X_test, y_test))\n",
        "\n",
        "# Take the TensorSliceDataset's and turn them into prefetched batches\n",
        "train_dataset = train_dataset.batch(32).prefetch(tf.data.AUTOTUNE)\n",
        "valid_dataset = valid_dataset.batch(32).prefetch(tf.data.AUTOTUNE)"
      ],
      "metadata": {
        "id": "tv_IceOkVlj1"
      },
      "id": "tv_IceOkVlj1",
      "execution_count": null,
      "outputs": []
    },
    {
      "cell_type": "code",
      "source": [
        "from numpy import asarray\n",
        "from numpy import zeros\n",
        "\n",
        "embeddings_dictionary = dict()\n",
        "glove_file = open('glove.6B.50d.txt', encoding=\"utf8\")\n",
        "\n",
        "for line in glove_file:\n",
        "    records = line.split()\n",
        "    word = records[0]\n",
        "    vector_dimensions = asarray(records[1:], dtype='float32')\n",
        "    embeddings_dictionary [word] = vector_dimensions\n",
        "glove_file.close()"
      ],
      "metadata": {
        "id": "UjXMI3WJvQ8S"
      },
      "id": "UjXMI3WJvQ8S",
      "execution_count": null,
      "outputs": []
    },
    {
      "cell_type": "code",
      "source": [
        "# Visualize the shapes of values in the dictionary\n",
        "# for key, value in embeddings_dictionary.items():\n",
        "#     if isinstance(value, np.ndarray):\n",
        "#         print(f'Key: {key}, Shape: {value.shape}')\n",
        "#     else:\n",
        "#         print(f'Key: {key}, Not a NumPy array')"
      ],
      "metadata": {
        "id": "bqeIO9ENy9FC"
      },
      "id": "bqeIO9ENy9FC",
      "execution_count": null,
      "outputs": []
    },
    {
      "cell_type": "code",
      "source": [
        "embedding_matrix = zeros((vocab_length, 50))"
      ],
      "metadata": {
        "id": "Tls8r0drwriC"
      },
      "id": "Tls8r0drwriC",
      "execution_count": null,
      "outputs": []
    },
    {
      "cell_type": "code",
      "source": [
        "for word, index in word_tokenizer.word_index.items():\n",
        "    embedding_vector = embeddings_dictionary.get(word)\n",
        "    if embedding_vector is not None:\n",
        "        embedding_matrix[index] = embedding_vector"
      ],
      "metadata": {
        "id": "FPoKOE8vycOf"
      },
      "id": "FPoKOE8vycOf",
      "execution_count": null,
      "outputs": []
    },
    {
      "cell_type": "code",
      "source": [
        "embedding_layer = Embedding(507703, 50, weights=[embedding_matrix], input_length=25, trainable=False)\n",
        "\n",
        "test1 = movie_reviews[\"review\"][2]\n",
        "test2 = X[2]\n",
        "test3 = word_tokenizer.texts_to_sequences([test2])\n",
        "test4 = pad_sequences(test3, padding='post', truncating='post', maxlen=max_len)\n",
        "test5 = embedding_layer(test4)\n",
        "print(f\"Original test: {test1}\\n{len(test1)} \\\n",
        "      \\n\\nPreprocessed text: {test2}\\n{len(test2)} \\\n",
        "      \\n\\nTokenized Vectors: {test3}\\n{len(test3)} \\\n",
        "      \\n\\nEqual length (95%) Vectors: {test4}\\n{test4.shape} \\\n",
        "      \\n\\nEmbedded Vectors: {test5}\\n{test5.shape}\")"
      ],
      "metadata": {
        "colab": {
          "base_uri": "https://localhost:8080/"
        },
        "id": "P8KYOAeFaV7t",
        "outputId": "a5b88522-4183-4b6c-b452-47a9cc552052"
      },
      "id": "P8KYOAeFaV7t",
      "execution_count": null,
      "outputs": [
        {
          "output_type": "stream",
          "name": "stdout",
          "text": [
            "Original test: @Kenichan I dived many times for the ball. Managed to save 50%  The rest go out of bounds\n",
            "89       \n",
            "\n",
            "Preprocessed text:  kenichan dived many times ball managed save rest go bounds\n",
            "59       \n",
            "\n",
            "Tokenized Vectors: [[30716, 94666, 208, 246, 1087, 1589, 779, 354, 5, 24571]]\n",
            "1       \n",
            "\n",
            "Equal length (95%) Vectors: [[30716 94666   208   246  1087  1589   779   354     5 24571     0     0\n",
            "      0     0     0     0     0     0     0     0     0     0     0     0\n",
            "      0]]\n",
            "(1, 25)       \n",
            "\n",
            "Embedded Vectors: [[[ 0.        0.        0.       ...  0.        0.        0.      ]\n",
            "  [-0.45581  -1.1128    1.0626   ... -0.34834   0.87854  -1.0101  ]\n",
            "  [ 0.6979    0.08234   0.041526 ...  0.037265 -0.60443  -0.64699 ]\n",
            "  ...\n",
            "  [ 0.        0.        0.       ...  0.        0.        0.      ]\n",
            "  [ 0.        0.        0.       ...  0.        0.        0.      ]\n",
            "  [ 0.        0.        0.       ...  0.        0.        0.      ]]]\n",
            "(1, 25, 50)\n"
          ]
        }
      ]
    },
    {
      "cell_type": "markdown",
      "id": "9d5a1066-5038-4c2d-844e-42c1b56bb015",
      "metadata": {
        "id": "9d5a1066-5038-4c2d-844e-42c1b56bb015"
      },
      "source": [
        "# Model 1 (SVM)"
      ]
    },
    {
      "cell_type": "markdown",
      "source": [
        "## Training"
      ],
      "metadata": {
        "id": "feGR29h11poT"
      },
      "id": "feGR29h11poT"
    },
    {
      "cell_type": "code",
      "execution_count": null,
      "id": "04764a67-93c3-4c3e-a973-7e71e8b3994f",
      "metadata": {
        "id": "04764a67-93c3-4c3e-a973-7e71e8b3994f"
      },
      "outputs": [],
      "source": [
        "# Neural Network architecture\n",
        "from tensorflow.keras import layers\n",
        "import numpy as np\n",
        "\n",
        "tf.random.set_seed(42)\n",
        "embedding_layer = Embedding(507703, 50, weights=[embedding_matrix], input_length=25 , trainable=False)\n",
        "\n",
        "inputs = layers.Input(shape=(25,), dtype=\"int32\")\n",
        "x = embedding_layer(inputs)\n",
        "x = layers.LSTM(128)(x)\n",
        "outputs = layers.Dense(1, activation=\"sigmoid\")(x)\n",
        "model_1 = tf.keras.Model(inputs, outputs, name=\"model_1_LSTM\")\n",
        "\n",
        "model_1.compile(optimizer='adam', loss='binary_crossentropy', metrics=['acc'])"
      ]
    },
    {
      "cell_type": "code",
      "source": [
        "model_1.summary()"
      ],
      "metadata": {
        "colab": {
          "base_uri": "https://localhost:8080/"
        },
        "id": "ysBB-QuWVFOq",
        "outputId": "86807d9a-d798-49c5-c41f-259b249881e1"
      },
      "id": "ysBB-QuWVFOq",
      "execution_count": null,
      "outputs": [
        {
          "output_type": "stream",
          "name": "stdout",
          "text": [
            "Model: \"model_1_LSTM\"\n",
            "_________________________________________________________________\n",
            " Layer (type)                Output Shape              Param #   \n",
            "=================================================================\n",
            " input_1 (InputLayer)        [(None, 25)]              0         \n",
            "                                                                 \n",
            " embedding_1 (Embedding)     (None, 25, 50)            25385150  \n",
            "                                                                 \n",
            " lstm (LSTM)                 (None, 128)               91648     \n",
            "                                                                 \n",
            " dense (Dense)               (None, 1)                 129       \n",
            "                                                                 \n",
            "=================================================================\n",
            "Total params: 25476927 (97.19 MB)\n",
            "Trainable params: 91777 (358.50 KB)\n",
            "Non-trainable params: 25385150 (96.84 MB)\n",
            "_________________________________________________________________\n"
          ]
        }
      ]
    },
    {
      "cell_type": "code",
      "source": [
        "# Fit model\n",
        "model_1_history = model_1.fit(train_dataset,\n",
        "                              steps_per_epoch=int(0.15 * len(train_dataset)), # only fit on 10% of batches for faster training time\n",
        "                              epochs=20,\n",
        "                              validation_data=valid_dataset,\n",
        "                              validation_steps=int(0.15 * len(valid_dataset)),\n",
        "                              callbacks=[early_stopping,\n",
        "                                         reduce_lr,\n",
        "                                         create_model_checkpoint(model_name=\"LSTM_GL_1L\"),\n",
        "                                         create_tensorboard_callback(dir_name=\"tensorflow_hub\",\n",
        "                                                                     experiment_name=\"LSTM_GL_1L\")])"
      ],
      "metadata": {
        "colab": {
          "base_uri": "https://localhost:8080/"
        },
        "id": "ntteiO-pVJpZ",
        "outputId": "344f0b6d-5370-4f82-ca66-99d3d863bb06"
      },
      "id": "ntteiO-pVJpZ",
      "execution_count": null,
      "outputs": [
        {
          "output_type": "stream",
          "name": "stdout",
          "text": [
            "Saving TensorBoard log files to: tensorflow_hub/LSTM_GL_1L/20231101-155221\n",
            "Epoch 1/20\n",
            "6000/6000 [==============================] - 49s 7ms/step - loss: 0.5635 - acc: 0.7066 - val_loss: 0.5310 - val_acc: 0.7344 - lr: 0.0010\n",
            "Epoch 2/20\n",
            "6000/6000 [==============================] - 46s 8ms/step - loss: 0.5211 - acc: 0.7396 - val_loss: 0.5080 - val_acc: 0.7477 - lr: 0.0010\n",
            "Epoch 3/20\n",
            "6000/6000 [==============================] - 53s 9ms/step - loss: 0.5056 - acc: 0.7499 - val_loss: 0.5067 - val_acc: 0.7552 - lr: 0.0010\n",
            "Epoch 4/20\n",
            "6000/6000 [==============================] - 45s 7ms/step - loss: 0.4943 - acc: 0.7579 - val_loss: 0.4866 - val_acc: 0.7629 - lr: 0.0010\n",
            "Epoch 5/20\n",
            "6000/6000 [==============================] - 54s 9ms/step - loss: 0.4874 - acc: 0.7627 - val_loss: 0.4783 - val_acc: 0.7689 - lr: 0.0010\n",
            "Epoch 6/20\n",
            "6000/6000 [==============================] - 39s 6ms/step - loss: 0.4806 - acc: 0.7674 - val_loss: 0.4815 - val_acc: 0.7699 - lr: 0.0010\n",
            "Epoch 7/20\n",
            "3994/6000 [==================>...........] - ETA: 13s - loss: 0.4819 - acc: 0.7658"
          ]
        },
        {
          "output_type": "stream",
          "name": "stderr",
          "text": [
            "WARNING:tensorflow:Your input ran out of data; interrupting training. Make sure that your dataset or generator can generate at least `steps_per_epoch * epochs` batches (in this case, 120000 batches). You may need to use the repeat() function when building your dataset.\n"
          ]
        },
        {
          "output_type": "stream",
          "name": "stdout",
          "text": [
            "\b\b\b\b\b\b\b\b\b\b\b\b\b\b\b\b\b\b\b\b\b\b\b\b\b\b\b\b\b\b\b\b\b\b\b\b\b\b\b\b\b\b\b\b\b\b\b\b\b\b\b\b\b\b\b\b\b\b\b\b\b\b\b\b\b\b\b\b\b\b\b\b\b\b\b\b\b\b\b\b\b\b\r6000/6000 [==============================] - 38s 6ms/step - loss: 0.4819 - acc: 0.7658 - val_loss: 0.4745 - val_acc: 0.7723 - lr: 0.0010\n"
          ]
        }
      ]
    },
    {
      "cell_type": "markdown",
      "source": [
        "## Evaluating & Visualizing"
      ],
      "metadata": {
        "id": "mF2-likZ-eDr"
      },
      "id": "mF2-likZ-eDr"
    },
    {
      "cell_type": "code",
      "source": [
        "score_1 = model_1.evaluate(X_test, y_test, verbose=1)"
      ],
      "metadata": {
        "id": "wSCFBu9aWtwE",
        "colab": {
          "base_uri": "https://localhost:8080/"
        },
        "outputId": "eee0479e-e2f8-48d1-e002-98d8bbadb1f1"
      },
      "id": "wSCFBu9aWtwE",
      "execution_count": null,
      "outputs": [
        {
          "output_type": "stream",
          "name": "stdout",
          "text": [
            "10000/10000 [==============================] - 35s 4ms/step - loss: 0.4771 - acc: 0.7697\n"
          ]
        }
      ]
    },
    {
      "cell_type": "code",
      "source": [
        "tf.keras.saving.save_model(model_1, filepath='model_1.h5', save_format='h5')"
      ],
      "metadata": {
        "colab": {
          "base_uri": "https://localhost:8080/"
        },
        "id": "2G9QA1tUl081",
        "outputId": "2c31fe56-5222-4e23-ffec-8e74f6f1c637"
      },
      "id": "2G9QA1tUl081",
      "execution_count": null,
      "outputs": [
        {
          "output_type": "stream",
          "name": "stderr",
          "text": [
            "<ipython-input-38-81b1abc1a981>:1: UserWarning: You are saving your model as an HDF5 file via `model.save()`. This file format is considered legacy. We recommend using instead the native Keras format, e.g. `model.save('my_model.keras')`.\n",
            "  tf.keras.saving.save_model(model_1, filepath='model_1.h5', save_format='h5')\n"
          ]
        }
      ]
    },
    {
      "cell_type": "code",
      "source": [
        "model_temp = tf.saved_model.load('model_experiments/LSTM_GL_1L')"
      ],
      "metadata": {
        "id": "p7y3riLP-cJj"
      },
      "id": "p7y3riLP-cJj",
      "execution_count": null,
      "outputs": []
    },
    {
      "cell_type": "code",
      "source": [
        "score_2 = model_temp(X_test)"
      ],
      "metadata": {
        "id": "5BFP7SdEUOi2"
      },
      "id": "5BFP7SdEUOi2",
      "execution_count": null,
      "outputs": []
    },
    {
      "cell_type": "markdown",
      "source": [
        "# Model 2 (DNN)"
      ],
      "metadata": {
        "id": "R7jB0EMuVWW-"
      },
      "id": "R7jB0EMuVWW-"
    },
    {
      "cell_type": "markdown",
      "source": [
        "## Training"
      ],
      "metadata": {
        "id": "x7rAWd-B_zuN"
      },
      "id": "x7rAWd-B_zuN"
    },
    {
      "cell_type": "markdown",
      "source": [
        "## Evaluating & Visualizing"
      ],
      "metadata": {
        "id": "dOjxeh1v_3l1"
      },
      "id": "dOjxeh1v_3l1"
    },
    {
      "cell_type": "markdown",
      "source": [
        "# Model 3 (LSTM)"
      ],
      "metadata": {
        "id": "TTSM-vDD_6VV"
      },
      "id": "TTSM-vDD_6VV"
    },
    {
      "cell_type": "markdown",
      "source": [
        "## Training"
      ],
      "metadata": {
        "id": "Uw94_Ji__9V9"
      },
      "id": "Uw94_Ji__9V9"
    },
    {
      "cell_type": "markdown",
      "source": [
        "## Evaluating & Visualizing"
      ],
      "metadata": {
        "id": "acBjFxpSAAvN"
      },
      "id": "acBjFxpSAAvN"
    },
    {
      "cell_type": "markdown",
      "source": [
        "# Model 4 (GRU)"
      ],
      "metadata": {
        "id": "yqbhylgyAF_u"
      },
      "id": "yqbhylgyAF_u"
    },
    {
      "cell_type": "markdown",
      "source": [
        "## Training"
      ],
      "metadata": {
        "id": "v1pNth6uAM7Q"
      },
      "id": "v1pNth6uAM7Q"
    },
    {
      "cell_type": "markdown",
      "source": [
        "## Evaluating & Visualizing"
      ],
      "metadata": {
        "id": "xy8YrgpLAOYo"
      },
      "id": "xy8YrgpLAOYo"
    },
    {
      "cell_type": "markdown",
      "source": [
        "# Model 5 (BiLSTM)"
      ],
      "metadata": {
        "id": "qDCx5ApAAQpI"
      },
      "id": "qDCx5ApAAQpI"
    },
    {
      "cell_type": "markdown",
      "source": [
        "## Training"
      ],
      "metadata": {
        "id": "AHIEj8pEASrY"
      },
      "id": "AHIEj8pEASrY"
    },
    {
      "cell_type": "markdown",
      "source": [
        "## Evaluating & Visualizing"
      ],
      "metadata": {
        "id": "D9nWemNoAtWj"
      },
      "id": "D9nWemNoAtWj"
    },
    {
      "cell_type": "markdown",
      "source": [
        "# Model 6 (LSTM-GRU)"
      ],
      "metadata": {
        "id": "CJ6AJWsKA3I8"
      },
      "id": "CJ6AJWsKA3I8"
    },
    {
      "cell_type": "markdown",
      "source": [
        "## Training"
      ],
      "metadata": {
        "id": "dpQV1tw7A_CN"
      },
      "id": "dpQV1tw7A_CN"
    },
    {
      "cell_type": "markdown",
      "source": [
        "## Evaluating & Visualizing"
      ],
      "metadata": {
        "id": "EVws25zkBA7F"
      },
      "id": "EVws25zkBA7F"
    },
    {
      "cell_type": "markdown",
      "source": [
        "# Model 7 (LSTM-CNN)"
      ],
      "metadata": {
        "id": "FvmR2WhqBCP9"
      },
      "id": "FvmR2WhqBCP9"
    },
    {
      "cell_type": "markdown",
      "source": [
        "## Training"
      ],
      "metadata": {
        "id": "StyZ27eTBVWn"
      },
      "id": "StyZ27eTBVWn"
    },
    {
      "cell_type": "markdown",
      "source": [
        "## Evaluating & Visualizing"
      ],
      "metadata": {
        "id": "LaVZ0EfrBWwn"
      },
      "id": "LaVZ0EfrBWwn"
    },
    {
      "cell_type": "markdown",
      "source": [
        "# Model 8 (BiLSTM-CNN)"
      ],
      "metadata": {
        "id": "ywmhLrNMBXww"
      },
      "id": "ywmhLrNMBXww"
    },
    {
      "cell_type": "markdown",
      "source": [
        "## Training"
      ],
      "metadata": {
        "id": "cj4SQTI5BdR4"
      },
      "id": "cj4SQTI5BdR4"
    },
    {
      "cell_type": "markdown",
      "source": [
        "## Evaluating & Visualizing"
      ],
      "metadata": {
        "id": "aiyS4ltfBe8w"
      },
      "id": "aiyS4ltfBe8w"
    },
    {
      "cell_type": "markdown",
      "source": [
        "# Model 9 (BiGru-CNN)"
      ],
      "metadata": {
        "id": "hUy6hdxeBhfa"
      },
      "id": "hUy6hdxeBhfa"
    },
    {
      "cell_type": "markdown",
      "source": [
        "## Training"
      ],
      "metadata": {
        "id": "-Ymn1ojPBoWx"
      },
      "id": "-Ymn1ojPBoWx"
    },
    {
      "cell_type": "markdown",
      "source": [
        "## Evaluating & Visualizing"
      ],
      "metadata": {
        "id": "abGDJ9KyBxEL"
      },
      "id": "abGDJ9KyBxEL"
    },
    {
      "cell_type": "code",
      "source": [
        "Model 10 ()"
      ],
      "metadata": {
        "id": "kDVQvpxoBx-6"
      },
      "id": "kDVQvpxoBx-6",
      "execution_count": null,
      "outputs": []
    },
    {
      "cell_type": "markdown",
      "source": [
        "# File Download"
      ],
      "metadata": {
        "id": "IKQDGaZ3uaJb"
      },
      "id": "IKQDGaZ3uaJb"
    },
    {
      "cell_type": "code",
      "source": [
        "# Download files locally to upload to Embedding Projector\n",
        "try:\n",
        "  from google.colab import files\n",
        "except ImportError:\n",
        "  pass\n",
        "else:\n",
        "  files.download(\"tokenizer.pkl\")\n",
        "  # files.download(\"embedding_metadata.tsv\")"
      ],
      "metadata": {
        "id": "eZM6THHFucFt",
        "colab": {
          "base_uri": "https://localhost:8080/",
          "height": 17
        },
        "outputId": "98e90123-60ec-4888-e307-04dd780a4e5a"
      },
      "id": "eZM6THHFucFt",
      "execution_count": null,
      "outputs": [
        {
          "output_type": "display_data",
          "data": {
            "text/plain": [
              "<IPython.core.display.Javascript object>"
            ],
            "application/javascript": [
              "\n",
              "    async function download(id, filename, size) {\n",
              "      if (!google.colab.kernel.accessAllowed) {\n",
              "        return;\n",
              "      }\n",
              "      const div = document.createElement('div');\n",
              "      const label = document.createElement('label');\n",
              "      label.textContent = `Downloading \"${filename}\": `;\n",
              "      div.appendChild(label);\n",
              "      const progress = document.createElement('progress');\n",
              "      progress.max = size;\n",
              "      div.appendChild(progress);\n",
              "      document.body.appendChild(div);\n",
              "\n",
              "      const buffers = [];\n",
              "      let downloaded = 0;\n",
              "\n",
              "      const channel = await google.colab.kernel.comms.open(id);\n",
              "      // Send a message to notify the kernel that we're ready.\n",
              "      channel.send({})\n",
              "\n",
              "      for await (const message of channel.messages) {\n",
              "        // Send a message to notify the kernel that we're ready.\n",
              "        channel.send({})\n",
              "        if (message.buffers) {\n",
              "          for (const buffer of message.buffers) {\n",
              "            buffers.push(buffer);\n",
              "            downloaded += buffer.byteLength;\n",
              "            progress.value = downloaded;\n",
              "          }\n",
              "        }\n",
              "      }\n",
              "      const blob = new Blob(buffers, {type: 'application/binary'});\n",
              "      const a = document.createElement('a');\n",
              "      a.href = window.URL.createObjectURL(blob);\n",
              "      a.download = filename;\n",
              "      div.appendChild(a);\n",
              "      a.click();\n",
              "      div.remove();\n",
              "    }\n",
              "  "
            ]
          },
          "metadata": {}
        },
        {
          "output_type": "display_data",
          "data": {
            "text/plain": [
              "<IPython.core.display.Javascript object>"
            ],
            "application/javascript": [
              "download(\"download_d23304cb-1423-4387-bbf8-ba82357fe839\", \"tokenizer.pkl\", 23813800)"
            ]
          },
          "metadata": {}
        }
      ]
    },
    {
      "cell_type": "code",
      "source": [
        "# Download files locally to upload to Embedding Projector\n",
        "try:\n",
        "  from google.colab import files\n",
        "except ImportError:\n",
        "  pass\n",
        "else:\n",
        "  files.download(\"model_1.h5\")"
      ],
      "metadata": {
        "colab": {
          "base_uri": "https://localhost:8080/",
          "height": 34
        },
        "id": "PNpBgHKcoWud",
        "outputId": "8584aefb-869b-4d82-c353-ad63ff3d1f7c"
      },
      "id": "PNpBgHKcoWud",
      "execution_count": null,
      "outputs": [
        {
          "output_type": "display_data",
          "data": {
            "text/plain": [
              "<IPython.core.display.Javascript object>"
            ],
            "application/javascript": [
              "\n",
              "    async function download(id, filename, size) {\n",
              "      if (!google.colab.kernel.accessAllowed) {\n",
              "        return;\n",
              "      }\n",
              "      const div = document.createElement('div');\n",
              "      const label = document.createElement('label');\n",
              "      label.textContent = `Downloading \"${filename}\": `;\n",
              "      div.appendChild(label);\n",
              "      const progress = document.createElement('progress');\n",
              "      progress.max = size;\n",
              "      div.appendChild(progress);\n",
              "      document.body.appendChild(div);\n",
              "\n",
              "      const buffers = [];\n",
              "      let downloaded = 0;\n",
              "\n",
              "      const channel = await google.colab.kernel.comms.open(id);\n",
              "      // Send a message to notify the kernel that we're ready.\n",
              "      channel.send({})\n",
              "\n",
              "      for await (const message of channel.messages) {\n",
              "        // Send a message to notify the kernel that we're ready.\n",
              "        channel.send({})\n",
              "        if (message.buffers) {\n",
              "          for (const buffer of message.buffers) {\n",
              "            buffers.push(buffer);\n",
              "            downloaded += buffer.byteLength;\n",
              "            progress.value = downloaded;\n",
              "          }\n",
              "        }\n",
              "      }\n",
              "      const blob = new Blob(buffers, {type: 'application/binary'});\n",
              "      const a = document.createElement('a');\n",
              "      a.href = window.URL.createObjectURL(blob);\n",
              "      a.download = filename;\n",
              "      div.appendChild(a);\n",
              "      a.click();\n",
              "      div.remove();\n",
              "    }\n",
              "  "
            ]
          },
          "metadata": {}
        },
        {
          "output_type": "display_data",
          "data": {
            "text/plain": [
              "<IPython.core.display.Javascript object>"
            ],
            "application/javascript": [
              "download(\"download_7d38f58b-e82f-4a3f-9afa-85c87600594c\", \"model_1.h5\", 102678080)"
            ]
          },
          "metadata": {}
        }
      ]
    },
    {
      "cell_type": "code",
      "source": [
        "from google.colab import drive\n",
        "drive.mount('/content/drive')"
      ],
      "metadata": {
        "colab": {
          "base_uri": "https://localhost:8080/"
        },
        "id": "-PeZ4NQWyGwE",
        "outputId": "af75c467-1d29-47a9-be83-029072575537"
      },
      "id": "-PeZ4NQWyGwE",
      "execution_count": null,
      "outputs": [
        {
          "output_type": "stream",
          "name": "stdout",
          "text": [
            "Mounted at /content/drive\n"
          ]
        }
      ]
    },
    {
      "cell_type": "code",
      "source": [
        "# Syntax\n",
        "# !wget -P /content/drive/My\\ Drive [file URL]\n",
        "\n",
        "!wget -P /content/drive/AI\\ Drive '...'"
      ],
      "metadata": {
        "id": "tzcWF1Zvyjp1"
      },
      "id": "tzcWF1Zvyjp1",
      "execution_count": null,
      "outputs": []
    },
    {
      "cell_type": "code",
      "source": [
        "import shutil\n",
        "import os\n",
        "\n",
        "# Define the source folder (inside your Colab environment)\n",
        "source_folder = '/content/model_experiments'\n",
        "\n",
        "# Define the destination folder (inside your Google Drive)\n",
        "destination_folder = '/content/drive/MyDrive/AI'\n",
        "\n",
        "# Remove the destination folder (if it exists)\n",
        "if os.path.exists(destination_folder):\n",
        "    shutil.rmtree(destination_folder)\n",
        "\n",
        "# Copy the source folder and its contents to the destination\n",
        "shutil.copytree(source_folder, destination_folder)"
      ],
      "metadata": {
        "colab": {
          "base_uri": "https://localhost:8080/",
          "height": 36
        },
        "id": "XBmuzcA1y5fY",
        "outputId": "ffb64c27-431e-40e1-b7f0-441e8e1eef6d"
      },
      "id": "XBmuzcA1y5fY",
      "execution_count": null,
      "outputs": [
        {
          "output_type": "execute_result",
          "data": {
            "text/plain": [
              "'/content/drive/MyDrive/AI'"
            ],
            "application/vnd.google.colaboratory.intrinsic+json": {
              "type": "string"
            }
          },
          "metadata": {},
          "execution_count": 31
        }
      ]
    }
  ],
  "metadata": {
    "kernelspec": {
      "display_name": "Python 3",
      "name": "python3"
    },
    "language_info": {
      "codemirror_mode": {
        "name": "ipython",
        "version": 3
      },
      "file_extension": ".py",
      "mimetype": "text/x-python",
      "name": "python",
      "nbconvert_exporter": "python",
      "pygments_lexer": "ipython3",
      "version": "3.9.13"
    },
    "colab": {
      "provenance": [],
      "toc_visible": true,
      "include_colab_link": true
    }
  },
  "nbformat": 4,
  "nbformat_minor": 5
}